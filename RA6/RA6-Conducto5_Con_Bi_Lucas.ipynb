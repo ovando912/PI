{
 "cells": [
  {
   "cell_type": "markdown",
   "metadata": {},
   "source": [
    "# MODELO CONDUCTO N5 (CHOPPER) ==> fuente externa"
   ]
  },
  {
   "cell_type": "code",
   "execution_count": 1,
   "metadata": {},
   "outputs": [],
   "source": [
    "# %pylab inline\n",
    "# %matplotlib inline\n",
    "from math import pi, sin, cos\n",
    "import numpy as np\n",
    "import openmc\n",
    "import h5py\n",
    "import matplotlib.pyplot as plt"
   ]
  },
  {
   "cell_type": "markdown",
   "metadata": {},
   "source": [
    "## FLAGS"
   ]
  },
  {
   "cell_type": "code",
   "execution_count": 2,
   "metadata": {},
   "outputs": [],
   "source": [
    "plots = True\n",
    "plot_inline = True\n",
    "BLOQUEADO = False  # En True el colimador es macizo\n",
    "BISMUTO = True  # filtro de Bismuto\n",
    "BEAMCATCHER = \"NEW\"\n",
    "SHIELDING = True\n",
    "SLITS = False  # slit de Cd que reproduce la apertura del chopper\n",
    "ALBOX = True"
   ]
  },
  {
   "cell_type": "markdown",
   "metadata": {},
   "source": [
    "## MATERIALES"
   ]
  },
  {
   "cell_type": "markdown",
   "metadata": {},
   "source": [
    "### DEFINICION DE MATERIALES"
   ]
  },
  {
   "cell_type": "code",
   "execution_count": 3,
   "metadata": {},
   "outputs": [],
   "source": [
    "# Combustible nuclear (dispersión de U3Si2 en aluminio)\n",
    "Meat = openmc.Material(1, \"Meat\")\n",
    "Meat.add_nuclide(\"U234\", 1.7680e-05)\n",
    "Meat.add_nuclide(\"U235\", 2.4170e-03)\n",
    "Meat.add_nuclide(\"U236\", 1.3635e-05)\n",
    "Meat.add_nuclide(\"U238\", 9.6538e-03)\n",
    "Meat.add_nuclide(\"Si28\", 7.7125e-03)\n",
    "Meat.add_nuclide(\"Si29\", 3.9160e-04)\n",
    "Meat.add_nuclide(\"Si30\", 2.5814e-04)\n",
    "Meat.add_nuclide(\"Al27\", 3.0451e-02)\n",
    "Meat.add_nuclide(\"B10\", 3.8206e-07)\n",
    "Meat.add_nuclide(\"B11\", 1.5476e-06)\n",
    "Meat.set_density(\"atom/b-cm\", 5.0917e-02)\n",
    "\n",
    "# Aleación de Aluminio 6061\n",
    "Al6061 = openmc.Material(2, \"Al6061\")\n",
    "Al6061.add_nuclide(\"Al27\", 5.8811e-02)\n",
    "Al6061.add_nuclide(\"Cu63\", 4.6017e-05)\n",
    "Al6061.add_nuclide(\"Cu65\", 2.0510e-05)\n",
    "Al6061.add_nuclide(\"Cr50\", 1.4946e-06)\n",
    "Al6061.add_nuclide(\"Cr52\", 2.8822e-05)\n",
    "Al6061.add_nuclide(\"Cr53\", 3.2682e-06)\n",
    "Al6061.add_nuclide(\"Cr54\", 8.1352e-07)\n",
    "Al6061.add_nuclide(\"Mg24\", 6.6229e-4 * 0.7899)\n",
    "Al6061.add_nuclide(\"Mg25\", 6.6229e-4 * 0.1)\n",
    "Al6061.add_nuclide(\"Mg26\", 6.6229e-4 * 0.1101)\n",
    "Al6061.add_nuclide(\"Si28\", 3.5775e-04)\n",
    "Al6061.add_nuclide(\"Si29\", 1.8165e-05)\n",
    "Al6061.add_nuclide(\"Si30\", 1.1974e-05)\n",
    "Al6061.add_nuclide(\"Fe54\", 4.5947e-06)\n",
    "Al6061.add_nuclide(\"Fe56\", 7.2127e-05)\n",
    "Al6061.add_nuclide(\"Fe57\", 1.6657e-06)\n",
    "Al6061.add_nuclide(\"Fe58\", 2.2168e-07)\n",
    "Al6061.add_nuclide(\"Mn55\", 2.6637e-05)\n",
    "Al6061.add_nuclide(\"Ti46\", 3.3959e-06 * 0.0825)\n",
    "Al6061.add_nuclide(\"Ti47\", 3.3959e-06 * 0.0744)\n",
    "Al6061.add_nuclide(\"Ti48\", 3.3959e-06 * 0.7372)\n",
    "Al6061.add_nuclide(\"Ti49\", 3.3959e-06 * 0.0541)\n",
    "Al6061.add_nuclide(\"Ti50\", 3.3959e-06 * 0.0518)\n",
    "Al6061.add_nuclide(\"B10\", 2.9779e-07)\n",
    "Al6061.add_nuclide(\"B11\", 1.2062e-06)\n",
    "Al6061.add_nuclide(\"Cd106\", 9.0404e-10)\n",
    "Al6061.add_nuclide(\"Cd108\", 6.4368e-10)\n",
    "Al6061.add_nuclide(\"Cd110\", 9.0332e-09)\n",
    "Al6061.add_nuclide(\"Cd111\", 9.2574e-09)\n",
    "Al6061.add_nuclide(\"Cd112\", 1.7452e-08)\n",
    "Al6061.add_nuclide(\"Cd113\", 8.8379e-09)\n",
    "Al6061.add_nuclide(\"Cd114\", 2.0778e-08)\n",
    "Al6061.add_nuclide(\"Cd116\", 5.4170e-09)\n",
    "Al6061.add_nuclide(\"Co59\", 1.6554e-06)\n",
    "Al6061.add_nuclide(\"Li6\", 1.7780e-08)\n",
    "Al6061.add_nuclide(\"Li7\", 2.1648e-07)\n",
    "Al6061.set_density(\"atom/b-cm\", 6.0075e-02)\n",
    "\n",
    "# Material de barras de control (Aleación de Plata, Indio y Cadmio)\n",
    "AgInCd = openmc.Material(3, \"AgInCd\")\n",
    "AgInCd.add_nuclide(\"Ag107\", 2.3517e-02)\n",
    "AgInCd.add_nuclide(\"Ag109\", 2.1848e-02)\n",
    "AgInCd.add_nuclide(\"In113\", 7.9476e-03)\n",
    "AgInCd.add_nuclide(\"Cd106\", 3.5414e-05)\n",
    "AgInCd.add_nuclide(\"Cd108\", 2.5215e-05)\n",
    "AgInCd.add_nuclide(\"Cd110\", 3.5386e-04)\n",
    "AgInCd.add_nuclide(\"Cd111\", 3.6264e-04)\n",
    "AgInCd.add_nuclide(\"Cd112\", 6.8364e-04)\n",
    "AgInCd.add_nuclide(\"Cd113\", 3.4621e-04)\n",
    "AgInCd.add_nuclide(\"Cd114\", 8.1396e-04)\n",
    "AgInCd.add_nuclide(\"Cd116\", 2.1220e-04)\n",
    "AgInCd.set_density(\"atom/b-cm\", 5.6146e-02)\n",
    "\n",
    "# Acero inoxidable tipo 304L\n",
    "SS304L = openmc.Material(4, \"SS304L\")\n",
    "SS304L.add_nuclide(\"C12\", 6.0091e-05)\n",
    "SS304L.add_nuclide(\"Mn55\", 8.7583e-04)\n",
    "SS304L.add_nuclide(\"Si28\", 5.9254e-04)\n",
    "SS304L.add_nuclide(\"Si29\", 3.0086e-05)\n",
    "SS304L.add_nuclide(\"Si30\", 1.9833e-05)\n",
    "SS304L.add_nuclide(\"Cr50\", 7.6396e-04)\n",
    "SS304L.add_nuclide(\"Cr52\", 1.4732e-02)\n",
    "SS304L.add_nuclide(\"Cr53\", 1.6705e-03)\n",
    "SS304L.add_nuclide(\"Cr54\", 4.1582e-04)\n",
    "SS304L.add_nuclide(\"Ni58\", 5.5812e-03)\n",
    "SS304L.add_nuclide(\"Ni60\", 2.1499e-03)\n",
    "SS304L.add_nuclide(\"Ni61\", 9.3462e-05)\n",
    "SS304L.add_nuclide(\"Ni62\", 2.9793e-04)\n",
    "SS304L.add_nuclide(\"Ni64\", 7.5917e-05)\n",
    "SS304L.add_nuclide(\"Fe54\", 3.5011e-03)\n",
    "SS304L.add_nuclide(\"Fe56\", 5.4960e-02)\n",
    "SS304L.add_nuclide(\"Fe57\", 1.2693e-03)\n",
    "SS304L.add_nuclide(\"Fe58\", 1.6892e-04)\n",
    "SS304L.add_nuclide(\"S32\", 2.1340e-05)\n",
    "SS304L.add_nuclide(\"S33\", 1.7104e-07)\n",
    "SS304L.add_nuclide(\"S34\", 9.6546e-07)\n",
    "SS304L.add_nuclide(\"S36\", 4.5010e-08)\n",
    "SS304L.add_nuclide(\"P31\", 3.4953e-05)\n",
    "SS304L.add_nuclide(\"N14\", 1.7113e-04)\n",
    "SS304L.add_nuclide(\"N15\", 6.2865e-07)\n",
    "SS304L.set_density(\"atom/b-cm\", 8.7488e-02)\n",
    "\n",
    "# Agua liviana - Moderador y refrigerante\n",
    "H2O = openmc.Material(5, \"H2O\")\n",
    "H2O.add_nuclide(\"H1\", 6.6765e-02)\n",
    "H2O.add_nuclide(\"O16\", 3.3338e-02)\n",
    "H2O.add_s_alpha_beta(\"c_H_in_H2O\")\n",
    "H2O.set_density(\"atom/b-cm\", 1.0001e-01)\n",
    "\n",
    "# Cadmio - Material absorbente usado en colimadores y \"slits\"\n",
    "Cadmium = openmc.Material(6, \"Cadmium\")\n",
    "Cadmium.add_nuclide(\"Cd106\", 0.0125, \"wo\")\n",
    "Cadmium.add_nuclide(\"Cd108\", 0.0089, \"wo\")\n",
    "Cadmium.add_nuclide(\"Cd110\", 0.1249, \"wo\")\n",
    "Cadmium.add_nuclide(\"Cd111\", 0.1280, \"wo\")\n",
    "Cadmium.add_nuclide(\"Cd112\", 0.2413, \"wo\")\n",
    "Cadmium.add_nuclide(\"Cd113\", 0.1222, \"wo\")\n",
    "Cadmium.add_nuclide(\"Cd114\", 0.2873, \"wo\")\n",
    "Cadmium.add_nuclide(\"Cd116\", 0.0749, \"wo\")\n",
    "Cadmium.set_density(\"atom/b-cm\", 4.6340e-02)\n",
    "\n",
    "# Aluminio puro\n",
    "Aluminum = openmc.Material(7, \"Aluminum\")\n",
    "Aluminum.add_nuclide(\"Al27\", 6.0262e-02)\n",
    "Aluminum.set_density(\"atom/b-cm\", 6.0262e-02)\n",
    "\n",
    "# Alúmina (óxido de aluminio) \n",
    "Alumina = openmc.Material(8, \"Alumina\")\n",
    "Alumina.add_nuclide(\"Al27\", 4.6778e-02)\n",
    "Alumina.add_nuclide(\"O16\", 7.0166e-02)\n",
    "Alumina.set_density(\"atom/b-cm\", 1.1694e-01)\n",
    "\n",
    "# Grafito\n",
    "Graphite = openmc.Material(9, \"Graphite\")\n",
    "Graphite.add_nuclide(\"C12\", 9.3758e-02)\n",
    "Graphite.set_density(\"atom/b-cm\", 9.3758e-02)\n",
    "\n",
    "# Aire - rellenado de espacios no materiales\n",
    "Air = openmc.Material(10, \"Air\")\n",
    "Air.add_nuclide(\"O16\", 1.0503e-05)\n",
    "Air.add_nuclide(\"N14\", 3.9094e-05)\n",
    "Air.set_density(\"atom/b-cm\", 4.95970723e-05)\n",
    "\n",
    "# Acero inoxidable 316L\n",
    "SS316L = openmc.Material(11, \"SS316L\")\n",
    "SS316L.add_nuclide(\"C12\", 0.001384, \"ao\")\n",
    "SS316L.add_element(\"Si\", 0.019722, \"ao\")\n",
    "SS316L.add_element(\"P\", 0.000805, \"ao\")\n",
    "SS316L.add_element(\"S\", 0.000518, \"ao\")\n",
    "SS316L.add_element(\"Cr\", 0.181098, \"ao\")\n",
    "SS316L.add_element(\"Mn\", 0.020165, \"ao\")\n",
    "SS316L.add_element(\"Fe\", 0.648628, \"ao\")\n",
    "SS316L.add_element(\"Ni\", 0.113247, \"ao\")\n",
    "SS316L.add_element(\"Mo\", 0.014434, \"ao\")\n",
    "SS316L.set_density(\"g/cm3\", 8.0)\n",
    "\n",
    "# Concreto\n",
    "Concrete = openmc.Material(12, \"Concrete\")\n",
    "Concrete.add_nuclide(\"H1\", 0.086069, \"ao\")\n",
    "Concrete.add_nuclide(\"O16\", 0.314488, \"ao\")\n",
    "Concrete.add_element(\"Mg\", 0.005516, \"ao\")\n",
    "Concrete.add_element(\"Al\", 0.014030, \"ao\")\n",
    "Concrete.add_element(\"Si\", 0.020499, \"ao\")\n",
    "Concrete.add_element(\"Ca\", 0.050769, \"ao\")\n",
    "Concrete.add_element(\"Ti\", 0.012192, \"ao\")\n",
    "Concrete.add_element(\"V\", 0.000464, \"ao\")\n",
    "Concrete.add_element(\"Fe\", 0.495972, \"ao\")\n",
    "Concrete.set_density(\"g/cm3\", 4.64)\n",
    "\n",
    "# Plomo\n",
    "Lead = openmc.Material(13, \"Lead\")\n",
    "Lead.add_element(\"Pb\", 1.0, \"wo\")\n",
    "Lead.set_density(\"g/cm3\", 11.35)\n",
    "\n",
    "# Polímero borado\n",
    "Polyborated = openmc.Material(14, \"Polyborated\")\n",
    "Polyborated.add_nuclide(\"H1\", 0.627759, \"ao\")\n",
    "Polyborated.add_element(\"B\", 0.046690, \"ao\")\n",
    "Polyborated.add_nuclide(\"C12\", 0.325552, \"ao\")\n",
    "Polyborated.set_density(\"g/cm3\", 1)\n",
    "\n",
    "# Helio-3 - gas detector\n",
    "pressure = 10  # bars\n",
    "# densité du gaz @1bar 22° = 1.206E-4 g/cm3\n",
    "He3 = openmc.Material(15, \"Helium3\")\n",
    "He3.add_nuclide(\"He3\", 1.0)\n",
    "He3.set_density(\"g/cm3\", 1.206e-4 * pressure)\n",
    "\n",
    "# Bismuto - material filtrante para atenuar neutrones rápidos\n",
    "Bi = openmc.Material(16, \"Bismuth\")\n",
    "Bi.add_element(\"Bi\", 1.0, \"wo\")\n",
    "Bi.set_density(\"g/cm3\", 9.8)  # revisar"
   ]
  },
  {
   "cell_type": "markdown",
   "metadata": {},
   "source": [
    "### Colores\n",
    "Este bloque intenta agregar colores a todos los materiales posibles si fueron definidos previamente.\n",
    "Si alguno no fue creado (por ejemplo, en modelos reducidos), simplemente se omite."
   ]
  },
  {
   "cell_type": "code",
   "execution_count": 4,
   "metadata": {},
   "outputs": [],
   "source": [
    "# materials_colors={Meat:'red',Al6061:'silver',AgInCd:'black',SS304L:'grey',H2O:'lightblue',Cadmium:'black',\n",
    "#                   Aluminum:'silver',Alumina:'silver',Graphite:'yellow',SS316L:'gray',Concrete:'orange',\n",
    "#                   Lead:'black',Polyborated:'coral',Air:'white'}\n",
    "# materials_colors = {\n",
    "#     Al6061: \"silver\",\n",
    "#     SS316L: \"gray\",\n",
    "#     Concrete: \"lightgrey\",\n",
    "#     Lead: \"black\",\n",
    "#     Polyborated: \"coral\",\n",
    "#     Air: \"white\",\n",
    "#     Cadmium: \"red\",\n",
    "#     He3: \"yellow\",\n",
    "#     Bi: \"blue\",\n",
    "# }\n",
    "\n",
    "# Este bloque intenta agregar colores a todos los materiales posibles si fueron definidos previamente.\n",
    "# Si alguno no fue creado (por ejemplo, en modelos reducidos), simplemente se omite.\n",
    "\n",
    "materials_colors = {}\n",
    "\n",
    "# Lista de posibles pares (material, color)\n",
    "material_color_pairs = [\n",
    "    (\"Meat\", \"red\"),\n",
    "    (\"Al6061\", \"silver\"), # Porque esto esta antes del colimador? y porque hay un gap?\n",
    "    (\"AgInCd\", \"black\"),\n",
    "    (\"SS304L\", \"grey\"),\n",
    "    (\"SS316L\", \"gray\"),\n",
    "    (\"H2O\", \"lightblue\"),\n",
    "    (\"Cadmium\", \"black\"),\n",
    "    (\"Aluminum\", \"silver\"),\n",
    "    (\"Alumina\", \"silver\"),\n",
    "    (\"Graphite\", \"yellow\"),\n",
    "    (\"Concrete\", \"orange\"),\n",
    "    (\"Lead\", \"black\"),\n",
    "    (\"Polyborated\", \"coral\"),\n",
    "    (\"Air\", \"white\"),\n",
    "    (\"He3\", \"yellow\"),\n",
    "    (\"Bi\", \"blue\"),\n",
    "]\n",
    "\n",
    "# Usamos eval de forma controlada para construir el diccionario sin romper si falta alguna variable\n",
    "for mat_name, color in material_color_pairs:\n",
    "    try:\n",
    "        mat_obj = eval(mat_name)\n",
    "        materials_colors[mat_obj] = color\n",
    "    except NameError:\n",
    "        pass  # El material no está definido en este modelo"
   ]
  },
  {
   "cell_type": "markdown",
   "metadata": {},
   "source": [
    "## GEOMETRÍA GENERAL"
   ]
  },
  {
   "cell_type": "code",
   "execution_count": 5,
   "metadata": {},
   "outputs": [
    {
     "data": {
      "text/plain": [
       "(98.4151,\n",
       " 112.1151,\n",
       " 166.1151,\n",
       " 113.71509999999999,\n",
       " 166.1151,\n",
       " 114.71509999999999,\n",
       " 164.7151)"
      ]
     },
     "execution_count": 5,
     "metadata": {},
     "output_type": "execute_result"
    }
   ],
   "source": [
    "# --- Conducto pasante (más cercano al núcleo, sumergido en la pileta) ---\n",
    "R4int = 10.226 / 2  # radio interno primera sección del conducto pasante N5\n",
    "R4ext = 11.43 / 2  # radio externo primera sección del conducto pasante N5\n",
    "L4int = 0.0  # inicio del conducto no pasante N5 (limite pileta del reactor)\n",
    "L4ext = (\n",
    "    L4int + 98.4151\n",
    ")  # final del primer tramo del conducto no pasante N5. Largo total: 68.6+30.75 cm\n",
    "\n",
    "# --- Conducto externo (pasante fuera del blindaje interno) ---\n",
    "R6int = 15.406 / 2  # radio interno segunda sección del conducto pasante N5\n",
    "R6ext = 16.828 / 2  # radio externo segunda sección del conducto pasante N5\n",
    "L6int = (\n",
    "    L4ext + 13.7\n",
    ")  # Separación entre secciones internas y externas (~espacio muerto?)\n",
    "L6ext = (\n",
    "    L6int + 53.1 + 0.9\n",
    ")  # 166cm==>final del conducto no pasante N5 (limite blindaje biológico, antes del shutter de plomo)\n",
    "\n",
    "# --- Colimador? ---\n",
    "R5int = 12.328 / 2  # dimensiones colimador???\n",
    "R5ext = 12.788 / 2\n",
    "L5int = L6int + 1.6 # Ubicado un poco después del comienzo de la segunda sección\n",
    "L5ext = L6ext       # Ocupa hasta el final del tubo externo\n",
    "\n",
    "Rpieza = 12.2 / 2\n",
    "Lpieza = 5.0\n",
    "\n",
    "Lp00 = L5int + 1.0\n",
    "Lp01 = Lp00 + Lpieza\n",
    "Lp02 = Lp01 + Lpieza\n",
    "Lp03 = Lp02 + Lpieza\n",
    "Lp04 = Lp03 + Lpieza\n",
    "Lp05 = Lp04 + Lpieza\n",
    "Lp06 = Lp05 + Lpieza\n",
    "Lp07 = Lp06 + Lpieza\n",
    "Lp08 = Lp07 + Lpieza\n",
    "Lp09 = Lp08 + Lpieza\n",
    "Lp10 = Lp09 + Lpieza\n",
    "\n",
    "L4ext,L6int,L6ext,L5int,L5ext,Lp00,Lp10"
   ]
  },
  {
   "cell_type": "code",
   "execution_count": 6,
   "metadata": {},
   "outputs": [
    {
     "data": {
      "text/plain": [
       "(-10.0, 204.20000000000005, 494.20000000000005)"
      ]
     },
     "execution_count": 6,
     "metadata": {},
     "output_type": "execute_result"
    }
   ],
   "source": [
    "Linner = L4int - 10\n",
    "Louter = L6ext + 38.0849 + 290\n",
    "Linner,Louter-290,Louter"
   ]
  },
  {
   "cell_type": "markdown",
   "metadata": {},
   "source": [
    "## PROPUESTA DE BEAM-CATCHER"
   ]
  },
  {
   "cell_type": "code",
   "execution_count": 7,
   "metadata": {},
   "outputs": [],
   "source": [
    "if SHIELDING and BEAMCATCHER != False:\n",
    "    ybeamcatcher = 205.0\n",
    "else:\n",
    "    ybeamcatcher = 90.0\n",
    "\n",
    "if BEAMCATCHER == \"NEW\":\n",
    "    yb0 = Louter - 290.0 + ybeamcatcher\n",
    "    yb1 = yb0 + 35 - 5 * 2\n",
    "    yb2 = yb1 + 5 * 2  # espesor poliboro\n",
    "    yb3 = yb2 + 5 * 2  # espesor poliboro\n",
    "    yb4 = yb3 + 10 * 2  # espesor plomo\n",
    "\n",
    "    xb0 = 0.0\n",
    "    xb1 = xb0 + 20.0 / 2\n",
    "    xb2 = xb1 + 5 * 2  # espesor poliboro\n",
    "    xb3 = xb2 + 5 * 2  # espesor plomo\n",
    "\n",
    "    zb0 = 0.0\n",
    "    zb1 = zb0 + 40.0 / 2\n",
    "    zb2 = zb1 + 5 * 2\n",
    "    zb3 = zb2 + 5 * 2\n",
    "elif BEAMCATCHER == \"OLD\":\n",
    "    yb0 = Louter - 290.0 + ybeamcatcher\n",
    "    yb1 = yb0 + 35 - 5\n",
    "    yb2 = yb1 + 5  # espesor poliboro\n",
    "    yb3 = yb2 + 5  # espesor poliboro\n",
    "    yb4 = yb3 + 10  # espesor plomo\n",
    "\n",
    "    xb0 = 0.0\n",
    "    xb1 = xb0 + 20.0 / 2\n",
    "    xb2 = xb1 + 5  # espesor poliboro\n",
    "    xb3 = xb2 + 5  # espesor plomo\n",
    "\n",
    "    zb0 = 0.0\n",
    "    zb1 = zb0 + 25.0 / 2\n",
    "    zb2 = zb1 + 5\n",
    "    zb3 = zb2 + 5\n",
    "elif BEAMCATCHER == False:\n",
    "    print(\"No hay beam-catcher\")\n",
    "else:\n",
    "    print(\"ERROR\")"
   ]
  },
  {
   "cell_type": "code",
   "execution_count": 8,
   "metadata": {},
   "outputs": [],
   "source": [
    "yshielding = 0.1\n",
    "\n",
    "ys0 = Louter - 290.0 + yshielding\n",
    "ys1 = ys0 + 5.0 * 2.0\n",
    "ys2 = ys1 + 5.0 * 2.0\n",
    "\n",
    "xs0 = 0.0\n",
    "xs1 = xs0 + 8.0 / 2  # 12.0/2\n",
    "xs2 = xs1 + 80.0 / 2  # 25.5\n",
    "\n",
    "zs0 = 0.0\n",
    "zs1 = zs0 + 8.0 / 2  # 12.0/2\n",
    "zs2 = zs1 + 80.0 / 2  # 56.0/2"
   ]
  },
  {
   "cell_type": "code",
   "execution_count": 9,
   "metadata": {},
   "outputs": [],
   "source": [
    "yCd = 1.0\n",
    "\n",
    "yCd0 = ys2 + yCd\n",
    "yCd1 = yCd0 + 0.5\n",
    "\n",
    "xCd0 = 0.0\n",
    "xCd1 = xCd0 + 0.5 / 2\n",
    "xCd2 = xCd1 + 12.0 / 2\n",
    "\n",
    "zCd0 = 0.0\n",
    "zCd1 = zCd0 + 1.0 / 2\n",
    "zCd2 = zCd1 + 12.0 / 2"
   ]
  },
  {
   "cell_type": "code",
   "execution_count": 10,
   "metadata": {},
   "outputs": [],
   "source": [
    "if BEAMCATCHER != False:\n",
    "    ydetector = ybeamcatcher - 5.0\n",
    "else:\n",
    "    ydetector = 200\n",
    "\n",
    "yd0 = Louter - 290.0 + ydetector\n",
    "yd1 = yd0 + 1 * 2.54\n",
    "\n",
    "xd0 = 0.0\n",
    "xd1 = xd0 + 3.5 * 2.54\n",
    "\n",
    "zd0 = 0.0\n",
    "zd1 = zd0 + 5 * 2.54\n",
    "\n",
    "# ybeamcatcher\n",
    "# yd0,yd1,xd1,zd1\n",
    "# yd0-yCd0"
   ]
  },
  {
   "cell_type": "code",
   "execution_count": 11,
   "metadata": {},
   "outputs": [],
   "source": [
    "yAl0 = yCd1 + 0.1\n",
    "yAl1 = yd0 - 0.1\n",
    "\n",
    "xAl0 = 0.0\n",
    "xAl1 = xAl0 + xb1\n",
    "xAl2 = xAl1 + 1.0\n",
    "\n",
    "zAl0 = 0.0\n",
    "zAl1 = zAl0 + zb1\n",
    "zAl2 = zAl1 + 1.0"
   ]
  },
  {
   "cell_type": "markdown",
   "metadata": {},
   "source": [
    "## GEOMETRÍA CONDUCTO N5"
   ]
  },
  {
   "cell_type": "code",
   "execution_count": 12,
   "metadata": {},
   "outputs": [],
   "source": [
    "sur5000 = openmc.YPlane(y0=L4int, surface_id=5000)\n",
    "sur5001 = openmc.YPlane(y0=L4ext, surface_id=5001)\n",
    "sur5002 = openmc.YPlane(y0=L6int, surface_id=5002)\n",
    "sur5003 = openmc.YPlane(y0=L6ext, surface_id=5003)\n",
    "\n",
    "sur5004 = openmc.YCylinder(r=R4int, surface_id=5004)\n",
    "sur5005 = openmc.YCylinder(r=R4ext, surface_id=5005)\n",
    "sur5006 = openmc.YCone(\n",
    "    y0=(R4int * L6int - R6int * L4ext) / (R4int - R6int),\n",
    "    r2=((R4int - R6int) / (L6int - L4ext)) ** 2,\n",
    "    surface_id=5006,\n",
    ")\n",
    "sur5007 = openmc.YCone(\n",
    "    y0=(R4ext * L6int - R6ext * L4ext) / (R4ext - R6ext),\n",
    "    r2=((R4ext - R6ext) / (L6int - L4ext)) ** 2,\n",
    "    surface_id=5007,\n",
    ")\n",
    "sur5008 = openmc.YCylinder(r=R6int, surface_id=5008)\n",
    "sur5009 = openmc.YCylinder(r=R6ext, surface_id=5009)\n",
    "sur5010 = openmc.YPlane(y0=L4int + 5.0, surface_id=5010)\n",
    "\n",
    "# Blindaje interno\n",
    "sur5011 = openmc.XPlane(x0=-62.86, surface_id=5011)\n",
    "sur5012 = openmc.XPlane(x0=27.86, surface_id=5012)\n",
    "sur5013 = openmc.YPlane(y0=L6ext - 9.55, surface_id=5013)\n",
    "sur5014 = openmc.YPlane(y0=L6ext - 3.84, surface_id=5014)\n",
    "sur5015 = openmc.ZPlane(z0=-56.0 / 2, surface_id=5015)\n",
    "sur5016 = openmc.ZPlane(z0=56.0 / 2, surface_id=5016)\n",
    "\n",
    "# Caja conducto\n",
    "sur5020 = openmc.XPlane(x0=-60.5, surface_id=5020)\n",
    "sur5021 = openmc.XPlane(x0=25.5, surface_id=5021)\n",
    "sur5022 = openmc.ZPlane(z0=-56.0 / 2, surface_id=5022)\n",
    "sur5023 = openmc.ZPlane(z0=56.0 / 2, surface_id=5023)\n",
    "\n",
    "# Shutter conducto (370 ancho, 340 profundidad, 450 altura, )\n",
    "XSHUTTER = 37.0\n",
    "sur5030 = openmc.YPlane(y0=L6ext + 3.5, surface_id=5030)\n",
    "sur5031 = openmc.YPlane(y0=L6ext + 3.5 + 34.0, surface_id=5031)\n",
    "sur5032 = openmc.XPlane(x0=-XSHUTTER - 37.0 / 2, surface_id=5032)\n",
    "sur5033 = openmc.XPlane(x0=-XSHUTTER + 37.0 / 2, surface_id=5033)\n",
    "sur5034 = openmc.ZPlane(z0=-45.0 / 2, surface_id=5034)\n",
    "sur5035 = openmc.ZPlane(z0=45.0 / 2, surface_id=5035)\n",
    "\n",
    "# Tubo Delimitador\n",
    "sur6000 = openmc.YPlane(y0=L5int, surface_id=6000)\n",
    "sur6001 = openmc.YPlane(y0=L5int + 0.3, surface_id=6001)\n",
    "sur6002 = openmc.YPlane(y0=L5ext, surface_id=6002)\n",
    "sur6003 = openmc.YCylinder(r=R5int, surface_id=6003)\n",
    "sur6004 = openmc.YCylinder(r=R5ext, surface_id=6004)\n",
    "\n",
    "# Piezas Delimitador\n",
    "sur7000 = openmc.YCylinder(\n",
    "    r=Rpieza, surface_id=7000\n",
    ")  # Rpieza=12.2/2, son las mismas dimensiones que en el nuevo colimador cónico\n",
    "sur7010 = openmc.YPlane(y0=Lp00, surface_id=7010)\n",
    "sur7011 = openmc.YPlane(y0=Lp01, surface_id=7011)\n",
    "sur7012 = openmc.YPlane(y0=Lp02, surface_id=7012)\n",
    "sur7013 = openmc.YPlane(y0=Lp03, surface_id=7013)\n",
    "sur7014 = openmc.YPlane(y0=Lp04, surface_id=7014)\n",
    "sur7015 = openmc.YPlane(y0=Lp05, surface_id=7015)\n",
    "sur7016 = openmc.YPlane(y0=Lp06, surface_id=7016)\n",
    "sur7017 = openmc.YPlane(y0=Lp07, surface_id=7017)\n",
    "sur7018 = openmc.YPlane(y0=Lp08, surface_id=7018)\n",
    "sur7019 = openmc.YPlane(y0=Lp09, surface_id=7019)\n",
    "sur7020 = openmc.YPlane(y0=Lp10, surface_id=7020)\n",
    "\n",
    "# Haz Delimitador cónico\n",
    "sur7030 = openmc.YCylinder(z0=0, r=1.75, surface_id=7030)\n",
    "sur7031 = openmc.YCylinder(z0=0, r=1.60, surface_id=7031)\n",
    "sur7032 = openmc.YCylinder(z0=0, r=1.50, surface_id=7032)\n",
    "sur7033 = openmc.YCylinder(z0=0, r=1.35, surface_id=7033)\n",
    "sur7034 = openmc.YCylinder(z0=0, r=1.25, surface_id=7034)\n",
    "sur7035 = openmc.YCylinder(z0=0, r=1.10, surface_id=7035)\n",
    "sur7036 = openmc.YCylinder(z0=0, r=1.00, surface_id=7036)\n",
    "sur7037 = openmc.YCylinder(z0=0, r=0.85, surface_id=7037)\n",
    "sur7038 = openmc.YCylinder(z0=0, r=0.75, surface_id=7038)\n",
    "sur7039 = openmc.YCylinder(z0=0, r=0.60, surface_id=7039)\n",
    "\n",
    "# Beam-Catcher\n",
    "sur8100 = openmc.YPlane(y0=yb0, surface_id=8100)\n",
    "sur8101 = openmc.YPlane(y0=yb1, surface_id=8101)\n",
    "sur8102 = openmc.YPlane(y0=yb2, surface_id=8102)\n",
    "sur8103 = openmc.YPlane(y0=yb3, surface_id=8103)\n",
    "sur8104 = openmc.YPlane(y0=yb4, surface_id=8104)\n",
    "\n",
    "sur8110 = openmc.XPlane(x0=xb0, surface_id=8110)\n",
    "sur8111 = openmc.XPlane(x0=-xb1, surface_id=8111)\n",
    "sur8112 = openmc.XPlane(x0=+xb1, surface_id=8112)\n",
    "sur8113 = openmc.XPlane(x0=-xb2, surface_id=8113)\n",
    "sur8114 = openmc.XPlane(x0=+xb2, surface_id=8114)\n",
    "sur8115 = openmc.XPlane(x0=-xb3, surface_id=8115)\n",
    "sur8116 = openmc.XPlane(x0=+xb3, surface_id=8116)\n",
    "\n",
    "sur8120 = openmc.ZPlane(z0=zb0, surface_id=8120)\n",
    "sur8121 = openmc.ZPlane(z0=-zb1, surface_id=8121)\n",
    "sur8122 = openmc.ZPlane(z0=+zb1, surface_id=8122)\n",
    "sur8123 = openmc.ZPlane(z0=-zb2, surface_id=8123)\n",
    "sur8124 = openmc.ZPlane(z0=+zb2, surface_id=8124)\n",
    "sur8125 = openmc.ZPlane(z0=-zb3, surface_id=8125)\n",
    "sur8126 = openmc.ZPlane(z0=+zb3, surface_id=8126)\n",
    "\n",
    "# Blindajes\n",
    "sur8200 = openmc.YPlane(y0=ys0, surface_id=8200)\n",
    "sur8201 = openmc.YPlane(y0=ys1, surface_id=8201)\n",
    "sur8202 = openmc.YPlane(y0=ys2, surface_id=8202)\n",
    "\n",
    "sur8210 = openmc.XPlane(x0=xs0, surface_id=8210)\n",
    "sur8211 = openmc.XPlane(x0=-xs1, surface_id=8211)\n",
    "sur8212 = openmc.XPlane(x0=+xs1, surface_id=8212)\n",
    "sur8213 = openmc.XPlane(x0=-xs2, surface_id=8213)\n",
    "sur8214 = openmc.XPlane(x0=+xs2, surface_id=8214)\n",
    "\n",
    "sur8220 = openmc.ZPlane(z0=zs0, surface_id=8220)\n",
    "sur8221 = openmc.ZPlane(z0=-zs1, surface_id=8221)\n",
    "sur8222 = openmc.ZPlane(z0=+zs1, surface_id=8222)\n",
    "sur8223 = openmc.ZPlane(z0=-zs2, surface_id=8223)\n",
    "sur8224 = openmc.ZPlane(z0=+zs2, surface_id=8224)\n",
    "\n",
    "# Slits de Cd\n",
    "sur8300 = openmc.YPlane(y0=yCd0, surface_id=8300)\n",
    "sur8301 = openmc.YPlane(y0=yCd1, surface_id=8301)\n",
    "\n",
    "sur8310 = openmc.XPlane(x0=xCd0, surface_id=8310)\n",
    "sur8311 = openmc.XPlane(x0=-xCd1, surface_id=8311)\n",
    "sur8312 = openmc.XPlane(x0=+xCd1, surface_id=8312)\n",
    "sur8313 = openmc.XPlane(x0=-xCd2, surface_id=8313)\n",
    "sur8314 = openmc.XPlane(x0=+xCd2, surface_id=8314)\n",
    "\n",
    "sur8320 = openmc.ZPlane(z0=zCd0, surface_id=8320)\n",
    "sur8321 = openmc.ZPlane(z0=-zCd1, surface_id=8321)\n",
    "sur8322 = openmc.ZPlane(z0=+zCd1, surface_id=8322)\n",
    "sur8323 = openmc.ZPlane(z0=-zCd2, surface_id=8323)\n",
    "sur8324 = openmc.ZPlane(z0=+zCd2, surface_id=8324)\n",
    "\n",
    "# Caja contenedora del haz\n",
    "sur8400 = openmc.YPlane(y0=yAl0, surface_id=8400)\n",
    "sur8401 = openmc.YPlane(y0=yAl1, surface_id=8401)\n",
    "\n",
    "sur8410 = openmc.XPlane(x0=xAl0, surface_id=8410)\n",
    "sur8411 = openmc.XPlane(x0=-xAl1, surface_id=8411)\n",
    "sur8412 = openmc.XPlane(x0=+xAl1, surface_id=8412)\n",
    "sur8413 = openmc.XPlane(x0=-xAl2, surface_id=8413)\n",
    "sur8414 = openmc.XPlane(x0=+xAl2, surface_id=8414)\n",
    "\n",
    "sur8420 = openmc.ZPlane(z0=zAl0, surface_id=8420)\n",
    "sur8421 = openmc.ZPlane(z0=-zAl1, surface_id=8421)\n",
    "sur8422 = openmc.ZPlane(z0=+zAl1, surface_id=8422)\n",
    "sur8423 = openmc.ZPlane(z0=-zAl2, surface_id=8423)\n",
    "sur8424 = openmc.ZPlane(z0=+zAl2, surface_id=8424)\n",
    "\n",
    "# Banco de detectores\n",
    "sur8900 = openmc.YPlane(y0=yd0, surface_id=8900)\n",
    "sur8901 = openmc.YPlane(y0=yd1, surface_id=8901)\n",
    "sur8910 = openmc.XPlane(x0=-xd1, surface_id=8910)\n",
    "sur8911 = openmc.XPlane(x0=+xd1, surface_id=8911)\n",
    "sur8920 = openmc.ZPlane(z0=-zd1, surface_id=8920)\n",
    "sur8921 = openmc.ZPlane(z0=+zd1, surface_id=8921)\n",
    "\n",
    "apot = 650 / 2.0\n",
    "\n",
    "# Caja envolvente conjunto\n",
    "sur9012 = openmc.XPlane(x0=-130, boundary_type=\"vacuum\", surface_id=9012)\n",
    "sur9013 = openmc.XPlane(x0=130, boundary_type=\"vacuum\", surface_id=9013)\n",
    "sur9014 = openmc.ZPlane(z0=Linner, boundary_type=\"vacuum\", surface_id=9014)\n",
    "sur9015 = openmc.ZPlane(z0=Louter - 290.0, surface_id=9015)\n",
    "sur9016 = openmc.YPlane(y0=-130, boundary_type=\"vacuum\", surface_id=9016)\n",
    "sur9017 = openmc.YPlane(y0=+130, boundary_type=\"vacuum\", surface_id=9017)\n",
    "sur9018 = openmc.ZPlane(z0=Louter, boundary_type=\"vacuum\", surface_id=9018)\n",
    "\n",
    "\n",
    "# Louter-290\n",
    "# apot-120.8"
   ]
  },
  {
   "cell_type": "markdown",
   "metadata": {},
   "source": [
    "## GEOMETRÍA BANCO DE DETECTORES (HAY ALGO DE ESO TAMBIÉN ANTES)"
   ]
  },
  {
   "cell_type": "code",
   "execution_count": 13,
   "metadata": {},
   "outputs": [
    {
     "data": {
      "text/plain": [
       "<Axes: xlabel='x [cm]', ylabel='y [cm]'>"
      ]
     },
     "execution_count": 13,
     "metadata": {},
     "output_type": "execute_result"
    },
    {
     "data": {
      "application/vnd.jupyter.widget-view+json": {
       "model_id": "374795017f944155b81bc69eea5dd09d",
       "version_major": 2,
       "version_minor": 0
      },
      "image/png": "[encoded data removed]",
      "text/html": [
       "\n",
       "            <div style=\"display: inline-block;\">\n",
       "                <div class=\"jupyter-widgets widget-label\" style=\"text-align: center;\">\n",
       "                    Figure\n",
       "                </div>\n",
       "                <img src='data:image/png;base64,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' width=184.51612903225805/>\n",
       "            </div>\n",
       "        "
      ],
      "text/plain": [
       "Canvas(toolbar=Toolbar(toolitems=[('Home', 'Reset original view', 'home', 'home'), ('Back', 'Back to previous …"
      ]
     },
     "metadata": {},
     "output_type": "display_data"
    },
    {
     "data": {
      "application/vnd.jupyter.widget-view+json": {
       "model_id": "e56eb713bbde4115b4fa549d3f103c3a",
       "version_major": 2,
       "version_minor": 0
      },
      "image/png": "[encoded data removed]",
      "text/html": [
       "\n",
       "            <div style=\"display: inline-block;\">\n",
       "                <div class=\"jupyter-widgets widget-label\" style=\"text-align: center;\">\n",
       "                    Figure\n",
       "                </div>\n",
       "                <img src='data:image/png;base64,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' width=184.51612903225805/>\n",
       "            </div>\n",
       "        "
      ],
      "text/plain": [
       "Canvas(toolbar=Toolbar(toolitems=[('Home', 'Reset original view', 'home', 'home'), ('Back', 'Back to previous …"
      ]
     },
     "metadata": {},
     "output_type": "display_data"
    }
   ],
   "source": [
    "reg8900 = +sur8900 & -sur8901 & +sur8910 & -sur8911 & +sur8920 & -sur8921\n",
    "cell8900 = openmc.Cell(\n",
    "    region=reg8900, fill=He3, cell_id=8900\n",
    ")  # Norberto lo tenía lleno con Air, puse He3\n",
    "cell8901 = openmc.Cell(region=~reg8900, fill=Air, cell_id=8901)\n",
    "\n",
    "# Beam-Catcher\n",
    "reg8100 = +sur8100 & -sur8101 & +sur8111 & -sur8112 & +sur8121 & -sur8122\n",
    "reg8101 = +sur8101 & -sur8102 & +sur8111 & -sur8112 & +sur8121 & -sur8122\n",
    "reg8102 = +sur8102 & -sur8103 & +sur8113 & -sur8114 & +sur8123 & -sur8124\n",
    "reg8103 = +sur8103 & -sur8104 & +sur8115 & -sur8116 & +sur8125 & -sur8126\n",
    "\n",
    "reg8111 = +sur8100 & -sur8102 & -sur8111 & +sur8113 & +sur8121 & -sur8122\n",
    "reg8112 = +sur8100 & -sur8102 & +sur8112 & -sur8114 & +sur8121 & -sur8122\n",
    "reg8113 = +sur8100 & -sur8103 & -sur8113 & +sur8115 & +sur8123 & -sur8124\n",
    "reg8114 = +sur8100 & -sur8103 & +sur8114 & -sur8116 & +sur8123 & -sur8124\n",
    "\n",
    "reg8121 = +sur8100 & -sur8102 & +sur8113 & -sur8114 & -sur8121 & +sur8123\n",
    "reg8122 = +sur8100 & -sur8102 & +sur8113 & -sur8114 & +sur8122 & -sur8124\n",
    "reg8123 = +sur8100 & -sur8103 & +sur8115 & -sur8116 & -sur8123 & +sur8125\n",
    "reg8124 = +sur8100 & -sur8103 & +sur8115 & -sur8116 & +sur8124 & -sur8126\n",
    "\n",
    "reg8130 = -sur8100 | +sur8104 | -sur8115 | +sur8116 | -sur8125 | +sur8126\n",
    "\n",
    "if BEAMCATCHER != False:\n",
    "    cell8100 = openmc.Cell(region=reg8100, fill=Air, cell_id=8100)\n",
    "    cell8101 = openmc.Cell(region=reg8101, fill=Polyborated, cell_id=8101)\n",
    "    cell8102 = openmc.Cell(region=reg8102, fill=Polyborated, cell_id=8102)\n",
    "    cell8103 = openmc.Cell(region=reg8103, fill=Lead, cell_id=8103)\n",
    "\n",
    "    cell8111 = openmc.Cell(region=reg8111, fill=Polyborated, cell_id=8111)\n",
    "    cell8112 = openmc.Cell(region=reg8112, fill=Polyborated, cell_id=8112)\n",
    "    cell8113 = openmc.Cell(region=reg8113, fill=Lead, cell_id=8113)\n",
    "    cell8114 = openmc.Cell(region=reg8114, fill=Lead, cell_id=8114)\n",
    "\n",
    "    cell8121 = openmc.Cell(region=reg8121, fill=Polyborated, cell_id=8121)\n",
    "    cell8122 = openmc.Cell(region=reg8122, fill=Polyborated, cell_id=8122)\n",
    "    cell8123 = openmc.Cell(region=reg8123, fill=Lead, cell_id=8123)\n",
    "    cell8124 = openmc.Cell(region=reg8124, fill=Lead, cell_id=8124)\n",
    "\n",
    "    cell8130 = openmc.Cell(region=reg8130 & ~reg8900, fill=Air, cell_id=8130)\n",
    "else:\n",
    "    cell8100 = openmc.Cell(region=reg8100, fill=Air, cell_id=8100)\n",
    "    cell8101 = openmc.Cell(region=reg8101, fill=Air, cell_id=8101)\n",
    "    cell8102 = openmc.Cell(region=reg8102, fill=Air, cell_id=8102)\n",
    "    cell8103 = openmc.Cell(region=reg8103, fill=Air, cell_id=8103)\n",
    "\n",
    "    cell8111 = openmc.Cell(region=reg8111, fill=Air, cell_id=8111)\n",
    "    cell8112 = openmc.Cell(region=reg8112, fill=Air, cell_id=8112)\n",
    "    cell8113 = openmc.Cell(region=reg8113, fill=Air, cell_id=8113)\n",
    "    cell8114 = openmc.Cell(region=reg8114, fill=Air, cell_id=8114)\n",
    "\n",
    "    cell8121 = openmc.Cell(region=reg8121, fill=Air, cell_id=8121)\n",
    "    cell8122 = openmc.Cell(region=reg8122, fill=Air, cell_id=8122)\n",
    "    cell8123 = openmc.Cell(region=reg8123, fill=Air, cell_id=8123)\n",
    "    cell8124 = openmc.Cell(region=reg8124, fill=Air, cell_id=8124)\n",
    "\n",
    "    cell8130 = openmc.Cell(region=reg8130 & ~reg8900, fill=Air, cell_id=8130)\n",
    "\n",
    "# Blindajes\n",
    "reg8201 = +sur8200 & -sur8201 & +sur8211 & -sur8212 & +sur8221 & -sur8222\n",
    "reg8202 = +sur8200 & -sur8201 & +sur8213 & -sur8214 & +sur8223 & -sur8224\n",
    "reg8211 = +sur8201 & -sur8202 & +sur8211 & -sur8212 & +sur8221 & -sur8222\n",
    "reg8212 = +sur8201 & -sur8202 & +sur8213 & -sur8214 & +sur8223 & -sur8224\n",
    "reg8230 = reg8201 | reg8211 | ~(reg8202 | reg8212)\n",
    "\n",
    "reg8301 = +sur8300 & -sur8301 & +sur8311 & -sur8312 & +sur8321 & -sur8322\n",
    "reg8302 = +sur8300 & -sur8301 & +sur8313 & -sur8314 & +sur8323 & -sur8324\n",
    "reg8330 = reg8301 | ~reg8302\n",
    "\n",
    "# Slits que reproducen la apertura del chopper de Cadmio (se activa o desactiva desde FLAGS al inicio del Notebook)\n",
    "if SLITS:\n",
    "    cell8301 = openmc.Cell(region=~reg8301 & reg8302, fill=Cadmium, cell_id=8301)\n",
    "else:\n",
    "    cell8301 = openmc.Cell(region=~reg8301 & reg8302, fill=Air, cell_id=8301)\n",
    "\n",
    "if SHIELDING:\n",
    "    cell8201 = openmc.Cell(region=~reg8201 & reg8202, fill=Polyborated, cell_id=8201)\n",
    "    cell8202 = openmc.Cell(region=~reg8211 & reg8212, fill=Lead, cell_id=8202)\n",
    "else:\n",
    "    cell8201 = openmc.Cell(region=~reg8201 & reg8202, fill=Air, cell_id=8201)\n",
    "    cell8202 = openmc.Cell(region=~reg8211 & reg8212, fill=Air, cell_id=8202)\n",
    "\n",
    "# Caja contenedora del haz\n",
    "reg8401 = +sur8400 & -sur8401 & +sur8411 & -sur8412 & +sur8421 & -sur8422\n",
    "reg8402 = +sur8400 & -sur8401 & +sur8413 & -sur8414 & +sur8423 & -sur8424\n",
    "reg8430 = reg8401 | ~reg8402\n",
    "\n",
    "if ALBOX:\n",
    "    cell8401 = openmc.Cell(region=~reg8401 & reg8402, fill=Al6061, cell_id=8401)\n",
    "else:\n",
    "    cell8401 = openmc.Cell(region=~reg8401 & reg8402, fill=Air, cell_id=8401)\n",
    "\n",
    "\n",
    "cell8999 = openmc.Cell(\n",
    "    region=reg8430 & reg8330 & reg8230 & reg8130 & ~reg8900, fill=Air, cell_id=8999\n",
    ")\n",
    "\n",
    "u8100 = openmc.Universe(\n",
    "    cells=[\n",
    "        cell8100,\n",
    "        cell8101,\n",
    "        cell8102,\n",
    "        cell8103,\n",
    "        cell8111,\n",
    "        cell8112,\n",
    "        cell8113,\n",
    "        cell8114,\n",
    "        cell8121,\n",
    "        cell8122,\n",
    "        cell8123,\n",
    "        cell8124,\n",
    "        cell8201,\n",
    "        cell8202,\n",
    "        cell8301,\n",
    "        cell8401,\n",
    "        cell8900,\n",
    "        cell8999,\n",
    "    ],\n",
    "    universe_id=8100,\n",
    ")\n",
    "\n",
    "%matplotlib widget\n",
    "plot_args = {\n",
    "    \"origin\": (0, (Louter + Linner) * 0.5, 0),\n",
    "    \"width\": (\n",
    "        130 * 2 * 1.1,\n",
    "        (Louter - Linner) * 1.1,\n",
    "    ),\n",
    "    \"color_by\": \"cell\",\n",
    "    \"colors\": materials_colors,\n",
    "    \"basis\": \"xy\",\n",
    "}\n",
    "u8100.plot(**plot_args)\n",
    "# plt.show()\n",
    "plot_args = {\n",
    "    \"origin\": (0, (Louter + Linner) * 0.5, 0),\n",
    "    \"width\": (\n",
    "        130 * 2 * 1.1,\n",
    "        (Louter - Linner) * 1.1,\n",
    "    ),\n",
    "    \"color_by\": \"material\",\n",
    "    \"colors\": materials_colors,\n",
    "    \"basis\": \"xy\",\n",
    "}\n",
    "u8100.plot(**plot_args)\n",
    "# plt.show()"
   ]
  },
  {
   "cell_type": "markdown",
   "metadata": {},
   "source": [
    "## DELIMITADOR"
   ]
  },
  {
   "cell_type": "markdown",
   "metadata": {},
   "source": [
    "### Interior delimitador (Cónico+Filtro Bismuto)"
   ]
  },
  {
   "cell_type": "code",
   "execution_count": 14,
   "metadata": {},
   "outputs": [],
   "source": [
    "# reg7030=(-sur7030|-sur7031|(+sur7032&-sur7033&+sur7034&-sur7035))&+sur7010&-sur7020\n",
    "# cell7030=openmc.Cell(region=reg7030,fill=Air,cell_id=7030)\n",
    "reg7030 = -sur7030 & +sur7010 & -sur7011\n",
    "reg7031 = -sur7031 & +sur7011 & -sur7012\n",
    "reg7032 = -sur7032 & +sur7012 & -sur7013\n",
    "reg7033 = -sur7033 & +sur7013 & -sur7014\n",
    "reg7034 = -sur7034 & +sur7014 & -sur7015\n",
    "reg7035 = -sur7035 & +sur7015 & -sur7016\n",
    "reg7036 = -sur7036 & +sur7016 & -sur7017\n",
    "reg7037 = -sur7037 & +sur7017 & -sur7018\n",
    "reg7038 = -sur7038 & +sur7018 & -sur7019\n",
    "reg7039 = -sur7039 & +sur7019 & -sur7020\n",
    "\n",
    "\n",
    "if BISMUTO:\n",
    "    cell7030 = openmc.Cell(region=reg7030, fill=Bi, cell_id=7030)\n",
    "    cell7031 = openmc.Cell(region=reg7031, fill=Bi, cell_id=7031)\n",
    "    cell7032 = openmc.Cell(region=reg7032, fill=Air, cell_id=7032)\n",
    "    cell7033 = openmc.Cell(region=reg7033, fill=Air, cell_id=7033)\n",
    "    cell7034 = openmc.Cell(region=reg7034, fill=Air, cell_id=7034)\n",
    "    cell7035 = openmc.Cell(region=reg7035, fill=Air, cell_id=7035)\n",
    "    cell7036 = openmc.Cell(region=reg7036, fill=Air, cell_id=7036)\n",
    "    cell7037 = openmc.Cell(region=reg7037, fill=Air, cell_id=7037)\n",
    "    cell7038 = openmc.Cell(region=reg7038, fill=Air, cell_id=7038)\n",
    "    cell7039 = openmc.Cell(region=reg7039, fill=Air, cell_id=7039)\n",
    "else:\n",
    "    cell7030 = openmc.Cell(region=reg7030, fill=Air, cell_id=7030)\n",
    "    cell7031 = openmc.Cell(region=reg7031, fill=Air, cell_id=7031)\n",
    "    cell7032 = openmc.Cell(region=reg7032, fill=Air, cell_id=7032)\n",
    "    cell7033 = openmc.Cell(region=reg7033, fill=Air, cell_id=7033)\n",
    "    cell7034 = openmc.Cell(region=reg7034, fill=Air, cell_id=7034)\n",
    "    cell7035 = openmc.Cell(region=reg7035, fill=Air, cell_id=7035)\n",
    "    cell7036 = openmc.Cell(region=reg7036, fill=Air, cell_id=7036)\n",
    "    cell7037 = openmc.Cell(region=reg7037, fill=Air, cell_id=7037)\n",
    "    cell7038 = openmc.Cell(region=reg7038, fill=Air, cell_id=7038)\n",
    "    cell7039 = openmc.Cell(region=reg7039, fill=Air, cell_id=7039)\n",
    "\n",
    "if BLOQUEADO:\n",
    "    reg7010 = -sur7000 & +sur7010 & -sur7011\n",
    "    reg7011 = -sur7000 & +sur7011 & -sur7012\n",
    "    reg7012 = -sur7000 & +sur7012 & -sur7013\n",
    "    reg7013 = -sur7000 & +sur7013 & -sur7014\n",
    "    reg7014 = -sur7000 & +sur7014 & -sur7015\n",
    "    reg7015 = -sur7000 & +sur7015 & -sur7016\n",
    "    reg7016 = -sur7000 & +sur7016 & -sur7017\n",
    "    reg7017 = -sur7000 & +sur7017 & -sur7018\n",
    "    reg7018 = -sur7000 & +sur7018 & -sur7019\n",
    "    reg7019 = -sur7000 & +sur7019 & -sur7020\n",
    "else:\n",
    "    reg7010 = -sur7000 & +sur7010 & -sur7011 & ~reg7030\n",
    "    reg7011 = -sur7000 & +sur7011 & -sur7012 & ~reg7031\n",
    "    reg7012 = -sur7000 & +sur7012 & -sur7013 & ~reg7032\n",
    "    reg7013 = -sur7000 & +sur7013 & -sur7014 & ~reg7033\n",
    "    reg7014 = -sur7000 & +sur7014 & -sur7015 & ~reg7034\n",
    "    reg7015 = -sur7000 & +sur7015 & -sur7016 & ~reg7035\n",
    "    reg7016 = -sur7000 & +sur7016 & -sur7017 & ~reg7036\n",
    "    reg7017 = -sur7000 & +sur7017 & -sur7018 & ~reg7037\n",
    "    reg7018 = -sur7000 & +sur7018 & -sur7019 & ~reg7038\n",
    "    reg7019 = -sur7000 & +sur7019 & -sur7020 & ~reg7039\n",
    "\n",
    "# Piezas delimitador\n",
    "cell7010 = openmc.Cell(region=reg7010, fill=Polyborated, cell_id=7010)\n",
    "cell7012 = openmc.Cell(region=reg7012, fill=Polyborated, cell_id=7012)\n",
    "cell7014 = openmc.Cell(region=reg7014, fill=Polyborated, cell_id=7014)\n",
    "cell7016 = openmc.Cell(region=reg7016, fill=Polyborated, cell_id=7016)\n",
    "cell7018 = openmc.Cell(region=reg7018, fill=Polyborated, cell_id=7018)\n",
    "\n",
    "cell7011 = openmc.Cell(region=reg7011, fill=Lead, cell_id=7011)\n",
    "cell7013 = openmc.Cell(region=reg7013, fill=Lead, cell_id=7013)\n",
    "cell7015 = openmc.Cell(region=reg7015, fill=Lead, cell_id=7015)\n",
    "cell7017 = openmc.Cell(region=reg7017, fill=Lead, cell_id=7017)\n",
    "cell7019 = openmc.Cell(region=reg7019, fill=Lead, cell_id=7019)\n",
    "\n",
    "# Exterior piezas\n",
    "reg7000 = +sur7000 | -sur7010 | +sur7020\n",
    "cell7000 = openmc.Cell(region=reg7000, fill=Air, cell_id=7000)\n",
    "\n",
    "if BLOQUEADO:\n",
    "    u7000 = openmc.Universe(\n",
    "        cells=[\n",
    "            cell7000,\n",
    "            cell7010,\n",
    "            cell7011,\n",
    "            cell7012,\n",
    "            cell7013,\n",
    "            cell7014,\n",
    "            cell7015,\n",
    "            cell7016,\n",
    "            cell7017,\n",
    "            cell7018,\n",
    "            cell7019,\n",
    "        ],\n",
    "        universe_id=7000,\n",
    "    )\n",
    "else:\n",
    "    u7000 = openmc.Universe(\n",
    "        cells=[\n",
    "            cell7000,\n",
    "            cell7010,\n",
    "            cell7011,\n",
    "            cell7012,\n",
    "            cell7013,\n",
    "            cell7014,\n",
    "            cell7015,\n",
    "            cell7016,\n",
    "            cell7017,\n",
    "            cell7018,\n",
    "            cell7019,\n",
    "            cell7030,\n",
    "            cell7031,\n",
    "            cell7032,\n",
    "            cell7033,\n",
    "            cell7034,\n",
    "            cell7035,\n",
    "            cell7036,\n",
    "            cell7037,\n",
    "            cell7038,\n",
    "            cell7039,\n",
    "        ],\n",
    "        universe_id=7000,\n",
    "    )"
   ]
  },
  {
   "cell_type": "code",
   "execution_count": 15,
   "metadata": {},
   "outputs": [],
   "source": [
    "reg6000 = +sur6001 & -sur6002 & -sur6003\n",
    "cell6000 = openmc.Cell(region=reg6000, fill=u7000, cell_id=6000)\n",
    "\n",
    "# Tubo delimitador\n",
    "reg6001 = (+sur6001 & -sur6002 & +sur6003 & -sur6004) | (+sur6000 & -sur6001 & -sur6004)\n",
    "cell6001 = openmc.Cell(region=reg6001, fill=Al6061, cell_id=6001)\n",
    "\n",
    "# Exterior delimitador\n",
    "reg6002 = -sur6000 | +sur6002 | +sur6004\n",
    "cell6002 = openmc.Cell(region=reg6002, fill=Air, cell_id=6002)\n",
    "\n",
    "u6000 = openmc.Universe(cells=[cell6000, cell6001, cell6002], universe_id=6000)"
   ]
  },
  {
   "cell_type": "code",
   "execution_count": 30,
   "metadata": {},
   "outputs": [
    {
     "name": "stderr",
     "output_type": "stream",
     "text": [
      "/home/lucas/anaconda3/envs/proyecto_integrador/lib/python3.10/site-packages/openmc/mixin.py:70: IDWarning: Another Cell instance already exists with id=5000.\n",
      "  warn(msg, IDWarning)\n",
      "/home/lucas/anaconda3/envs/proyecto_integrador/lib/python3.10/site-packages/openmc/mixin.py:70: IDWarning: Another Cell instance already exists with id=5001.\n",
      "  warn(msg, IDWarning)\n",
      "/home/lucas/anaconda3/envs/proyecto_integrador/lib/python3.10/site-packages/openmc/mixin.py:70: IDWarning: Another Cell instance already exists with id=5002.\n",
      "  warn(msg, IDWarning)\n",
      "/home/lucas/anaconda3/envs/proyecto_integrador/lib/python3.10/site-packages/openmc/mixin.py:70: IDWarning: Another Cell instance already exists with id=5003.\n",
      "  warn(msg, IDWarning)\n",
      "/home/lucas/anaconda3/envs/proyecto_integrador/lib/python3.10/site-packages/openmc/mixin.py:70: IDWarning: Another Cell instance already exists with id=5004.\n",
      "  warn(msg, IDWarning)\n",
      "/home/lucas/anaconda3/envs/proyecto_integrador/lib/python3.10/site-packages/openmc/mixin.py:70: IDWarning: Another Cell instance already exists with id=5005.\n",
      "  warn(msg, IDWarning)\n",
      "/home/lucas/anaconda3/envs/proyecto_integrador/lib/python3.10/site-packages/openmc/mixin.py:70: IDWarning: Another Cell instance already exists with id=5006.\n",
      "  warn(msg, IDWarning)\n",
      "/home/lucas/anaconda3/envs/proyecto_integrador/lib/python3.10/site-packages/openmc/mixin.py:70: IDWarning: Another Cell instance already exists with id=5007.\n",
      "  warn(msg, IDWarning)\n",
      "/home/lucas/anaconda3/envs/proyecto_integrador/lib/python3.10/site-packages/openmc/mixin.py:70: IDWarning: Another UniverseBase instance already exists with id=5000.\n",
      "  warn(msg, IDWarning)\n"
     ]
    },
    {
     "data": {
      "application/vnd.jupyter.widget-view+json": {
       "model_id": "dc581ed4217447c3a66905a219eb7026",
       "version_major": 2,
       "version_minor": 0
      },
      "image/png": "[encoded data removed]",
      "text/html": [
       "\n",
       "            <div style=\"display: inline-block;\">\n",
       "                <div class=\"jupyter-widgets widget-label\" style=\"text-align: center;\">\n",
       "                    Figure\n",
       "                </div>\n",
       "                <img src='data:image/png;base64,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' width=258.06451612903226/>\n",
       "            </div>\n",
       "        "
      ],
      "text/plain": [
       "Canvas(toolbar=Toolbar(toolitems=[('Home', 'Reset original view', 'home', 'home'), ('Back', 'Back to previous …"
      ]
     },
     "metadata": {},
     "output_type": "display_data"
    },
    {
     "data": {
      "application/vnd.jupyter.widget-view+json": {
       "model_id": "b7a0a3523bc14ce68427e1fd20825f06",
       "version_major": 2,
       "version_minor": 0
      },
      "image/png": "[encoded data removed]",
      "text/html": [
       "\n",
       "            <div style=\"display: inline-block;\">\n",
       "                <div class=\"jupyter-widgets widget-label\" style=\"text-align: center;\">\n",
       "                    Figure\n",
       "                </div>\n",
       "                <img src='data:image/png;base64,iVBORw0KGgoAAAANSUhEUgAAAQIAAAEDCAYAAADeEwr1AAAAOnRFWHRTb2Z0d2FyZQBNYXRwbG90bGliIHZlcnNpb24zLjEwLjEsIGh0dHBzOi8vbWF0cGxvdGxpYi5vcmcvc2/+5QAAAAlwSFlzAAAPYQAAD2EBqD+naQAAFttJREFUeJzt3X9Q1HX+B/DnLrALKLvbirDshAaXiZog4rjtnXlzuuNi1FkxfdXoMo+k7w10o3Q20RWm1x2mDXl6W8xNJdecCjVzZ3PWUYSalQv2JUlDYuzCwHCXS4IFL5cf+/7+4fGpTy5ksrsfiOdj5jMu7/d79/N6L7NP3p/PuvtRCSEEiGhCUytdABEpj0FARAwCImIQEBEYBEQEBgERgUFARGAQEBEYBEQEBgERgUFARGAQEBEYBEQEBgERgUFARGAQEBEYBEQEBgERgUFARGAQEBEYBEQEBgERgUFARGAQEBEYBEQEBgERgUFARGAQEBGAcCV37vP50N7ejpiYGKhUKiVLIRpzhBDo6emB2WyGWh3cv9mKBkF7ezsSExOVLIFozGtra8O1114b1H0oGgQxMTEAgP8pqECENlrJUkJmyeoEpUsIuoP7zildwg9Cv/c/ePlPq6TXSTApGgRDhwMR2mhotJOULCVkoidPVrqEoJsov8tQCcVhM08WEhGDgIgYBEQEBgERgUFARGAQEBEYBEQEBgERgUFARGAQEBEAdVxcHG6//XY0NzfLOi5evIj8/HxMmTIFkydPRnZ2Ntxut2xMa2srsrKyEB0djbi4OGzcuBEDAwOhrJ+IAiC8uroajz76KJYtW4ZTp05h0qRL/098w4YNeO211/DKK69Ar9ejoKAAd955J9577z0AwODgILKysmAymXD06FGcO3cO9957LyIiIvCHP/xByTmNG80rHwv6PmZWPhn0fdD4p05LS0N5eTlaW1tRX18PAOju7sYLL7yA0tJSLFmyBBkZGdi9ezeOHj2K2tpaAMCbb76JU6dO4a9//SvmzZuH5cuX43e/+x0cDgf6+vqUnBMRfU9q4NILHwCMRiMAoL6+Hv39/bDZbNLAlJQUTJs2DU6nEwDgdDoxd+5cxMfHS2Psdjs8Hg8aGxv97szr9cLj8cg2IlKe2ufzYf369fjJT36CG2+8EQDgcrmg0WhgMBhkg+Pj4+FyuaQx3wyBof6hPn9KSkqg1+uljV9KQjQ2qPPz8/HRRx+hoqIi6DsrKipCd3e3tLW1tQV9n0T03cIPHDiAI0eOyL4KyWQyoa+vD11dXbJVgdvthslkksYcO3ZM9mBD7yoMjfk2rVYLrVYb4CkQ0WipDx48iKSkJFljRkYGIiIiUFNTI7U1NzejtbUVVqsVAGC1WnHy5El0dHRIY6qrq6HT6TB79uzQVE9EAREeExMjHdPr9XpERUVBr9cjNzcXhYWFMBqN0Ol0ePDBB2G1WnHTTTcBAJYtW4bZs2fjF7/4BbZt2waXy4XHHnsM+fn5/KtPNM6oExISMLRVVlZKHc888wxuvfVWZGdnY/HixTCZTPjb3/4m9YeFheHAgQMICwuD1WrFPffcg3vvvRdbtmxRYh5ENArhQgi/HZGRkXA4HHA4HMPeefr06Xj99deDVRsRhQg/a0BEDAIiYhAQERgERAQGARGBQUBEYBAQERgERAQGARGBQUBEYBAQERgERAQGAREBCFe6gImMXzVOYwVXBETEFcFEdaz/pzhd+Rk+/lI34riUazyYsXI6Fka8HaLKSAkMgglu1svXj9gvHghRIaQoHhoQEVcEoTLr+UtL8LbnexWu5L9qvnvIN7UtvvK6Z+HSXJvu55WsxguuCIiIK4KJ7q7Eu6Tb7tULEL/v/2T9L4e6IFIEVwRExBVBqIy142XD9xw/1uqnwFKbzWaoVCrs379f1nHfffdBpVLJtszMTNmYzs5O5OTkQKfTwWAwIDc3F729Y+RkGF2RwpMN0rZhRinuLj4ia6OJQT3SBUwyMzNx7tw5adu3b5+sPycnB42NjaiursbQxVTz8vKCXTMRBVj4HXfcMWynVqsd9srGTU1NqKqqwvvvv48FCxYAAHbt2oVbbrkFTz/9NMxm82X38Xq98Hq90s8eD5ebRGPBiOcIDh8+jLi4OFxzzTVYsmQJnnzySUyZMgUA4HQ6YTAYpBAAAJvNBrVajbq6OvgLmJKSEmzevDnAU6DRCEv8k3T7zbey/tv2klLlkEKGfdcgMzMTL730EmpqavDUU0/h7bffxvLlyzE4OAgAcLlciIuLk90nPDwcRqNRurrytxUVFaG7u1va2traAjgVIrpaw64IVq1aJd2eO3cuUlNT8aMf/QiHDx/G0qVLr2pnWq2Wl0wnGoOu+P8RJCcnIzY2Fp988gkAwGQyoaOjQzZmYGAAnZ2dw55XIKKx6Yr/H8HZs2dx/vx5JCQkAACsViu6urpQX1+PjIwMAMDBgwfh8/lgsViCUy0F3O5XP5JuW7tvu9T2wNdtz1b+LOQ1UeipGxoaAAAtLS1oaGhAa2srent7sXHjRtTW1uLMmTOoqanBihUrcP3118NutwMAZs2ahczMTKxbtw7Hjh3De++9h4KCAqxatcrvOwZENHap09PTAQCFhYVIT09HcXExwsLCcOLECfz85z/HDTfcgNzcXGRkZOCdd96RHePv2bMHKSkpWLp0KW655RYsWrQIf/7zn5WaCxFdpXAhhN+ON9544zvvbDQasXfv3kDXRCGU9tYR6fa9xv8FAJR1ln1jBA8NJgJ+6IiIGARExE8fTngfHvj6EPAD26V3fz586xuHhdZNoS6JFMAVARExCIiIQUBE4DmCCe+W2q+k29apuy5ru9Ua8pJIAVwREBGDgIh4aDDhffF0t3TblP3ipbafZktt930e8pJIAVwREBGDgIh4aDDhHTv4lHT7055HL7W9/3UbZoa6IlICVwRExCAgIgYBEYHnCCa8Z2d+fTVkeP57m+cFJhyuCIiIQTBRdX3rOpaBGkvjE4OAiBgERMQgmNBmrJwekDE0/qnNZjNUKhX2798v6xBCoLi4GAkJCYiKioLNZsPp06dlYzo7O5GTkwOdTgeDwYDc3Fz09vaGsHwiCgS1w+Hw27Ft2zbs3LkTZWVlqKurw6RJk2C323Hx4kVpTE5ODhobG1FdXY0DBw7gyJEjyMvLC1XtNEpXchKQJwonBvUdd9xxWaMQAjt27MBjjz2GFStWIDU1FS+99BLa29ullUNTUxOqqqrw/PPPw2KxYNGiRdi1axcqKirQ3t4e4mkQ0Wj4PUfQ0tICl8sFm80mten1elgsFjidTgCA0+mEwWDAggULpDE2mw1qtRp1dXV+d+b1euHxeGQbESnPbxC4XC4AQHx8vKw9Pj5e6nO5XIiLi5P1h4eHw2g0SmO+raSkBHq9XtoSExNHPQEanZFOBvJE4cQR0ncNioqK0N3dLW1tbW2h3D0RDcNvEJhMJgCA2+2WtbvdbqnPZDKho6ND1j8wMIDOzk5pzLdptVrodDrZRkTK8xsESUlJMJlMqKmpkdo8Hg/q6upgtV76fmur1Yquri7U19dLYw4ePAifzweLxRLksokokMIbGhoAXDpB2NDQAKPRiGnTpmH9+vV48sknMWPGDCQlJeHxxx+H2WzG7bffDgCYNWsWMjMzsW7dOpSVlaG/vx8FBQVYtWoVzGazcjMiou8tPD09HQBQWFgIAFizZg3Ky8vx8MMP48KFC8jLy0NXVxcWLVqEqqoqREZGSnfes2cPCgoKsHTpUqjVamRnZ2Pnzp2KTISIrl64EMJvh0qlwpYtW7Bly5Zh72w0GrF3795g1UZEIcLPGhARg4CIGAREBAYBEYFBQERgEBARGAREBAYBEYFBQERgEBARGAREBAYBEYFBQERgEBARGAREBAYBEYFBQERgEBARGAREBAYBEYFBQERgEBARRgiCJ554AiqVSralpKRI/RcvXkR+fj6mTJmCyZMnIzs7+7JLpBHR+DDiimDOnDk4d+6ctL377rtS34YNG/CPf/wDr7zyCt5++220t7fjzjvvDHrBRBR44SN2hof7vaBpd3c3XnjhBezduxdLliwBAOzevRuzZs1CbW0tbrrppuBUS0RBMeKK4PTp0zCbzUhOTkZOTg5aW1sBAPX19ejv74fNZpPGpqSkYNq0aXA6ncM+ntfrhcfjkW1EpLxhg8BisaC8vBxVVVV47rnn0NLSgptvvhk9PT1wuVzQaDQwGAyy+8THx8Plcg27s5KSEuj1emlLTEwM2ESI6OoNe2iwfPly6XZqaiosFgumT5+Ol19+GVFRUVe1s6KiIuliq8ClS60zDIiUd8VvHxoMBtxwww345JNPYDKZ0NfXh66uLtkYt9vt95zCEK1WC51OJ9uISHlXHAS9vb3417/+hYSEBGRkZCAiIgI1NTVSf3NzM1pbW2G1WoNSKBEFz7CHBr/5zW9w2223Yfr06Whvb8emTZsQFhaG1atXQ6/XIzc3F4WFhTAajdDpdHjwwQdhtVr5jgHRODRsEJw9exarV6/G+fPnMXXqVCxatAi1tbWYOnUqAOCZZ56BWq1GdnY2vF4v7HY7nn322ZAVTkSBM2wQVFRUjHjHyMhIOBwOOByOgBdFRKHFzxoQEYOAiBgERAQGARGBQUBEYBAQERgERAQGARGBQUBEYBAQERgERAQGARGBQUBEYBAQERgERAQGARGBQUBEYBAQERgERAQGARGBQUBEYBAQERgERIQRrmvwfTgcDmzfvh0ulwtpaWnYtWsXFi5cGIiHphCY88znftv7Voa4EFLMqFcElZWVKCwsxKZNm/DBBx8gLS0NdrsdHR0dgaiPiEJg1EFQWlqKdevWYe3atZg9ezbKysoQHR2NF1988bKxXq8XHo9HthGR8kZ1aNDX14f6+noUFRVJbWq1GjabDU6n87LxJSUl2Lx582h2SUGw+LVH/La/FeI6SDmjWhF88cUXGBwcRHx8vKw9Pj4eLpfrsvFFRUXo7u6Wtra2ttHsnogCJCAnC6+UVquFVqsN5S6J6AqMakUQGxuLsLAwuN1uWbvb7YbJZBpVYUQUOqMKAo1Gg4yMDNTU1EhtPp8PNTU1sFqtoy6OiEJj1IcGhYWFWLNmDRYsWICFCxdix44duHDhAtauXRuI+ogoBEYdBCtXrsS///1vFBcXw+VyYd68eaiqqrrsBCIRjV0BOVlYUFCAgoKCQDwUESmAnzUgIgYBETEIiAgMAiICg4CIwCAgIjAIiAgMAiICg4CIwCAgIjAIiAgMAiICg4CIwCAgIjAIiAgMAiICg4CIwCAgIjAIiAgMAiICg4CIwCAgIowQBNdddx1UKpVs27p1q2zMiRMncPPNNyMyMhKJiYnYtm1b0AsmosAb8boGW7Zswbp166SfY2JipNsejwfLli2DzWZDWVkZTp48iV/+8pcwGAzIy8sLXsVEFHAjBkFMTMywFzPds2cP+vr68OKLL0Kj0WDOnDloaGhAaWkpg4BonBnxHMHWrVsxZcoUpKenY/v27RgYGJD6nE4nFi9eDI1GI7XZ7XY0Nzfjyy+/9Pt4Xq8XHo9HthGR8oZdEfz617/G/PnzYTQacfToURQVFeHcuXMoLS0FALhcLiQlJcnuM3S9Q5fLhWuuueayxywpKcHmzZsDWT8RBUC4SqWSNTQ1NSElJQWFhYVSW2pqKjQaDR544AGUlJRAq9Ve1c6Kiopkj+vxeJCYmHh1lRNRwIQ3NTXJGpKTk/0OtFgsGBgYwJkzZzBz5kyYTCa43W7ZmKGfhzuvoNVqrzpEiCh4wlNSUq5oYENDA9RqNeLi4gAAVqsVv/3tb9Hf34+IiAgAQHV1NWbOnOn3sICIxi6/JwudTid27NiBDz/8EJ9++in27NmDDRs24J577pFe5HfffTc0Gg1yc3PR2NiIyspK/PGPf5Qt/YlofPB7slCr1aKiogJPPPEEvF4vkpKSsGHDBtmLXK/X480330R+fj4yMjIQGxuL4uJivnVINA75DYL58+ejtrb2O++cmpqKd955J+BFEVFo8bMGRMQgICIGARGBQUBEYBAQERgERAQGARGBQUBE+I4vJgk2IQQAoN/7HyXLmNC8vT7850K//z6tD33eCyGuiIYMvS6GXifBpBKh2Mswzp49y48hE32HtrY2XHvttUHdh6JB4PP50N7ejpiYGHz7exFCaeh7Edra2qDT6RSrQ2l8Hr42Fp4LIQR6enpgNpuhVgf3KF7RQwO1Wh30pPs+dDrdhH8BAHwevknp50Kv14dkPzxZSEQMAiJiEAC49P0LmzZtmvBfo8bn4WsT7blQ9GQhEY0NXBEQEYOAiBgERAQGARGBQUBEmGBB8Pvf/x4//vGPER0dDYPB4HdMa2srsrKyEB0djbi4OGzcuFF28VcAOHz4MObPnw+tVovrr78e5eXlwS8+BBwOB6677jpERkbCYrHg2LFjSpcUUEeOHMFtt90Gs9kMlUqF/fv3y/qFECguLkZCQgKioqJgs9lw+vRp2ZjOzk7k5ORAp9PBYDAgNzcXvb29IZxFcEyoIOjr68Ndd92FX/3qV377BwcHkZWVhb6+Phw9ehR/+ctfUF5ejuLiYmlMS0sLsrKy8LOf/QwNDQ1Yv3497r//frzxxhuhmkZQVFZWorCwEJs2bcIHH3yAtLQ02O12dHR0KF1awFy4cAFpaWlwOBx++7dt24adO3eirKwMdXV1mDRpEux2Oy5evCiNycnJQWNjI6qrq3HgwAEcOXLkh3EtDzEB7d69W+j1+svaX3/9daFWq4XL5ZLannvuOaHT6YTX6xVCCPHwww+LOXPmyO63cuVKYbfbg1pzsC1cuFDk5+dLPw8ODgqz2SxKSkoUrCp4AIi///3v0s8+n0+YTCaxfft2qa2rq0totVqxb98+IYQQp06dEgDE+++/L4355z//KVQqlfj8889DVnswTKgVwXdxOp2YO3eudHl3ALDb7fB4PGhsbJTG2Gw22f3sdjucTmdIaw2kvr4+1NfXy+alVqths9nG9by+j5aWFrhcLtlzoNfrYbFYpOfA6XTCYDBgwYIF0hibzQa1Wo26urqQ1xxIDIJvcLlcshAAIP3scrlGHOPxePDVV1+FptAA++KLLzA4OOh3XkPz/qEbmudIz4HL5ZIuAjwkPDwcRqNx3D9P4z4IHnnkEahUqhG3jz/+WOkyicY0Rb+PIBAeeugh3HfffSOOSU5OvqLHMplMl50pd7vdUt/Qv0Nt3xyj0+kQFRV1hVWPLbGxsQgLC/M7r6F5/9ANzdPtdiMhIUFqd7vdmDdvnjTm2ydPBwYG0NnZOe6fp3G/Ipg6dSpSUlJG3DQazRU9ltVqxcmTJ2W/7Orqauh0OsyePVsaU1NTI7tfdXU1rFZr4CYVYhqNBhkZGbJ5+Xw+1NTUjOt5fR9JSUkwmUyy58Dj8aCurk56DqxWK7q6ulBfXy+NOXjwIHw+HywWS8hrDiilz1aG0meffSaOHz8uNm/eLCZPniyOHz8ujh8/Lnp6eoQQQgwMDIgbb7xRLFu2TDQ0NIiqqioxdepUUVRUJD3Gp59+KqKjo8XGjRtFU1OTcDgcIiwsTFRVVSk1rYCoqKgQWq1WlJeXi1OnTom8vDxhMBhk76CMdz09PdLvHIAoLS0Vx48fF5999pkQQoitW7cKg8EgXn31VXHixAmxYsUKkZSUJL766ivpMTIzM0V6erqoq6sT7777rpgxY4ZYvXq1UlMKmAkVBGvWrBEALtsOHTokjTlz5oxYvny5iIqKErGxseKhhx4S/f39ssc5dOiQmDdvntBoNCI5OVns3r07tBMJkl27dolp06YJjUYjFi5cKGpra5UuKaAOHTrk9/e/Zs0aIcSltxAff/xxER8fL7RarVi6dKlobm6WPcb58+fF6tWrxeTJk4VOpxNr166V/pCMZ/w+AiIa/+cIiGj0GARExCAgIgYBEYFBQERgEBARgP8HYbOde57ds+YAAAAASUVORK5CYII=' width=258.06451612903226/>\n",
       "            </div>\n",
       "        "
      ],
      "text/plain": [
       "Canvas(toolbar=Toolbar(toolitems=[('Home', 'Reset original view', 'home', 'home'), ('Back', 'Back to previous …"
      ]
     },
     "metadata": {},
     "output_type": "display_data"
    },
    {
     "data": {
      "application/vnd.jupyter.widget-view+json": {
       "model_id": "7f136dd6b2184cb9bd36cf4e80fad762",
       "version_major": 2,
       "version_minor": 0
      },
      "image/png": "[encoded data removed]",
      "text/html": [
       "\n",
       "            <div style=\"display: inline-block;\">\n",
       "                <div class=\"jupyter-widgets widget-label\" style=\"text-align: center;\">\n",
       "                    Figure\n",
       "                </div>\n",
       "                <img src='data:image/png;base64,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' width=1290.3225806451612/>\n",
       "            </div>\n",
       "        "
      ],
      "text/plain": [
       "Canvas(toolbar=Toolbar(toolitems=[('Home', 'Reset original view', 'home', 'home'), ('Back', 'Back to previous …"
      ]
     },
     "metadata": {},
     "output_type": "display_data"
    }
   ],
   "source": [
    "# Interior Conducto\n",
    "reg5000 = -sur5000 & -sur5004\n",
    "cell5000 = openmc.Cell(region=reg5000, fill=Air, cell_id=5000)\n",
    "\n",
    "reg5001 = +sur5000 & -sur5010 & -sur5004\n",
    "cell5001 = openmc.Cell(region=reg5001, fill=Air, cell_id=5001)\n",
    "\n",
    "\n",
    "reg5002 = (\n",
    "    (+sur5010 & -sur5001 & -sur5004)\n",
    "    | (+sur5001 & -sur5002 & -sur5006)\n",
    "    | (+sur5002 & -sur5003 & -sur5008)\n",
    ")\n",
    "cell5002 = openmc.Cell(region=reg5002, fill=u6000, cell_id=5002)\n",
    "# cell5000=openmc.Cell(region=reg5000,fill=Air,cell_id=5000)\n",
    "\n",
    "# Conducto\n",
    "reg5003 = (\n",
    "    (-sur5000 & +sur5004 & -sur5005)\n",
    "    | (+sur5000 & -sur5001 & +sur5004 & -sur5005)\n",
    "    | (+sur5001 & -sur5002 & +sur5006 & -sur5007)\n",
    "    | (+sur5002 & -sur5003 & +sur5008 & -sur5009)\n",
    ")\n",
    "cell5003 = openmc.Cell(region=reg5003, fill=SS316L, cell_id=5003)\n",
    "\n",
    "# Concreto externo\n",
    "reg5004 = (\n",
    "    (-sur5000 & +sur5005)\n",
    "    | (+sur5000 & -sur5001 & +sur5005)\n",
    "    | (+sur5001 & -sur5002 & +sur5007)\n",
    "    | (+sur5002 & -sur5014 & +sur5009)\n",
    "    | (+sur5014 & -sur5003 & +sur5009)\n",
    "    | (+sur5003)\n",
    ")\n",
    "\n",
    "# Shutter\n",
    "reg5005 = +sur5030 & -sur5031 & +sur5032 & -sur5033 & +sur5034 & -sur5035\n",
    "\n",
    "# Caja del conducto\n",
    "reg5006 = (+sur5020 & -sur5021 & +sur5022 & -sur5023) & (\n",
    "    (+sur5003) | (+sur5014 & -sur5003 & +sur5009)\n",
    ")\n",
    "\n",
    "\n",
    "# Blindaje interno\n",
    "reg5010 = +sur5011 & -sur5012 & +sur5013 & -sur5014 & +sur5015 & -sur5016\n",
    "\n",
    "cell5004 = openmc.Cell(region=reg5010 & reg5004, fill=Lead, cell_id=5004)\n",
    "cell5005 = openmc.Cell(region=reg5005 & reg5004, fill=Lead, cell_id=5005)\n",
    "cell5006 = openmc.Cell(region=reg5006 & reg5004 & ~reg5005, fill=Air, cell_id=5006)\n",
    "cell5007 = openmc.Cell(\n",
    "    region=reg5004 & ~reg5010 & ~reg5006, fill=Concrete, cell_id=5007\n",
    ")\n",
    "\n",
    "# cell5006=openmc.Cell(region=+sur5003,fill=Air,cell_id=5006)\n",
    "\n",
    "u5000 = openmc.Universe(\n",
    "    cells=[\n",
    "        cell5000,\n",
    "        cell5001,\n",
    "        cell5002,\n",
    "        cell5003,\n",
    "        cell5004,\n",
    "        cell5005,\n",
    "        cell5006,\n",
    "        cell5007,\n",
    "    ],\n",
    "    universe_id=5000,\n",
    ")\n",
    "%matplotlib widget\n",
    "u5000.plot(\n",
    "    origin=(0.0, 75, 0.0),\n",
    "    width=(300,300),\n",
    "    pixels=(200, 200),\n",
    "    basis='xy',\n",
    "    color_by='material',\n",
    "    colors=materials_colors\n",
    ")\n",
    "plt.show()\n",
    "u5000.plot(\n",
    "    origin=(0.0, 75, 0.0),\n",
    "    width=(300,300),\n",
    "    pixels=(200, 200),\n",
    "    basis='xy',\n",
    "    color_by='cell'\n",
    ")\n",
    "plt.show()\n",
    "\n",
    "u5000.plot(\n",
    "    origin=(0.0, 0, 0.0),\n",
    "    width=(400,400),\n",
    "    pixels=(1000, 1000),\n",
    "    basis='xy',\n",
    "    color_by='cell'\n",
    ")\n",
    "plt.show()"
   ]
  },
  {
   "cell_type": "markdown",
   "metadata": {},
   "source": [
    "### Acá hay una rotación en x de 90 grados. Ahora la dirección de propagación es \"z\" y no \"y\""
   ]
  },
  {
   "cell_type": "code",
   "execution_count": 17,
   "metadata": {},
   "outputs": [
    {
     "data": {
      "application/vnd.jupyter.widget-view+json": {
       "model_id": "4c1acebc8f494ed083bdbec4dbfd2a5a",
       "version_major": 2,
       "version_minor": 0
      },
      "image/png": "[encoded data removed]",
      "text/html": [
       "\n",
       "            <div style=\"display: inline-block;\">\n",
       "                <div class=\"jupyter-widgets widget-label\" style=\"text-align: center;\">\n",
       "                    Figure\n",
       "                </div>\n",
       "                <img src='data:image/png;base64,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' width=184.51612903225805/>\n",
       "            </div>\n",
       "        "
      ],
      "text/plain": [
       "Canvas(toolbar=Toolbar(toolitems=[('Home', 'Reset original view', 'home', 'home'), ('Back', 'Back to previous …"
      ]
     },
     "metadata": {},
     "output_type": "display_data"
    },
    {
     "data": {
      "application/vnd.jupyter.widget-view+json": {
       "model_id": "235e232e689549698ccf164be193f798",
       "version_major": 2,
       "version_minor": 0
      },
      "image/png": "[encoded data removed]",
      "text/html": [
       "\n",
       "            <div style=\"display: inline-block;\">\n",
       "                <div class=\"jupyter-widgets widget-label\" style=\"text-align: center;\">\n",
       "                    Figure\n",
       "                </div>\n",
       "                <img src='data:image/png;base64,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' width=184.51612903225805/>\n",
       "            </div>\n",
       "        "
      ],
      "text/plain": [
       "Canvas(toolbar=Toolbar(toolitems=[('Home', 'Reset original view', 'home', 'home'), ('Back', 'Back to previous …"
      ]
     },
     "metadata": {},
     "output_type": "display_data"
    }
   ],
   "source": [
    "# Conducto N5\n",
    "reg9003 = +sur9012 & -sur9013 & +sur9014 & -sur9015 & +sur9016 & -sur9017\n",
    "cell9003 = openmc.Cell(region=reg9003, fill=u5000, cell_id=9003)\n",
    "cell9003.rotation = (90, 0, 0)\n",
    "# cell9003.translation=(-15.00,120.80,0.00)\n",
    "\n",
    "# Afuera\n",
    "reg9099 = +sur9012 & -sur9013 & +sur9015 & -sur9018 & +sur9016 & -sur9017\n",
    "\n",
    "cell9099 = openmc.Cell(region=reg9099, fill=u8100, cell_id=9099)\n",
    "\n",
    "cell9099.rotation = (90, 0, 0)  # rotación!!!!!!!!!!!\n",
    "\n",
    "\n",
    "u9000 = openmc.Universe(cells=[cell9003, cell9099], universe_id=9000)\n",
    "\n",
    "plot_args = {'origin':(0,0,(Louter+Linner)*0.5),\n",
    "             'width': (130*2*1.1, (Louter-Linner)*1.1),\n",
    "             'color_by':'cell',\n",
    "             'colors':materials_colors,\n",
    "             'basis':'xz'\n",
    "            }\n",
    "u9000.plot(**plot_args)\n",
    "plt.show()\n",
    "plot_args = {'origin':(0,0,(Louter+Linner)*0.5),\n",
    "             'width': (130*2*1.1, (Louter-Linner)*1.1),\n",
    "             'color_by':'material',\n",
    "             'colors':materials_colors,\n",
    "             'basis':'xz'\n",
    "            }\n",
    "u9000.plot(**plot_args)\n",
    "plt.show()"
   ]
  },
  {
   "cell_type": "markdown",
   "metadata": {},
   "source": [
    "### Esquema por celdas, vista superior"
   ]
  },
  {
   "cell_type": "code",
   "execution_count": 18,
   "metadata": {},
   "outputs": [
    {
     "data": {
      "application/vnd.jupyter.widget-view+json": {
       "model_id": "58ff69cf0f5e4c9398c4f17ee1ee7b58",
       "version_major": 2,
       "version_minor": 0
      },
      "image/png": "[encoded data removed]",
      "text/html": [
       "\n",
       "            <div style=\"display: inline-block;\">\n",
       "                <div class=\"jupyter-widgets widget-label\" style=\"text-align: center;\">\n",
       "                    Figure\n",
       "                </div>\n",
       "                <img src='data:image/png;base64,iVBORw0KGgoAAAANSUhEUgAAALgAAAFpCAYAAAAvJuL5AAAAOnRFWHRTb2Z0d2FyZQBNYXRwbG90bGliIHZlcnNpb24zLjEwLjEsIGh0dHBzOi8vbWF0cGxvdGxpYi5vcmcvc2/+5QAAAAlwSFlzAAAPYQAAD2EBqD+naQAAF2lJREFUeJzt3X1wVOW9B/BvdmOWhLCbi5o9pAaQURtCI7RSkuM4aCWTBRenDlwHLZAYX6g2Or5d1FzTWLA0XusgI+XFXgtBa9GrQ3VuDIQoCK1ZEydGmhsgRQWTcbsblMuewEhikuf+0bsHVjaQl30hv3w/M2dm9zlPnvM7mS8P55ycPZuglFIgEsoS7wKIookBJ9EYcBKNASfRGHASjQEn0RhwEo0BJ9EYcBKNASfRGHASjQEn0RhwEo0BJ9EYcBKNASfRGHASjQEn0RhwEo0BJ9EYcBKNASfRGHASjQEn0RhwEo0BJ9EYcBKNASfRGHASjQEn0RhwEo0BJ9EYcBKNASfRGHASjQEn0RhwEo0BJ9EYcBKNASfRGHASjQEn0RKjNXBfXx+8Xi/GjRuHhISEaG2GBFJKobOzExkZGbBYhjcHRy3gXq8XmZmZ0RqeRoH29nZcdtllwxojagEfN24cgH8Wabfbo7UZEsgwDGRmZpoZGo6oBTx4WGK32xlwGpJIHNryJJNEY8BJNMvChQvh9/tDGtva2uB2u5GSkoL09HQsX74cPT09cSqRaOgsXq8XCxYsMBt6e3vhdrvR3d2Nuro6bNmyBZWVlSgvL49jmURDdODAAQVAeTwepZRS1dXVymKxKJ/Pp4I2bNig7Ha76urqUgMVCAQUABUIBAb8M0RKRTY7lqysLEycOBEejwcA4PF4kJOTA6fTaf4jcLlcMAwDLS0t/f5D6erqgmEYIQtRvFkAwOl0wufzAQB8Pl9IuIPrg+v6U1FRAYfDYS78Iw9dCCJ2FaW0tBSBQMBc2tvbIzU00ZAlAoDf74emaQAATdPQ0NAQ0il4lSXYJxybzQabzRatOomGJLG1tRVtbW3QdR0AoOs6Vq1ahY6ODqSnpwMAamtrYbfbkZ2dHZGNXnEoKyLj0Mj26ZUHo74NS3FxMXRdR15eHgCgoKAA2dnZWLp0Kfbt24eamhqUlZWhpKSEMzSNOBZN07Bt2zazwWq1oqqqClarFbquY8mSJSgsLMTKlSvjWCbR0CSeGe6gSZMmobq6Og7lEEUW70Uh0RhwEo0BJ9EYcBKNASfRGHASLWqfyRwNfldzfVy2e79rT1y2OxJxBifRGHASjQEn0RhwEo0BJ9EYcBKNASfRGHASjQEn0fiXzGG4/o0bzmorLlod0W3Yvg2EaeW8NFD8TZFoDDiJxoCTaAw4icaTzAjbedt9Z7UVGQN70NHTK+84q61k+nArGt04g5NoDDiJxoCTaAw4icaTzBjwlLw6sI7O83ehweEMTqIx4CQaA06iMeAkGgNOojHgJBoDTqIx4CQaA06iMeAkGgNOovFelGHIeWnFWW3jvzy731fPDGy8GZxvIi4xNTUVLpcL69evh9N5+m6ftrY23Hfffdi9ezdSU1NRVFSEiooKJCby38RQ/PyNeeft8+Kt22NQyehi2bNnD7xeLxYsWGA29vb2wu12o7u7G3V1ddiyZQsqKytRXl4ex1KJBi9BKaUOHjyIqVOnwuPxIC8vD9u3b8f8+fPh9XrNWX3jxo14/PHHcfToUSQlJZ13YMMw4HA4EAgEYLfbQ9ZdcWhgn1Ecba7516vQ+Obf411GzHx65cGw7efKzmBZACArKwsTJ06Ex+MBAHg8HuTk5IQcsrhcLhiGgZaWlrADdXV1wTCMkIUo3syzGqfTCZ/PBwDw+Xwh4Q6uD64Lp6KiAg6Hw1wyMzOjVTPRgEXstL20tBSBQMBc2tvbIzU00ZCZl0T8fj80TQMAaJqGhoaGkI5+v99cF47NZoPNZotWnURDYgGA1tZWtLW1Qdd1AICu62hubkZHR4fZsba2Fna7HdnZ2fGplGgILI2NjSguLoau68jLywMAFBQUIDs7G0uXLsW+fftQU1ODsrIylJSUcJamEcUye/ZsaJqGbdu2mY1WqxVVVVWwWq3QdR1LlixBYWEhVq5cGcdSiQYv8eTJk2FXTJo0CdXV1TEuhyiyePMDicaAk2gMOInGgJNoDDiJxoCTaAw4icaAk2gMOInGgJNoDDiJxoCTaAw4icaAk2gMOInGgJNoDDiJxoCTaAw4icaAk2gMOInGgJNoDDiJxoCTaAw4icaAk2gMOInGgJNoDDiJxoCTaAw4icaAk2gMOInGgJNoDDiJxoCTaAw4icaAk2gMOIlmWbhwofk99EFtbW1wu91ISUlBeno6li9fjp6enjiVSDR0Fq/XiwULFpgNvb29cLvd6O7uRl1dHbZs2YLKykqUl5fHsUyiobFs3rwZdXV1+PDDDwEAO3fuxP79+/HHP/4RM2bMwLx58/D0009j3bp16O7ujnO5RINjycrKwsSJE+HxeAAAHo8HOTk5cDqdZieXywXDMNDS0tLvQF1dXTAMI2QhijcLADidTvh8PgCAz+cLCXdwfXBdfyoqKuBwOMwlMzMzWjUTDVjErqKUlpYiEAiYS3t7e6SGJhqyRADw+/3QNA0AoGkaGhoaQjoFr7IE+4Rjs9lgs9miVSfRkFhaW1vR1tYGXdcBALquo7m5GR0dHWan2tpa2O12ZGdnx6tOoiGxFBcXQ9d15OXlAQAKCgqQnZ2NpUuXYt++faipqUFZWRlKSko4Q9OIY9E0Ddu2bTMbrFYrqqqqYLVaoes6lixZgsLCQqxcuTKOZRINTeKZ4Q6aNGkSqqur41AOUWTxXhQSjQEn0RhwEo0BJ9EYcBKNASfRGHASjQEn0RhwEo0BJ9EYcBKNASfRGHASjQEn0RhwEo0BJ9EYcBKNASfRGHASjQEn0RhwEo0BJ9EYcBKNASfRGHASjQEn0RhwEo0BJ9EYcBKNASfRGPALSOObf493CeIkxruAC91Tv94Z0fFWlBXEdPzRjjM4icaAk2gMOInGgJNoPMk8j7fffDiyA5bFdvzRjjM4icaAk2iW1NRULFy40Pw++qC2tja43W6kpKQgPT0dy5cvR09PT5zKJBoay549e+D1erFgwQKzsbe3F263G93d3airq8OWLVtQWVmJ8vLyOJZKNHgJSil18OBBTJ06FR6PB3l5edi+fTvmz58Pr9cLp9MJANi4cSMef/xxHD16FElJSecd2DAMOBwOBAIB2O32kHV3PrkrKjszFAWFGebr1kWROUP7/uu/jsg437XzZW9Uxo2XTatuDNt+ruwMlgUAsrKyMHHiRHg8HgCAx+NBTk6OGW4AcLlcMAwDLS0tYQfq6uqCYRghC1G8mSeZTqcTPp8PAODz+ULCHVwfXBdORUUFHA6HuWRmZkarZqIBi9hVlNLSUgQCAXNpb2+P1NBEQ2b+ocfv90PTNACApmloaGgI6Ri8yhLs8102mw02my1adRINiQUAWltb0dbWBl3XAQC6rqO5uRkdHR1mx9raWtjtdmRnZ8enUqIhsDQ2NqK4uBi6riMvLw8AUFBQgOzsbCxduhT79u1DTU0NysrKUFJSwlmaRhTL7NmzoWkatm3bZjZarVZUVVXBarVC13UsWbIEhYWFWLlyZRxLJRq8xJMnT4ZdMWnSJFRXV8e4HKLI4r0oJBoDTqIx4CQaA06iMeAkGgNOojHgJBoDTqLxU/VniNYHFSh+OIOTaJzBY6Th2+vx3xv/t9/1N9/7L5h10Z4YVjQ6MOAxNPW/rjBfr/3Px/DAPc+eXnnv13GoSL5RHfCpL9nR/tKJ2GzsvfN3aZ997lqmwo4Dd/OzroMxqgMea7dm3mq+fuPQxSHvm7AxHiWJx5NMEm1Uz+Cx/O8+bQB9ePgReaM64LH2SPMn5mtf+V5ozacfarM0DvWMBjxEIdE4g8eQNfN35uud77phzXz5jLUzY1/QKMAZnERjwEk0HqLE0Oa3/8d8rQduxuafn35fG4+CRgHO4CQaZ/AYmv7uXvN14fh7sfHY6b9e1ubHoyL5OIOTaAw4icZDlBjaV1Vjvv44/xrse/f0e/AQJSo4g5NonMFj6KYPvzFf65euDXkf4e87pv/HGZxEY8BJNB6ixNBXzwXM19rCTfjq+oXm+1XxKGgU4AxOonEGj6GGXf9hvv6889/R8NHp97ju3+JQkXycwUk0BpxE4yFKDK3//unHRMC4Ffj+6bdXgoco0cAZnERjwGPk+Natw1pPQ2NJTk5Gfn4+Dh06FLLi2LFjWLx4Mex2O9LS0nDXXXfhxIkYPeaMKEIs9fX1GDt2LFwuF06dOmWuWLx4MVpaWlBbW4uqqirs3bsXy5Yti2OpRINnufrqq/Hyyy/D6/XirbfeAgAcOHAAO3bswEsvvYTc3Fxcd911WLt2LV577TV4vd74Vkw0CBYAcDgcyM3NhcfjAQB4PB6kpaVh5szTz+rIz8+HxWJBfX192IG6urpgGEbIQqGuXDRpUO00fOZJptPphM/nAwD4fD6kp6eHdExMTMT48ePNPt9VUVEBh8NhLpmZmVEse2Tq70SSJ5jRE7GrKKWlpQgEAubS3t4eqaGJhsz8Q4/f78eMGTMAAJqmoaOjI6RjT08Pjh07Bk3Twg5ks9lgs9miVynREFgAwDAM1NfXQ9d1AICu6zh+/DgaGxvNjrt27UJfXx9yc3PjUynREFiam5tRWFiIjIwM3HLLLQCAqVOnYu7cubjnnnvQ0NCADz74APfffz9uu+02ZGRkxLdiokGw/PjHP8aJEyewY8cOjBkzxlzx6quvIisrC3PmzMFNN92E6667Dr///e/jWCrR4CWe+cedM40fPx5/+tOfYlwOUWTxXhQSjQEn0RhwEo0BJ9EYcBKNASfRGHASjQEn0RhwEo0BJ9EYcBKNASfRGHASjQEn0RhwEo0BJ9EYcBKNASfRGHASjQEn0RhwEo0BJ9EYcBKNASfRGHASjQEn0RhwEo0BJ9EYcBKNASfRGHASjQEn0RhwEo0BJ9EYcBKNASfRGHASjQEn0RhwEu2cAV+3bh0mT56MMWPGIDc3Fw0NDbGqiygi+g3466+/jkceeQRPPfUUPv74Y0yfPh0ulwsdHR2xrI9oWBL7W7F69Wrcc889KC4uBgBs3LgR77zzDjZt2oQnnngiZgVKM+35L89q63gwDoWMEmFn8O7ubjQ2NiI/P/90R4sF+fn58Hg8YQfq6uqCYRghC1G8hZ3Bv/rqK/T29sLpdIa0O51OHDx4MOxAFRUVWLFiReQrFGb2O2f/7/fmzvviUMnoELGrKKWlpQgEAubS3t4eqaGJhizsDH7JJZfAarXC7/eHtPv9fmiaFnYgm80Gm80W+QqJhiHsDJ6UlIRrrrkG7733ntnW19eH9957D7qux6w4ouHq9yrKI488gqKiIsycOROzZs3CmjVrcPLkSfOqCtGIoM5h7dq1auLEiSopKUnNmjVLffjhh+fqHiIQCCgAKhAIDPhniJSKbHYSlFIqGv9wDMOAw+FAIBCA3W6PxiZIqEhmh/eikGgMOInGgJNoDDiJxoCTaAw4icaAk2gMOInGgJNoDDiJ1u/NVsMVvAOAn+yhwQpmJhJ3kUQt4J2dnQCAzMzMaG2ChOvs7ITD4RjWGFG72aqvrw9erxfjxo1DQkJCxMY1DAOZmZlob28f0TdxcT/6p5RCZ2cnMjIyYLEM7yg6ajO4xWLBZZddFq3hYbfbR3Qwgrgf4Q135g7iSSaJxoCTaCMu4DabDU899dSI/4Az9yM2onaSSXQhGHEzONFgMOAkGgNOojHgJNoFG/BVq1bh2muvRUpKCtLS0sL2aWtrg9vtRkpKCtLT07F8+XL09PSE9Hn//ffxox/9CDabDVdccQUqKyujX/x5XOhfLLB3717cfPPNyMjIQEJCAt56662Q9UoplJeXY8KECUhOTkZ+fj4OHToU0ufYsWNYvHgx7HY70tLScNddd+HEiRMx3It/umAD3t3djVtvvRX33Rf+yau9vb1wu93o7u5GXV0dtmzZgsrKSpSXl5t9Dh8+DLfbjZ/85Cf45JNP8NBDD+Huu+9GTU1NrHbjLCPhiwVOnjyJ6dOnY926dWHXP/vss3jhhRewceNG1NfXY+zYsXC5XDh16pTZZ/HixWhpaUFtbS2qqqqwd+9eLFu2LFa7cNqwHx0UZZs3b1YOh+Os9urqamWxWJTP5zPbNmzYoOx2u+rq6lJKKfXYY4+padOmhfzcokWLlMvlimrN5zJr1ixVUlJivu/t7VUZGRmqoqIibjWdCwD15z//2Xzf19enNE1Tv/3tb82248ePK5vNprZu3aqUUmr//v0KgProo4/MPtu3b1cJCQnqyy+/jFntSil1wc7g5+PxeJCTkxPyDHOXywXDMNDS0mL2OfMh/sE+/T3EP9qG8sUCF5rDhw/D5/OF7IPD4UBubq65Dx6PB2lpaZg5c6bZJz8/HxaLBfX19TGtd8QG3OfzhX1Af3DdufoYhoFvvvkmNoWe4VxfLBCs+UIXrPNc++Dz+ZCenh6yPjExEePHj4/5fsY04E888QQSEhLOufT3DRJEQxG122XDefTRR3HHHXecs8+UKVMGNJamaWddfQg+sD/4kH5N08I+xN9utyM5OXmAVUfOUL5Y4EITrNPv92PChAlmu9/vx4wZM8w+3z1p7unpwbFjx2K+nzGdwS+99FJkZWWdc0lKShrQWLquo7m5OeQXWVtbC7vdjuzsbLPPmQ/xD/aJ10P8JXyxwOWXXw5N00L2wTAM1NfXm/ug6zqOHz+OxsZGs8+uXbvQ19eH3Nzc2BYc01PaQfjiiy9UU1OTWrFihUpNTVVNTU2qqalJdXZ2KqWU6unpUT/4wQ9UQUGB+uSTT9SOHTvUpZdeqkpLS80xPv/8c5WSkqKWL1+uDhw4oNatW6esVqvasWNHvHZLvfbaa8pms6nKykq1f/9+tWzZMpWWlhZyNSjeOjs7zd83ALV69WrV1NSkvvjiC6WUUs8884xKS0tTb7/9tvrb3/6mfvrTn6rLL79cffPNN+YYc+fOVT/84Q9VfX29+utf/6quvPJKdfvtt8d8Xy7YgBcVFSkAZy27d+82+xw5ckTNmzdPJScnq0suuUQ9+uij6ttvvw0ZZ/fu3WrGjBkqKSlJTZkyRW3evDm2OxLGcL5YIBZ2794d9ndfVFSklPrnpcJf/vKXyul0KpvNpubMmaNaW1tDxvj666/V7bffrlJTU5XdblfFxcXm5BRLvF2WRBuxlwmJBoIBJ9EYcBKNASfRGHASjQEn0RhwEo0Bj4IjR46YN48F78+IlsrKSnNbDz30UFS3NRIx4FH07rvvnnUvTKQtWrQI//jHP0bMvSyxFtO7CUebiy++GBdffHFUt5GcnIzk5OQB36Q22nAGP4+jR49C0zT85je/Mdvq6uqQlJQ0pNl506ZNmDZtGmw2GyZMmID777/fXJeQkIAXX3wR8+fPR0pKCqZOnQqPx4NPP/0UN9xwA8aOHYtrr70Wn332WUT2bVSI+d0vI9A777yjLrroIvXRRx8pwzDUlClT1MMPP9xv/8OHDysAqqmpKaR9/fr1asyYMWrNmjWqtbVVNTQ0qOeff95cD0B973vfU6+//rpqbW1Vt9xyi5o8ebK68cYb1Y4dO9T+/ftVXl6emjt37lnbvP7669WDDz4YoT2WgwEfoF/84hfqqquuUj/72c9UTk6OOnXqVL99+wt4RkaGevLJJ/v9OQCqrKzMfO/xeBQA9Yc//MFs27p1qxozZsxZP8uAh8dDlAF67rnn0NPTgzfeeAOvvvrqoJ+m2tHRAa/Xizlz5pyz39VXX22+Dn7uMScnJ6Tt1KlT/O6jAWLAB+izzz6D1+tFX18fjhw5MuifH+hH5C666CLzdfCrX8K19fX1DbqG0YgBH4Du7m4sWbIEixYtwtNPP42777570A/qGTduHCZPnhz1y4YUipcJB+DJJ59EIBDACy+8gNTUVFRXV+POO+9EVVXVoMb51a9+hXvvvRfp6emYN28eOjs78cEHH+CBBx6IUuXEGfw83n//faxZswavvPIK7HY7LBYLXnnlFfzlL3/Bhg0bBjVWUVER1qxZg/Xr12PatGmYP3/+Wc/0o8j6PxgY5OLNHmv8AAAAAElFTkSuQmCC' width=184.51612903225805/>\n",
       "            </div>\n",
       "        "
      ],
      "text/plain": [
       "Canvas(toolbar=Toolbar(toolitems=[('Home', 'Reset original view', 'home', 'home'), ('Back', 'Back to previous …"
      ]
     },
     "metadata": {},
     "output_type": "display_data"
    }
   ],
   "source": [
    "plt.rcParams[\"figure.figsize\"] = 10, 10\n",
    "plot_args = {\n",
    "    \"origin\": (0, 0, (Louter + Linner) * 0.5),\n",
    "    \"width\": (130 * 2 * 1.1, (Louter - Linner) * 1.1),\n",
    "    \"color_by\": \"cell\",\n",
    "    \"colors\": materials_colors,\n",
    "    \"basis\": \"xz\",\n",
    "}\n",
    "u9000.plot(**plot_args)\n",
    "plt.show()"
   ]
  },
  {
   "cell_type": "markdown",
   "metadata": {},
   "source": [
    "## Esquema por materiales, vista superior"
   ]
  },
  {
   "cell_type": "code",
   "execution_count": 19,
   "metadata": {},
   "outputs": [
    {
     "data": {
      "application/vnd.jupyter.widget-view+json": {
       "model_id": "b507b068c0ce48b4935800eff5d9d8df",
       "version_major": 2,
       "version_minor": 0
      },
      "image/png": "[encoded data removed]",
      "text/html": [
       "\n",
       "            <div style=\"display: inline-block;\">\n",
       "                <div class=\"jupyter-widgets widget-label\" style=\"text-align: center;\">\n",
       "                    Figure\n",
       "                </div>\n",
       "                <img src='data:image/png;base64,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' width=184.51612903225805/>\n",
       "            </div>\n",
       "        "
      ],
      "text/plain": [
       "Canvas(toolbar=Toolbar(toolitems=[('Home', 'Reset original view', 'home', 'home'), ('Back', 'Back to previous …"
      ]
     },
     "metadata": {},
     "output_type": "display_data"
    }
   ],
   "source": [
    "plot_args = {\n",
    "    \"origin\": (0, 0, (Louter + Linner) * 0.5),\n",
    "    \"width\": (130 * 2 * 1.1, (Louter - Linner) * 1.1),\n",
    "    \"color_by\": \"material\",\n",
    "    \"colors\": materials_colors,\n",
    "    \"basis\": \"xz\",\n",
    "}\n",
    "u9000.plot(**plot_args)\n",
    "plt.show()"
   ]
  },
  {
   "cell_type": "markdown",
   "metadata": {},
   "source": [
    "## Esquema por celdas, vista lateral"
   ]
  },
  {
   "cell_type": "code",
   "execution_count": 20,
   "metadata": {},
   "outputs": [
    {
     "data": {
      "application/vnd.jupyter.widget-view+json": {
       "model_id": "870a93df13104ecab682fc79ef08c8d1",
       "version_major": 2,
       "version_minor": 0
      },
      "image/png": "[encoded data removed]",
      "text/html": [
       "\n",
       "            <div style=\"display: inline-block;\">\n",
       "                <div class=\"jupyter-widgets widget-label\" style=\"text-align: center;\">\n",
       "                    Figure\n",
       "                </div>\n",
       "                <img src='data:image/png;base64,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' width=184.51612903225805/>\n",
       "            </div>\n",
       "        "
      ],
      "text/plain": [
       "Canvas(toolbar=Toolbar(toolitems=[('Home', 'Reset original view', 'home', 'home'), ('Back', 'Back to previous …"
      ]
     },
     "metadata": {},
     "output_type": "display_data"
    }
   ],
   "source": [
    "plot_args = {\n",
    "    \"origin\": (0, 0, (Louter + Linner) * 0.5),\n",
    "    \"width\": (130 * 2 * 1.1, (Louter - Linner) * 1.1),\n",
    "    \"color_by\": \"material\",\n",
    "    \"colors\": materials_colors,\n",
    "    \"basis\": \"yz\",\n",
    "}\n",
    "u9000.plot(**plot_args)\n",
    "plt.show()"
   ]
  },
  {
   "cell_type": "markdown",
   "metadata": {},
   "source": [
    "### Detalle colimador"
   ]
  },
  {
   "cell_type": "code",
   "execution_count": 21,
   "metadata": {},
   "outputs": [
    {
     "data": {
      "application/vnd.jupyter.widget-view+json": {
       "model_id": "7b50b0a8c6014659a43033a0e8221c11",
       "version_major": 2,
       "version_minor": 0
      },
      "image/png": "[encoded data removed]",
      "text/html": [
       "\n",
       "            <div style=\"display: inline-block;\">\n",
       "                <div class=\"jupyter-widgets widget-label\" style=\"text-align: center;\">\n",
       "                    Figure\n",
       "                </div>\n",
       "                <img src='data:image/png;base64,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' width=516.1290322580645/>\n",
       "            </div>\n",
       "        "
      ],
      "text/plain": [
       "Canvas(toolbar=Toolbar(toolitems=[('Home', 'Reset original view', 'home', 'home'), ('Back', 'Back to previous …"
      ]
     },
     "metadata": {},
     "output_type": "display_data"
    }
   ],
   "source": [
    "%matplotlib widget\n",
    "plot_args = {\n",
    "    \"origin\": (0, 0, 140),\n",
    "    \"width\": (70, 70),\n",
    "    \"color_by\": \"material\",\n",
    "    \"colors\": materials_colors,\n",
    "    \"basis\": \"xz\",\n",
    "    \"pixels\": (400, 400),\n",
    "}\n",
    "u9000.plot(**plot_args)\n",
    "plt.show()"
   ]
  },
  {
   "cell_type": "markdown",
   "metadata": {},
   "source": [
    "### Detalle diafragma de salida (chopper)"
   ]
  },
  {
   "cell_type": "code",
   "execution_count": 22,
   "metadata": {},
   "outputs": [
    {
     "data": {
      "application/vnd.jupyter.widget-view+json": {
       "model_id": "25a60f8ea1cb4638aa27ee10b7564a96",
       "version_major": 2,
       "version_minor": 0
      },
      "image/png": "[encoded data removed]",
      "text/html": [
       "\n",
       "            <div style=\"display: inline-block;\">\n",
       "                <div class=\"jupyter-widgets widget-label\" style=\"text-align: center;\">\n",
       "                    Figure\n",
       "                </div>\n",
       "                <img src='data:image/png;base64,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' width=258.06451612903226/>\n",
       "            </div>\n",
       "        "
      ],
      "text/plain": [
       "Canvas(toolbar=Toolbar(toolitems=[('Home', 'Reset original view', 'home', 'home'), ('Back', 'Back to previous …"
      ]
     },
     "metadata": {},
     "output_type": "display_data"
    }
   ],
   "source": [
    "plot_args = {\n",
    "    \"origin\": (0, 0, 215),\n",
    "    \"width\": (80, 80),\n",
    "    \"color_by\": \"material\",\n",
    "    \"colors\": materials_colors,\n",
    "    \"basis\": \"yz\",\n",
    "    \"pixels\": (200, 200),\n",
    "}\n",
    "u9000.plot(**plot_args)\n",
    "plt.show()"
   ]
  },
  {
   "cell_type": "markdown",
   "metadata": {},
   "source": [
    "### Borra archivos anteriores y guarda Statepoints"
   ]
  },
  {
   "cell_type": "code",
   "execution_count": 23,
   "metadata": {},
   "outputs": [],
   "source": [
    "#!mv statepoint.*.h5 ../Statepoints/\n",
    "#!rm *.xml\n",
    "#!rm *.out"
   ]
  },
  {
   "cell_type": "code",
   "execution_count": 24,
   "metadata": {},
   "outputs": [],
   "source": [
    "openmc_exe = \"openmc\"\n",
    "# openmc_data=\"/home/vissffin/openmc/data/endfb-viii.0-hdf5/cross_sections.xml\"\n",
    "\n",
    "geome = openmc.Geometry(u9000)\n",
    "geome.export_to_xml()\n",
    "mats = openmc.Materials(geome.get_all_materials().values())\n",
    "# mats.cross_sections = openmc_data #Agregué una línea al .bashrc y ya no necesito definir las secciones eficaces en el Notebook\n",
    "mats.export_to_xml()"
   ]
  },
  {
   "cell_type": "markdown",
   "metadata": {},
   "source": [
    "### Esto genera un xml con la configuración para plotear mejor la geometría. Si desmuteo la ultima línea, plotea"
   ]
  },
  {
   "cell_type": "code",
   "execution_count": 25,
   "metadata": {},
   "outputs": [
    {
     "name": "stderr",
     "output_type": "stream",
     "text": [
      "/home/lucas/anaconda3/envs/proyecto_integrador/lib/python3.10/site-packages/openmc/mixin.py:70: IDWarning: Another PlotBase instance already exists with id=3.\n",
      "  warn(msg, IDWarning)\n",
      "/home/lucas/anaconda3/envs/proyecto_integrador/lib/python3.10/site-packages/openmc/mixin.py:70: IDWarning: Another PlotBase instance already exists with id=4.\n",
      "  warn(msg, IDWarning)\n"
     ]
    },
    {
     "name": "stdout",
     "output_type": "stream",
     "text": [
      "                                %%%%%%%%%%%%%%%\n",
      "                           %%%%%%%%%%%%%%%%%%%%%%%%\n",
      "                        %%%%%%%%%%%%%%%%%%%%%%%%%%%%%%\n",
      "                      %%%%%%%%%%%%%%%%%%%%%%%%%%%%%%%%%%\n",
      "                    %%%%%%%%%%%%%%%%%%%%%%%%%%%%%%%%%%%%%%\n",
      "                   %%%%%%%%%%%%%%%%%%%%%%%%%%%%%%%%%%%%%%%%\n",
      "                                    %%%%%%%%%%%%%%%%%%%%%%%%\n",
      "                                     %%%%%%%%%%%%%%%%%%%%%%%%\n",
      "                 ###############      %%%%%%%%%%%%%%%%%%%%%%%%\n",
      "                ##################     %%%%%%%%%%%%%%%%%%%%%%%\n",
      "                ###################     %%%%%%%%%%%%%%%%%%%%%%%\n",
      "                ####################     %%%%%%%%%%%%%%%%%%%%%%\n",
      "                #####################     %%%%%%%%%%%%%%%%%%%%%\n",
      "                ######################     %%%%%%%%%%%%%%%%%%%%\n",
      "                #######################     %%%%%%%%%%%%%%%%%%\n",
      "                 #######################     %%%%%%%%%%%%%%%%%\n",
      "                 ######################     %%%%%%%%%%%%%%%%%\n",
      "                  ####################     %%%%%%%%%%%%%%%%%\n",
      "                    #################     %%%%%%%%%%%%%%%%%\n",
      "                     ###############     %%%%%%%%%%%%%%%%\n",
      "                       ############     %%%%%%%%%%%%%%%\n",
      "                          ########     %%%%%%%%%%%%%%\n",
      "                                      %%%%%%%%%%%\n",
      "\n",
      "                 | The OpenMC Monte Carlo Code\n",
      "       Copyright | 2011-2024 MIT, UChicago Argonne LLC, and contributors\n",
      "         License | https://docs.openmc.org/en/latest/license.html\n",
      "         Version | 0.15.1-dev\n",
      "       Date/Time | 2025-04-21 18:02:32\n",
      "  OpenMP Threads | 12\n",
      "\n",
      " Reading settings XML file...\n",
      " Reading materials XML file...\n",
      " Reading geometry XML file...\n",
      " Reading tallies XML file...\n",
      " Preparing distributed cell instances...\n",
      " Reading plot XML file...\n",
      " WARNING: Could not find material 1 specified in plot 3\n",
      " WARNING: Could not find material 3 specified in plot 3\n",
      " WARNING: Could not find material 4 specified in plot 3\n",
      " WARNING: Could not find material 5 specified in plot 3\n",
      " WARNING: Could not find material 6 specified in plot 3\n",
      " WARNING: Could not find material 7 specified in plot 3\n",
      " WARNING: Could not find material 8 specified in plot 3\n",
      " WARNING: Could not find material 9 specified in plot 3\n",
      " WARNING: Could not find material 1 specified in plot 4\n",
      " WARNING: Could not find material 3 specified in plot 4\n",
      " WARNING: Could not find material 4 specified in plot 4\n",
      " WARNING: Could not find material 5 specified in plot 4\n",
      " WARNING: Could not find material 6 specified in plot 4\n",
      " WARNING: Could not find material 7 specified in plot 4\n",
      " WARNING: Could not find material 8 specified in plot 4\n",
      " WARNING: Could not find material 9 specified in plot 4\n",
      "\n",
      " =======================>     PLOTTING SUMMARY     <========================\n",
      "\n",
      "Plot ID: 3\n",
      "Plot file: plot_3.png\n",
      "Universe depth: -1\n",
      "Plot Type: Slice\n",
      "Origin: 0 0 242.10000000000002\n",
      "Width:  260 504.20000000000005\n",
      "Coloring: Materials\n",
      "Basis: XZ\n",
      "Pixels: 3000 3000\n",
      "\n",
      "Plot ID: 4\n",
      "Plot file: plot_4.png\n",
      "Universe depth: -1\n",
      "Plot Type: Slice\n",
      "Origin: 0 0 242.10000000000002\n",
      "Width:  260 504.20000000000005\n",
      "Coloring: Materials\n",
      "Basis: YZ\n",
      "Pixels: 3000 3000\n",
      "\n",
      " Processing plot 3: plot_3.png...\n",
      " Processing plot 4: plot_4.png...\n"
     ]
    }
   ],
   "source": [
    "#!rm *.ppm\n",
    "plot_xz = openmc.Plot()\n",
    "plot_xz.id = 3\n",
    "plot_xz.basis = \"xz\"\n",
    "plot_xz.origin = (0.0, 0.0, (Louter + Linner) * 0.5)\n",
    "plot_xz.width = (130 * 2.0, Louter - Linner)\n",
    "plot_xz.pixels = (3000, 3000)\n",
    "plot_xz.color_by = \"material\"\n",
    "plot_xz.colors = materials_colors\n",
    "\n",
    "plot_yz = openmc.Plot()\n",
    "plot_yz.id = 4\n",
    "plot_yz.basis = \"yz\"\n",
    "plot_yz.origin = (0.0, 0.0, (Louter + Linner) * 0.5)\n",
    "plot_yz.width = (130 * 2.0, Louter - Linner)\n",
    "plot_yz.pixels = (3000, 3000)\n",
    "plot_yz.color_by = \"material\"\n",
    "plot_yz.colors = materials_colors\n",
    "\n",
    "plots = openmc.Plots([plot_xz, plot_yz])\n",
    "plots.export_to_xml()\n",
    "openmc.plot_geometry()"
   ]
  },
  {
   "cell_type": "markdown",
   "metadata": {},
   "source": [
    "## TALLIES"
   ]
  },
  {
   "cell_type": "code",
   "execution_count": 26,
   "metadata": {},
   "outputs": [
    {
     "name": "stderr",
     "output_type": "stream",
     "text": [
      "/home/lucas/anaconda3/envs/proyecto_integrador/lib/python3.10/site-packages/openmc/mixin.py:70: IDWarning: Another Filter instance already exists with id=9.\n",
      "  warn(msg, IDWarning)\n",
      "/home/lucas/anaconda3/envs/proyecto_integrador/lib/python3.10/site-packages/openmc/mixin.py:70: IDWarning: Another Filter instance already exists with id=5.\n",
      "  warn(msg, IDWarning)\n"
     ]
    }
   ],
   "source": [
    "tallies = openmc.Tallies()\n",
    "\n",
    "# Filtro de grilla\n",
    "mesh_xz = openmc.RegularMesh(mesh_id=1)\n",
    "mesh_xz.lower_left = [-130, -3.1 / 2, Linner]\n",
    "mesh_xz.upper_right = [130, 3.1 / 2, Louter]\n",
    "mesh_xz.dimension = [1000, 1, 1000]\n",
    "filter_mesh_xz = openmc.filter.MeshFilter(mesh_xz, filter_id=1)\n",
    "\n",
    "mesh_yz = openmc.RegularMesh(mesh_id=2)\n",
    "mesh_yz.lower_left = [-1.45 / 2, -130, Linner]\n",
    "mesh_yz.upper_right = [1.45 / 2, 130, Louter]\n",
    "mesh_yz.dimension = [1, 1000, 1000]\n",
    "filter_mesh_yz = openmc.filter.MeshFilter(mesh_yz, filter_id=2)\n",
    "\n",
    "mesh_xy = openmc.RegularMesh(mesh_id=3)\n",
    "mesh_xy.lower_left = [-15, -15, Louter - 290]\n",
    "mesh_xy.upper_right = [15, 15, Louter - 290 + 5]\n",
    "mesh_xy.dimension = [1000, 1000, 1]\n",
    "filter_mesh_xy = openmc.filter.MeshFilter(mesh_xy, filter_id=3)\n",
    "\n",
    "mesh_surf = openmc.RegularMesh(mesh_id=4)\n",
    "mesh_surf.lower_left = [-1.45 / 2, -3.1 / 2, L4int]\n",
    "mesh_surf.upper_right = [1.45 / 2, 3.1 / 2, L6ext]\n",
    "mesh_surf.dimension = [1, 1, 1]\n",
    "filter_mesh_surf = openmc.filter.MeshSurfaceFilter(mesh_surf, filter_id=4)\n",
    "\n",
    "# dummy del mesh del tally en el C5 que uso para \"spectra_neutron\"\n",
    "mesh_surf_d = openmc.RegularMesh(mesh_id=14)\n",
    "mesh_surf_d.lower_left = [-1.45 / 2, -3.1 / 2, L4int]\n",
    "mesh_surf_d.upper_right = [1.45 / 2, 3.1 / 2, L6ext]\n",
    "mesh_surf_d.dimension = [\n",
    "    5,\n",
    "    5,\n",
    "    5,\n",
    "]  # tuve que aumentar la dimensión del mesh para poder plotearlo con openmc_regular_mesh_plotter\n",
    "filter_mesh_surf_d = openmc.filter.MeshFilter(mesh_surf_d, filter_id=14)\n",
    "\n",
    "# Filtro de particulas\n",
    "neutron = openmc.ParticleFilter([\"neutron\"], filter_id=5)\n",
    "photon = openmc.ParticleFilter([\"photon\"], filter_id=6)\n",
    "\n",
    "# Filtro de dosis\n",
    "##En_ARN,h10n_ARN=np.loadtxt('../h10ARN_neutron',unpack=True)\n",
    "##Eg_ARN,h10g_ARN=np.loadtxt('../h10ARN_photon',unpack=True)\n",
    "\n",
    "##filter_dose_neutron=openmc.filter.EnergyFunctionFilter(En_ARN,h10n_ARN,filter_id=7)\n",
    "##filter_dose_photon=openmc.filter.EnergyFunctionFilter(Eg_ARN,h10g_ARN,filter_id=8)\n",
    "\n",
    "# Filtro de energías\n",
    "filter_energy_neutron = openmc.filter.EnergyFilter(\n",
    "    np.logspace(np.log10(1e-5), np.log10(2e7), 201), filter_id=9\n",
    ")\n",
    "filter_energy_photon = openmc.filter.EnergyFilter(np.linspace(0, 2e7, 201), filter_id=10)\n",
    "\n",
    "# Filtro de celdas\n",
    "filter_surf = openmc.filter.SurfaceFilter([sur5003], filter_id=11)\n",
    "filter_cell = openmc.filter.CellFilter([cell5001], filter_id=12)\n",
    "filter_detector = openmc.filter.CellFilter([cell8900], filter_id=13)\n",
    "\n",
    "# Tallies\n",
    "##dose_neutron_xy = openmc.Tally(name='dose_neutron_xy',tally_id=1)\n",
    "##dose_neutron_xy.scores = [\"flux\"]\n",
    "##dose_neutron_xy.filters = [filter_mesh_xy,filter_dose_neutron,neutron]\n",
    "##tallies.append(dose_neutron_xy)\n",
    "\n",
    "##dose_photon_xy = openmc.Tally(name='dose_photon_xy',tally_id=2)\n",
    "##dose_photon_xy.scores = [\"flux\"]\n",
    "##dose_photon_xy.filters = [filter_mesh_xy,filter_dose_photon,photon]\n",
    "##tallies.append(dose_photon_xy)\n",
    "\n",
    "flux_neutron_xy = openmc.Tally(name=\"flux_neutron_xy\", tally_id=3)\n",
    "flux_neutron_xy.scores = [\"flux\"]\n",
    "flux_neutron_xy.filters = [filter_mesh_xy, neutron]\n",
    "tallies.append(flux_neutron_xy)\n",
    "\n",
    "flux_photon_xy = openmc.Tally(name=\"flux_photon_xy\", tally_id=4)\n",
    "flux_photon_xy.scores = [\"flux\"]\n",
    "flux_photon_xy.filters = [filter_mesh_xy, photon]\n",
    "tallies.append(flux_photon_xy)\n",
    "\n",
    "##dose_neutron_xz = openmc.Tally(name='dose_neutron_xz',tally_id=5)\n",
    "##dose_neutron_xz.scores = [\"flux\"]\n",
    "##dose_neutron_xz.filters = [filter_mesh_xz,filter_dose_neutron,neutron]\n",
    "##tallies.append(dose_neutron_xz)\n",
    "\n",
    "##dose_photon_xz = openmc.Tally(name='dose_photon_xz',tally_id=6)\n",
    "##dose_photon_xz.scores = [\"flux\"]\n",
    "##dose_photon_xz.filters = [filter_mesh_xz,filter_dose_photon,photon]\n",
    "##tallies.append(dose_photon_xz)\n",
    "\n",
    "flux_neutron_xz = openmc.Tally(name=\"flux_neutron_xz\", tally_id=7)\n",
    "flux_neutron_xz.scores = [\"flux\"]\n",
    "flux_neutron_xz.filters = [filter_mesh_xz, neutron]\n",
    "tallies.append(flux_neutron_xz)\n",
    "\n",
    "flux_photon_xz = openmc.Tally(name=\"flux_photon_xz\", tally_id=8)\n",
    "flux_photon_xz.scores = [\"flux\"]\n",
    "flux_photon_xz.filters = [filter_mesh_xz, photon]\n",
    "tallies.append(flux_photon_xz)\n",
    "\n",
    "##dose_neutron_yz = openmc.Tally(name='dose_neutron_yz',tally_id=9)\n",
    "##dose_neutron_yz.scores = [\"flux\"]\n",
    "##dose_neutron_yz.filters = [filter_mesh_yz,filter_dose_neutron,neutron]\n",
    "##tallies.append(dose_neutron_yz)\n",
    "\n",
    "##dose_photon_yz = openmc.Tally(name='dose_photon_yz',tally_id=10)\n",
    "##dose_photon_yz.scores = [\"flux\"]\n",
    "##dose_photon_yz.filters = [filter_mesh_yz,filter_dose_photon,photon]\n",
    "##tallies.append(dose_photon_yz)\n",
    "\n",
    "flux_neutron_yz = openmc.Tally(name=\"flux_neutron_yz\", tally_id=11)\n",
    "flux_neutron_yz.scores = [\"flux\"]\n",
    "flux_neutron_yz.filters = [filter_mesh_yz, neutron]\n",
    "tallies.append(flux_neutron_yz)\n",
    "\n",
    "flux_photon_yz = openmc.Tally(name=\"flux_photon_yz\", tally_id=12)\n",
    "flux_photon_yz.scores = [\"flux\"]\n",
    "flux_photon_yz.filters = [filter_mesh_yz, photon]\n",
    "tallies.append(flux_photon_yz)\n",
    "\n",
    "spectra_neutron = openmc.Tally(name=\"spectra_neutron\", tally_id=13)\n",
    "spectra_neutron.scores = [\"current\"]\n",
    "spectra_neutron.filters = [filter_energy_neutron, filter_mesh_surf, neutron]\n",
    "tallies.append(spectra_neutron)\n",
    "\n",
    "# dummy del tally de spectra_neutron para plotearlo junto con la geometría usando openmc_regular_mesh_plotter\n",
    "spectra_neutron_d = openmc.Tally(name=\"spectra_neutron_d\", tally_id=24)\n",
    "spectra_neutron_d.scores = [\"flux\"]\n",
    "spectra_neutron_d.filters = [\n",
    "    filter_mesh_surf_d,\n",
    "    neutron,\n",
    "]  # remueve el energy filter porque no acepta más de 1 bin el openmc_regular_mesh_plotter\n",
    "tallies.append(spectra_neutron_d)\n",
    "\n",
    "spectra_photon = openmc.Tally(name=\"spectra_photon\", tally_id=14)\n",
    "spectra_photon.scores = [\"current\"]\n",
    "spectra_photon.filters = [filter_energy_photon, filter_mesh_surf, photon]\n",
    "tallies.append(spectra_photon)\n",
    "\n",
    "patron_neutron = openmc.Tally(name=\"patron_neutron\", tally_id=15)\n",
    "patron_neutron.scores = [\"flux\"]\n",
    "patron_neutron.filters = [filter_energy_neutron, filter_cell, neutron]\n",
    "tallies.append(patron_neutron)\n",
    "\n",
    "patron_photon = openmc.Tally(name=\"patron_photon\", tally_id=16)\n",
    "patron_photon.scores = [\"flux\"]\n",
    "patron_photon.filters = [filter_energy_photon, filter_cell, photon]\n",
    "tallies.append(patron_photon)\n",
    "\n",
    "# track_neutron=openmc.Tally(name='track_neutron',tally_id=19)\n",
    "# track_neutron.scores=['track-surface']#no reconoce track-surface como un argumento para scores\n",
    "# track_neutron.filters=[filter_surf,neutron]\n",
    "# tallies.append(track_neutron)\n",
    "\n",
    "# track_photon=openmc.Tally(name='track_photon',tally_id=20)\n",
    "# track_photon.scores=['track-surface']#no reconoce track-surface como un argumento para scores\n",
    "# track_photon.filters=[filter_surf,photon]\n",
    "# tallies.append(track_photon)\n",
    "\n",
    "\n",
    "detector_neutron = openmc.Tally(name=\"detector_neutron\", tally_id=21)\n",
    "# detector_neutron.scores=['flux']\n",
    "detector_neutron.scores = [\n",
    "    \"absorption\"\n",
    "]  # lo cambio a absorción porque cambié el material Air por He3\n",
    "detector_neutron.filters = [filter_energy_neutron, filter_detector, neutron]\n",
    "tallies.append(detector_neutron)\n",
    "\n",
    "detector_photon = openmc.Tally(name=\"detector_photon\", tally_id=22)\n",
    "detector_photon.scores = [\"flux\"]\n",
    "detector_photon.filters = [filter_energy_photon, filter_detector, photon]\n",
    "tallies.append(detector_photon)\n",
    "\n",
    "\n",
    "# pongo un detector en la ultima celda del colimador==>cell7039\n",
    "particle_filter = openmc.ParticleFilter([\"neutron\"])\n",
    "energy_detector_tally = openmc.Tally(name=\"energy_detector_tally\")\n",
    "energy_filter = openmc.filter.EnergyFilter(\n",
    "    np.logspace(np.log10(1e-5), np.log10(2e7), 201)\n",
    ")\n",
    "cell_filter = openmc.CellFilter(cell7039.id)\n",
    "energy_detector_tally.scores = [\"flux\"]\n",
    "energy_detector_tally.filters = [energy_filter, cell_filter, particle_filter]\n",
    "tallies.append(energy_detector_tally)\n",
    "\n",
    "\n",
    "tallies.export_to_xml()\n",
    "\n",
    "# (array(mesh_xz.upper_right)-array(mesh_xz.lower_left))/mesh_xz.dimension"
   ]
  },
  {
   "cell_type": "markdown",
   "metadata": {},
   "source": [
    "## FUENTES"
   ]
  },
  {
   "cell_type": "code",
   "execution_count": 27,
   "metadata": {},
   "outputs": [
    {
     "ename": "FileNotFoundError",
     "evalue": "../RA6-Nucleo/spectra not found.",
     "output_type": "error",
     "traceback": [
      "\u001b[0;31m---------------------------------------------------------------------------\u001b[0m",
      "\u001b[0;31mFileNotFoundError\u001b[0m                         Traceback (most recent call last)",
      "Cell \u001b[0;32mIn[27], line 1\u001b[0m\n\u001b[0;32m----> 1\u001b[0m energy, spectra_n, spectra_g \u001b[38;5;241m=\u001b[39m \u001b[43mnp\u001b[49m\u001b[38;5;241;43m.\u001b[39;49m\u001b[43mloadtxt\u001b[49m\u001b[43m(\u001b[49m\u001b[38;5;124;43m\"\u001b[39;49m\u001b[38;5;124;43m../RA6-Nucleo/spectra\u001b[39;49m\u001b[38;5;124;43m\"\u001b[39;49m\u001b[43m,\u001b[49m\u001b[43m \u001b[49m\u001b[43munpack\u001b[49m\u001b[38;5;241;43m=\u001b[39;49m\u001b[38;5;28;43;01mTrue\u001b[39;49;00m\u001b[43m)\u001b[49m\n\u001b[1;32m      3\u001b[0m source_neutron \u001b[38;5;241m=\u001b[39m openmc\u001b[38;5;241m.\u001b[39mSource()\n\u001b[1;32m      4\u001b[0m source_neutron\u001b[38;5;241m.\u001b[39mspace \u001b[38;5;241m=\u001b[39m openmc\u001b[38;5;241m.\u001b[39mstats\u001b[38;5;241m.\u001b[39mBox(\n\u001b[1;32m      5\u001b[0m     (\u001b[38;5;241m-\u001b[39m\u001b[38;5;241m50\u001b[39m \u001b[38;5;241m/\u001b[39m \u001b[38;5;241m2.0\u001b[39m, \u001b[38;5;241m0.0\u001b[39m, \u001b[38;5;241m-\u001b[39m\u001b[38;5;241m50\u001b[39m \u001b[38;5;241m/\u001b[39m \u001b[38;5;241m2\u001b[39m), (\u001b[38;5;241m50\u001b[39m \u001b[38;5;241m/\u001b[39m \u001b[38;5;241m2.0\u001b[39m, \u001b[38;5;241m0.0\u001b[39m, \u001b[38;5;241m50\u001b[39m \u001b[38;5;241m/\u001b[39m \u001b[38;5;241m2\u001b[39m)\n\u001b[1;32m      6\u001b[0m )\n",
      "File \u001b[0;32m~/anaconda3/envs/proyecto_integrador/lib/python3.10/site-packages/numpy/lib/_npyio_impl.py:1395\u001b[0m, in \u001b[0;36mloadtxt\u001b[0;34m(fname, dtype, comments, delimiter, converters, skiprows, usecols, unpack, ndmin, encoding, max_rows, quotechar, like)\u001b[0m\n\u001b[1;32m   1392\u001b[0m \u001b[38;5;28;01mif\u001b[39;00m \u001b[38;5;28misinstance\u001b[39m(delimiter, \u001b[38;5;28mbytes\u001b[39m):\n\u001b[1;32m   1393\u001b[0m     delimiter \u001b[38;5;241m=\u001b[39m delimiter\u001b[38;5;241m.\u001b[39mdecode(\u001b[38;5;124m'\u001b[39m\u001b[38;5;124mlatin1\u001b[39m\u001b[38;5;124m'\u001b[39m)\n\u001b[0;32m-> 1395\u001b[0m arr \u001b[38;5;241m=\u001b[39m \u001b[43m_read\u001b[49m\u001b[43m(\u001b[49m\u001b[43mfname\u001b[49m\u001b[43m,\u001b[49m\u001b[43m \u001b[49m\u001b[43mdtype\u001b[49m\u001b[38;5;241;43m=\u001b[39;49m\u001b[43mdtype\u001b[49m\u001b[43m,\u001b[49m\u001b[43m \u001b[49m\u001b[43mcomment\u001b[49m\u001b[38;5;241;43m=\u001b[39;49m\u001b[43mcomment\u001b[49m\u001b[43m,\u001b[49m\u001b[43m \u001b[49m\u001b[43mdelimiter\u001b[49m\u001b[38;5;241;43m=\u001b[39;49m\u001b[43mdelimiter\u001b[49m\u001b[43m,\u001b[49m\n\u001b[1;32m   1396\u001b[0m \u001b[43m            \u001b[49m\u001b[43mconverters\u001b[49m\u001b[38;5;241;43m=\u001b[39;49m\u001b[43mconverters\u001b[49m\u001b[43m,\u001b[49m\u001b[43m \u001b[49m\u001b[43mskiplines\u001b[49m\u001b[38;5;241;43m=\u001b[39;49m\u001b[43mskiprows\u001b[49m\u001b[43m,\u001b[49m\u001b[43m \u001b[49m\u001b[43musecols\u001b[49m\u001b[38;5;241;43m=\u001b[39;49m\u001b[43musecols\u001b[49m\u001b[43m,\u001b[49m\n\u001b[1;32m   1397\u001b[0m \u001b[43m            \u001b[49m\u001b[43munpack\u001b[49m\u001b[38;5;241;43m=\u001b[39;49m\u001b[43munpack\u001b[49m\u001b[43m,\u001b[49m\u001b[43m \u001b[49m\u001b[43mndmin\u001b[49m\u001b[38;5;241;43m=\u001b[39;49m\u001b[43mndmin\u001b[49m\u001b[43m,\u001b[49m\u001b[43m \u001b[49m\u001b[43mencoding\u001b[49m\u001b[38;5;241;43m=\u001b[39;49m\u001b[43mencoding\u001b[49m\u001b[43m,\u001b[49m\n\u001b[1;32m   1398\u001b[0m \u001b[43m            \u001b[49m\u001b[43mmax_rows\u001b[49m\u001b[38;5;241;43m=\u001b[39;49m\u001b[43mmax_rows\u001b[49m\u001b[43m,\u001b[49m\u001b[43m \u001b[49m\u001b[43mquote\u001b[49m\u001b[38;5;241;43m=\u001b[39;49m\u001b[43mquotechar\u001b[49m\u001b[43m)\u001b[49m\n\u001b[1;32m   1400\u001b[0m \u001b[38;5;28;01mreturn\u001b[39;00m arr\n",
      "File \u001b[0;32m~/anaconda3/envs/proyecto_integrador/lib/python3.10/site-packages/numpy/lib/_npyio_impl.py:1022\u001b[0m, in \u001b[0;36m_read\u001b[0;34m(fname, delimiter, comment, quote, imaginary_unit, usecols, skiplines, max_rows, converters, ndmin, unpack, dtype, encoding)\u001b[0m\n\u001b[1;32m   1020\u001b[0m     fname \u001b[38;5;241m=\u001b[39m os\u001b[38;5;241m.\u001b[39mfspath(fname)\n\u001b[1;32m   1021\u001b[0m \u001b[38;5;28;01mif\u001b[39;00m \u001b[38;5;28misinstance\u001b[39m(fname, \u001b[38;5;28mstr\u001b[39m):\n\u001b[0;32m-> 1022\u001b[0m     fh \u001b[38;5;241m=\u001b[39m \u001b[43mnp\u001b[49m\u001b[38;5;241;43m.\u001b[39;49m\u001b[43mlib\u001b[49m\u001b[38;5;241;43m.\u001b[39;49m\u001b[43m_datasource\u001b[49m\u001b[38;5;241;43m.\u001b[39;49m\u001b[43mopen\u001b[49m\u001b[43m(\u001b[49m\u001b[43mfname\u001b[49m\u001b[43m,\u001b[49m\u001b[43m \u001b[49m\u001b[38;5;124;43m'\u001b[39;49m\u001b[38;5;124;43mrt\u001b[39;49m\u001b[38;5;124;43m'\u001b[39;49m\u001b[43m,\u001b[49m\u001b[43m \u001b[49m\u001b[43mencoding\u001b[49m\u001b[38;5;241;43m=\u001b[39;49m\u001b[43mencoding\u001b[49m\u001b[43m)\u001b[49m\n\u001b[1;32m   1023\u001b[0m     \u001b[38;5;28;01mif\u001b[39;00m encoding \u001b[38;5;129;01mis\u001b[39;00m \u001b[38;5;28;01mNone\u001b[39;00m:\n\u001b[1;32m   1024\u001b[0m         encoding \u001b[38;5;241m=\u001b[39m \u001b[38;5;28mgetattr\u001b[39m(fh, \u001b[38;5;124m'\u001b[39m\u001b[38;5;124mencoding\u001b[39m\u001b[38;5;124m'\u001b[39m, \u001b[38;5;124m'\u001b[39m\u001b[38;5;124mlatin1\u001b[39m\u001b[38;5;124m'\u001b[39m)\n",
      "File \u001b[0;32m~/anaconda3/envs/proyecto_integrador/lib/python3.10/site-packages/numpy/lib/_datasource.py:192\u001b[0m, in \u001b[0;36mopen\u001b[0;34m(path, mode, destpath, encoding, newline)\u001b[0m\n\u001b[1;32m    155\u001b[0m \u001b[38;5;250m\u001b[39m\u001b[38;5;124;03m\"\"\"\u001b[39;00m\n\u001b[1;32m    156\u001b[0m \u001b[38;5;124;03mOpen `path` with `mode` and return the file object.\u001b[39;00m\n\u001b[1;32m    157\u001b[0m \n\u001b[0;32m   (...)\u001b[0m\n\u001b[1;32m    188\u001b[0m \n\u001b[1;32m    189\u001b[0m \u001b[38;5;124;03m\"\"\"\u001b[39;00m\n\u001b[1;32m    191\u001b[0m ds \u001b[38;5;241m=\u001b[39m DataSource(destpath)\n\u001b[0;32m--> 192\u001b[0m \u001b[38;5;28;01mreturn\u001b[39;00m \u001b[43mds\u001b[49m\u001b[38;5;241;43m.\u001b[39;49m\u001b[43mopen\u001b[49m\u001b[43m(\u001b[49m\u001b[43mpath\u001b[49m\u001b[43m,\u001b[49m\u001b[43m \u001b[49m\u001b[43mmode\u001b[49m\u001b[43m,\u001b[49m\u001b[43m \u001b[49m\u001b[43mencoding\u001b[49m\u001b[38;5;241;43m=\u001b[39;49m\u001b[43mencoding\u001b[49m\u001b[43m,\u001b[49m\u001b[43m \u001b[49m\u001b[43mnewline\u001b[49m\u001b[38;5;241;43m=\u001b[39;49m\u001b[43mnewline\u001b[49m\u001b[43m)\u001b[49m\n",
      "File \u001b[0;32m~/anaconda3/envs/proyecto_integrador/lib/python3.10/site-packages/numpy/lib/_datasource.py:529\u001b[0m, in \u001b[0;36mDataSource.open\u001b[0;34m(self, path, mode, encoding, newline)\u001b[0m\n\u001b[1;32m    526\u001b[0m     \u001b[38;5;28;01mreturn\u001b[39;00m _file_openers[ext](found, mode\u001b[38;5;241m=\u001b[39mmode,\n\u001b[1;32m    527\u001b[0m                               encoding\u001b[38;5;241m=\u001b[39mencoding, newline\u001b[38;5;241m=\u001b[39mnewline)\n\u001b[1;32m    528\u001b[0m \u001b[38;5;28;01melse\u001b[39;00m:\n\u001b[0;32m--> 529\u001b[0m     \u001b[38;5;28;01mraise\u001b[39;00m \u001b[38;5;167;01mFileNotFoundError\u001b[39;00m(\u001b[38;5;124mf\u001b[39m\u001b[38;5;124m\"\u001b[39m\u001b[38;5;132;01m{\u001b[39;00mpath\u001b[38;5;132;01m}\u001b[39;00m\u001b[38;5;124m not found.\u001b[39m\u001b[38;5;124m\"\u001b[39m)\n",
      "\u001b[0;31mFileNotFoundError\u001b[0m: ../RA6-Nucleo/spectra not found."
     ]
    }
   ],
   "source": [
    "energy, spectra_n, spectra_g = np.loadtxt(\"../RA6-Nucleo/spectra\", unpack=True)\n",
    "\n",
    "source_neutron = openmc.Source()\n",
    "source_neutron.space = openmc.stats.Box(\n",
    "    (-50 / 2.0, 0.0, -50 / 2), (50 / 2.0, 0.0, 50 / 2)\n",
    ")\n",
    "source_neutron.angle = openmc.stats.PolarAzimuthal(\n",
    "    # mu=openmc.stats.Uniform(1.0,cos(arctan(11.8/72.05))),\n",
    "    mu=openmc.stats.Uniform(0.0, 1.0),\n",
    "    phi=openmc.stats.Uniform(0.0, 2 * pi),\n",
    "    reference_uvw=[0, 1, 0],\n",
    ")\n",
    "source_neutron.energy = openmc.stats.Discrete(x=energy, p=spectra_n)\n",
    "\n",
    "source_photon = openmc.Source()\n",
    "source_photon.space = openmc.stats.Box(\n",
    "    (-50 / 2.0, 0.0, -50 / 2), (50 / 2.0, 0.0, 50 / 2)\n",
    ")\n",
    "source_photon.angle = openmc.stats.PolarAzimuthal(\n",
    "    mu=openmc.stats.Uniform(0.0, 1.0),\n",
    "    # mu=openmc.stats.Uniform(1.0,cos(arctan(11.8/72.05))),\n",
    "    phi=openmc.stats.Uniform(0.0, 2 * pi),\n",
    "    reference_uvw=[0, 1, 0],\n",
    ")\n",
    "source_photon.energy = openmc.stats.Discrete(x=energy, p=spectra_g)"
   ]
  },
  {
   "cell_type": "markdown",
   "metadata": {},
   "source": [
    "## KDSource CONVIERTO LA FUENTE DE MCPL EN H5"
   ]
  },
  {
   "cell_type": "code",
   "execution_count": null,
   "metadata": {},
   "outputs": [],
   "source": [
    "# Esta línea la saqué de Verification.ipynb para convertir el archivo de MCPL en H5\n",
    "import os\n",
    "import numpy as np\n",
    "import kdsource as kds\n",
    "import mcpl\n",
    "\n",
    "# surftrack_9504.mcpl.gz es dentro de la pileta\n",
    "# surftrack_5000.mcpl.gz es el que corresponde cuando empieza el conducto\n",
    "# surftrack.mcpl.gz son los dos tracks\n",
    "ssf = kds.SurfaceSourceFile(\n",
    "    \"/mnt/c/Users/Mariano/Documents/Laboral/CNEA_NEUTRONES/OpenMC/DN-RA-6/Ci5-N16-Delayed/surftrack_5000.mcpl.gz\"\n",
    ")  # , translation = [15, -115, 0], rotation = [0, 0, 0])\n",
    "ssf.save_source_file(\"/home/vissffin/RA-6/source_Ci5-N16-Del.h5\")"
   ]
  },
  {
   "cell_type": "markdown",
   "metadata": {},
   "source": [
    "## KDSource IMPORTO EL ARCHIVO Y LO IMPRIMO "
   ]
  },
  {
   "cell_type": "code",
   "execution_count": null,
   "metadata": {},
   "outputs": [],
   "source": [
    "with h5py.File(\"/home/vissffin/RA-6/source_Ci5-N16-Del.h5\") as source_file:\n",
    "    particles = source_file[\"source_bank\"][()]\n",
    "    print(particles)"
   ]
  },
  {
   "cell_type": "markdown",
   "metadata": {},
   "source": [
    "### Idem anterior pero sin KDSource, el problema es que abre el archivo y después no se puede sobreescribir"
   ]
  },
  {
   "cell_type": "code",
   "execution_count": null,
   "metadata": {},
   "outputs": [],
   "source": [
    "# source_file = h5py.File('/home/vissffin/RA-6/source_Ci5-N16-Del.h5')\n",
    "# particles = source_file['source_bank'][()]\n",
    "# np.set_printoptions(threshold=np.inf)\n",
    "# print(particles)"
   ]
  },
  {
   "cell_type": "markdown",
   "metadata": {},
   "source": [
    "## PLOT FUENTE "
   ]
  },
  {
   "cell_type": "markdown",
   "metadata": {},
   "source": [
    "### Espectro gammas"
   ]
  },
  {
   "cell_type": "code",
   "execution_count": null,
   "metadata": {},
   "outputs": [],
   "source": [
    "# filters es el rango de dominio, 2112 filtro PDG filtra neutrones, 22 filtra gamma[22,24]\n",
    "ssf.plot_distribution(\n",
    "    vars=[\"E\"],\n",
    "    bins=[100],\n",
    "    scales=[\"linear\", \"log\"],\n",
    "    norm_vars=[\"E\"],\n",
    "    filters={\"type\": [22, 24]},\n",
    ")\n",
    "plt.show()"
   ]
  },
  {
   "cell_type": "markdown",
   "metadata": {},
   "source": [
    "### Espectro neutrones"
   ]
  },
  {
   "cell_type": "code",
   "execution_count": null,
   "metadata": {},
   "outputs": [],
   "source": [
    "# filters es el rango de dominio, 2112 filtro PDG filtra neutrones, 22 filtra gamma[22,24]\n",
    "ssf.plot_distribution(\n",
    "    vars=[\"E\"],\n",
    "    bins=[100],\n",
    "    scales=[\"log\", \"log\"],\n",
    "    norm_vars=[\"E\"],\n",
    "    filters={\"type\": [2112, None]},\n",
    ")\n",
    "# vars puede ser una lista de hasta 2 variables\n",
    "plt.show()"
   ]
  },
  {
   "cell_type": "markdown",
   "metadata": {},
   "source": [
    "### Perfil neutrones"
   ]
  },
  {
   "cell_type": "code",
   "execution_count": null,
   "metadata": {
    "scrolled": true
   },
   "outputs": [],
   "source": [
    "# filters es el rango de dominio, 2112 filtro PDG filtra neutrones, 22 filtra gamma[22,24]\n",
    "ssf.plot_distribution(\n",
    "    vars=[\"x\", \"y\"],\n",
    "    bins=[50, 50],\n",
    "    scales=[\"linear\", \"linear\"],\n",
    "    norm_vars=[\"x\", \"y\"],\n",
    "    filters={\"type\": [2112, None]},\n",
    ")\n",
    "# xy es la superficie perpendicular a la dirección de propagación de los neutrones (z)"
   ]
  },
  {
   "cell_type": "markdown",
   "metadata": {},
   "source": [
    "## KDSource"
   ]
  },
  {
   "cell_type": "code",
   "execution_count": null,
   "metadata": {
    "scrolled": true
   },
   "outputs": [],
   "source": [
    "df = ssf.get_pandas_dataframe()\n",
    "df"
   ]
  },
  {
   "cell_type": "code",
   "execution_count": null,
   "metadata": {},
   "outputs": [],
   "source": [
    "print(geome)"
   ]
  },
  {
   "cell_type": "markdown",
   "metadata": {},
   "source": [
    "### Create KDSource"
   ]
  },
  {
   "cell_type": "code",
   "execution_count": null,
   "metadata": {},
   "outputs": [],
   "source": [
    "samples = \"/mnt/c/Users/Mariano/Documents/Laboral/CNEA_NEUTRONES/OpenMC/DN-RA-6/Ci5-N16-Delayed/surftrack_5000.mcpl.gz\"\n",
    "# PList: wrapper for MCPL file\n",
    "plist = kds.PList(samples)\n",
    "# Geometry: define metrics for variables\n",
    "E0 = 20\n",
    "# tuve que cambiar el nombre de la geometría de conducto 5 de OpenMC a \"geome\" porque si no hacía lío con este parámetro \"geom\" cuando quería correr OpenMC\n",
    "geom = kds.Geometry([kds.geom.Lethargy(E0), kds.geom.SurfXY(), kds.geom.Isotrop()])\n",
    "# Create KDSource\n",
    "s = kds.KDSource(plist, geom)"
   ]
  },
  {
   "cell_type": "code",
   "execution_count": null,
   "metadata": {},
   "outputs": [],
   "source": [
    "print(geom)"
   ]
  },
  {
   "cell_type": "markdown",
   "metadata": {},
   "source": [
    "### Optimize bandwidth"
   ]
  },
  {
   "cell_type": "code",
   "execution_count": null,
   "metadata": {},
   "outputs": [],
   "source": [
    "# Give a little more importance to energy\n",
    "var_importance = [10,1,1,1,1,1]\n",
    "\n",
    "\n",
    "#con este parametro puedo mejorar el \"ajuste\", por ejemplo para quela gaussiana tenga el mismo FWHM\n",
    "\n",
    "parts,ws = s.plist.get(N=-1)\n",
    "scaling = s.geom.std(parts=parts)\n",
    "scaling /= var_importance"
   ]
  },
  {
   "cell_type": "code",
   "execution_count": null,
   "metadata": {},
   "outputs": [],
   "source": [
    "# Number of particles to use for optimization.\n",
    "# A large number (1E5 or more) gives better bandwidths, but takes longer to\n",
    "# compute.\n",
    "N = 1E5\n"
   ]
  },
  {
   "cell_type": "code",
   "execution_count": null,
   "metadata": {},
   "outputs": [],
   "source": [
    "# Method 3: Adaptive Maximum Likelihood Cross-Validation:\n",
    "# Creates a grid of adaptive bandwidths and evaluates the\n",
    "# cross-validation scores on each one, which is an indicator of the\n",
    "# quality of the estimation. Selects the bandwidth that optimizes\n",
    "# CV score.\n",
    "# kNN is used to generate the seed adaptive bandwidth.\n",
    "\n",
    "# kNN bandwidth\n",
    "s.bw_method = \"knn\"\n",
    "batch_size = 10000 # Batch size for KNN search\n",
    "k = 10             # Numer of neighbors per batch\n",
    "s.fit(N, scaling=scaling, batch_size=batch_size, k=k)\n",
    "bw_knn = s.kde.bw\n",
    "\n",
    "# MLCV optimization of previously calculated kNN bandwidth\n",
    "s.bw_method = \"mlcv\"\n",
    "N_cv = int(1E4)   # Use a smaller N to reduce computation times\n",
    "seed = bw_knn[:N_cv] # Use kNN BW as seed (first N elements)\n",
    "grid = np.logspace(-0.5,-0.3,10)\n",
    "\n",
    "#si se queja, tengo que cambiar el grid del bandwith, el original era #np.logspace(-0.6,-0.4,10)\n",
    "\n",
    "\n",
    "\n",
    "s.fit(N_cv, scaling=scaling, seed=seed, grid=grid)\n",
    "bw_cv = s.kde.bw\n",
    "\n",
    "# Extend MLCV optimization to full KNN BW\n",
    "bw_knn_cv = bw_knn * bw_cv[0]/bw_knn[0] # Apply MLCV factor\n",
    "dim = s.geom.dim\n",
    "bw_knn_cv *= kds.kde.bw_silv(dim,len(bw_knn))/kds.kde.bw_silv(dim,len(bw_cv)) # Apply Silverman factor\n",
    "s = kds.KDSource(plist, geom, bw=bw_knn_cv) # Create new KDSource with full BW\n",
    "s.fit(N=N, scaling=scaling)"
   ]
  },
  {
   "cell_type": "markdown",
   "metadata": {},
   "source": [
    "### Resample"
   ]
  },
  {
   "cell_type": "code",
   "execution_count": null,
   "metadata": {},
   "outputs": [],
   "source": [
    "xmlfile = \"source.xml\"\n",
    "s.save(xmlfile) # Save KDSource to XML file\n",
    "\n",
    "N_resampled = 1E6 # Number of particles to generate with virtual KDE source\n",
    "if os.name == 'posix':\n",
    "    !kdtool resample \"$xmlfile\" -o \"resampled\" -n $N_resampled\n",
    "if os.name == 'nt': # kdtool still not implemented in Windows\n",
    "    !kdtool-resample \"$xmlfile\" -o \"resampled\" -n $N_resampled\n",
    "resampled = \"resampled.mcpl.gz\""
   ]
  },
  {
   "cell_type": "markdown",
   "metadata": {},
   "source": [
    "### Importo el nuevo archivo resampleado y lo convierto a h5 para usarlo después con OpenMC"
   ]
  },
  {
   "cell_type": "code",
   "execution_count": null,
   "metadata": {},
   "outputs": [],
   "source": [
    "ssf2 = kds.SurfaceSourceFile('resampled.mcpl.gz')\n",
    "ssf2.save_source_file('resampled.h5')"
   ]
  },
  {
   "cell_type": "markdown",
   "metadata": {},
   "source": [
    "### Defino dominio y filtros"
   ]
  },
  {
   "cell_type": "code",
   "execution_count": null,
   "metadata": {},
   "outputs": [],
   "source": [
    "#ssf.get_domain(['x', 'y', 'z', 'u', 'v', 'w', 'E'])\n",
    "dom1=ssf.get_domain(['x', 'y', 'u', 'v', 'w', 'E'])\n",
    "dom1[\"type\"] = [2112, None]\n",
    "print(dom1)"
   ]
  },
  {
   "cell_type": "markdown",
   "metadata": {},
   "source": [
    "### Defino la constante de normalización"
   ]
  },
  {
   "cell_type": "code",
   "execution_count": null,
   "metadata": {},
   "outputs": [],
   "source": [
    "j1 = ssf.get_distribution(['E'], [10], total=True, filters=dom1)[0]\n",
    "j2 = ssf2.get_distribution(['E'], [10], total=True, filters=dom1)[0]\n",
    "from uncertainties import unumpy\n",
    "unumpy.nominal_values(j1/j2) #tomo sólo la magnitud sin su incerteza"
   ]
  },
  {
   "cell_type": "markdown",
   "metadata": {},
   "source": [
    "### Guardo un nuevo archivo con la fuente resampleada y limitada en energía para no tener problemas al correr OpenMC con las bibliotecas de secciones eficaces"
   ]
  },
  {
   "cell_type": "code",
   "execution_count": null,
   "metadata": {},
   "outputs": [],
   "source": [
    "ssf3 = kds.SurfaceSourceFile('resampled.mcpl.gz', domain={'E':[0, 20], 'type':[2112, 2113]})#esta es la línea que me pasó Norberto\n",
    "#ssf3 = kds.SurfaceSourceFile('resampled.mcpl.gz', domain={'E':[1.19E-9, 10.92], 'type':[2112, None]})#esta tendría que ser si usamos el domain que plotee\n",
    "ssf3.save_source_file('resampled_domain.h5')"
   ]
  },
  {
   "cell_type": "markdown",
   "metadata": {},
   "source": [
    "### Ploteo la versión original, la resampleada y la resampleada y normalizada"
   ]
  },
  {
   "cell_type": "code",
   "execution_count": null,
   "metadata": {},
   "outputs": [],
   "source": [
    "ssf.plot_distribution(vars=[\"E\"], bins=[100], scales=[\"log\", \"log\"], norm_vars=[\"E\"], filters=dom1)#original\n",
    "ssf2.plot_distribution(vars=[\"E\"], bins=[100], scales=[\"log\", \"log\"], norm_vars=[\"E\"], filters={\"type\":[2112,None]},factor=1)#resampleada\n",
    "ssf2.plot_distribution(vars=[\"E\"], bins=[100], scales=[\"log\", \"log\"], norm_vars=[\"E\"], filters=dom1)#resampleada y recortada en energía, x, y, etc\n",
    "ssf2.plot_distribution(vars=[\"E\"], bins=[100], scales=[\"log\", \"log\"], norm_vars=[\"E\"], filters=dom1,factor=unumpy.nominal_values(j1/j2))#resampleada y recortada en energía, x, y y normalizada"
   ]
  },
  {
   "cell_type": "markdown",
   "metadata": {},
   "source": [
    "## RUN"
   ]
  },
  {
   "cell_type": "code",
   "execution_count": null,
   "metadata": {},
   "outputs": [],
   "source": [
    "#import h5py\n",
    "settings = openmc.Settings()\n",
    "settings.run_mode='fixed source'\n",
    "# settings.trace = (1,1,5256)\n",
    "# settings.source = [source_neutron,source_photon]\n",
    "#settings.source=openmc.Source(filename='/home/vissffin/RA-6/source_Ci5-N16-Del.h5')# me tira una advertencia y un error, no reconocer el argumento \"filename\"\n",
    "#settings.source=openmc.IndependentSource(filename='/home/vissffin/RA-6/source_Ci5-N16-Del.h5')#en teoría este módulo es más nuevo que Source, igualmente tira el mismo error\n",
    "#settings.particles = len(h5py.File('/home/vissffin/RA-6/source_Ci5-N16-Del.h5','r')['source_bank'].value)\n",
    "\n",
    "#Fuente Original\n",
    "#settings.source=openmc.FileSource(path='/home/vissffin/RA-6/source_Ci5-N16-Del.h5')#esto parece según el manual la forma de usar una fuente externa\n",
    "#settings.particles = len(h5py.File('/home/vissffin/RA-6/source_Ci5-N16-Del.h5','r')['source_bank'])#le saqué el value para ver si funciona\n",
    "\n",
    "#Fuente resampleada con KDSource\n",
    "settings.source=openmc.FileSource('resampled_domain.h5')\n",
    "settings.particles = len(h5py.File('resampled_domain.h5','r')['source_bank'])#le saqué el value para ver si funciona\n",
    "print(len(h5py.File('resampled_domain.h5','r')['source_bank']))\n",
    "#settings.source=openmc.FileSource('resampled.h5', domains = {'energy_bounds': [1.0e-3, 1.0e6]})#esto parece según el manual la forma de usar una fuente externa y seleccionar un rango de energías, pero no funciona porque es para la version 0.15.0 de OpenMC y esta es la 0.14.0\n",
    "\n",
    "\n",
    "settings.batches = 2# no tiene sentido repetir el batch porque estamos usando siempre el mismo track y los neutrones que salen por el conducto no ven ningun material\n",
    "#ergo van a ser iguales y los unicos que cambian van a ser los que chocan contra las paredes, eso va a hacer que haya mucho ruido estadistico, pero los neutrones que salen son todos los mismos\n",
    "settings.inactive = 0\n",
    "settings.survival_biasing=True\n",
    "settings.photon_transport=True\n",
    "#settings.statepoint={'batches':np.linspace(200,2000,10,dtype=int)}#*int(206700/2000)}\n",
    "settings.output={'tallies':True,'summary':True}\n",
    "settings.sourcepoint={'write':True}\n",
    "#settings.statepoint = {'batches': range(10, 100, 10)}\n",
    "settings.export_to_xml()\n",
    "\n",
    "#!openmc -g\n",
    "#openmc.run()#lo puedo correr descomentando esto pero después no sé como leer el output\n",
    "#!/home/norberto/openmc/build-debug/bin/openmc\n",
    "#!/home/norberto/openmc-surftrack/build-openmc-Desktop-Default/bin/openmc -g\n",
    "model = openmc.Model(geome, mats, settings, tallies)\n",
    "sp_filename = model.run()"
   ]
  },
  {
   "cell_type": "markdown",
   "metadata": {},
   "source": [
    "### Ploteo el tally dentro del colimador"
   ]
  },
  {
   "cell_type": "code",
   "execution_count": null,
   "metadata": {},
   "outputs": [],
   "source": [
    "#with openmc.StatePoint('statepoint.100.h5') as sp:\n",
    "with openmc.StatePoint(sp_filename) as sp:\n",
    "    energy_data = sp.get_tally(name=\"spectra_neutron\")\n",
    " \n",
    "df = energy_data.get_pandas_dataframe(nuclides=False)\n",
    "#print(df)\n",
    "df.columns=['Emin','Emax','x','y','z','surf','particle','score','mean','stdv']\n",
    "#df.columns=['Emin','Emax','x','y','z','surf','particle','score','mean'] \n",
    "\n",
    "#print(df)\n",
    "#df.to_csv('OpenMC_RA-6_C5_N16_espectro_neutrones.csv')\n",
    "#display(df.to_string())\n",
    "\n",
    "#df=df[df['surf']=='x-max in']#no entiendo que superficie es esta, pareciera una pared lateral del tally dentor del colimador\n",
    "df=df[df['surf']=='z-max out']#esta debería ser la cara exterior de ese mismo tally\n",
    "#print(df)\n",
    "df.to_csv('OpenMC_RA-6_C5_N16_Con_Bi_espectro_neutrones.csv', sep=',', columns = [\"Emin\",\"Emax\",\"mean\",\"stdv\"], index=False, encoding='utf-8')#exporta un CSV con el espectro a la salida del conducto pasante N5, antes del shutter de plomo\n",
    "df.plot(x=\"Emin\", y=\"mean\",style='r.-',logx=True, logy=False, label= 'z surface')#, ylim=[1E-10,10e0]\n",
    "plt.legend()\n",
    "plt.title('Tally inside collimator z face')\n",
    "plt.xlabel('E (eV)')\n",
    "plt.ylabel('I (ua)')\n",
    "plt.axvline(x = 0.05, color = 'black')\n",
    "plt.xlim(1e-3, 2e7)\n",
    "plt.show()"
   ]
  },
  {
   "cell_type": "markdown",
   "metadata": {},
   "source": [
    "### Ploteo el tally que puse a la salida del colimador, en la última celda"
   ]
  },
  {
   "cell_type": "code",
   "execution_count": null,
   "metadata": {},
   "outputs": [],
   "source": [
    "with openmc.StatePoint(sp_filename) as sp:\n",
    "    energy_data = sp.get_tally(name=\"energy_detector_tally\")\n",
    "  \n",
    "df = energy_data.get_pandas_dataframe(nuclides=False)\n",
    "#print(df)\n",
    "#df.to_csv('E_det_'+ config +'.csv', sep=',', index=False, encoding='utf-8') \n",
    "df.columns=['Emin','Emax','cell','particle','score','mean','stdv']\n",
    "#df.plot(x=\"Emin\", y=\"mean\",style='r.-',logx=True, logy=False, ylim=[1E-10,1e-1])\n",
    "df.plot(x=\"Emin\", y=\"mean\",style='r.-',logx=True, logy=False, label= 'Flux cell7039')\n",
    "plt.legend()\n",
    "plt.title('Flux collimator exit')\n",
    "plt.xlabel('E (eV)')\n",
    "plt.ylabel('I (ua)')\n",
    "plt.xlim(1e-3, 2e7)\n",
    "plt.show()"
   ]
  },
  {
   "cell_type": "markdown",
   "metadata": {},
   "source": [
    "### Ploteo el detector de 3He"
   ]
  },
  {
   "cell_type": "code",
   "execution_count": null,
   "metadata": {},
   "outputs": [],
   "source": [
    " \n",
    " \n",
    "#with openmc.StatePoint('statepoint.100.h5') as sp:\n",
    "with openmc.StatePoint(sp_filename) as sp:\n",
    "    energy_data = sp.get_tally(name=\"detector_neutron\")\n",
    " \n",
    "df = energy_data.get_pandas_dataframe(nuclides=False)\n",
    "#print(df)\n",
    "\n",
    "#df.columns=['Emin','Emax','x','y','z','surf','particle','score','mean','stdv']\n",
    "df.columns=['Emin','Emax','cell','particle','score','mean','stdv'] \n",
    "#print(df)\n",
    "#display(df.to_string())\n",
    "\n",
    "#df=df[df['surf']=='x-max in']\n",
    "#df.to_csv('E_source.csv', sep=',', index=False, encoding='utf-8') \n",
    "df.plot(x=\"Emin\", y=\"mean\",style='r.-',logx=True, logy=False, label= 'Absorption cell8900')#, ylim=[1E-10,10e0]\n",
    "plt.legend()\n",
    "plt.title('Absorption 3He detector')\n",
    "plt.xlabel('E (eV)')\n",
    "plt.ylabel('I (ua)')\n",
    "plt.show()"
   ]
  }
 ],
 "metadata": {
  "celltoolbar": "Raw Cell Format",
  "kernelspec": {
   "display_name": "proyecto_integrador",
   "language": "python",
   "name": "python3"
  },
  "language_info": {
   "codemirror_mode": {
    "name": "ipython",
    "version": 3
   },
   "file_extension": ".py",
   "mimetype": "text/x-python",
   "name": "python",
   "nbconvert_exporter": "python",
   "pygments_lexer": "ipython3",
   "version": "3.10.16"
  }
 },
 "nbformat": 4,
 "nbformat_minor": 4
}
