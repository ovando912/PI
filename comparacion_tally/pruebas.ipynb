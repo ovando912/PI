{
 "cells": [
  {
   "cell_type": "code",
   "execution_count": 35,
   "metadata": {},
   "outputs": [
    {
     "name": "stdout",
     "output_type": "stream",
     "text": [
      "[3, 1, 2, 2]\n"
     ]
    }
   ],
   "source": [
    "import numpy as np\n",
    "import matplotlib.pyplot as plt\n",
    "import math\n",
    "macro_edges_aux = [-7,-1,1,7]\n",
    "macro_edges_width = np.diff(macro_edges_aux)\n",
    "macro_edges_width = macro_edges_width / macro_edges_width.sum() * 10\n",
    "macro_edges_width = np.array([math.ceil(x) for x in macro_edges_width])\n",
    "print(macro_edges_width)\n",
    "macro_edges = []\n",
    "for i in range(len(macro_edges_aux) - 1):\n",
    "    start = macro_edges_aux[i]\n",
    "    end = macro_edges_aux[i + 1]\n",
    "    # Genera los puntos del segmento.\n",
    "    seg = np.linspace(start, end, macro_edges_width[i]+2)\n",
    "    # Si no es el primer segmento, se omite el primer valor para evitar duplicados.\n",
    "    if i > 0:\n",
    "        seg = seg[1:]\n",
    "    macro_edges.append(seg)\n",
    "\n",
    "# Concatena todos los segmentos en un solo array\n",
    "macro_edges = np.concatenate(macro_edges)\n",
    "print(macro_edges)\n",
    "print(np.linspace(0,1,3))\n"
   ]
  }
 ],
 "metadata": {
  "kernelspec": {
   "display_name": "openmc_develop",
   "language": "python",
   "name": "python3"
  },
  "language_info": {
   "codemirror_mode": {
    "name": "ipython",
    "version": 3
   },
   "file_extension": ".py",
   "mimetype": "text/x-python",
   "name": "python",
   "nbconvert_exporter": "python",
   "pygments_lexer": "ipython3",
   "version": "3.10.14"
  }
 },
 "nbformat": 4,
 "nbformat_minor": 2
}
