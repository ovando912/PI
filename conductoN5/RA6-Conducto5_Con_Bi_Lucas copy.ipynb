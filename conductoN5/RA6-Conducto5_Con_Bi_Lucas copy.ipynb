{
 "cells": [
  {
   "cell_type": "markdown",
   "metadata": {},
   "source": [
    "# MODELO CONDUCTO N5 (CHOPPER) ==> fuente externa"
   ]
  },
  {
   "cell_type": "code",
   "execution_count": 1,
   "metadata": {},
   "outputs": [],
   "source": [
    "# %pylab inline\n",
    "# %matplotlib inline\n",
    "from math import pi, sin, cos\n",
    "import numpy as np\n",
    "import openmc\n",
    "import h5py\n",
    "import matplotlib.pyplot as plt"
   ]
  },
  {
   "cell_type": "markdown",
   "metadata": {},
   "source": [
    "## FLAGS"
   ]
  },
  {
   "cell_type": "code",
   "execution_count": 2,
   "metadata": {},
   "outputs": [],
   "source": [
    "plots = True\n",
    "plot_inline = True\n",
    "BLOQUEADO = False  # En True el colimador es macizo\n",
    "BISMUTO = True  # filtro de Bismuto\n",
    "BEAMCATCHER = \"NEW\"\n",
    "SHIELDING = True\n",
    "SLITS = False  # slit de Cd que reproduce la apertura del chopper\n",
    "ALBOX = True"
   ]
  },
  {
   "cell_type": "markdown",
   "metadata": {},
   "source": [
    "## MATERIALES"
   ]
  },
  {
   "cell_type": "markdown",
   "metadata": {},
   "source": [
    "### DEFINICION DE MATERIALES"
   ]
  },
  {
   "cell_type": "code",
   "execution_count": 3,
   "metadata": {},
   "outputs": [],
   "source": [
    "# Combustible nuclear (dispersión de U3Si2 en aluminio)\n",
    "Meat = openmc.Material(1, \"Meat\")\n",
    "Meat.add_nuclide(\"U234\", 1.7680e-05)\n",
    "Meat.add_nuclide(\"U235\", 2.4170e-03)\n",
    "Meat.add_nuclide(\"U236\", 1.3635e-05)\n",
    "Meat.add_nuclide(\"U238\", 9.6538e-03)\n",
    "Meat.add_nuclide(\"Si28\", 7.7125e-03)\n",
    "Meat.add_nuclide(\"Si29\", 3.9160e-04)\n",
    "Meat.add_nuclide(\"Si30\", 2.5814e-04)\n",
    "Meat.add_nuclide(\"Al27\", 3.0451e-02)\n",
    "Meat.add_nuclide(\"B10\", 3.8206e-07)\n",
    "Meat.add_nuclide(\"B11\", 1.5476e-06)\n",
    "Meat.set_density(\"atom/b-cm\", 5.0917e-02)\n",
    "\n",
    "# Aleación de Aluminio 6061\n",
    "Al6061 = openmc.Material(2, \"Al6061\")\n",
    "Al6061.add_nuclide(\"Al27\", 5.8811e-02)\n",
    "Al6061.add_nuclide(\"Cu63\", 4.6017e-05)\n",
    "Al6061.add_nuclide(\"Cu65\", 2.0510e-05)\n",
    "Al6061.add_nuclide(\"Cr50\", 1.4946e-06)\n",
    "Al6061.add_nuclide(\"Cr52\", 2.8822e-05)\n",
    "Al6061.add_nuclide(\"Cr53\", 3.2682e-06)\n",
    "Al6061.add_nuclide(\"Cr54\", 8.1352e-07)\n",
    "Al6061.add_nuclide(\"Mg24\", 6.6229e-4 * 0.7899)\n",
    "Al6061.add_nuclide(\"Mg25\", 6.6229e-4 * 0.1)\n",
    "Al6061.add_nuclide(\"Mg26\", 6.6229e-4 * 0.1101)\n",
    "Al6061.add_nuclide(\"Si28\", 3.5775e-04)\n",
    "Al6061.add_nuclide(\"Si29\", 1.8165e-05)\n",
    "Al6061.add_nuclide(\"Si30\", 1.1974e-05)\n",
    "Al6061.add_nuclide(\"Fe54\", 4.5947e-06)\n",
    "Al6061.add_nuclide(\"Fe56\", 7.2127e-05)\n",
    "Al6061.add_nuclide(\"Fe57\", 1.6657e-06)\n",
    "Al6061.add_nuclide(\"Fe58\", 2.2168e-07)\n",
    "Al6061.add_nuclide(\"Mn55\", 2.6637e-05)\n",
    "Al6061.add_nuclide(\"Ti46\", 3.3959e-06 * 0.0825)\n",
    "Al6061.add_nuclide(\"Ti47\", 3.3959e-06 * 0.0744)\n",
    "Al6061.add_nuclide(\"Ti48\", 3.3959e-06 * 0.7372)\n",
    "Al6061.add_nuclide(\"Ti49\", 3.3959e-06 * 0.0541)\n",
    "Al6061.add_nuclide(\"Ti50\", 3.3959e-06 * 0.0518)\n",
    "Al6061.add_nuclide(\"B10\", 2.9779e-07)\n",
    "Al6061.add_nuclide(\"B11\", 1.2062e-06)\n",
    "Al6061.add_nuclide(\"Cd106\", 9.0404e-10)\n",
    "Al6061.add_nuclide(\"Cd108\", 6.4368e-10)\n",
    "Al6061.add_nuclide(\"Cd110\", 9.0332e-09)\n",
    "Al6061.add_nuclide(\"Cd111\", 9.2574e-09)\n",
    "Al6061.add_nuclide(\"Cd112\", 1.7452e-08)\n",
    "Al6061.add_nuclide(\"Cd113\", 8.8379e-09)\n",
    "Al6061.add_nuclide(\"Cd114\", 2.0778e-08)\n",
    "Al6061.add_nuclide(\"Cd116\", 5.4170e-09)\n",
    "Al6061.add_nuclide(\"Co59\", 1.6554e-06)\n",
    "Al6061.add_nuclide(\"Li6\", 1.7780e-08)\n",
    "Al6061.add_nuclide(\"Li7\", 2.1648e-07)\n",
    "Al6061.set_density(\"atom/b-cm\", 6.0075e-02)\n",
    "\n",
    "# Material de barras de control (Aleación de Plata, Indio y Cadmio)\n",
    "AgInCd = openmc.Material(3, \"AgInCd\")\n",
    "AgInCd.add_nuclide(\"Ag107\", 2.3517e-02)\n",
    "AgInCd.add_nuclide(\"Ag109\", 2.1848e-02)\n",
    "AgInCd.add_nuclide(\"In113\", 7.9476e-03)\n",
    "AgInCd.add_nuclide(\"Cd106\", 3.5414e-05)\n",
    "AgInCd.add_nuclide(\"Cd108\", 2.5215e-05)\n",
    "AgInCd.add_nuclide(\"Cd110\", 3.5386e-04)\n",
    "AgInCd.add_nuclide(\"Cd111\", 3.6264e-04)\n",
    "AgInCd.add_nuclide(\"Cd112\", 6.8364e-04)\n",
    "AgInCd.add_nuclide(\"Cd113\", 3.4621e-04)\n",
    "AgInCd.add_nuclide(\"Cd114\", 8.1396e-04)\n",
    "AgInCd.add_nuclide(\"Cd116\", 2.1220e-04)\n",
    "AgInCd.set_density(\"atom/b-cm\", 5.6146e-02)\n",
    "\n",
    "# Acero inoxidable tipo 304L\n",
    "SS304L = openmc.Material(4, \"SS304L\")\n",
    "SS304L.add_nuclide(\"C12\", 6.0091e-05)\n",
    "SS304L.add_nuclide(\"Mn55\", 8.7583e-04)\n",
    "SS304L.add_nuclide(\"Si28\", 5.9254e-04)\n",
    "SS304L.add_nuclide(\"Si29\", 3.0086e-05)\n",
    "SS304L.add_nuclide(\"Si30\", 1.9833e-05)\n",
    "SS304L.add_nuclide(\"Cr50\", 7.6396e-04)\n",
    "SS304L.add_nuclide(\"Cr52\", 1.4732e-02)\n",
    "SS304L.add_nuclide(\"Cr53\", 1.6705e-03)\n",
    "SS304L.add_nuclide(\"Cr54\", 4.1582e-04)\n",
    "SS304L.add_nuclide(\"Ni58\", 5.5812e-03)\n",
    "SS304L.add_nuclide(\"Ni60\", 2.1499e-03)\n",
    "SS304L.add_nuclide(\"Ni61\", 9.3462e-05)\n",
    "SS304L.add_nuclide(\"Ni62\", 2.9793e-04)\n",
    "SS304L.add_nuclide(\"Ni64\", 7.5917e-05)\n",
    "SS304L.add_nuclide(\"Fe54\", 3.5011e-03)\n",
    "SS304L.add_nuclide(\"Fe56\", 5.4960e-02)\n",
    "SS304L.add_nuclide(\"Fe57\", 1.2693e-03)\n",
    "SS304L.add_nuclide(\"Fe58\", 1.6892e-04)\n",
    "SS304L.add_nuclide(\"S32\", 2.1340e-05)\n",
    "SS304L.add_nuclide(\"S33\", 1.7104e-07)\n",
    "SS304L.add_nuclide(\"S34\", 9.6546e-07)\n",
    "SS304L.add_nuclide(\"S36\", 4.5010e-08)\n",
    "SS304L.add_nuclide(\"P31\", 3.4953e-05)\n",
    "SS304L.add_nuclide(\"N14\", 1.7113e-04)\n",
    "SS304L.add_nuclide(\"N15\", 6.2865e-07)\n",
    "SS304L.set_density(\"atom/b-cm\", 8.7488e-02)\n",
    "\n",
    "# Agua liviana - Moderador y refrigerante\n",
    "H2O = openmc.Material(5, \"H2O\")\n",
    "H2O.add_nuclide(\"H1\", 6.6765e-02)\n",
    "H2O.add_nuclide(\"O16\", 3.3338e-02)\n",
    "H2O.add_s_alpha_beta(\"c_H_in_H2O\")\n",
    "H2O.set_density(\"atom/b-cm\", 1.0001e-01)\n",
    "\n",
    "# Cadmio - Material absorbente usado en colimadores y \"slits\"\n",
    "Cadmium = openmc.Material(6, \"Cadmium\")\n",
    "Cadmium.add_nuclide(\"Cd106\", 0.0125, \"wo\")\n",
    "Cadmium.add_nuclide(\"Cd108\", 0.0089, \"wo\")\n",
    "Cadmium.add_nuclide(\"Cd110\", 0.1249, \"wo\")\n",
    "Cadmium.add_nuclide(\"Cd111\", 0.1280, \"wo\")\n",
    "Cadmium.add_nuclide(\"Cd112\", 0.2413, \"wo\")\n",
    "Cadmium.add_nuclide(\"Cd113\", 0.1222, \"wo\")\n",
    "Cadmium.add_nuclide(\"Cd114\", 0.2873, \"wo\")\n",
    "Cadmium.add_nuclide(\"Cd116\", 0.0749, \"wo\")\n",
    "Cadmium.set_density(\"atom/b-cm\", 4.6340e-02)\n",
    "\n",
    "# Aluminio puro\n",
    "Aluminum = openmc.Material(7, \"Aluminum\")\n",
    "Aluminum.add_nuclide(\"Al27\", 6.0262e-02)\n",
    "Aluminum.set_density(\"atom/b-cm\", 6.0262e-02)\n",
    "\n",
    "# Alúmina (óxido de aluminio) \n",
    "Alumina = openmc.Material(8, \"Alumina\")\n",
    "Alumina.add_nuclide(\"Al27\", 4.6778e-02)\n",
    "Alumina.add_nuclide(\"O16\", 7.0166e-02)\n",
    "Alumina.set_density(\"atom/b-cm\", 1.1694e-01)\n",
    "\n",
    "# Grafito\n",
    "Graphite = openmc.Material(9, \"Graphite\")\n",
    "Graphite.add_nuclide(\"C12\", 9.3758e-02)\n",
    "Graphite.set_density(\"atom/b-cm\", 9.3758e-02)\n",
    "\n",
    "# Aire - rellenado de espacios no materiales\n",
    "Air = openmc.Material(10, \"Air\")\n",
    "Air.add_nuclide(\"O16\", 1.0503e-05)\n",
    "Air.add_nuclide(\"N14\", 3.9094e-05)\n",
    "Air.set_density(\"atom/b-cm\", 4.95970723e-05)\n",
    "\n",
    "# Acero inoxidable 316L\n",
    "SS316L = openmc.Material(11, \"SS316L\")\n",
    "SS316L.add_nuclide(\"C12\", 0.001384, \"ao\")\n",
    "SS316L.add_element(\"Si\", 0.019722, \"ao\")\n",
    "SS316L.add_element(\"P\", 0.000805, \"ao\")\n",
    "SS316L.add_element(\"S\", 0.000518, \"ao\")\n",
    "SS316L.add_element(\"Cr\", 0.181098, \"ao\")\n",
    "SS316L.add_element(\"Mn\", 0.020165, \"ao\")\n",
    "SS316L.add_element(\"Fe\", 0.648628, \"ao\")\n",
    "SS316L.add_element(\"Ni\", 0.113247, \"ao\")\n",
    "SS316L.add_element(\"Mo\", 0.014434, \"ao\")\n",
    "SS316L.set_density(\"g/cm3\", 8.0)\n",
    "\n",
    "# Concreto\n",
    "Concrete = openmc.Material(12, \"Concrete\")\n",
    "Concrete.add_nuclide(\"H1\", 0.086069, \"ao\")\n",
    "Concrete.add_nuclide(\"O16\", 0.314488, \"ao\")\n",
    "Concrete.add_element(\"Mg\", 0.005516, \"ao\")\n",
    "Concrete.add_element(\"Al\", 0.014030, \"ao\")\n",
    "Concrete.add_element(\"Si\", 0.020499, \"ao\")\n",
    "Concrete.add_element(\"Ca\", 0.050769, \"ao\")\n",
    "Concrete.add_element(\"Ti\", 0.012192, \"ao\")\n",
    "Concrete.add_element(\"V\", 0.000464, \"ao\")\n",
    "Concrete.add_element(\"Fe\", 0.495972, \"ao\")\n",
    "Concrete.set_density(\"g/cm3\", 4.64)\n",
    "\n",
    "# Plomo\n",
    "Lead = openmc.Material(13, \"Lead\")\n",
    "Lead.add_element(\"Pb\", 1.0, \"wo\")\n",
    "Lead.set_density(\"g/cm3\", 11.35)\n",
    "\n",
    "# Polímero borado\n",
    "Polyborated = openmc.Material(14, \"Polyborated\")\n",
    "Polyborated.add_nuclide(\"H1\", 0.627759, \"ao\")\n",
    "Polyborated.add_element(\"B\", 0.046690, \"ao\")\n",
    "Polyborated.add_nuclide(\"C12\", 0.325552, \"ao\")\n",
    "Polyborated.set_density(\"g/cm3\", 1)\n",
    "\n",
    "# Helio-3 - gas detector\n",
    "pressure = 10  # bars\n",
    "# densité du gaz @1bar 22° = 1.206E-4 g/cm3\n",
    "He3 = openmc.Material(15, \"Helium3\")\n",
    "He3.add_nuclide(\"He3\", 1.0)\n",
    "He3.set_density(\"g/cm3\", 1.206e-4 * pressure)\n",
    "\n",
    "# Bismuto - material filtrante para atenuar neutrones rápidos\n",
    "Bi = openmc.Material(16, \"Bismuth\")\n",
    "Bi.add_element(\"Bi\", 1.0, \"wo\")\n",
    "Bi.set_density(\"g/cm3\", 9.8)  # revisar"
   ]
  },
  {
   "cell_type": "markdown",
   "metadata": {},
   "source": [
    "### Colores\n",
    "Este bloque intenta agregar colores a todos los materiales posibles si fueron definidos previamente.\n",
    "Si alguno no fue creado (por ejemplo, en modelos reducidos), simplemente se omite."
   ]
  },
  {
   "cell_type": "code",
   "execution_count": 4,
   "metadata": {},
   "outputs": [],
   "source": [
    "# materials_colors={Meat:'red',Al6061:'silver',AgInCd:'black',SS304L:'grey',H2O:'lightblue',Cadmium:'black',\n",
    "#                   Aluminum:'silver',Alumina:'silver',Graphite:'yellow',SS316L:'gray',Concrete:'orange',\n",
    "#                   Lead:'black',Polyborated:'coral',Air:'white'}\n",
    "# materials_colors = {\n",
    "#     Al6061: \"silver\",\n",
    "#     SS316L: \"gray\",\n",
    "#     Concrete: \"lightgrey\",\n",
    "#     Lead: \"black\",\n",
    "#     Polyborated: \"coral\",\n",
    "#     Air: \"white\",\n",
    "#     Cadmium: \"red\",\n",
    "#     He3: \"yellow\",\n",
    "#     Bi: \"blue\",\n",
    "# }\n",
    "\n",
    "# Este bloque intenta agregar colores a todos los materiales posibles si fueron definidos previamente.\n",
    "# Si alguno no fue creado (por ejemplo, en modelos reducidos), simplemente se omite.\n",
    "\n",
    "materials_colors = {}\n",
    "\n",
    "# Lista de posibles pares (material, color)\n",
    "material_color_pairs = [\n",
    "    (\"Meat\", \"red\"),\n",
    "    (\"Al6061\", \"silver\"), # Porque esto esta antes del colimador? y porque hay un gap?\n",
    "    (\"AgInCd\", \"black\"),\n",
    "    (\"SS304L\", \"grey\"),\n",
    "    (\"SS316L\", \"gray\"),\n",
    "    (\"H2O\", \"lightblue\"),\n",
    "    (\"Cadmium\", \"black\"),\n",
    "    (\"Aluminum\", \"silver\"),\n",
    "    (\"Alumina\", \"silver\"),\n",
    "    (\"Graphite\", \"yellow\"),\n",
    "    (\"Concrete\", \"orange\"),\n",
    "    (\"Lead\", \"black\"),\n",
    "    (\"Polyborated\", \"coral\"),\n",
    "    (\"Air\", \"white\"),\n",
    "    (\"He3\", \"yellow\"),\n",
    "    (\"Bi\", \"blue\"),\n",
    "]\n",
    "\n",
    "# Usamos eval de forma controlada para construir el diccionario sin romper si falta alguna variable\n",
    "for mat_name, color in material_color_pairs:\n",
    "    try:\n",
    "        mat_obj = eval(mat_name)\n",
    "        materials_colors[mat_obj] = color\n",
    "    except NameError:\n",
    "        pass  # El material no está definido en este modelo"
   ]
  },
  {
   "cell_type": "markdown",
   "metadata": {},
   "source": [
    "## GEOMETRÍA GENERAL"
   ]
  },
  {
   "cell_type": "code",
   "execution_count": 5,
   "metadata": {},
   "outputs": [
    {
     "data": {
      "text/plain": [
       "(98.4151,\n",
       " 112.1151,\n",
       " 166.1151,\n",
       " 113.71509999999999,\n",
       " 166.1151,\n",
       " 114.71509999999999,\n",
       " 164.7151)"
      ]
     },
     "execution_count": 5,
     "metadata": {},
     "output_type": "execute_result"
    }
   ],
   "source": [
    "# --- Conducto pasante (más cercano al núcleo, sumergido en la pileta) ---\n",
    "R4int = 10.226 / 2  # radio interno primera sección del conducto pasante N5\n",
    "R4ext = 11.43 / 2  # radio externo primera sección del conducto pasante N5\n",
    "L4int = 0.0  # inicio del conducto no pasante N5 (limite pileta del reactor)\n",
    "L4ext = (\n",
    "    L4int + 98.4151\n",
    ")  # final del primer tramo del conducto no pasante N5. Largo total: 68.6+30.75 cm\n",
    "\n",
    "# --- Conducto externo (pasante fuera del blindaje interno) ---\n",
    "R6int = 15.406 / 2  # radio interno segunda sección del conducto pasante N5\n",
    "R6ext = 16.828 / 2  # radio externo segunda sección del conducto pasante N5\n",
    "L6int = (\n",
    "    L4ext + 13.7\n",
    ")  # Separación entre secciones internas y externas (~espacio muerto?)\n",
    "L6ext = (\n",
    "    L6int + 53.1 + 0.9\n",
    ")  # 166cm==>final del conducto no pasante N5 (limite blindaje biológico, antes del shutter de plomo)\n",
    "\n",
    "# --- Colimador? ---\n",
    "R5int = 12.328 / 2  # dimensiones colimador???\n",
    "R5ext = 12.788 / 2\n",
    "L5int = L6int + 1.6 # Ubicado un poco después del comienzo de la segunda sección\n",
    "L5ext = L6ext       # Ocupa hasta el final del tubo externo\n",
    "\n",
    "Rpieza = 12.2 / 2\n",
    "Lpieza = 5.0\n",
    "\n",
    "Lp00 = L5int + 1.0\n",
    "Lp01 = Lp00 + Lpieza\n",
    "Lp02 = Lp01 + Lpieza\n",
    "Lp03 = Lp02 + Lpieza\n",
    "Lp04 = Lp03 + Lpieza\n",
    "Lp05 = Lp04 + Lpieza\n",
    "Lp06 = Lp05 + Lpieza\n",
    "Lp07 = Lp06 + Lpieza\n",
    "Lp08 = Lp07 + Lpieza\n",
    "Lp09 = Lp08 + Lpieza\n",
    "Lp10 = Lp09 + Lpieza\n",
    "\n",
    "L4ext,L6int,L6ext,L5int,L5ext,Lp00,Lp10"
   ]
  },
  {
   "cell_type": "code",
   "execution_count": 6,
   "metadata": {},
   "outputs": [
    {
     "data": {
      "text/plain": [
       "(-10.0, 204.20000000000005, 494.20000000000005)"
      ]
     },
     "execution_count": 6,
     "metadata": {},
     "output_type": "execute_result"
    }
   ],
   "source": [
    "Linner = L4int - 10\n",
    "Louter = L6ext + 38.0849 + 290\n",
    "Linner,Louter-290,Louter"
   ]
  },
  {
   "cell_type": "markdown",
   "metadata": {},
   "source": [
    "## PROPUESTA DE BEAM-CATCHER"
   ]
  },
  {
   "cell_type": "code",
   "execution_count": 7,
   "metadata": {},
   "outputs": [],
   "source": [
    "if SHIELDING and BEAMCATCHER != False:\n",
    "    ybeamcatcher = 205.0\n",
    "else:\n",
    "    ybeamcatcher = 90.0\n",
    "\n",
    "if BEAMCATCHER == \"NEW\":\n",
    "    yb0 = Louter - 290.0 + ybeamcatcher\n",
    "    yb1 = yb0 + 35 - 5 * 2\n",
    "    yb2 = yb1 + 5 * 2  # espesor poliboro\n",
    "    yb3 = yb2 + 5 * 2  # espesor poliboro\n",
    "    yb4 = yb3 + 10 * 2  # espesor plomo\n",
    "\n",
    "    xb0 = 0.0\n",
    "    xb1 = xb0 + 20.0 / 2\n",
    "    xb2 = xb1 + 5 * 2  # espesor poliboro\n",
    "    xb3 = xb2 + 5 * 2  # espesor plomo\n",
    "\n",
    "    zb0 = 0.0\n",
    "    zb1 = zb0 + 40.0 / 2\n",
    "    zb2 = zb1 + 5 * 2\n",
    "    zb3 = zb2 + 5 * 2\n",
    "elif BEAMCATCHER == \"OLD\":\n",
    "    yb0 = Louter - 290.0 + ybeamcatcher\n",
    "    yb1 = yb0 + 35 - 5\n",
    "    yb2 = yb1 + 5  # espesor poliboro\n",
    "    yb3 = yb2 + 5  # espesor poliboro\n",
    "    yb4 = yb3 + 10  # espesor plomo\n",
    "\n",
    "    xb0 = 0.0\n",
    "    xb1 = xb0 + 20.0 / 2\n",
    "    xb2 = xb1 + 5  # espesor poliboro\n",
    "    xb3 = xb2 + 5  # espesor plomo\n",
    "\n",
    "    zb0 = 0.0\n",
    "    zb1 = zb0 + 25.0 / 2\n",
    "    zb2 = zb1 + 5\n",
    "    zb3 = zb2 + 5\n",
    "elif BEAMCATCHER == False:\n",
    "    print(\"No hay beam-catcher\")\n",
    "else:\n",
    "    print(\"ERROR\")"
   ]
  },
  {
   "cell_type": "code",
   "execution_count": 8,
   "metadata": {},
   "outputs": [],
   "source": [
    "yshielding = 0.1\n",
    "\n",
    "ys0 = Louter - 290.0 + yshielding\n",
    "ys1 = ys0 + 5.0 * 2.0\n",
    "ys2 = ys1 + 5.0 * 2.0\n",
    "\n",
    "xs0 = 0.0\n",
    "xs1 = xs0 + 8.0 / 2  # 12.0/2\n",
    "xs2 = xs1 + 80.0 / 2  # 25.5\n",
    "\n",
    "zs0 = 0.0\n",
    "zs1 = zs0 + 8.0 / 2  # 12.0/2\n",
    "zs2 = zs1 + 80.0 / 2  # 56.0/2"
   ]
  },
  {
   "cell_type": "code",
   "execution_count": 9,
   "metadata": {},
   "outputs": [],
   "source": [
    "yCd = 1.0\n",
    "\n",
    "yCd0 = ys2 + yCd\n",
    "yCd1 = yCd0 + 0.5\n",
    "\n",
    "xCd0 = 0.0\n",
    "xCd1 = xCd0 + 0.5 / 2\n",
    "xCd2 = xCd1 + 12.0 / 2\n",
    "\n",
    "zCd0 = 0.0\n",
    "zCd1 = zCd0 + 1.0 / 2\n",
    "zCd2 = zCd1 + 12.0 / 2"
   ]
  },
  {
   "cell_type": "code",
   "execution_count": 10,
   "metadata": {},
   "outputs": [],
   "source": [
    "if BEAMCATCHER != False:\n",
    "    ydetector = ybeamcatcher - 5.0\n",
    "else:\n",
    "    ydetector = 200\n",
    "\n",
    "yd0 = Louter - 290.0 + ydetector\n",
    "yd1 = yd0 + 1 * 2.54\n",
    "\n",
    "xd0 = 0.0\n",
    "xd1 = xd0 + 3.5 * 2.54\n",
    "\n",
    "zd0 = 0.0\n",
    "zd1 = zd0 + 5 * 2.54\n",
    "\n",
    "# ybeamcatcher\n",
    "# yd0,yd1,xd1,zd1\n",
    "# yd0-yCd0"
   ]
  },
  {
   "cell_type": "code",
   "execution_count": 11,
   "metadata": {},
   "outputs": [],
   "source": [
    "yAl0 = yCd1 + 0.1\n",
    "yAl1 = yd0 - 0.1\n",
    "\n",
    "xAl0 = 0.0\n",
    "xAl1 = xAl0 + xb1\n",
    "xAl2 = xAl1 + 1.0\n",
    "\n",
    "zAl0 = 0.0\n",
    "zAl1 = zAl0 + zb1\n",
    "zAl2 = zAl1 + 1.0"
   ]
  },
  {
   "cell_type": "markdown",
   "metadata": {},
   "source": [
    "## GEOMETRÍA CONDUCTO N5"
   ]
  },
  {
   "cell_type": "code",
   "execution_count": 12,
   "metadata": {},
   "outputs": [],
   "source": [
    "sur5000 = openmc.YPlane(y0=L4int, surface_id=5000)\n",
    "sur5001 = openmc.YPlane(y0=L4ext, surface_id=5001)\n",
    "sur5002 = openmc.YPlane(y0=L6int, surface_id=5002)\n",
    "sur5003 = openmc.YPlane(y0=L6ext, surface_id=5003)\n",
    "\n",
    "sur5004 = openmc.YCylinder(r=R4int, surface_id=5004)\n",
    "sur5005 = openmc.YCylinder(r=R4ext, surface_id=5005)\n",
    "sur5006 = openmc.YCone(\n",
    "    y0=(R4int * L6int - R6int * L4ext) / (R4int - R6int),\n",
    "    r2=((R4int - R6int) / (L6int - L4ext)) ** 2,\n",
    "    surface_id=5006,\n",
    ")\n",
    "sur5007 = openmc.YCone(\n",
    "    y0=(R4ext * L6int - R6ext * L4ext) / (R4ext - R6ext),\n",
    "    r2=((R4ext - R6ext) / (L6int - L4ext)) ** 2,\n",
    "    surface_id=5007,\n",
    ")\n",
    "sur5008 = openmc.YCylinder(r=R6int, surface_id=5008)\n",
    "sur5009 = openmc.YCylinder(r=R6ext, surface_id=5009)\n",
    "sur5010 = openmc.YPlane(y0=L4int + 5.0, surface_id=5010)\n",
    "\n",
    "# Blindaje interno\n",
    "sur5011 = openmc.XPlane(x0=-62.86, surface_id=5011)\n",
    "sur5012 = openmc.XPlane(x0=27.86, surface_id=5012)\n",
    "sur5013 = openmc.YPlane(y0=L6ext - 9.55, surface_id=5013)\n",
    "sur5014 = openmc.YPlane(y0=L6ext - 3.84, surface_id=5014)\n",
    "sur5015 = openmc.ZPlane(z0=-56.0 / 2, surface_id=5015)\n",
    "sur5016 = openmc.ZPlane(z0=56.0 / 2, surface_id=5016)\n",
    "\n",
    "# Caja conducto\n",
    "sur5020 = openmc.XPlane(x0=-60.5, surface_id=5020)\n",
    "sur5021 = openmc.XPlane(x0=25.5, surface_id=5021)\n",
    "sur5022 = openmc.ZPlane(z0=-56.0 / 2, surface_id=5022)\n",
    "sur5023 = openmc.ZPlane(z0=56.0 / 2, surface_id=5023)\n",
    "\n",
    "# Shutter conducto (370 ancho, 340 profundidad, 450 altura, )\n",
    "XSHUTTER = 37.0\n",
    "sur5030 = openmc.YPlane(y0=L6ext + 3.5, surface_id=5030)\n",
    "sur5031 = openmc.YPlane(y0=L6ext + 3.5 + 34.0, surface_id=5031)\n",
    "sur5032 = openmc.XPlane(x0=-XSHUTTER - 37.0 / 2, surface_id=5032)\n",
    "sur5033 = openmc.XPlane(x0=-XSHUTTER + 37.0 / 2, surface_id=5033)\n",
    "sur5034 = openmc.ZPlane(z0=-45.0 / 2, surface_id=5034)\n",
    "sur5035 = openmc.ZPlane(z0=45.0 / 2, surface_id=5035)\n",
    "\n",
    "# Tubo Delimitador\n",
    "sur6000 = openmc.YPlane(y0=L5int, surface_id=6000)\n",
    "sur6001 = openmc.YPlane(y0=L5int + 0.3, surface_id=6001)\n",
    "sur6002 = openmc.YPlane(y0=L5ext, surface_id=6002)\n",
    "sur6003 = openmc.YCylinder(r=R5int, surface_id=6003)\n",
    "sur6004 = openmc.YCylinder(r=R5ext, surface_id=6004)\n",
    "\n",
    "# Piezas Delimitador\n",
    "sur7000 = openmc.YCylinder(\n",
    "    r=Rpieza, surface_id=7000\n",
    ")  # Rpieza=12.2/2, son las mismas dimensiones que en el nuevo colimador cónico\n",
    "sur7010 = openmc.YPlane(y0=Lp00, surface_id=7010)\n",
    "sur7011 = openmc.YPlane(y0=Lp01, surface_id=7011)\n",
    "sur7012 = openmc.YPlane(y0=Lp02, surface_id=7012)\n",
    "sur7013 = openmc.YPlane(y0=Lp03, surface_id=7013)\n",
    "sur7014 = openmc.YPlane(y0=Lp04, surface_id=7014)\n",
    "sur7015 = openmc.YPlane(y0=Lp05, surface_id=7015)\n",
    "sur7016 = openmc.YPlane(y0=Lp06, surface_id=7016)\n",
    "sur7017 = openmc.YPlane(y0=Lp07, surface_id=7017)\n",
    "sur7018 = openmc.YPlane(y0=Lp08, surface_id=7018)\n",
    "sur7019 = openmc.YPlane(y0=Lp09, surface_id=7019)\n",
    "sur7020 = openmc.YPlane(y0=Lp10, surface_id=7020)\n",
    "\n",
    "# Haz Delimitador cónico\n",
    "sur7030 = openmc.YCylinder(z0=0, r=1.75, surface_id=7030)\n",
    "sur7031 = openmc.YCylinder(z0=0, r=1.60, surface_id=7031)\n",
    "sur7032 = openmc.YCylinder(z0=0, r=1.50, surface_id=7032)\n",
    "sur7033 = openmc.YCylinder(z0=0, r=1.35, surface_id=7033)\n",
    "sur7034 = openmc.YCylinder(z0=0, r=1.25, surface_id=7034)\n",
    "sur7035 = openmc.YCylinder(z0=0, r=1.10, surface_id=7035)\n",
    "sur7036 = openmc.YCylinder(z0=0, r=1.00, surface_id=7036)\n",
    "sur7037 = openmc.YCylinder(z0=0, r=0.85, surface_id=7037)\n",
    "sur7038 = openmc.YCylinder(z0=0, r=0.75, surface_id=7038)\n",
    "sur7039 = openmc.YCylinder(z0=0, r=0.60, surface_id=7039)\n",
    "\n",
    "# Beam-Catcher\n",
    "sur8100 = openmc.YPlane(y0=yb0, surface_id=8100)\n",
    "sur8101 = openmc.YPlane(y0=yb1, surface_id=8101)\n",
    "sur8102 = openmc.YPlane(y0=yb2, surface_id=8102)\n",
    "sur8103 = openmc.YPlane(y0=yb3, surface_id=8103)\n",
    "sur8104 = openmc.YPlane(y0=yb4, surface_id=8104)\n",
    "\n",
    "sur8110 = openmc.XPlane(x0=xb0, surface_id=8110)\n",
    "sur8111 = openmc.XPlane(x0=-xb1, surface_id=8111)\n",
    "sur8112 = openmc.XPlane(x0=+xb1, surface_id=8112)\n",
    "sur8113 = openmc.XPlane(x0=-xb2, surface_id=8113)\n",
    "sur8114 = openmc.XPlane(x0=+xb2, surface_id=8114)\n",
    "sur8115 = openmc.XPlane(x0=-xb3, surface_id=8115)\n",
    "sur8116 = openmc.XPlane(x0=+xb3, surface_id=8116)\n",
    "\n",
    "sur8120 = openmc.ZPlane(z0=zb0, surface_id=8120)\n",
    "sur8121 = openmc.ZPlane(z0=-zb1, surface_id=8121)\n",
    "sur8122 = openmc.ZPlane(z0=+zb1, surface_id=8122)\n",
    "sur8123 = openmc.ZPlane(z0=-zb2, surface_id=8123)\n",
    "sur8124 = openmc.ZPlane(z0=+zb2, surface_id=8124)\n",
    "sur8125 = openmc.ZPlane(z0=-zb3, surface_id=8125)\n",
    "sur8126 = openmc.ZPlane(z0=+zb3, surface_id=8126)\n",
    "\n",
    "# Blindajes\n",
    "sur8200 = openmc.YPlane(y0=ys0, surface_id=8200)\n",
    "sur8201 = openmc.YPlane(y0=ys1, surface_id=8201)\n",
    "sur8202 = openmc.YPlane(y0=ys2, surface_id=8202)\n",
    "\n",
    "sur8210 = openmc.XPlane(x0=xs0, surface_id=8210)\n",
    "sur8211 = openmc.XPlane(x0=-xs1, surface_id=8211)\n",
    "sur8212 = openmc.XPlane(x0=+xs1, surface_id=8212)\n",
    "sur8213 = openmc.XPlane(x0=-xs2, surface_id=8213)\n",
    "sur8214 = openmc.XPlane(x0=+xs2, surface_id=8214)\n",
    "\n",
    "sur8220 = openmc.ZPlane(z0=zs0, surface_id=8220)\n",
    "sur8221 = openmc.ZPlane(z0=-zs1, surface_id=8221)\n",
    "sur8222 = openmc.ZPlane(z0=+zs1, surface_id=8222)\n",
    "sur8223 = openmc.ZPlane(z0=-zs2, surface_id=8223)\n",
    "sur8224 = openmc.ZPlane(z0=+zs2, surface_id=8224)\n",
    "\n",
    "# Slits de Cd\n",
    "sur8300 = openmc.YPlane(y0=yCd0, surface_id=8300)\n",
    "sur8301 = openmc.YPlane(y0=yCd1, surface_id=8301)\n",
    "\n",
    "sur8310 = openmc.XPlane(x0=xCd0, surface_id=8310)\n",
    "sur8311 = openmc.XPlane(x0=-xCd1, surface_id=8311)\n",
    "sur8312 = openmc.XPlane(x0=+xCd1, surface_id=8312)\n",
    "sur8313 = openmc.XPlane(x0=-xCd2, surface_id=8313)\n",
    "sur8314 = openmc.XPlane(x0=+xCd2, surface_id=8314)\n",
    "\n",
    "sur8320 = openmc.ZPlane(z0=zCd0, surface_id=8320)\n",
    "sur8321 = openmc.ZPlane(z0=-zCd1, surface_id=8321)\n",
    "sur8322 = openmc.ZPlane(z0=+zCd1, surface_id=8322)\n",
    "sur8323 = openmc.ZPlane(z0=-zCd2, surface_id=8323)\n",
    "sur8324 = openmc.ZPlane(z0=+zCd2, surface_id=8324)\n",
    "\n",
    "# Caja contenedora del haz\n",
    "sur8400 = openmc.YPlane(y0=yAl0, surface_id=8400)\n",
    "sur8401 = openmc.YPlane(y0=yAl1, surface_id=8401)\n",
    "\n",
    "sur8410 = openmc.XPlane(x0=xAl0, surface_id=8410)\n",
    "sur8411 = openmc.XPlane(x0=-xAl1, surface_id=8411)\n",
    "sur8412 = openmc.XPlane(x0=+xAl1, surface_id=8412)\n",
    "sur8413 = openmc.XPlane(x0=-xAl2, surface_id=8413)\n",
    "sur8414 = openmc.XPlane(x0=+xAl2, surface_id=8414)\n",
    "\n",
    "sur8420 = openmc.ZPlane(z0=zAl0, surface_id=8420)\n",
    "sur8421 = openmc.ZPlane(z0=-zAl1, surface_id=8421)\n",
    "sur8422 = openmc.ZPlane(z0=+zAl1, surface_id=8422)\n",
    "sur8423 = openmc.ZPlane(z0=-zAl2, surface_id=8423)\n",
    "sur8424 = openmc.ZPlane(z0=+zAl2, surface_id=8424)\n",
    "\n",
    "# Banco de detectores\n",
    "sur8900 = openmc.YPlane(y0=yd0, surface_id=8900)\n",
    "sur8901 = openmc.YPlane(y0=yd1, surface_id=8901)\n",
    "sur8910 = openmc.XPlane(x0=-xd1, surface_id=8910)\n",
    "sur8911 = openmc.XPlane(x0=+xd1, surface_id=8911)\n",
    "sur8920 = openmc.ZPlane(z0=-zd1, surface_id=8920)\n",
    "sur8921 = openmc.ZPlane(z0=+zd1, surface_id=8921)\n",
    "\n",
    "apot = 650 / 2.0\n",
    "\n",
    "# Caja envolvente conjunto\n",
    "sur9012 = openmc.XPlane(x0=-130, boundary_type=\"vacuum\", surface_id=9012)\n",
    "sur9013 = openmc.XPlane(x0=130, boundary_type=\"vacuum\", surface_id=9013)\n",
    "sur9014 = openmc.ZPlane(z0=Linner, boundary_type=\"vacuum\", surface_id=9014)\n",
    "sur9015 = openmc.ZPlane(z0=Louter - 290.0, surface_id=9015)\n",
    "sur9016 = openmc.YPlane(y0=-130, boundary_type=\"vacuum\", surface_id=9016)\n",
    "sur9017 = openmc.YPlane(y0=+130, boundary_type=\"vacuum\", surface_id=9017)\n",
    "sur9018 = openmc.ZPlane(z0=Louter, boundary_type=\"vacuum\", surface_id=9018)\n",
    "\n",
    "\n",
    "# Louter-290\n",
    "# apot-120.8"
   ]
  },
  {
   "cell_type": "markdown",
   "metadata": {},
   "source": [
    "## GEOMETRÍA BANCO DE DETECTORES (HAY ALGO DE ESO TAMBIÉN ANTES)"
   ]
  },
  {
   "cell_type": "code",
   "execution_count": 13,
   "metadata": {},
   "outputs": [
    {
     "data": {
      "text/plain": [
       "<Axes: xlabel='x [cm]', ylabel='y [cm]'>"
      ]
     },
     "execution_count": 13,
     "metadata": {},
     "output_type": "execute_result"
    },
    {
     "data": {
      "application/vnd.jupyter.widget-view+json": {
       "model_id": "df366fffd32241b68dfcda34d007a263",
       "version_major": 2,
       "version_minor": 0
      },
      "image/png": "[encoded data removed]",
      "text/html": [
       "\n",
       "            <div style=\"display: inline-block;\">\n",
       "                <div class=\"jupyter-widgets widget-label\" style=\"text-align: center;\">\n",
       "                    Figure\n",
       "                </div>\n",
       "                <img src='data:image/png;base64,iVBORw0KGgoAAAANSUhEUgAAALgAAAFpCAYAAAAvJuL5AAAAOnRFWHRTb2Z0d2FyZQBNYXRwbG90bGliIHZlcnNpb24zLjEwLjEsIGh0dHBzOi8vbWF0cGxvdGxpYi5vcmcvc2/+5QAAAAlwSFlzAAAPYQAAD2EBqD+naQAAFe9JREFUeJzt3X9MVff9x/EX9yJXrngvX9tyj6ygNd2C19GyzQmnMe6HfLm667JGu7hOhFJbsw6Xdm2YJWV003T0uy2daYN1y1qhtWubNa5LKEJptbqWKxhGHYFKuk4L2929uBq5iJVb4PP9Y7lnvfOqcLk/5O3rkZxEz/nwuZ9jnp5wD5d7U5RSCkRCmZK9AKJ4YuAkGgMn0Rg4icbASTQGTqIxcBKNgZNoDJxEY+AkGgMn0Rg4icbASTQGTqIxcBKNgZNoDJxEY+AkGgMn0Rg4icbASTQGTqIxcBKNgZNoDJxEY+AkGgMn0Rg4icbASTQGTqIxcBKNgZNoDJxEY+AkGgMn0Rg4icbASTQGTqIxcBKNgZNoDJxEY+AkWmq8Jp6cnITX68X8+fORkpISr4chgZRSGBkZQXZ2NkymmV2D4xa41+tFTk5OvKana8Dg4CBuvPHGGc0Rt8Dnz58PAHjujedgnWeN18OQQOdHz6OsuMxoaCbiFnjo2xLrPCusGQycpi8W39rySSaJxsBJNNOGDRvg9/vDdg4MDMDtdsNqtSIrKwtVVVUYHx9P0hKJomfyer1Yv369sWNiYgJutxvBYBDt7e1obGxEQ0MDamtrk7hMouiY9u7di/b2dhw9ehQA8Prrr6Ovrw/79u1DQUEB1q5di507d6K+vh7BYDDJyyWaHlNeXh5yc3Ph8XgAAB6PB/n5+XA4HMYgl8uFQCCA3t7eS040NjaGQCAQthElmwkAHA4HfD4fAMDn84XFHToeOnYpdXV1sNvtxsYf8tDVIGZ3UaqrqzE8PGxsg4ODsZqaKGqpAOD3+6FpGgBA0zR0dnaGDQrdZQmNicRiscBiscRrnURRMfX392NgYAC6rgMAdF1HT08PhoaGjEFtbW2w2WxwOp3JWidRVEwVFRXQdR1FRUUAgJKSEjidTmzevBnHjx9Ha2srampqUFlZySs0zTomTdOwf/9+Y4fZbEZTUxPMZjN0XUdpaSnKysqwY8eOJC6TKDqpn447ZNGiRWhubk7Ccohii69FIdEYOInGwEk0Bk6iMXASjYGTaHH7ncxrQRvuSsrj/i8akvK4sxGv4CQaAyfRGDiJxsBJNAZOojFwEo2Bk2gMnERj4CQaf5I5AyvmHL5o36b3l8b0Mco9b168886xmD6GZLyCk2gMnERj4CQaAyfR+CQzxh7fcuyifR+N/s+Uvjb95u0X7fvQPeMlXdN4BSfRGDiJxsBJNAZOovFJZgKseu3hKY07dn+cF3IN4hWcRGPgJBoDJ9EYOInGwEk0Bk6iMXASjYGTaAycRGPgJBoDJ9H4WpQZsH9y8uJ9EX4JHrh7SvOt2BdhH/gb9DORmpGRAZfLhd27d8PhcBgHBgYGcN999+HQoUPIyMhAeXk56urqkJrK/xPRuPWNI1ccc7x4VQJWcm0xHT58GF6vF+vXrzd2TkxMwO12IxgMor29HY2NjWhoaEBtbW0Sl0o0fSlKKXXixAksXboUHo8HRUVFOHDgANatWwev12tc1ffs2YPt27fj9OnTSEtLu+LEgUAAdrsdr3hegTXDGu/zkOGBR4BdjyV7FUl3/tx53KHfgeHhYdhsthnNZQKAvLw85ObmwuPxAAA8Hg/y8/PDvmVxuVwIBALo7e2NONHY2BgCgUDYRpRsxl0Uh8MBn88HAPD5fGFxh46HjkVSV1cHu91ubDk5OfFaM9GUxew2YXV1NYaHh41tcHAwVlMTRc24JeL3+6FpGgBA0zR0dnaGDfT7/caxSCwWCywWS7zWSRQVEwD09/djYGAAuq4DAHRdR09PD4aGhoyBbW1tsNlscDqdyVkpURRMXV1dqKiogK7rKCoqAgCUlJTA6XRi8+bNOH78OFpbW1FTU4PKykpepWlWMa1atQqapmH//v3GTrPZjKamJpjNZui6jtLSUpSVlWHHjh1JXCrR9KWOjo5GPLBo0SI0NzcneDlEscUXW5FoDJxEY+AkGgMn0Rg4icbASTQGTqIxcBKNgZNoDJxEY+AkGgMn0Rg4icbASTQGTqIxcBKNgZNoDJxEY+AkGgMn0Rg4icbASTQGTqIxcBKNgZNoDJxEY+AkGgMn0Rg4icbASTQGTqIxcBKNgZNoDJxEY+AkGgMn0Rg4icbASTQGTqKZNmzYYHwOfcjAwADcbjesViuysrJQVVWF8fHxJC2RKHomr9eL9evXGzsmJibgdrsRDAbR3t6OxsZGNDQ0oLa2NonLJIqOae/evWhvb8fRo0cBAK+//jr6+vqwb98+FBQUYO3atdi5cyfq6+sRDAaTvFyi6THl5eUhNzcXHo8HAODxeJCfnw+Hw2EMcrlcCAQC6O3tveREY2NjCAQCYRtRspkAwOFwwOfzAQB8Pl9Y3KHjoWOXUldXB7vdbmw5OTnxWjPRlMXsLkp1dTWGh4eNbXBwMFZTE0UtFQD8fj80TQMAaJqGzs7OsEGhuyyhMZFYLBZYLJZ4rZMoKqb+/n4MDAxA13UAgK7r6OnpwdDQkDGora0NNpsNTqczWeskioqpoqICuq6jqKgIAFBSUgKn04nNmzfj+PHjaG1tRU1NDSorK3mFplnHpGka9u/fb+wwm81oamqC2WyGrusoLS1FWVkZduzYkcRlEkUn9dNxhyxatAjNzc1JWA5RbPG1KCQaAyfRGDiJxsBJNAZOojFwEo2Bk2gMnERj4CQaAyfRGDiJxsBJNAZOojFwEo2Bk2gMnERj4CQaAyfRGDiJxsBJNAZOojFwEo2Bk2gMnERj4CQaAyfRGDiJxsBJNAZOojFwEo2BX012PZbsFYiTmuwFXO1WvL0lpvN1rnwmofNf63gFJ9EYOInGwEk0Bk6i8UnmFXQe/L/YTrgysfNf63gFJ9EYOIlmysjIwIYNG4zPow8ZGBiA2+2G1WpFVlYWqqqqMD4+nqRlEkXHdPjwYXi9Xqxfv97YOTExAbfbjWAwiPb2djQ2NqKhoQG1tbVJXCrR9KUopdSJEyewdOlSeDweFBUV4cCBA1i3bh28Xi8cDgcAYM+ePdi+fTtOnz6NtLS0K04cCARgt9vxiucVWDOs8T4PEuT8ufO4Q78Dw8PDsNlsM5rLBAB5eXnIzc2Fx+MBAHg8HuTn5xtxA4DL5UIgEEBvb2/EicbGxhAIBMI2omQznmQ6HA74fD4AgM/nC4s7dDx0LJK6ujrY7XZjy8nJideaiaYsZndRqqurMTw8bGyDg4OxmpooasYPevx+PzRNAwBomobOzs6wgaG7LKEx/81iscBiscRrnURRMQFAf38/BgYGoOs6AEDXdfT09GBoaMgY2NbWBpvNBqfTmZyVEkXB1NXVhYqKCui6jqKiIgBASUkJnE4nNm/ejOPHj6O1tRU1NTWorKzkVZpmFdOqVaugaRr2799v7DSbzWhqaoLZbIau6ygtLUVZWRl27NiRxKUSTV/q6OhoxAOLFi1Cc3NzgpdDFFt8LQqJxsBJNAZOojFwEo2Bk2gMnERj4CQaAyfRGDiJxsBJNAZOojFwEo2Bk2gMnERj4CQaAyfRGDiJxsBJNAZOojFwEo2Bk2gMnERj4CQaAyfRGDiJxsBJNAZOojFwEo2Bk2gMnERj4CQaAyfRGDiJxsBJNAZOojFwEo2Bk2gMnERj4CSaKT09HcXFxXj//ffDDpw5cwabNm2CzWZDZmYmtmzZgnPnziVpmUTRMXV0dGDevHlwuVy4cOGCcWDTpk3o7e1FW1sbmpqacOTIEWzdujWJSyWaPtMtt9yC5557Dl6vF6+++ioA4L333kNLSwt++9vforCwECtXrsRTTz2Fl156CV6vN7krJpoGEwDY7XYUFhbC4/EAADweDzIzM7F8+XJjYHFxMUwmEzo6OiJONDY2hkAgELYRJZvxJNPhcMDn8wEAfD4fsrKywgampqZiwYIFxpj/VldXB7vdbmw5OTlxXDbR1MTsLkp1dTWGh4eNbXBwMFZTE0UtNfQHv9+PgoICAICmaRgaGgobOD4+jjNnzkDTtIgTWSwWWCyW+K2UKAomAAgEAujo6ICu6wAAXddx9uxZdHV1GQMPHjyIyclJFBYWJmelRFEw9fT0oKysDNnZ2bj99tsBAEuXLsWaNWtw7733orOzE++88w62bduG73znO8jOzk7uiommwfTlL38Z586dQ0tLC+bOnWsceOGFF5CXl4fVq1fjG9/4BlauXInf/OY3SVwq0fSlfvqHO5+2YMEC/O53v0vwcohii69FIdEYOInGwEk0Bk6iMXASjYGTaAycRGPgJBoDJ9EYOInGwEk0Bk6iMXASjYGTaAycRGPgJBoDJ9EYOInGwEk0Bk6iMXASjYGTaAycRGPgJBoDJ9EYOInGwEk0Bk6iMXASjYGTaAycRGPgJBoDJ9EYOInGwEk0Bk6iMXASjYGTaAycRLts4PX19Vi8eDHmzp2LwsJCdHZ2JmpdRDFxycBffvllPPjgg3j00Ufx5z//GbfeeitcLheGhoYSuT6iGblk4E888QTuvfdeVFRUwOl0Ys+ePbBarXj22WcTuT6iGYkYeDAYRFdXF4qLi/8z0GRCcXExPB5PxInGxsYQCATCNqJkixj4v/71L0xMTMDhcITtdzgc8Pl8ESeqq6uD3W43tpycnNivlmiaYnYXpbq6GsPDw8Y2ODgYq6mJopYaaef1118Ps9kMv98ftt/v90PTtIgTWSwWWCyW2K+QaAYiXsHT0tLwpS99CW+++aaxb3JyEm+++SZ0XU/Y4ohmKuIVHAAefPBBlJeXY/ny5VixYgV27dqF0dFRVFRUJHJ9RDNyycA3btyI06dPo7a2Fj6fDwUFBWhpabnoiSfR1eySgQPAtm3bsG3btkSthSjm+FoUEo2Bk2gMnERj4CQaAyfRGDiJxsBJNAZOojFwEo2Bk2iX/VH9TCilAADnR8/H6yFIqFAzoYZmIkXFYpYI/v73v/O3emhGBgcHceONN85ojrgFPjk5Ca/Xi/nz5yMlJSVm8wYCAeTk5GBwcBA2my1m8yYaz+PSlFIYGRlBdnY2TKaZfRcdt29RTCbTjP/3XY7NZpvVYYTwPCKz2+0xmYdPMkk0Bk6izbrALRYLHn300Vn/C848j8SI25NMoqvBrLuCE00HAyfRGDiJxsBJtKs28Mceewy33XYbrFYrMjMzI44ZGBiA2+2G1WpFVlYWqqqqMD4+Hjbmrbfewhe/+EVYLBbcfPPNaGhoiP/ir+Bq/2CBI0eO4Jvf/Cays7ORkpKCV199Ney4Ugq1tbVYuHAh0tPTUVxcjPfffz9szJkzZ7Bp0ybYbDZkZmZiy5YtOHfuXALP4t+u2sCDwSC+/e1v47777ot4fGJiAm63G8FgEO3t7WhsbERDQwNqa2uNMSdPnoTb7cbXvvY1vPvuu3jggQdwzz33oLW1NVGncZHZ8MECo6OjuPXWW1FfXx/x+M9//nM8+eST2LNnDzo6OjBv3jy4XC5cuHDBGLNp0yb09vaira0NTU1NOHLkCLZu3ZqoU/gPdZXbu3evstvtF+1vbm5WJpNJ+Xw+Y9/TTz+tbDabGhsbU0op9aMf/UgtW7Ys7Os2btyoXC5XXNd8OStWrFCVlZXG3ycmJlR2draqq6tL2pouB4D6wx/+YPx9cnJSaZqmfvGLXxj7zp49qywWi3rxxReVUkr19fUpAOrYsWPGmAMHDqiUlBT1j3/8I2FrV0qpq/YKfiUejwf5+flhbyXncrkQCATQ29trjPn0m/iHxlzqTfzjLZoPFrjanDx5Ej6fL+wc7HY7CgsLjXPweDzIzMzE8uXLjTHFxcUwmUzo6OhI6HpnbeA+ny/iG/SHjl1uTCAQwMcff5yYhX5KNB8scLUJrfNy5+Dz+ZCVlRV2PDU1FQsWLEj4eSY08IcffhgpKSmX3U6cOJHIJZFwcXu5bCQPPfQQ7rrrrsuOWbJkyZTm0jTtorsPoTfsD71Jv6ZpEd/E32azIT09fYqrjp1oPljgahNap9/vx8KFC439fr8fBQUFxpj/ftI8Pj6OM2fOJPw8E3oFv+GGG5CXl3fZLS0tbUpz6bqOnp6esH/ItrY22Gw2OJ1OY8yn38Q/NCZZb+Iv4YMFbrrpJmiaFnYOgUAAHR0dxjnouo6zZ8+iq6vLGHPw4EFMTk6isLAwsQtO6FPaafjwww9Vd3e3+ulPf6oyMjJUd3e36u7uViMjI0oppcbHx9XnP/95VVJSot59913V0tKibrjhBlVdXW3M8be//U1ZrVZVVVWl3nvvPVVfX6/MZrNqaWlJ1mmpl156SVksFtXQ0KD6+vrU1q1bVWZmZtjdoGQbGRkx/r0BqCeeeEJ1d3erDz/8UCml1OOPP64yMzPVH//4R/WXv/xFfetb31I33XST+vjjj4051qxZo77whS+ojo4O9fbbb6vPfvaz6s4770z4uVy1gZeXlysAF22HDh0yxpw6dUqtXbtWpaenq+uvv1499NBD6pNPPgmb59ChQ6qgoEClpaWpJUuWqL179yb2RCJ46qmnVG5urkpLS1MrVqxQR48eTfaSwhw6dCjiv315eblS6t+3Cn/84x8rh8OhLBaLWr16terv7w+b46OPPlJ33nmnysjIUDabTVVUVBgXp0Tiy2VJtFl7m5BoKhg4icbASTQGTqIxcBKNgZNoDJxEY+BxcOrUKePFY6HXZ8RLQ0OD8VgPPPBAXB9rNmLgcfTGG29c9FqYWNu4cSP++c9/zprXsiRaQl9NeK257rrrcN1118X1MdLT05Genj7lF6lda3gFv4LTp09D0zT87Gc/M/a1t7cjLS0tqqvzs88+i2XLlsFisWDhwoXYtm2bcSwlJQW//vWvsW7dOlitVixduhQejwd//etf8dWvfhXz5s3Dbbfdhg8++CAm53ZNSPirX2ah1157Tc2ZM0cdO3ZMBQIBtWTJEvXDH/7wkuNPnjypAKju7u6w/bt371Zz585Vu3btUv39/aqzs1P96le/Mo4DUJ/5zGfUyy+/rPr7+9Xtt9+uFi9erL7+9a+rlpYW1dfXp4qKitSaNWsuesyvfOUr6v7774/RGcvBwKfo+9//vvrc5z6nvvvd76r8/Hx14cKFS469VODZ2dnqkUceueTXAVA1NTXG3z0ejwKgnnnmGWPfiy++qObOnXvR1zLwyPgtyhT98pe/xPj4OH7/+9/jhRdemPa7qQ4NDcHr9WL16tWXHXfLLbcYfw793mN+fn7YvgsXLiAQCEzr8a9VDHyKPvjgA3i9XkxOTuLUqVPT/vqp/orcnDlzjD+HPvol0r7Jyclpr+FaxMCnIBgMorS0FBs3bsTOnTtxzz33TPuNeubPn4/FixfH/bYhheNtwil45JFHMDw8jCeffBIZGRlobm7G3XffjaampmnN85Of/ATf+973kJWVhbVr12JkZATvvPMOfvCDH8Rp5cQr+BW89dZb2LVrF55//nnYbDaYTCY8//zz+NOf/oSnn356WnOVl5dj165d2L17N5YtW4Z169Zd9J5+FFv/D+Yj89mIY50mAAAAAElFTkSuQmCC' width=184.51612903225805/>\n",
       "            </div>\n",
       "        "
      ],
      "text/plain": [
       "Canvas(toolbar=Toolbar(toolitems=[('Home', 'Reset original view', 'home', 'home'), ('Back', 'Back to previous …"
      ]
     },
     "metadata": {},
     "output_type": "display_data"
    },
    {
     "data": {
      "application/vnd.jupyter.widget-view+json": {
       "model_id": "1893228c111248339752df8a05e4b8df",
       "version_major": 2,
       "version_minor": 0
      },
      "image/png": "[encoded data removed]",
      "text/html": [
       "\n",
       "            <div style=\"display: inline-block;\">\n",
       "                <div class=\"jupyter-widgets widget-label\" style=\"text-align: center;\">\n",
       "                    Figure\n",
       "                </div>\n",
       "                <img src='data:image/png;base64,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' width=184.51612903225805/>\n",
       "            </div>\n",
       "        "
      ],
      "text/plain": [
       "Canvas(toolbar=Toolbar(toolitems=[('Home', 'Reset original view', 'home', 'home'), ('Back', 'Back to previous …"
      ]
     },
     "metadata": {},
     "output_type": "display_data"
    }
   ],
   "source": [
    "reg8900 = +sur8900 & -sur8901 & +sur8910 & -sur8911 & +sur8920 & -sur8921\n",
    "cell8900 = openmc.Cell(\n",
    "    region=reg8900, fill=He3, cell_id=8900\n",
    ")  # Norberto lo tenía lleno con Air, puse He3\n",
    "cell8901 = openmc.Cell(region=~reg8900, fill=Air, cell_id=8901)\n",
    "\n",
    "# Beam-Catcher\n",
    "reg8100 = +sur8100 & -sur8101 & +sur8111 & -sur8112 & +sur8121 & -sur8122\n",
    "reg8101 = +sur8101 & -sur8102 & +sur8111 & -sur8112 & +sur8121 & -sur8122\n",
    "reg8102 = +sur8102 & -sur8103 & +sur8113 & -sur8114 & +sur8123 & -sur8124\n",
    "reg8103 = +sur8103 & -sur8104 & +sur8115 & -sur8116 & +sur8125 & -sur8126\n",
    "\n",
    "reg8111 = +sur8100 & -sur8102 & -sur8111 & +sur8113 & +sur8121 & -sur8122\n",
    "reg8112 = +sur8100 & -sur8102 & +sur8112 & -sur8114 & +sur8121 & -sur8122\n",
    "reg8113 = +sur8100 & -sur8103 & -sur8113 & +sur8115 & +sur8123 & -sur8124\n",
    "reg8114 = +sur8100 & -sur8103 & +sur8114 & -sur8116 & +sur8123 & -sur8124\n",
    "\n",
    "reg8121 = +sur8100 & -sur8102 & +sur8113 & -sur8114 & -sur8121 & +sur8123\n",
    "reg8122 = +sur8100 & -sur8102 & +sur8113 & -sur8114 & +sur8122 & -sur8124\n",
    "reg8123 = +sur8100 & -sur8103 & +sur8115 & -sur8116 & -sur8123 & +sur8125\n",
    "reg8124 = +sur8100 & -sur8103 & +sur8115 & -sur8116 & +sur8124 & -sur8126\n",
    "\n",
    "reg8130 = -sur8100 | +sur8104 | -sur8115 | +sur8116 | -sur8125 | +sur8126\n",
    "\n",
    "if BEAMCATCHER != False:\n",
    "    cell8100 = openmc.Cell(region=reg8100, fill=Air, cell_id=8100)\n",
    "    cell8101 = openmc.Cell(region=reg8101, fill=Polyborated, cell_id=8101)\n",
    "    cell8102 = openmc.Cell(region=reg8102, fill=Polyborated, cell_id=8102)\n",
    "    cell8103 = openmc.Cell(region=reg8103, fill=Lead, cell_id=8103)\n",
    "\n",
    "    cell8111 = openmc.Cell(region=reg8111, fill=Polyborated, cell_id=8111)\n",
    "    cell8112 = openmc.Cell(region=reg8112, fill=Polyborated, cell_id=8112)\n",
    "    cell8113 = openmc.Cell(region=reg8113, fill=Lead, cell_id=8113)\n",
    "    cell8114 = openmc.Cell(region=reg8114, fill=Lead, cell_id=8114)\n",
    "\n",
    "    cell8121 = openmc.Cell(region=reg8121, fill=Polyborated, cell_id=8121)\n",
    "    cell8122 = openmc.Cell(region=reg8122, fill=Polyborated, cell_id=8122)\n",
    "    cell8123 = openmc.Cell(region=reg8123, fill=Lead, cell_id=8123)\n",
    "    cell8124 = openmc.Cell(region=reg8124, fill=Lead, cell_id=8124)\n",
    "\n",
    "    cell8130 = openmc.Cell(region=reg8130 & ~reg8900, fill=Air, cell_id=8130)\n",
    "else:\n",
    "    cell8100 = openmc.Cell(region=reg8100, fill=Air, cell_id=8100)\n",
    "    cell8101 = openmc.Cell(region=reg8101, fill=Air, cell_id=8101)\n",
    "    cell8102 = openmc.Cell(region=reg8102, fill=Air, cell_id=8102)\n",
    "    cell8103 = openmc.Cell(region=reg8103, fill=Air, cell_id=8103)\n",
    "\n",
    "    cell8111 = openmc.Cell(region=reg8111, fill=Air, cell_id=8111)\n",
    "    cell8112 = openmc.Cell(region=reg8112, fill=Air, cell_id=8112)\n",
    "    cell8113 = openmc.Cell(region=reg8113, fill=Air, cell_id=8113)\n",
    "    cell8114 = openmc.Cell(region=reg8114, fill=Air, cell_id=8114)\n",
    "\n",
    "    cell8121 = openmc.Cell(region=reg8121, fill=Air, cell_id=8121)\n",
    "    cell8122 = openmc.Cell(region=reg8122, fill=Air, cell_id=8122)\n",
    "    cell8123 = openmc.Cell(region=reg8123, fill=Air, cell_id=8123)\n",
    "    cell8124 = openmc.Cell(region=reg8124, fill=Air, cell_id=8124)\n",
    "\n",
    "    cell8130 = openmc.Cell(region=reg8130 & ~reg8900, fill=Air, cell_id=8130)\n",
    "\n",
    "# Blindajes\n",
    "reg8201 = +sur8200 & -sur8201 & +sur8211 & -sur8212 & +sur8221 & -sur8222\n",
    "reg8202 = +sur8200 & -sur8201 & +sur8213 & -sur8214 & +sur8223 & -sur8224\n",
    "reg8211 = +sur8201 & -sur8202 & +sur8211 & -sur8212 & +sur8221 & -sur8222\n",
    "reg8212 = +sur8201 & -sur8202 & +sur8213 & -sur8214 & +sur8223 & -sur8224\n",
    "reg8230 = reg8201 | reg8211 | ~(reg8202 | reg8212)\n",
    "\n",
    "reg8301 = +sur8300 & -sur8301 & +sur8311 & -sur8312 & +sur8321 & -sur8322\n",
    "reg8302 = +sur8300 & -sur8301 & +sur8313 & -sur8314 & +sur8323 & -sur8324\n",
    "reg8330 = reg8301 | ~reg8302\n",
    "\n",
    "# Slits que reproducen la apertura del chopper de Cadmio (se activa o desactiva desde FLAGS al inicio del Notebook)\n",
    "if SLITS:\n",
    "    cell8301 = openmc.Cell(region=~reg8301 & reg8302, fill=Cadmium, cell_id=8301)\n",
    "else:\n",
    "    cell8301 = openmc.Cell(region=~reg8301 & reg8302, fill=Air, cell_id=8301)\n",
    "\n",
    "if SHIELDING:\n",
    "    cell8201 = openmc.Cell(region=~reg8201 & reg8202, fill=Polyborated, cell_id=8201)\n",
    "    cell8202 = openmc.Cell(region=~reg8211 & reg8212, fill=Lead, cell_id=8202)\n",
    "else:\n",
    "    cell8201 = openmc.Cell(region=~reg8201 & reg8202, fill=Air, cell_id=8201)\n",
    "    cell8202 = openmc.Cell(region=~reg8211 & reg8212, fill=Air, cell_id=8202)\n",
    "\n",
    "# Caja contenedora del haz\n",
    "reg8401 = +sur8400 & -sur8401 & +sur8411 & -sur8412 & +sur8421 & -sur8422\n",
    "reg8402 = +sur8400 & -sur8401 & +sur8413 & -sur8414 & +sur8423 & -sur8424\n",
    "reg8430 = reg8401 | ~reg8402\n",
    "\n",
    "if ALBOX:\n",
    "    cell8401 = openmc.Cell(region=~reg8401 & reg8402, fill=Al6061, cell_id=8401)\n",
    "else:\n",
    "    cell8401 = openmc.Cell(region=~reg8401 & reg8402, fill=Air, cell_id=8401)\n",
    "\n",
    "\n",
    "cell8999 = openmc.Cell(\n",
    "    region=reg8430 & reg8330 & reg8230 & reg8130 & ~reg8900, fill=Air, cell_id=8999\n",
    ")\n",
    "\n",
    "u8100 = openmc.Universe(\n",
    "    cells=[\n",
    "        cell8100,\n",
    "        cell8101,\n",
    "        cell8102,\n",
    "        cell8103,\n",
    "        cell8111,\n",
    "        cell8112,\n",
    "        cell8113,\n",
    "        cell8114,\n",
    "        cell8121,\n",
    "        cell8122,\n",
    "        cell8123,\n",
    "        cell8124,\n",
    "        cell8201,\n",
    "        cell8202,\n",
    "        cell8301,\n",
    "        cell8401,\n",
    "        cell8900,\n",
    "        cell8999,\n",
    "    ],\n",
    "    universe_id=8100,\n",
    ")\n",
    "\n",
    "%matplotlib widget\n",
    "plot_args = {\n",
    "    \"origin\": (0, (Louter + Linner) * 0.5, 0),\n",
    "    \"width\": (\n",
    "        130 * 2 * 1.1,\n",
    "        (Louter - Linner) * 1.1,\n",
    "    ),\n",
    "    \"color_by\": \"cell\",\n",
    "    \"colors\": materials_colors,\n",
    "    \"basis\": \"xy\",\n",
    "}\n",
    "u8100.plot(**plot_args)\n",
    "# plt.show()\n",
    "plot_args = {\n",
    "    \"origin\": (0, (Louter + Linner) * 0.5, 0),\n",
    "    \"width\": (\n",
    "        130 * 2 * 1.1,\n",
    "        (Louter - Linner) * 1.1,\n",
    "    ),\n",
    "    \"color_by\": \"material\",\n",
    "    \"colors\": materials_colors,\n",
    "    \"basis\": \"xy\",\n",
    "}\n",
    "u8100.plot(**plot_args)\n",
    "# plt.show()"
   ]
  },
  {
   "cell_type": "markdown",
   "metadata": {},
   "source": [
    "## DELIMITADOR"
   ]
  },
  {
   "cell_type": "markdown",
   "metadata": {},
   "source": [
    "### Interior delimitador (Cónico+Filtro Bismuto)"
   ]
  },
  {
   "cell_type": "code",
   "execution_count": 14,
   "metadata": {},
   "outputs": [],
   "source": [
    "# reg7030=(-sur7030|-sur7031|(+sur7032&-sur7033&+sur7034&-sur7035))&+sur7010&-sur7020\n",
    "# cell7030=openmc.Cell(region=reg7030,fill=Air,cell_id=7030)\n",
    "reg7030 = -sur7030 & +sur7010 & -sur7011\n",
    "reg7031 = -sur7031 & +sur7011 & -sur7012\n",
    "reg7032 = -sur7032 & +sur7012 & -sur7013\n",
    "reg7033 = -sur7033 & +sur7013 & -sur7014\n",
    "reg7034 = -sur7034 & +sur7014 & -sur7015\n",
    "reg7035 = -sur7035 & +sur7015 & -sur7016\n",
    "reg7036 = -sur7036 & +sur7016 & -sur7017\n",
    "reg7037 = -sur7037 & +sur7017 & -sur7018\n",
    "reg7038 = -sur7038 & +sur7018 & -sur7019\n",
    "reg7039 = -sur7039 & +sur7019 & -sur7020\n",
    "\n",
    "\n",
    "if BISMUTO:\n",
    "    cell7030 = openmc.Cell(region=reg7030, fill=Bi, cell_id=7030)\n",
    "    cell7031 = openmc.Cell(region=reg7031, fill=Bi, cell_id=7031)\n",
    "    cell7032 = openmc.Cell(region=reg7032, fill=Air, cell_id=7032)\n",
    "    cell7033 = openmc.Cell(region=reg7033, fill=Air, cell_id=7033)\n",
    "    cell7034 = openmc.Cell(region=reg7034, fill=Air, cell_id=7034)\n",
    "    cell7035 = openmc.Cell(region=reg7035, fill=Air, cell_id=7035)\n",
    "    cell7036 = openmc.Cell(region=reg7036, fill=Air, cell_id=7036)\n",
    "    cell7037 = openmc.Cell(region=reg7037, fill=Air, cell_id=7037)\n",
    "    cell7038 = openmc.Cell(region=reg7038, fill=Air, cell_id=7038)\n",
    "    cell7039 = openmc.Cell(region=reg7039, fill=Air, cell_id=7039)\n",
    "else:\n",
    "    cell7030 = openmc.Cell(region=reg7030, fill=Air, cell_id=7030)\n",
    "    cell7031 = openmc.Cell(region=reg7031, fill=Air, cell_id=7031)\n",
    "    cell7032 = openmc.Cell(region=reg7032, fill=Air, cell_id=7032)\n",
    "    cell7033 = openmc.Cell(region=reg7033, fill=Air, cell_id=7033)\n",
    "    cell7034 = openmc.Cell(region=reg7034, fill=Air, cell_id=7034)\n",
    "    cell7035 = openmc.Cell(region=reg7035, fill=Air, cell_id=7035)\n",
    "    cell7036 = openmc.Cell(region=reg7036, fill=Air, cell_id=7036)\n",
    "    cell7037 = openmc.Cell(region=reg7037, fill=Air, cell_id=7037)\n",
    "    cell7038 = openmc.Cell(region=reg7038, fill=Air, cell_id=7038)\n",
    "    cell7039 = openmc.Cell(region=reg7039, fill=Air, cell_id=7039)\n",
    "\n",
    "if BLOQUEADO:\n",
    "    reg7010 = -sur7000 & +sur7010 & -sur7011\n",
    "    reg7011 = -sur7000 & +sur7011 & -sur7012\n",
    "    reg7012 = -sur7000 & +sur7012 & -sur7013\n",
    "    reg7013 = -sur7000 & +sur7013 & -sur7014\n",
    "    reg7014 = -sur7000 & +sur7014 & -sur7015\n",
    "    reg7015 = -sur7000 & +sur7015 & -sur7016\n",
    "    reg7016 = -sur7000 & +sur7016 & -sur7017\n",
    "    reg7017 = -sur7000 & +sur7017 & -sur7018\n",
    "    reg7018 = -sur7000 & +sur7018 & -sur7019\n",
    "    reg7019 = -sur7000 & +sur7019 & -sur7020\n",
    "else:\n",
    "    reg7010 = -sur7000 & +sur7010 & -sur7011 & ~reg7030\n",
    "    reg7011 = -sur7000 & +sur7011 & -sur7012 & ~reg7031\n",
    "    reg7012 = -sur7000 & +sur7012 & -sur7013 & ~reg7032\n",
    "    reg7013 = -sur7000 & +sur7013 & -sur7014 & ~reg7033\n",
    "    reg7014 = -sur7000 & +sur7014 & -sur7015 & ~reg7034\n",
    "    reg7015 = -sur7000 & +sur7015 & -sur7016 & ~reg7035\n",
    "    reg7016 = -sur7000 & +sur7016 & -sur7017 & ~reg7036\n",
    "    reg7017 = -sur7000 & +sur7017 & -sur7018 & ~reg7037\n",
    "    reg7018 = -sur7000 & +sur7018 & -sur7019 & ~reg7038\n",
    "    reg7019 = -sur7000 & +sur7019 & -sur7020 & ~reg7039\n",
    "\n",
    "# Piezas delimitador\n",
    "cell7010 = openmc.Cell(region=reg7010, fill=Polyborated, cell_id=7010)\n",
    "cell7012 = openmc.Cell(region=reg7012, fill=Polyborated, cell_id=7012)\n",
    "cell7014 = openmc.Cell(region=reg7014, fill=Polyborated, cell_id=7014)\n",
    "cell7016 = openmc.Cell(region=reg7016, fill=Polyborated, cell_id=7016)\n",
    "cell7018 = openmc.Cell(region=reg7018, fill=Polyborated, cell_id=7018)\n",
    "\n",
    "cell7011 = openmc.Cell(region=reg7011, fill=Lead, cell_id=7011)\n",
    "cell7013 = openmc.Cell(region=reg7013, fill=Lead, cell_id=7013)\n",
    "cell7015 = openmc.Cell(region=reg7015, fill=Lead, cell_id=7015)\n",
    "cell7017 = openmc.Cell(region=reg7017, fill=Lead, cell_id=7017)\n",
    "cell7019 = openmc.Cell(region=reg7019, fill=Lead, cell_id=7019)\n",
    "\n",
    "# Exterior piezas\n",
    "reg7000 = +sur7000 | -sur7010 | +sur7020\n",
    "cell7000 = openmc.Cell(region=reg7000, fill=Air, cell_id=7000)\n",
    "\n",
    "if BLOQUEADO:\n",
    "    u7000 = openmc.Universe(\n",
    "        cells=[\n",
    "            cell7000,\n",
    "            cell7010,\n",
    "            cell7011,\n",
    "            cell7012,\n",
    "            cell7013,\n",
    "            cell7014,\n",
    "            cell7015,\n",
    "            cell7016,\n",
    "            cell7017,\n",
    "            cell7018,\n",
    "            cell7019,\n",
    "        ],\n",
    "        universe_id=7000,\n",
    "    )\n",
    "else:\n",
    "    u7000 = openmc.Universe(\n",
    "        cells=[\n",
    "            cell7000,\n",
    "            cell7010,\n",
    "            cell7011,\n",
    "            cell7012,\n",
    "            cell7013,\n",
    "            cell7014,\n",
    "            cell7015,\n",
    "            cell7016,\n",
    "            cell7017,\n",
    "            cell7018,\n",
    "            cell7019,\n",
    "            cell7030,\n",
    "            cell7031,\n",
    "            cell7032,\n",
    "            cell7033,\n",
    "            cell7034,\n",
    "            cell7035,\n",
    "            cell7036,\n",
    "            cell7037,\n",
    "            cell7038,\n",
    "            cell7039,\n",
    "        ],\n",
    "        universe_id=7000,\n",
    "    )"
   ]
  },
  {
   "cell_type": "code",
   "execution_count": 15,
   "metadata": {},
   "outputs": [],
   "source": [
    "reg6000 = +sur6001 & -sur6002 & -sur6003\n",
    "cell6000 = openmc.Cell(region=reg6000, fill=u7000, cell_id=6000)\n",
    "\n",
    "# Tubo delimitador\n",
    "reg6001 = (+sur6001 & -sur6002 & +sur6003 & -sur6004) | (+sur6000 & -sur6001 & -sur6004)\n",
    "cell6001 = openmc.Cell(region=reg6001, fill=Al6061, cell_id=6001)\n",
    "\n",
    "# Exterior delimitador\n",
    "reg6002 = -sur6000 | +sur6002 | +sur6004\n",
    "cell6002 = openmc.Cell(region=reg6002, fill=Air, cell_id=6002)\n",
    "\n",
    "u6000 = openmc.Universe(cells=[cell6000, cell6001, cell6002], universe_id=6000)"
   ]
  },
  {
   "cell_type": "code",
   "execution_count": 16,
   "metadata": {},
   "outputs": [
    {
     "data": {
      "application/vnd.jupyter.widget-view+json": {
       "model_id": "4162e473de5a40ad8c142bd3ffd1ca02",
       "version_major": 2,
       "version_minor": 0
      },
      "image/png": "[encoded data removed]",
      "text/html": [
       "\n",
       "            <div style=\"display: inline-block;\">\n",
       "                <div class=\"jupyter-widgets widget-label\" style=\"text-align: center;\">\n",
       "                    Figure\n",
       "                </div>\n",
       "                <img src='data:image/png;base64,iVBORw0KGgoAAAANSUhEUgAABQoAAAUSCAYAAABB2MyuAAAAOnRFWHRTb2Z0d2FyZQBNYXRwbG90bGliIHZlcnNpb24zLjEwLjEsIGh0dHBzOi8vbWF0cGxvdGxpYi5vcmcvc2/+5QAAAAlwSFlzAAAPYQAAD2EBqD+naQAARgNJREFUeJzs3X2U1nWd//HXIMyAwgyOAiOFCFl4k4hi4pi23rAC3pQr23qDhkqaBppiaWwqoCWmpaSp1G9XrY6aWkc33bII79eRkhYz1zxKuJAwaBqMuMnt9/dHx2t3ApS7mYuZeTzOuU4z3+/3+l7v6/RpgGffa74VRVEUAQAAAAA6tE7lHgAAAAAAKD+hEAAAAAAQCgEAAAAAoRAAAAAAiFAIAAAAAEQoBAAAAAAiFAIAAAAAEQoBAAAAgAiFAAAAAECEQgAAAAAgQiEAAAAAEKEQAAAAAIhQCAAAAABEKAQAAAAAIhQCAAAAABEKAQAAAIAIhQAAAABAhEIAAAAAIEIhAAAAABChEAAAAACIUAgAAAAARCgEAAAAACIUAgAAAAARCgEAAACACIUAAAAAQIRCAAAAACBCIQAAAAAQoRAAAAAAiFAIAAAAAEQoBAAAAAAiFAIAAAAAEQoBAAAAgAiFAAAAAECEQgAAAAAgQiEAAAAAEKEQAAAAAIhQCAAAAABEKAQAAAAAIhQCAAAAABEKAQAAAIAIhQAAAABAhEIAAAAAIEIhAAAAABChEAAAAACIUAgAAAAARCgEAAAAACIUAgAAAAARCgEAAACACIUAAAAAQIRCAAAAACBCIQAAAAAQoRAAAAAAiFAIAAAAAEQoBAAAAAAiFAIAAAAAEQoBAAAAgAiFAAAAAECEQgAAAAAgQiEAAAAAEKEQAAAAAIhQCAAAAABEKAQAAAAAIhQCAAAAABEKAQAAAIAIhQAAAABAhEIAAAAAIEIhAAAAABChEAAAAACIUAgAAAAARCgEAAAAACIUAgAAAAARCgEAAACACIUAAAAAQIRCAAAAACBCIQAAAAAQoRAAAAAAiFAIAAAAAEQoBAAAAAAiFAIAAAAAEQoBAAAAgAiFAAAAAECEQgAAAAAgQiEAAAAAEKEQAAAAAIhQCAAAAABEKAQAAAAAIhQCAAAAABEKAQAAAIAIhQAAAABAhEIAAAAAIEIhAAAAABChEAAAAACIUAgAAAAARCgEAAAAACIUAgAAAAARCgEAAACACIUAAAAAQIRCAAAAACBCIQAAAAAQoRAAAAAAiFAIAAAAAEQoBAAAAAAiFAIAAAAAEQoBAAAAgAiFAAAAAECEQgAAAAAgQiEAAAAAEKEQAAAAAIhQCAAAAABEKAQAAAAAIhQCAAAAABEKAQAAAIAIhQAAAABAhEIAAAAAIEIhAAAAABChEAAAAACIUAgAAAAARCgEAAAAACIUAgAAAAARCgEAAACACIUAAAAAQIRCAAAAACBCIQAAAAAQoRAAAAAAiFAIAAAAAEQoBAAAAAAiFAIAAAAAEQoBAAAAgAiFAAAAAECEQgAAAAAgQiEAAAAAEKEQAAAAAIhQCAAAAABEKAQAAAAAIhQCAAAAABEKAQAAAIAIhQAAAABAhEIAAAAAIEIhAAAAABChEAAAAACIUAgAAAAARCgEAAAAACIUAgAAAAARCgEAAACACIUAAAAAQIRCAAAAACBCIQAAAAAQoRAAAAAAiFAIAAAAAEQoBAAAAAAiFAIAAAAAEQoBAAAAgAiFAAAAAECSzuUegI5t7dq1WbRoUXr06JGKiopyjwMAAAAdUlEUeeutt9K3b9906uS6so5KKKSsFi1alH79+pV7DAAAACDJwoUL88EPfrDcY1AmQiFl1aNHjyTJwhuS6m5lHgZgQ/5pWbknADqie2rKPQEAHUjTX5J+5//vv9PpmIRCyurdjxtXd0uqty/zMAAbUl1d7gmAjsjfjQAoA78WrGPzoXMAAAAAQCgEAAAAAIRCAAAAACBCIQAAAAAQoRAAAAAAiFAIAAAAAEQoBAAAAAAiFAIAAAAAEQoBAAAAgAiFAAAAAECEQgAAAAAgQiEAAAAAEKEQAAAAAIhQCAAAAABEKAQAAAAAIhQCAAAAABEKAQAAAIAIhQAAAABAhEIAAAAAIEIhAAAAABChEAAAAACIUAgAAAAARCgEAAAAACIUAgAAAAARCgEAAACACIUAAAAAQIRCAAAAACBCIQAAAAAQoRAAAAAAiFAIAAAAAEQoBAAAAAAiFAIAAAAAEQoBAAAAgAiFAAAAAECEQgAAAAAgQiEAAAAAEKEQAAAAAIhQCAAAAABEKAQAAAAAIhQCAAAAABEKAQAAAIAIhQAAAABAhEIAAAAAIEIhAAAAABChEAAAAACIUAgAAAAARCgEAAAAACIUAgAAAAARCgEAAACACIUAAAAAQIRCAAAAACBCIQAAAAAQoRAAAAAAiFAIAAAAAEQoBAAAAAAiFAIAAAAAEQoBAAAAgAiFAAAAAECEQgAAAAAgQiEAAAAAEKEQAAAAAIhQCAAAAABEKAQAAAAAIhQCAAAAABEKAQAAAIAIhQAAAABAhEIAAAAAIEIhAAAAAJCkc7kHAICOoKKiotwj0EqKoij3CAAAsFlcUQgAAAAACIUAAAAAgFAIAAAAAEQoBAAAAAAiFAIAAAAAEQoBAAAAgAiFAAAAAECEQgAAAAAgQmGHNW3atHzsYx9Ljx490rt37xx//PF58cUXmx3zzjvvZPz48dlpp53SvXv3jB49OkuWLGl2zIIFC3LMMcdk++23T+/evfOlL30pq1evbs23AgAAAMBWIBR2UI899ljGjx+fp59+OjNnzsyqVaty1FFH5e233y4dc+GFF+aBBx7Ivffem8ceeyyLFi3KCSecUNq/Zs2aHHPMMVm5cmWeeuqpfO9738vtt9+eyy+/vBxvCQAAAIAtUFEURVHuISi/119/Pb17985jjz2WT3ziE1m2bFl69eqVO++8M//4j/+YJPn973+fPffcMw0NDTnooIPys5/9LMcee2wWLVqUPn36JElmzJiRSy65JK+//noqKyvXeZ0VK1ZkxYoVpe+bmprSr1+/LPt/SfX2rfNeATbZKVv+R2VFRcVWGIS2wF+t2Gru9HMDgNbT9D9JzVnJsmXLUl1dXe5xKBNXFJLkrz8IkqS2tjZJMmfOnKxatSrDhw8vHbPHHntk1113TUNDQ5KkoaEh++yzTykSJsmIESPS1NSU559/fr2vM23atNTU1JQe/fr1a6m3BAAAAMAmEArJ2rVrc8EFF+TjH/94PvrRjyZJGhsbU1lZmZ49ezY7tk+fPmlsbCwd838j4bv73923PpMmTcqyZctKj4ULF27ldwMAAADA5uhc7gEov/Hjx+d3v/tdnnzyyRZ/raqqqlRVVbX46wAAAACwaVxR2MFNmDAhDz74YB555JF88IMfLG2vq6vLypUrs3Tp0mbHL1myJHV1daVj/vYuyO9+/+4xAAAAALQNQmEHVRRFJkyYkPvuuy8PP/xwBgwY0Gz/0KFD06VLl8yaNau07cUXX8yCBQtSX1+fJKmvr89zzz2X1157rXTMzJkzU11dnb322qt13ggAAAAAW4WPHndQ48ePz5133pl/+7d/S48ePUq/U7CmpibdunVLTU1Nxo0bl4kTJ6a2tjbV1dU577zzUl9fn4MOOihJctRRR2WvvfbKaaedlmuuuSaNjY259NJLM378eB8vBgAAAGhjhMIO6pZbbkmSHHbYYc2233bbbTn99NOTJNdff306deqU0aNHZ8WKFRkxYkRuvvnm0rHbbbddHnzwwZx77rmpr6/PDjvskLFjx+aKK65orbcBAAAAwFZSURRFUe4h6LiamppSU1OTZf8vqd6+3NMAbMApW/5HZUVFxVYYhLbAX63Yau70cwOA1tP0P0nNWcmyZctSXV1d7nEoE7+jEAAAAAAQCgEAAAAAoRAAAAAAiFAIAAAAAEQoBAAAAAAiFAIAAAAAEQoBAAAAgAiFAAAAAECEQgAAAAAgQiEAAAAAEKEQAAAAAIhQCAAAAABEKAQAAAAAIhQCAAAAABEKAQAAAIAIhQAAAABAhEIAAAAAIEIhAAAAABChEAAAAACIUAgAAAAARCgEAAAAACIUAgAAAAARCgEAAACACIUAAAAAQIRCAAAAACBCIQAAAAAQoRAAAAAAiFAIAAAAAEQoBAAAAAAiFAIAAAAAEQoBAAAAgAiFAAAAAECEQgAAAAAgQiEAAAAAEKEQAAAAAIhQCAAAAABEKAQAAAAAIhQCAAAAABEKAQAAAIAIhQAAAABAhEIAAAAAIEIhAAAAABChEAAAAACIUAgAAAAARCgEAAAAACIUAgAAAAARCgEAAACACIUAAAAAQIRCAAAAACBCIQAAAAAQoRAAAAAAiFAIAAAAAEQoBAAAAAAiFAIAAAAAEQoBAAAAgAiFAAAAAECEQgAAAAAgQiEAAAAAEKEQAAAAAIhQCAAAAABEKAQAAAAAIhQCAAAAABEKAQAAAIAIhQAAAABAhEIAAAAAIEIhAAAAABChEAAAAACIUAgAAAAARCgEAAAAACIUAgAAAAARCgEAAACACIUAAAAAQIRCAAAAACBCIQAAAAAQoRAAAAAAiFAIAAAAAEQoBAAAAAAiFAIAAAAAEQoBAAAAgAiFAAAAAECEQgAAAAAgQiEAAAAAEKEQAAAAAIhQCAAAAABEKAQAAAAAIhQCAAAAABEKAQAAAIAIhQAAAABAhEIAAAAAIEIhAAAAABChEAAAAACIUAgAAAAARCgEAAAAACIUAgAAAABJOpd7AADoCIqiKPcIAAAA78kVhQAAAACAUAgAAAAACIUAAAAAQIRCAAAAACBCIQAAAAAQoRAAAAAAiFAIAAAAAEQoBAAAAAAiFAIAAAAAEQoBAAAAgAiFAADt0tSpUzN16tRyj7HVtdf3BQCwLRAKAQAAAAChEAAAAAAQCgEAAACACIUAAAAAQJLO5R4AAIDWV1FRsVXOUxRFq5wXAICW54pCAAAAAEAoBAAAAACEQgAAAAAgQiEAAAAAEKEQAAAAAIhQCAAAAABEKAQAAAAAknQu9wAAUG4VY97ngDEVrTIHbE1Tpkwp9wgtqqLC/y6LO8o9AQDQ3riiEAAAAAAQCgEAAAAAoRAAAAAAiFAIAAAAAEQoBAAAAAAiFAIAAAAAEQoBAAAAgAiFAAAAAECSzuUeAACA1ldMPn7LTzLlvpY5LwAAZeGKQgAAAABAKAQAAAAAhEIAAAAAIEIhAAAAABChEAAAAACIUAgAAAAARCgEAAAAACIUAgAAAAARCgEAAACAJJ3LPQAAlFtxR7kngK1v6kvlnqBl+d8tAMDW54pCAAAAAEAoBAAAAACEQgAAAAAgQiEAAAAAEKEQAAAAAIi7HgMAdEgVU+/f4nMUU9azccp9qaioaJlzAwDQolxRCAAAAAAIhQAAAACAUAgAAAAARCgEAAAAACIUAgAAAAARCgEAAACACIUAAAAAQIRCAAAAACBCIQAAAAAQoRAAAAAAiFAIAAAAAEQo7NAef/zxHHfccenbt28qKipy//33N9t/+umnp6Kiotlj5MiRzY558803M2bMmFRXV6dnz54ZN25cli9f3orvAgAAAICtQSjswN5+++3su+++uemmmzZ4zMiRI7N48eLS46677mq2f8yYMXn++eczc+bMPPjgg3n88cdz9tlnt/ToAAAAAGxlncs9AOUzatSojBo16j2PqaqqSl1d3Xr3vfDCC3nooYfy61//OgcccECS5MYbb8zRRx+db3zjG+nbt+9WnxkAAACAluGKQt7To48+mt69e2fQoEE599xz88Ybb5T2NTQ0pGfPnqVImCTDhw9Pp06dMnv27PWeb8WKFWlqamr2AAAAAKD8hEI2aOTIkfn+97+fWbNm5etf/3oee+yxjBo1KmvWrEmSNDY2pnfv3s2e07lz59TW1qaxsXG955w2bVpqampKj379+rX4+wAAAADg/fnoMRt00kknlb7eZ599Mnjw4HzoQx/Ko48+miOPPHKzzjlp0qRMnDix9H1TU5NYCABlUEw+vk2eGwCAluOKQjbawIEDs/POO+fll19OktTV1eW1115rdszq1avz5ptvbvD3GlZVVaW6urrZAwAAAIDyEwrZaH/84x/zxhtvZJdddkmS1NfXZ+nSpZkzZ07pmIcffjhr167NsGHDyjUmAAAAAJvBR487sOXLl5euDkyS+fPnZ+7cuamtrU1tbW2mTp2a0aNHp66uLvPmzcvFF1+c3XffPSNGjEiS7Lnnnhk5cmTOOuuszJgxI6tWrcqECRNy0kknueMxAAAAQBvjisIO7Jlnnsl+++2X/fbbL0kyceLE7Lfffrn88suz3Xbb5be//W0++clP5iMf+UjGjRuXoUOH5oknnkhVVVXpHHfccUf22GOPHHnkkTn66KNzyCGH5Lvf/W653hIAAAAAm8kVhR3YYYcdlqIoNrj/5z//+fueo7a2NnfeeefWHAsAAACAMnBFIQAAAAAgFAIAAAAAQiEAAAAAEKEQAAAAAIhQCAAAAABEKAQAAAAAIhQCAAAAABEKAQAAAIAIhQAAAABAhEIAAAAAIEIhAAAAAJCkc7kHAACg9VVMvX+Lnl8UxYZ3TrkvFRUVW3b+KVv0dAAANoMrCgEAAAAAoRAAAAAAEAoBAAAAgAiFAAAAAECEQgAAAAAgQiEAAAAAEKEQAAAAAIhQCAAAAABEKAQAAAAAIhQCAAAAABEKAQAAAIAIhQAAAABAhEIAAAAAIEIhAAAAABChEAAAAABI0rncAwAA0PqKyce36fMDALD1uaIQAAAAABAKAQAAAAChEAAAAACIUAgAAAAARCgEAAAAACIUAgAAAAARCgEAAACACIUAAAAAQIRCAAAAACBCIQAAAAAQoRAAAAAAiFAIAAAAAEQoBAAAAAAiFAIAAAAAEQoBAAAAgAiFAAAAAECSzuUeAACA1lcx9f7Nfm5RFC16/iQppmzR0wEA2AyuKAQAAAAAhEIAAAAAQCgEAAAAACIUAgAAAAARCgEAAACACIUAAAAAQIRCAAAAACBCIQAAAAAQoRAAAAAAiFAIAAAAAEQoBAAAAAAiFAIAAAAAEQoBAAAAgAiFAAAAAECEQgAAAAAgQiEAAAAAkKRzuQcAAKD1FZOPb9nzF0Uy5R9a9DUAANi6XFEIAAAAAAiFAAAAAIBQCAAAAABEKAQAAAAAIhQCAAAAABEKAQAAAIAIhQAAAABAhEIAAAAAIEIhAAAAABChEAAAAACIUAgAAAAARCgEAAAAACIUAgAAAAARCgEAAACACIUAAAAAQJLO5R4AAIDWVzH1/s1/8tSNPXDzX6OYstlPBQBgM7miEAAAAAAQCgEAAAAAoRAAAAAAiFAIAAAAAEQoBAAAAAAiFAIAAAAAEQoBAAAAgAiFAAAAAECEQgAAAAAgQiEAAAAAEKEQAAAAAIhQCAAAAABEKAQAAAAAIhQCAAAAABEKAQAAAIAIhQAAAABAks7lHgAAgNZXTD5+s55XMfW+TXmVFJP/YbNeBwCA1ueKQgAAAABAKAQAAAAAhEIAAAAAIEIhAAAAABChEAAAAACIUAgAAAAARCgEAAAAACIUAgAAAAARCgEAAACACIUAAAAAQIRCAAAAACBCIQAAAAAQoRAAAAAAiFAIAAAAAEQoBAAAAAAiFAIAAAAASTqXewAAAMpgyn2b9bRiyqY+Y/NeBwCA1ueKQgAAAADAFYUAAB3NY489Vu4RNsrf/d3flXsEAIAORSgEAOhgBDgAANbHR48BAAAAAKEQAAAAABAKAQAAAIAIhQAAAABAhEIAAAAAIEIhAEC7NnXq1HKPsNW0p/cCALAtEgoBAAAAAKEQAKA9mvzhKeUeocW05/cGAFBOQiEAAAAAIBQCAAAAAEIhAAAAABChEACg3WsPdwtuD+8BAGBbJxQCALRT7fGmH+3xPQEAbCuEQgAAAABAKAQAAAAAhEIAAAAAIEIhAECH0JZvBtKWZwcAaEuEQgCAdqw93fyjPb0XAIBtkVAIAAAAAAiFAAAAAIBQCAAAAABEKAQA6DDa4k1B2uLMAABtlVAIANDOtYebgLSH9wAAsK0TCgEAAAAAoRAAAAAAEAoBAAAAgAiFAAAdSlu6OUhbmhUAoD0QCgEAOoC2fDOQtjw7AEBbIhQCAAAAAEIhAAAAACAUAgAAAAARCgEAAACACIUAAB3GuzcFaQt3E353RjcyAQBoPUIhAAAAACAUAgAAAABCIQAAAAAQoRAAAAAAiFAIANAhbcs3NNmWZwMAaM+EQgCADqQt3UW4Lc0KANAeCIUAAAAAgFAIAAAAAAiFHdrjjz+e4447Ln379k1FRUXuv//+ZvuLosjll1+eXXbZJd26dcvw4cPz0ksvNTvmzTffzJgxY1JdXZ2ePXtm3LhxWb58eSu+CwAAAAC2BqGwA3v77bez77775qabblrv/muuuSY33HBDZsyYkdmzZ2eHHXbIiBEj8s4775SOGTNmTJ5//vnMnDkzDz74YB5//PGcffbZrfUWAIAtsC3eNGRbnAkAoKPoXO4BKJ9Ro0Zl1KhR691XFEWmT5+eSy+9NJ/61KeSJN///vfTp0+f3H///TnppJPywgsv5KGHHsqvf/3rHHDAAUmSG2+8MUcffXS+8Y1vpG/fvq32XgCAjTf5w1My9aUp5R7jPbmRCQBA63NFIes1f/78NDY2Zvjw4aVtNTU1GTZsWBoaGpIkDQ0N6dmzZykSJsnw4cPTqVOnzJ49e73nXbFiRZqampo9AAAAACg/oZD1amxsTJL06dOn2fY+ffqU9jU2NqZ3797N9nfu3Dm1tbWlY/7WtGnTUlNTU3r069evBaYHAAAAYFMJhbSqSZMmZdmyZaXHwoULyz0SAAAAABEK2YC6urokyZIlS5ptX7JkSWlfXV1dXnvttWb7V69enTfffLN0zN+qqqpKdXV1swcAAAAA5ScUsl4DBgxIXV1dZs2aVdrW1NSU2bNnp76+PklSX1+fpUuXZs6cOaVjHn744axduzbDhg1r9ZkBgI337s1CtqW7DL87ixuZAACUh7sed2DLly/Pyy+/XPp+/vz5mTt3bmpra7PrrrvmggsuyFe/+tV8+MMfzoABA3LZZZelb9++Of7445Mke+65Z0aOHJmzzjorM2bMyKpVqzJhwoScdNJJ7ngMAAAA0MYIhR3YM888k8MPP7z0/cSJE5MkY8eOze23356LL744b7/9ds4+++wsXbo0hxxySB566KF07dq19Jw77rgjEyZMyJFHHplOnTpl9OjRueGGG1r9vQAAAACwZYTCDuywww5LURQb3F9RUZErrrgiV1xxxQaPqa2tzZ133tkS4wEAAADQivyOQgAAAABAKAQAAAAAhEIAAAAAIEIhAAAAABChEAAAAACIUAgAAAAARCgEAAAAACIUAgAAAAARCgEAAACACIUAAAAAQIRCAAAAACBCIQAAAAAQoRAAAAAAiFAIAAAAAEQoBAAAAAAiFAIAAAAAEQoBAAAAgAiFAAAAAECEQgAAAAAgQiEAAAAAEKEQAAAAAIhQCAAAAABEKAQAAAAAIhQCAAAAABEKAQAAAIAIhQAAAABAhEIAAAAAIEIhAAAAABChEAAAAACIUAgAAAAARCgEAAAAACIUAgAAAAARCgEAAACACIUAAAAAQIRCAAAAACBCIQAAAAAQoRAAAAAAiFAIAAAAAEQoBAAAAAAiFAIAAAAAEQoBAAAAgAiFAAAAAECEQgAAAAAgQiEAAAAAEKEQAAAAAIhQCAAAAABEKAQAAAAAIhQCAAAAABEKAQAAAIAIhQAAAABAhEIAAAAAIEIhAAAAABChEAAAAACIUAgAAAAARCgEAAAAACIUAgAAAABJOpd7ANZv4sSJm/ycSy+9NLW1tS0wDQAAAADtnVC4jZo+fXrq6+tTWVm5Ucc/+eSTmTBhglAIAAAAwGYRCrdh9913X3r37r1Rx/bo0aOFpwEAAACgPfM7CrdRt912W2pqajb6+O985zvp06dPC04EAAAAQHvmisJt1NixYzfp+FNOOaWFJgEAAACgIxAK25jly5dn7dq1zbZVV1eXaRoAAAAA2gsfPW4D5s+fn2OOOSY77LBDampqsuOOO2bHHXdMz549s+OOO5Z7PAAAAADaAVcUtgGnnnpqiqLIrbfemj59+qSioqLcIwEAAADQzgiFbcCzzz6bOXPmZNCgQeUeBQAAAIB2ykeP24CPfexjWbhwYbnHAAAAAKAdc0VhG/Av//IvOeecc/Lqq6/mox/9aLp06dJs/+DBg8s0GQAAAADthVDYBrz++uuZN29ezjjjjNK2ioqKFEWRioqKrFmzpozTAQAAANAeCIVtwJlnnpn99tsvd911l5uZAAAAANAihMI24L//+7/zk5/8JLvvvnu5RwEAAACgnXIzkzbgiCOOyLPPPlvuMQAAAABox1xR2AYcd9xxufDCC/Pcc89ln332WedmJp/85CfLNBkAAAAA7YVQ2Aacc845SZIrrrhinX1uZgIAAADA1iAUtgFr164t9wgAAAAAtHN+RyEAAAAAIBS2Beeff35uuOGGdbZ/+9vfzgUXXND6AwEAAADQ7giFbcCPf/zjfPzjH19n+8EHH5wf/ehHZZgIAAAAgPZGKGwD3njjjdTU1Kyzvbq6On/605/KMBEAAAAA7Y1Q2Absvvvueeihh9bZ/rOf/SwDBw4sw0QAAAAAtDfuetwGTJw4MRMmTMjrr7+eI444Ikkya9asfPOb38z06dPLOxwAAAAA7YJQ2AaceeaZWbFiRb72ta/lyiuvTJLstttuueWWW/KZz3ymzNMBAAAA0B4IhW3Eueeem3PPPTevv/56unXrlu7du5d7JAAAAADaEaGwjenVq1e5RwAAAACgHXIzk23U/vvvnz//+c8bffwhhxySV199tQUnAgAAAKA9c0XhNmru3Ll59tlnU1tbu9HHr1ixooWnAgAAAKC9Egq3YUceeWSKotioYysqKlp4GgAAAADaM6FwGzV//vxNfs4HP/jBFpgEAAAAgI5AKNxG9e/fv9wjAAAAANCBuJkJAAAAACAUAgAAAABCIQAAAAAQoRAAAAAAiFDYJowdOzaPP/54uccAAAAAoB0TCtuAZcuWZfjw4fnwhz+cq666Kq+++mq5RwIAAACgnREK24D7778/r776as4999zcfffd2W233TJq1Kj86Ec/yqpVq8o9HgAAAADtgFDYRvTq1SsTJ07Ms88+m9mzZ2f33XfPaaedlr59++bCCy/MSy+9VO4RAQAAAGjDhMI2ZvHixZk5c2ZmzpyZ7bbbLkcffXSee+657LXXXrn++uvLPR4AAAAAbZRQ2AasWrUqP/7xj3Psscemf//+uffee3PBBRdk0aJF+d73vpdf/vKXueeee3LFFVeUe1QAAAAA2qjO5R6A97fLLrtk7dq1Ofnkk/OrX/0qQ4YMWeeYww8/PD179mz12QAAAABoH4TCNuD666/Ppz/96XTt2nWDx/Ts2TPz589vxakAAAAAaE+EwjbgtNNOK/cIAAAAALRzfkchAAAAACAUAgAAAABCIQAAAAAQoRAAAAAAiFAIAAAAAEQoBAAAAAAiFAIAAAAAEQoBAAAAgAiFAAAAAECEQgAAAAAgQiEAAAAAEKEQAAAAAIhQCAAAAABEKAQAAAAAIhQCAAAAABEKAQAAAIAIhQAAAABAhEIAAAAAIEIhAAAAABChEAAAAACIUAgAAAAARCgEAAAAACIUAgAAAAARCgEAAACACIUAAAAAQIRCAAAAACBCIQAAAAAQoRAAAAAAiFAIAAAAAEQoBAAAAAAiFAIAAAAAEQoBAAAAgAiFAAAAAECEQgAAAAAgQiEAAAAAEKEQAAAAAIhQCAAAAABEKAQAAAAAIhQCAAAAABEKAQAAAIAIhQAAAABAhEIAAAAAIEIhAAAAABChEAAAAACIUAgAAAAARCgEAAAAACIUAgAAAAARCgEAAACACIUAAAAAQIRCAAAAACBCIQAAAAAQoRAAAAAAiFAIAAAAAEQoBAAAAAAiFAIAAAAAEQp5D1OmTElFRUWzxx577FHa/84772T8+PHZaaed0r1794wePTpLliwp48QAAAAAbC6hkPe09957Z/HixaXHk08+Wdp34YUX5oEHHsi9996bxx57LIsWLcoJJ5xQxmkBAAAA2Fydyz0A27bOnTunrq5une3Lli3Lv/7rv+bOO+/MEUcckSS57bbbsueee+bpp5/OQQcdtN7zrVixIitWrCh939TU1DKDAwAAALBJXFHIe3rppZfSt2/fDBw4MGPGjMmCBQuSJHPmzMmqVasyfPjw0rF77LFHdt111zQ0NGzwfNOmTUtNTU3p0a9fvxZ/DwAAAAC8P6GQDRo2bFhuv/32PPTQQ7nlllsyf/78HHrooXnrrbfS2NiYysrK9OzZs9lz+vTpk8bGxg2ec9KkSVm2bFnpsXDhwhZ+FwAAAABsDB89ZoNGjRpV+nrw4MEZNmxY+vfvn3vuuSfdunXbrHNWVVWlqqpqa40IAAAAwFbiikI2Ws+ePfORj3wkL7/8curq6rJy5cosXbq02TFLlixZ7+80BAAAAGDbJhSy0ZYvX5558+Zll112ydChQ9OlS5fMmjWrtP/FF1/MggULUl9fX8YpAQAAANgcPnrMBn3xi1/Mcccdl/79+2fRokWZPHlytttuu5x88smpqanJuHHjMnHixNTW1qa6ujrnnXde6uvrN3jHYwAAAAC2XUIhG/THP/4xJ598ct5444306tUrhxxySJ5++un06tUrSXL99denU6dOGT16dFasWJERI0bk5ptvLvPUAAAAAGwOoZAN+uEPf/ie+7t27ZqbbropN910UytNBAAAAEBL8TsKAQAAAAChEAAAAAAQCgEAAACACIUAAAAAQIRCAAAAACBCIQAAAAAQoRAAAAAAiFAIAAAAAEQoBAAAAAAiFAIAAAAAEQoBAAAAgAiFAAAAAECEQgAAAAAgQiEAAAAAEKEQAAAAAIhQCAAAAABEKAQAAAAAIhQCAAAAABEKAQAAAIAIhQAAAABAhEIAAAAAIEIhAAAAABChEAAAAACIUAgAAAAARCgEAAAAACIUAgAAAAARCgEAAACACIUAAAAAQIRCAAAAACBCIQAAAAAQoRAAAAAAiFAIAAAAAEQoBAAAAAAiFAIAAAAAEQoBAAAAgAiFAAAAAECEQgAAAAAgQiEAAAAAEKEQAAAAAIhQCAAAAABEKAQAAAAAIhQCAAAAABEKAQAAAIAIhQAAAABAhEIAAAAAIEIhAAAAABChEAAAAACIUAgAAAAARCgEAAAAACIUAgAAAAARCgEAAACACIUAAAAAQIRCAAAAACBCIQAAAAAQoRAAAAAAiFAIAAAAAEQoBAAAAAAiFAIAAAAAEQoBAAAAgAiFAAAAAECEQgAAAAAgQiEAAAAAEKEQAAAAAIhQCAAAAABEKAQAAAAAIhQCAAAAABEKAQAAAIAIhQAAAABAhEIAAAAAIEIhAAAAABChEAAAAACIUAgAAAAARCgEAAAAACIUAgAAAAARCgEAAACACIUAAAAAQIRCAAAAACBCIQAAAAAQoRAAAAAAiFAIAAAAAEQoBAAAAAAiFAIAAAAAEQoBAAAAgAiFAAAAAECEQgAAAAAgQiEAAAAAEKEQAAAAAIhQCAAAAABEKAQAAAAAIhQCAAAAABEKAQAAAIAIhQAAAABAhEIAAAAAIEIhAAAAABChEAAAAACIUAgAAAAARCgEAAAAACIUAgAAAAARCgEAAACACIUAAAAAQIRCAAAAACBCIQAAAAAQoRAAAAAAiFAIAAAAAEQoBAAAAAAiFAIAAAAAEQoBAAAAgAiFAAAAAECEQgAAAAAgQiEAAAAAEKEQAAAAAIhQCAAAAABEKAQAAAAAIhQCAAAAABEKAQAAAIAIhQAAAABAhEIAAAAAIEIhAAAAABChEAAAAACIUAgAAAAARCgEAAAAACIUAgAAAAARCgEAAACACIUAAAAAQIRCAAAAACBCIQAAAAAQoRAAAAAAiFAIAAAAAEQoBAAAAAAiFAIAAAAAEQoBAAAAgAiFAAAAAECEQgAAAAAgQiEAAAAAEKEQAAAAAIhQCAAAAABEKAQAAAAAIhQCAAAAABEKAQAAAIAIhQAAAABAhEIAAAAAIEIhAAAAABChEAAAAACIUAgAAAAARCgEAAAAACIUAgAAAAARCgEAAACACIUAAAAAQIRCAAAAACBCIQAAAAAQoRAAAAAAiFAIAAAAAEQoBAAAAAAiFAIAAAAAEQoBAAAAgAiFbCU33XRTdtttt3Tt2jXDhg3Lr371q3KPBAAAAMAmEArZYnfffXcmTpyYyZMn5ze/+U323XffjBgxIq+99lq5RwMAAABgIwmFbLHrrrsuZ511Vs4444zstddemTFjRrbffvvceuut5R4NAAAAgI0kFLJFVq5cmTlz5mT48OGlbZ06dcrw4cPT0NCwzvErVqxIU1NTswcAAAAA5ScUskX+9Kc/Zc2aNenTp0+z7X369EljY+M6x0+bNi01NTWlR79+/VprVAAAAADeg1BIq5o0aVKWLVtWeixcuLDcIwEAAACQpHO5B6Bt23nnnbPddttlyZIlzbYvWbIkdXV16xxfVVWVqqqq1hoPAAAAgI3kikK2SGVlZYYOHZpZs2aVtq1duzazZs1KfX19GScDAAAAYFO4opAtNnHixIwdOzYHHHBADjzwwEyfPj1vv/12zjjjjHKPBgAAAMBGEgrZYieeeGJef/31XH755WlsbMyQIUPy0EMPrXODEwAAAAC2XUIhW8WECRMyYcKEco8BAAAAwGbyOwoBAAAAAKEQAAAAABAKAQAAAIAIhQAAAABAhEIAAAAAIEIhAAAAABChEAAAAACIUAgAAAAARCgEAAAAACIUAgAAAAARCgEAAACACIUAAAAAQIRCAAAAACBCIQAAAAAQoRAAAAAAiFAIAAAAAEQoBAAAAAAiFAIAAAAAEQoBAAAAgAiFAAAAAECEQgAAAAAgQiEAAAAAEKEQAAAAAIhQCAAAAABEKAQAAAAAIhQCAAAAABEKAQAAAIAIhQAAAABAhEIAAAAAIEIhAAAAABChEAAAAACIUAgAAAAARCgEAAAAACIUAgAAAAARCgEAAACACIUAAAAAQIRCAAAAACBCIQAAAAAQoRAAAAAAiFAIAAAAAEQoBAAAAAAiFAIAAAAAEQoBAAAAgAiFAAAAAECEQgAAAAAgQiEAAAAAEKEQAAAAAIhQCAAAAABEKAQAAAAAIhQCAAAAABEKAQAAAIAIhQAAAABAhEIAAAAAIEIhAAAAABChEAAAAACIUAgAAAAARCgEAAAAACIUAgAAAAARCgEAAACACIUAAAAAQIRCAAAAACBCIQAAAAAQoRAAAAAAiFAIAAAAAEQoBAAAAAAiFAIAAAAAEQoBAAAAgAiFAAAAAECEQgAAAAAgQiEAAAAAEKEQAAAAAIhQCAAAAABEKAQAAAAAIhQCAAAAABEKAQAAAIAIhQAAAABAhEIAAAAAIEIhAAAAABChEAAAAACIUAgAAAAARCgEAAAAACIUAgAAAAARCgEAAACACIUAAAAAQIRCAAAAACBCIQAAAAAQoRAAAAAAiFAIAAAAAEQoBAAAAAAiFAIAAAAAEQoBAAAAgAiFAAAAAECEQgAAAAAgQiEAAAAAEKEQAAAAAIhQCAAAAABEKAQAAAAAIhQCAAAAABEKAQAAAIAIhQAAAABAhEIAAAAAIEIhAAAAABChEAAAAACIUAgAAAAARCgEAAAAACIUAgAAAAARCgEAAACACIUAAAAAQIRCAAAAACBCIQAAAAAQoRAAAAAAiFAIAAAAAEQoBAAAAAAiFAIAAAAAEQoBAAAAgAiFAAAAAECEQgAAAAAgQiEAAAAAEKEQAAAAAIhQCAAAAABEKAQAAAAAIhQCAAAAABEKAQAAAIAIhQAAAABAhEIAAAAAIEIhAAAAABChEAAAAACIUAgAAAAARCgEAAAAACIUAgAAAAARCgEAAACACIUAAAAAQIRCAAAAACBCIQAAAAAQoRAAAAAAiFAIAAAAAEQoBAAAAAAiFAIAAAAAEQoBAAAAgAiFAAAAAECEQgAAAAAgQiEAAAAAEKEQAAAAAIhQCAAAAABEKAQAAAAAIhQCAAAAABEKAQAAAIAIhQAAAABAhEIAAAAAIEIhAAAAABChEAAAAACIUAgAAAAARCgEAAAAACIUAgAAAAARCgEAAACACIUAAAAAQIRC3sNuu+2WioqKZo+rr7662TG//e1vc+ihh6Zr167p169frrnmmjJNCwAAAMCW6FzuAdi2XXHFFTnrrLNK3/fo0aP0dVNTU4466qgMHz48M2bMyHPPPZczzzwzPXv2zNlnn12OcQEAAADYTEIh76lHjx6pq6tb77477rgjK1euzK233prKysrsvffemTt3bq677jqhEAAAAKCN8dFj3tPVV1+dnXbaKfvtt1+uvfbarF69urSvoaEhn/jEJ1JZWVnaNmLEiLz44ov585//vN7zrVixIk1NTc0eAAAAAJSfKwrZoPPPPz/7779/amtr89RTT2XSpElZvHhxrrvuuiRJY2NjBgwY0Ow5ffr0Ke3bcccd1znntGnTMnXq1JYfHgAAAIBN4orCDubLX/7yOjco+dvH73//+yTJxIkTc9hhh2Xw4ME555xz8s1vfjM33nhjVqxYsdmvP2nSpCxbtqz0WLhw4dZ6awAAAABsAVcUdjAXXXRRTj/99Pc8ZuDAgevdPmzYsKxevTqvvPJKBg0alLq6uixZsqTZMe9+v6Hfa1hVVZWqqqpNHxwAAACAFiUUdjC9evVKr169Nuu5c+fOTadOndK7d+8kSX19fb7yla9k1apV6dKlS5Jk5syZGTRo0Ho/dgwAAADAtstHj1mvhoaGTJ8+Pc8++2z+8Ic/5I477siFF16YU089tRQBTznllFRWVmbcuHF5/vnnc/fdd+db3/pWJk6cWObpAQAAANhUrihkvaqqqvLDH/4wU6ZMyYoVKzJgwIBceOGFzSJgTU1NfvGLX2T8+PEZOnRodt5551x++eU5++yzyzg5AAAAAJtDKGS99t9//zz99NPve9zgwYPzxBNPtMJEAAAAALQkHz0GAAAAAIRCAAAAAEAoBAAAAAAiFAIAAAAAEQoBAAAAgAiFAAAAAECEQgAAAAAgQiEAAAAAEKEQAAAAAIhQCAAAAABEKAQAAAAAIhQCAAAAABEKAQAAAIAIhQAAAABAhEIAAAAAIEIhAAAAABChEAAAAACIUAgAAAAARCgEAAAAACIUAgAAAAARCgEAAACACIUAAAAAQIRCAAAAACBCIQAAAAAQoRAAAAAAiFAIAAAAAEQoBAAAAAAiFAIAAAAAEQoBAAAAgAiFAAAAAECEQgAAAAAgQiEAAAAAEKEQAAAAAIhQCAAAAABEKAQAAAAAIhQCAAAAABEKAQAAAIAIhQAAAABAhEIAAAAAIEIhAAAAABChEAAAAACIUAgAAAAARCgEAAAAACIUAgAAAAARCgEAAACACIUAAAAAQIRCAAAAACBCIQAAAAAQoRAAAAAAiFAIAAAAAEQoBAAAAAAiFAIAAAAAEQoBAAAAgAiFAAAAAECEQgAAAAAgQiEAAAAAEKEQAAAAAIhQCAAAAABEKAQAAAAAIhQCAAAAABEKAQAAAIAIhQAAAABAhEIAAAAAIEIhAAAAABChEAAAAACIUAgAAAAARCgEAAAAACIUAgAAAAARCgEAAACACIUAAAAAQIRCAAAAACBCIQAAAAAQoRAAAAAAiFAIAAAAAEQoBAAAAACSdC73AHRsRVEkSZr+UuZBAKADeuedd5IkTU1NZZ7kr0rz/E+ZBwGADujdf5e/++90OqaKwgqgjP7whz/kQx/6ULnHAAAAAJLMmzcvAwcOLPcYlIkrCimr2traJMmCBQtSU1NT5mngfzU1NaVfv35ZuHBhqquryz0OlFibbIusS7ZV1ibbKmuTbdGyZcuy6667lv6dTsckFFJWnTr99ddk1tTU+AOSbVJ1dbW1yTbJ2mRbZF2yrbI22VZZm2yL3v13Oh2T//YBAAAAAKEQAAAAABAKKbOqqqpMnjw5VVVV5R4FmrE22VZZm2yLrEu2VdYm2yprk22RdUnirscAAAAAQFxRCAAAAABEKAQAAAAAIhQCAAAAABEKAQAAAIAIhQAAAABAhEJa0de+9rUcfPDB2X777dOzZ8/1HlNRUbHO44c//GGzYx599NHsv//+qaqqyu67757bb7+95Yen3dqYdblgwYIcc8wx2X777dO7d+986UtfyurVq5sdY13SGnbbbbd1fkZeffXVzY757W9/m0MPPTRdu3ZNv379cs0115RpWjqSm266Kbvttlu6du2aYcOG5Ve/+lW5R6IDmTJlyjo/G/fYY4/S/nfeeSfjx4/PTjvtlO7du2f06NFZsmRJGSemvXr88cdz3HHHpW/fvqmoqMj999/fbH9RFLn88suzyy67pFu3bhk+fHheeumlZse8+eabGTNmTKqrq9OzZ8+MGzcuy5cvb8V3QXv0fmvz9NNPX+fn6MiRI5sdY212HEIhrWblypX59Kc/nXPPPfc9j7vtttuyePHi0uP4448v7Zs/f36OOeaYHH744Zk7d24uuOCCfPazn83Pf/7zFp6e9ur91uWaNWtyzDHHZOXKlXnqqafyve99L7fffnsuv/zy0jHWJa3piiuuaPYz8rzzzivta2pqylFHHZX+/ftnzpw5ufbaazNlypR897vfLePEtHd33313Jk6cmMmTJ+c3v/lN9t1334wYMSKvvfZauUejA9l7772b/Wx88sknS/suvPDCPPDAA7n33nvz2GOPZdGiRTnhhBPKOC3t1dtvv5199903N91003r3X3PNNbnhhhsyY8aMzJ49OzvssENGjBiRd955p3TMmDFj8vzzz2fmzJl58MEH8/jjj+fss89urbdAO/V+azNJRo4c2ezn6F133dVsv7XZgRTQym677baipqZmvfuSFPfdd98Gn3vxxRcXe++9d7NtJ554YjFixIitOCEd0YbW5U9/+tOiU6dORWNjY2nbLbfcUlRXVxcrVqwoisK6pPX079+/uP766ze4/+abby523HHH0tosiqK45JJLikGDBrXCdHRUBx54YDF+/PjS92vWrCn69u1bTJs2rYxT0ZFMnjy52Hfffde7b+nSpUWXLl2Ke++9t7TthRdeKJIUDQ0NrTQhHdHf/rtm7dq1RV1dXXHttdeWti1durSoqqoq7rrrrqIoiuK//uu/iiTFr3/969IxP/vZz4qKiori1VdfbbXZad/W92/usWPHFp/61Kc2+Bxrs2NxRSHbnPHjx2fnnXfOgQcemFtvvTVFUZT2NTQ0ZPjw4c2OHzFiRBoaGlp7TDqIhoaG7LPPPunTp09p24gRI9LU1JTnn3++dIx1SWu5+uqrs9NOO2W//fbLtdde2+xj8A0NDfnEJz6RysrK0rYRI0bkxRdfzJ///OdyjEs7t3LlysyZM6fZz8BOnTpl+PDhfgbSql566aX07ds3AwcOzJgxY7JgwYIkyZw5c7Jq1apma3SPPfbIrrvuao3SqubPn5/GxsZma7GmpibDhg0rrcWGhob07NkzBxxwQOmY4cOHp1OnTpk9e3arz0zH8uijj6Z3794ZNGhQzj333LzxxhulfdZmx9K53APA/3XFFVfkiCOOyPbbb59f/OIX+fznP5/ly5fn/PPPT5I0NjY2CzZJ0qdPnzQ1NeUvf/lLunXrVo6xacc2tObe3fdex1iXbG3nn39+9t9//9TW1uapp57KpEmTsnjx4lx33XVJ/roWBwwY0Ow5/3e97rjjjq0+M+3bn/70p6xZs2a9PwN///vfl2kqOpphw4bl9ttvz6BBg7J48eJMnTo1hx56aH73u9+lsbExlZWV6/we4j59+pT+HIfW8O56W9/Py//7d8revXs329+5c+fU1tZar7SokSNH5oQTTsiAAQMyb968/PM//3NGjRqVhoaGbLfddtZmByMUskW+/OUv5+tf//p7HvPCCy80+4XS7+Wyyy4rfb3ffvvl7bffzrXXXlsKhbAxtva6hJa0Ket14sSJpW2DBw9OZWVlPve5z2XatGmpqqpq6VEBtkmjRo0qfT148OAMGzYs/fv3zz333OP/rAPYCCeddFLp63322SeDBw/Ohz70oTz66KM58sgjyzgZ5SAUskUuuuiinH766e95zMCBAzf7/MOGDcuVV16ZFStWpKqqKnV1devcpW7JkiWprq72F0FKtua6rKurW+fune+uwbq6utJ/Wpdsri1Zr8OGDcvq1avzyiuvZNCgQRtci8n/rlfYmnbeeedst91261131hzl0rNnz3zkIx/Jyy+/nL//+7/PypUrs3Tp0mZXFVqjtLZ319uSJUuyyy67lLYvWbIkQ4YMKR3ztzeCWr16dd58803rlVY1cODA7Lzzznn55Zdz5JFHWpsdjFDIFunVq1d69erVYuefO3dudtxxx9KVMvX19fnpT3/a7JiZM2emvr6+xWag7dma67K+vj5f+9rX8tprr5Uut585c2aqq6uz1157lY6xLtlcW7Je586dm06dOpXWZn19fb7yla9k1apV6dKlS5K/rsVBgwb52DEtorKyMkOHDs2sWbNy/PHHJ0nWrl2bWbNmZcKECeUdjg5r+fLlmTdvXk477bQMHTo0Xbp0yaxZszJ69OgkyYsvvpgFCxb4c5pWNWDAgNTV1WXWrFmlMNjU1JTZs2fn3HPPTfLXP8eXLl2aOXPmZOjQoUmShx9+OGvXrs2wYcPKNTod0B//+Me88cYbpahtbXYsQiGtZsGCBXnzzTezYMGCrFmzJnPnzk2S7L777unevXseeOCBLFmyJAcddFC6du2amTNn5qqrrsoXv/jF0jnOOeecfPvb387FF1+cM888Mw8//HDuueee/Pu//3uZ3hVt3futy6OOOip77bVXTjvttFxzzTVpbGzMpZdemvHjx5cCtnVJa2hoaMjs2bNz+OGHp0ePHmloaMiFF16YU089tRQBTznllEydOjXjxo3LJZdckt/97nf51re+leuvv77M09OeTZw4MWPHjs0BBxyQAw88MNOnT8/bb7+dM844o9yj0UF88YtfzHHHHZf+/ftn0aJFmTx5crbbbrucfPLJqampybhx4zJx4sTU1tamuro65513Xurr63PQQQeVe3TameXLl+fll18ufT9//vzMnTs3tbW12XXXXXPBBRfkq1/9aj784Q9nwIABueyyy9K3b9/S/9Gy5557ZuTIkTnrrLMyY8aMrFq1KhMmTMhJJ52Uvn37luld0R6819qsra3N1KlTM3r06NTV1WXevHm5+OKLs/vuu2fEiBFJrM0Op9y3XabjGDt2bJFknccjjzxSFMVfb68+ZMiQonv37sUOO+xQ7LvvvsWMGTOKNWvWNDvPI488UgwZMqSorKwsBg4cWNx2222t/2ZoN95vXRZFUbzyyivFqFGjim7duhU777xzcdFFFxWrVq1qdh7rkpY2Z86cYtiwYUVNTU3RtWvXYs899yyuuuqq4p133ml23LPPPlsccsghRVVVVfGBD3yguPrqq8s0MR3JjTfeWOy6665FZWVlceCBBxZPP/10uUeiAznxxBOLXXbZpaisrCw+8IEPFCeeeGLx8ssvl/b/5S9/KT7/+c8XO+64Y7H99tsX//AP/1AsXry4jBPTXj3yyCPr/Xvl2LFji6IoirVr1xaXXXZZ0adPn6Kqqqo48sgjixdffLHZOd54443i5JNPLrp3715UV1cXZ5xxRvHWW2+V4d3QnrzX2vyf//mf4qijjip69epVdOnSpejfv39x1llnFY2Njc3OYW12HBVFURStmyYBAAAAgG1Np3IPAAAAAACUn1AIAAAAAAiFAAAAAIBQCAAAAABEKAQAAAAAIhQCAAAAABEKAQAAAIAIhQAAvI9XXnklFRUVqaioyJAhQ1r0tW6//fbSa11wwQUt+loAADQnFAIAsFF++ctfZtasWS36GieeeGIWL16c+vr6Fn0dAADW1bncAwAA0DbstNNO2WmnnVr0Nbp165Zu3bqlsrKyRV8HAIB1uaIQAKADef3111NXV5errrqqtO2pp55KZWXlZl0teOutt2bvvfdOVVVVdtlll0yYMKG0r6KiIt/5zndy7LHHZvvtt8+ee+6ZhoaGvPzyyznssMOyww475OCDD868efO2ynsDAGDLCIUAAB1Ir169cuutt2bKlCl55pln8tZbb+W0007LhAkTcuSRR27SuW655ZaMHz8+Z599dp577rn85Cc/ye67797smCuvvDKf+cxnMnfu3Oyxxx455ZRT8rnPfS6TJk3KM888k6IomsVFAADKx0ePAQA6mKOPPjpnnXVWxowZkwMOOCA77LBDpk2btsnn+epXv5qLLrooX/jCF0rbPvaxjzU75owzzsg//dM/JUkuueSS1NfX57LLLsuIESOSJF/4whdyxhlnbMG7AQBga3FFIQBAB/SNb3wjq1evzr333ps77rgjVVVVm/T81157LYsWLXrfqxAHDx5c+rpPnz5Jkn322afZtnfeeSdNTU2b9PoAAGx9QiEAQAc0b968LFq0KGvXrs0rr7yyyc/v1q3bRh3XpUuX0tcVFRUb3LZ27dpNngEAgK1LKAQA6GBWrlyZU089NSeeeGKuvPLKfPazn81rr722Sefo0aNHdtttt826AQoAANsmv6MQAKCD+cpXvpJly5blhhtuSPfu3fPTn/40Z555Zh588MFNOs+UKVNyzjnnpHfv3hk1alTeeuut/Md//EfOO++8FpocAICW5IpCAIAO5NFHH8306dPzgx/8INXV1enUqVN+8IMf5Iknnsgtt9yySecaO3Zspk+fnptvvjl77713jj322Lz00kstNDkAAC2toiiKotxDAACw7XrllVcyYMCA/Od//meGDBnSKq952GGHZciQIZk+fXqrvB4AAK4oBABgIx188ME5+OCDW/Q17rjjjnTv3j1PPPFEi74OAADrckUhAADvafXq1aU7I1dVVaVfv34t9lpvvfVWlixZkiTp2bNndt555xZ7LQAAmhMKAQAAAAAfPQYAAAAAhEIAAAAAIEIhAAAAABChEAAAAACIUAgAAAAARCgEAAAAACIUAgAAAAARCgEAAACACIUAAAAAQIRCAAAAACBCIQAAAAAQoRAAAAAAiFAIAAAAAEQoBAAAAAAiFAIAAAAAEQoBAAAAgAiFAAAAAECEQgAAAAAgQiEAAAAAEKEQAAAAAIhQCAAAAABEKAQAAAAAIhQCAAAAABEKAQAAAIAIhQAAAABAhEL4/+3YgQAAAACAoP2pFymMAAAAAEgUAgAAAACJQgAAAAAgUQgAAAAAJAoBAAAAgEQhAAAAAJAoBAAAAAAShQAAAABAohAAAAAASBQCAAAAAIlCAAAAACBRCAAAAAAkCgEAAACARCEAAAAAkCgEAAAAABKFAAAAAECiEAAAAABIFAIAAAAAiUIAAAAAIFEIAAAAACQKAQAAAIBEIQAAAACQKAQAAAAAEoUAAAAAQKIQAAAAAEgUAgAAAACJQgAAAAAgUQgAAAAAJAoBAAAAgEQhAAAAAJAoBAAAAAAShQAAAABAohAAAAAASBQCAAAAAIlCAAAAACBRCAAAAAAkCgEAAACARCEAAAAAkCgEAAAAABKFAAAAAECiEAAAAABIFAIAAAAAiUIAAAAAIFEIAAAAACQKAQAAAIBEIQAAAACQKAQAAAAAEoUAAAAAQKIQAAAAAEgUAgAAAACJQgAAAAAgUQgAAAAAJAoBAAAAgEQhAAAAAJAoBAAAAAAShQAAAABAohAAAAAASBQCAAAAAIlCAAAAACBRCAAAAAAkCgEAAACARCEAAAAAkCgEAAAAABKFAAAAAECiEAAAAABIFAIAAAAAiUIAAAAAIFEIAAAAACQKAQAAAIBEIQAAAACQKAQAAAAAEoUAAAAAQKIQAAAAAKgGNJzYJAyFPWIAAAAASUVORK5CYII=' width=1290.3225806451612/>\n",
       "            </div>\n",
       "        "
      ],
      "text/plain": [
       "Canvas(toolbar=Toolbar(toolitems=[('Home', 'Reset original view', 'home', 'home'), ('Back', 'Back to previous …"
      ]
     },
     "metadata": {},
     "output_type": "display_data"
    },
    {
     "data": {
      "application/vnd.jupyter.widget-view+json": {
       "model_id": "d85ab77c2ec34a46b8eed0442e29ced1",
       "version_major": 2,
       "version_minor": 0
      },
      "image/png": "[encoded data removed]",
      "text/html": [
       "\n",
       "            <div style=\"display: inline-block;\">\n",
       "                <div class=\"jupyter-widgets widget-label\" style=\"text-align: center;\">\n",
       "                    Figure\n",
       "                </div>\n",
       "                <img src='data:image/png;base64,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' width=258.06451612903226/>\n",
       "            </div>\n",
       "        "
      ],
      "text/plain": [
       "Canvas(toolbar=Toolbar(toolitems=[('Home', 'Reset original view', 'home', 'home'), ('Back', 'Back to previous …"
      ]
     },
     "metadata": {},
     "output_type": "display_data"
    }
   ],
   "source": [
    "# Interior Conducto\n",
    "reg5000 = -sur5000 & -sur5004\n",
    "cell5000 = openmc.Cell(region=reg5000, fill=Air, cell_id=5000)\n",
    "\n",
    "reg5001 = +sur5000 & -sur5010 & -sur5004\n",
    "cell5001 = openmc.Cell(region=reg5001, fill=Air, cell_id=5001)\n",
    "\n",
    "\n",
    "reg5002 = (\n",
    "    (+sur5010 & -sur5001 & -sur5004)\n",
    "    | (+sur5001 & -sur5002 & -sur5006)\n",
    "    | (+sur5002 & -sur5003 & -sur5008)\n",
    ")\n",
    "cell5002 = openmc.Cell(region=reg5002, fill=u6000, cell_id=5002)\n",
    "# cell5000=openmc.Cell(region=reg5000,fill=Air,cell_id=5000)\n",
    "\n",
    "# Conducto\n",
    "reg5003 = (\n",
    "    (-sur5000 & +sur5004 & -sur5005)\n",
    "    | (+sur5000 & -sur5001 & +sur5004 & -sur5005)\n",
    "    | (+sur5001 & -sur5002 & +sur5006 & -sur5007)\n",
    "    | (+sur5002 & -sur5003 & +sur5008 & -sur5009)\n",
    ")\n",
    "cell5003 = openmc.Cell(region=reg5003, fill=SS316L, cell_id=5003)\n",
    "\n",
    "# Concreto externo\n",
    "reg5004 = (\n",
    "    (-sur5000 & +sur5005)\n",
    "    | (+sur5000 & -sur5001 & +sur5005)\n",
    "    | (+sur5001 & -sur5002 & +sur5007)\n",
    "    | (+sur5002 & -sur5014 & +sur5009)\n",
    "    | (+sur5014 & -sur5003 & +sur5009)\n",
    "    | (+sur5003)\n",
    ")\n",
    "\n",
    "# Shutter\n",
    "reg5005 = +sur5030 & -sur5031 & +sur5032 & -sur5033 & +sur5034 & -sur5035\n",
    "\n",
    "# Caja del conducto\n",
    "reg5006 = (+sur5020 & -sur5021 & +sur5022 & -sur5023) & (\n",
    "    (+sur5003) | (+sur5014 & -sur5003 & +sur5009)\n",
    ")\n",
    "\n",
    "\n",
    "# Blindaje interno\n",
    "reg5010 = +sur5011 & -sur5012 & +sur5013 & -sur5014 & +sur5015 & -sur5016\n",
    "\n",
    "cell5004 = openmc.Cell(region=reg5010 & reg5004, fill=Lead, cell_id=5004)\n",
    "cell5005 = openmc.Cell(region=reg5005 & reg5004, fill=Lead, cell_id=5005)\n",
    "cell5006 = openmc.Cell(region=reg5006 & reg5004 & ~reg5005, fill=Air, cell_id=5006)\n",
    "cell5007 = openmc.Cell(\n",
    "    region=reg5004 & ~reg5010 & ~reg5006, fill=Concrete, cell_id=5007\n",
    ")\n",
    "\n",
    "# cell5006=openmc.Cell(region=+sur5003,fill=Air,cell_id=5006)\n",
    "\n",
    "u5000 = openmc.Universe(\n",
    "    cells=[\n",
    "        cell5000,\n",
    "        cell5001,\n",
    "        cell5002,\n",
    "        cell5003,\n",
    "        cell5004,\n",
    "        cell5005,\n",
    "        cell5006,\n",
    "        cell5007,\n",
    "    ],\n",
    "    universe_id=5000,\n",
    ")\n",
    "%matplotlib widget\n",
    "u5000.plot(\n",
    "    origin=(0.0, 75, 0.0),\n",
    "    width=(300,300),\n",
    "    pixels=(1000, 1000),\n",
    "    basis='xy',\n",
    "    color_by='material',\n",
    "    colors=materials_colors\n",
    ")\n",
    "plt.show()\n",
    "u5000.plot(\n",
    "    origin=(0.0, 75, 0.0),\n",
    "    width=(300,300),\n",
    "    pixels=(200, 200),\n",
    "    basis='xy',\n",
    "    color_by='cell'\n",
    ")\n",
    "plt.show()"
   ]
  },
  {
   "cell_type": "markdown",
   "metadata": {},
   "source": [
    "### Acá hay una rotación en x de 90 grados. Ahora la dirección de propagación es \"z\" y no \"y\""
   ]
  },
  {
   "cell_type": "code",
   "execution_count": 17,
   "metadata": {},
   "outputs": [
    {
     "data": {
      "application/vnd.jupyter.widget-view+json": {
       "model_id": "0c55d0bfe8014f39b7399ca36b627617",
       "version_major": 2,
       "version_minor": 0
      },
      "image/png": "[encoded data removed]",
      "text/html": [
       "\n",
       "            <div style=\"display: inline-block;\">\n",
       "                <div class=\"jupyter-widgets widget-label\" style=\"text-align: center;\">\n",
       "                    Figure\n",
       "                </div>\n",
       "                <img src='data:image/png;base64,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' width=184.51612903225805/>\n",
       "            </div>\n",
       "        "
      ],
      "text/plain": [
       "Canvas(toolbar=Toolbar(toolitems=[('Home', 'Reset original view', 'home', 'home'), ('Back', 'Back to previous …"
      ]
     },
     "metadata": {},
     "output_type": "display_data"
    },
    {
     "data": {
      "application/vnd.jupyter.widget-view+json": {
       "model_id": "3fff5822bd0b4449857aeadf20d5cea2",
       "version_major": 2,
       "version_minor": 0
      },
      "image/png": "[encoded data removed]",
      "text/html": [
       "\n",
       "            <div style=\"display: inline-block;\">\n",
       "                <div class=\"jupyter-widgets widget-label\" style=\"text-align: center;\">\n",
       "                    Figure\n",
       "                </div>\n",
       "                <img src='data:image/png;base64,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' width=184.51612903225805/>\n",
       "            </div>\n",
       "        "
      ],
      "text/plain": [
       "Canvas(toolbar=Toolbar(toolitems=[('Home', 'Reset original view', 'home', 'home'), ('Back', 'Back to previous …"
      ]
     },
     "metadata": {},
     "output_type": "display_data"
    }
   ],
   "source": [
    "# Conducto N5\n",
    "reg9003 = +sur9012 & -sur9013 & +sur9014 & -sur9015 & +sur9016 & -sur9017\n",
    "cell9003 = openmc.Cell(region=reg9003, fill=u5000, cell_id=9003)\n",
    "cell9003.rotation = (90, 0, 0)\n",
    "# cell9003.translation=(-15.00,120.80,0.00)\n",
    "\n",
    "# Afuera\n",
    "reg9099 = +sur9012 & -sur9013 & +sur9015 & -sur9018 & +sur9016 & -sur9017\n",
    "\n",
    "cell9099 = openmc.Cell(region=reg9099, fill=u8100, cell_id=9099)\n",
    "\n",
    "cell9099.rotation = (90, 0, 0)  # rotación!!!!!!!!!!!\n",
    "\n",
    "\n",
    "u9000 = openmc.Universe(cells=[cell9003, cell9099], universe_id=9000)\n",
    "\n",
    "plot_args = {'origin':(0,0,(Louter+Linner)*0.5),\n",
    "             'width': (130*2*1.1, (Louter-Linner)*1.1),\n",
    "             'color_by':'cell',\n",
    "             'colors':materials_colors,\n",
    "             'basis':'xz'\n",
    "            }\n",
    "u9000.plot(**plot_args)\n",
    "plt.show()\n",
    "plot_args = {'origin':(0,0,(Louter+Linner)*0.5),\n",
    "             'width': (130*2*1.1, (Louter-Linner)*1.1),\n",
    "             'color_by':'material',\n",
    "             'colors':materials_colors,\n",
    "             'basis':'xz'\n",
    "            }\n",
    "u9000.plot(**plot_args)\n",
    "plt.show()"
   ]
  },
  {
   "cell_type": "markdown",
   "metadata": {},
   "source": [
    "### Esquema por celdas, vista superior"
   ]
  },
  {
   "cell_type": "code",
   "execution_count": 18,
   "metadata": {},
   "outputs": [
    {
     "data": {
      "application/vnd.jupyter.widget-view+json": {
       "model_id": "d49b141776d548e18f2d508681d95484",
       "version_major": 2,
       "version_minor": 0
      },
      "image/png": "[encoded data removed]",
      "text/html": [
       "\n",
       "            <div style=\"display: inline-block;\">\n",
       "                <div class=\"jupyter-widgets widget-label\" style=\"text-align: center;\">\n",
       "                    Figure\n",
       "                </div>\n",
       "                <img src='data:image/png;base64,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' width=184.51612903225805/>\n",
       "            </div>\n",
       "        "
      ],
      "text/plain": [
       "Canvas(toolbar=Toolbar(toolitems=[('Home', 'Reset original view', 'home', 'home'), ('Back', 'Back to previous …"
      ]
     },
     "metadata": {},
     "output_type": "display_data"
    }
   ],
   "source": [
    "plt.rcParams[\"figure.figsize\"] = 10, 10\n",
    "plot_args = {\n",
    "    \"origin\": (0, 0, (Louter + Linner) * 0.5),\n",
    "    \"width\": (130 * 2 * 1.1, (Louter - Linner) * 1.1),\n",
    "    \"color_by\": \"cell\",\n",
    "    \"colors\": materials_colors,\n",
    "    \"basis\": \"xz\",\n",
    "}\n",
    "u9000.plot(**plot_args)\n",
    "plt.show()"
   ]
  },
  {
   "cell_type": "markdown",
   "metadata": {},
   "source": [
    "## Esquema por materiales, vista superior"
   ]
  },
  {
   "cell_type": "code",
   "execution_count": 19,
   "metadata": {},
   "outputs": [
    {
     "data": {
      "application/vnd.jupyter.widget-view+json": {
       "model_id": "96fc32e2bec141a28bd0c44811ac6295",
       "version_major": 2,
       "version_minor": 0
      },
      "image/png": "[encoded data removed]",
      "text/html": [
       "\n",
       "            <div style=\"display: inline-block;\">\n",
       "                <div class=\"jupyter-widgets widget-label\" style=\"text-align: center;\">\n",
       "                    Figure\n",
       "                </div>\n",
       "                <img src='data:image/png;base64,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' width=184.51612903225805/>\n",
       "            </div>\n",
       "        "
      ],
      "text/plain": [
       "Canvas(toolbar=Toolbar(toolitems=[('Home', 'Reset original view', 'home', 'home'), ('Back', 'Back to previous …"
      ]
     },
     "metadata": {},
     "output_type": "display_data"
    }
   ],
   "source": [
    "plot_args = {\n",
    "    \"origin\": (0, 0, (Louter + Linner) * 0.5),\n",
    "    \"width\": (130 * 2 * 1.1, (Louter - Linner) * 1.1),\n",
    "    \"color_by\": \"material\",\n",
    "    \"colors\": materials_colors,\n",
    "    \"basis\": \"xz\",\n",
    "}\n",
    "u9000.plot(**plot_args)\n",
    "plt.show()"
   ]
  },
  {
   "cell_type": "markdown",
   "metadata": {},
   "source": [
    "## Esquema por celdas, vista lateral"
   ]
  },
  {
   "cell_type": "code",
   "execution_count": 20,
   "metadata": {},
   "outputs": [
    {
     "data": {
      "application/vnd.jupyter.widget-view+json": {
       "model_id": "ae30749c12c843bc80e7541d948e1dcf",
       "version_major": 2,
       "version_minor": 0
      },
      "image/png": "[encoded data removed]",
      "text/html": [
       "\n",
       "            <div style=\"display: inline-block;\">\n",
       "                <div class=\"jupyter-widgets widget-label\" style=\"text-align: center;\">\n",
       "                    Figure\n",
       "                </div>\n",
       "                <img src='data:image/png;base64,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' width=184.51612903225805/>\n",
       "            </div>\n",
       "        "
      ],
      "text/plain": [
       "Canvas(toolbar=Toolbar(toolitems=[('Home', 'Reset original view', 'home', 'home'), ('Back', 'Back to previous …"
      ]
     },
     "metadata": {},
     "output_type": "display_data"
    }
   ],
   "source": [
    "plot_args = {\n",
    "    \"origin\": (0, 0, (Louter + Linner) * 0.5),\n",
    "    \"width\": (130 * 2 * 1.1, (Louter - Linner) * 1.1),\n",
    "    \"color_by\": \"material\",\n",
    "    \"colors\": materials_colors,\n",
    "    \"basis\": \"yz\",\n",
    "}\n",
    "u9000.plot(**plot_args)\n",
    "plt.show()"
   ]
  },
  {
   "cell_type": "markdown",
   "metadata": {},
   "source": [
    "### Detalle colimador"
   ]
  },
  {
   "cell_type": "code",
   "execution_count": 21,
   "metadata": {},
   "outputs": [
    {
     "data": {
      "application/vnd.jupyter.widget-view+json": {
       "model_id": "fbe099b5e76240feb524ac1fdeb7b3d9",
       "version_major": 2,
       "version_minor": 0
      },
      "image/png": "[encoded data removed]",
      "text/html": [
       "\n",
       "            <div style=\"display: inline-block;\">\n",
       "                <div class=\"jupyter-widgets widget-label\" style=\"text-align: center;\">\n",
       "                    Figure\n",
       "                </div>\n",
       "                <img src='data:image/png;base64,iVBORw0KGgoAAAANSUhEUgAAAgQAAAIHCAYAAADglkQ4AAAAOnRFWHRTb2Z0d2FyZQBNYXRwbG90bGliIHZlcnNpb24zLjEwLjEsIGh0dHBzOi8vbWF0cGxvdGxpYi5vcmcvc2/+5QAAAAlwSFlzAAAPYQAAD2EBqD+naQAALEhJREFUeJzt3X9UVXW+//HXJuT4E+igeGSCcnJUNCWWmuH1lgpLwdJMpnKGMUqvTl1xKlrdYrr5o7kNZt6x0Sjqm2l3lmbXKa2cyclQwCb0CslYjnnTi6khMsUIYgno+Xz/6Ov53pOSHOSczYHnY629lmfvz/l83h+IeLH3Z59tGWOMAABApxZidwEAAMB+BAIAAEAgAAAABAIAACACAQAAEIEAAACIQAAAAEQgAAAAIhAAAAARCAAAgAgEAABABAIAACACAQAAEIEAAACIQAAAAEQgAAAAIhAAAAARCAAAgAgEAABABAIAACACAQAAEIEAAACIQAAAAEQgAAAAIhAAAAARCAAAgAgEAABABAIAACACAQAAEIEAAACIQAAAAEQgAAAAIhAAAAARCAAAgAgEAABABAIAACACAQAAEIEAAACIQAAAAEQgAAAAIhAAAAARCAAAgAgEAABABAIAACACAQAAEIEAAACIQAAAAEQgAAAAIhAAAAARCAAAgAgEAABABAIAACACAQAAEIEAAACIQAAAAEQgAAAAIhAAAAARCAAAgAgEAABABAIAACAp1O4C7OZ2u1VZWalevXrJsiy7ywEABAljjE6dOqWYmBiFhAT/39edPhBUVlYqNjbW7jIAAEHq6NGjuuqqq+wu47J1+kDQq1cvu0votGpra+0uAUAgGCNtiLS7ijZX940U+4uO83uk0wcCLhPYJzw83O4SAASCMVJ3u4vwn47yeyT4L3oAAIDLRiAAAAAEAgAAQCAAAAAiEAAAABEIAACACAQAAEAEAgAAIAIBAAAQgQAAAIhAAAAARCAAAAAiEAAAABEIAACACAQAAEAEAgAAIAIBAAAQgQAAAIhAAAAARCAAAAAiEAAAANkYCIqLizVlyhTFxMTIsixt2rTJ67hlWRfdnnnmGU+bmpoaZWRkKDw8XJGRkZo9e7bq6+sDPBMAAIKfbYHg9OnTSkhIUF5e3kWPHz9+3Gt75ZVXZFmW0tPTPW0yMjK0b98+bd26VZs3b1ZxcbHmzp0bqCkAANBhWMYYY3sRlqWNGzdq2rRpzbaZNm2aTp06pYKCAknS/v37NWTIEO3evVsjR46UJG3ZskWTJ0/WsWPHFBMT06Kx6+rqFBERcdlzgO/awX96AALBGOm1jneFuu5rKWKOVFtbq/DwcLvLuWxB8R06ceKE/vCHP2j27NmefSUlJYqMjPSEAUlKSUlRSEiIdu3a1WxfDQ0Nqqur89oAAOjsgiIQvPrqq+rVq5emT5/u2VdVVaXo6GivdqGhoXI6naqqqmq2r9zcXEVERHi22NhYv9UNAECwCIpA8MorrygjI0Ndu3a97L5ycnJUW1vr2Y4ePdoGFQIAENxC7S7gUnbs2KEDBw7o9ddf99rvcrlUXV3tte/s2bOqqamRy+Vqtj+HwyGHw+GXWgEACFbtPhCsWrVKI0aMUEJCgtf+pKQknTx5UmVlZRoxYoQkadu2bXK73Ro9erTP43SURSEAALSGbYGgvr5eBw8e9LyuqKhQeXm5nE6n4uLiJH17B8CGDRv07//+7xe8Pz4+XqmpqZozZ47y8/PV1NSkrKwszZgxo8V3GAAAgG/ZtoagtLRUiYmJSkxMlCRlZ2crMTFRCxYs8LRZv369jDH6yU9+ctE+1q5dq8GDBys5OVmTJ0/W2LFj9dJLLwWkfgAAOpJ28TkEdjr/OQRcMgAAP+FzCIJCx/sOAQAAnxEIAAAAgQAAABAIAACACAQAAEAEAgAAIAIBAAAQgQAAAIhAAAAARCAAAAAiEAAAABEIAACACAQAAEAEAgAAIAIBAACQFGp3AUBHZ4zxem1Z1iXbfl+bzqwlXx9fvt4A/j8CAeBHxhg9+eSTXvsWLlzYbNvi4mJJ0s033+z32oJNS74+vny9AXjjkgEAACAQAAAAAgEAABCBAAAAiEAAAABEIAAAAOK2Q6Bd+u699IHW3L37dtcFwH8IBEA7Y4xRSIi9J+8u9ou/PdRVWFho6/hAR8YlAwAAQCAAAAAEAgAAIAIBAAAQgQAAAIhAAAAARCAAAAAiEAAAABEIAACACAQAAEAEAgAAIAIBAAAQDzfyMMbwJDegA+Lnup1oxbehmYduwk8IBP9PZGSk3SWgg1q0aJHdJXRa7eEJjWg9s9buCjoXflIAAACBAAAAEAgAAIAIBAAAQAQCAAAgAgEAABCBAAAAiEAAAABkYyAoLi7WlClTFBMTI8uytGnTpgva7N+/X1OnTlVERIR69OihUaNG6ciRI57jZ86c0bx58xQVFaWePXsqPT1dJ06cCOAsAADoGGwLBKdPn1ZCQoLy8vIuevzQoUMaO3asBg8erMLCQu3du1dPPPGEunbt6mnz0EMP6Z133tGGDRtUVFSkyspKTZ8+PVBTAACgw7Dto4vT0tKUlpbW7PHHH39ckydP1tKlSz37rr32Ws+/a2trtWrVKq1bt04TJkyQJK1evVrx8fHauXOnbrzxRv8VDwBAB9Mu1xC43W794Q9/0MCBAzVp0iRFR0dr9OjRXpcVysrK1NTUpJSUFM++wYMHKy4uTiUlJc323dDQoLq6Oq8NAIDOrl0GgurqatXX12vJkiVKTU3Ve++9p9tvv13Tp09XUVGRJKmqqkphYWEXPJSob9++qqqqarbv3NxcRUREeLbY2Fh/TgUAgKDQLp926Ha7JUm33XabHnroIUnS9ddfrw8//FD5+fm6+eabW913Tk6OsrOzPa/r6uoIBWhXLElm4TT7Cli08aK7LcuScbulxfas0zGSim0ZGegc2mUg6N27t0JDQzVkyBCv/fHx8frggw8kSS6XS42NjTp58qTXWYITJ07I5XI127fD4ZDD4fBL3QAABKt2eckgLCxMo0aN0oEDB7z2//d//7euvvpqSdKIESPUpUsXFRQUeI4fOHBAR44cUVJSUkDrBQAg2Nl2hqC+vl4HDx70vK6oqFB5ebmcTqfi4uL0yCOP6K677tJNN92k8ePHa8uWLXrnnXdUWFgoSYqIiNDs2bOVnZ0tp9Op8PBwzZ8/X0lJSdxhAACAj2wLBKWlpRo/frzn9fnr+pmZmVqzZo1uv/125efnKzc3V7/4xS80aNAgvfHGGxo7dqznPcuXL1dISIjS09PV0NCgSZMm6fnnnw/4XAAACHa2BYJx48bJGPO9bWbNmqVZs2Y1e7xr167Ky8tr9sONAABAy7TLNQQAACCwCAQAAIBAAAAACAQAAEAEAgAAIAIBAAAQgQAAAIhAAAAARCAAAAAiEAAAABEIAACACAQAAEA2Ptyovan9P1J4d7urQEdjjPTkwUu3g39YlmTW2l0FEBw4QwAAAAgEAACAQAAAAEQgAAAAIhAAAAARCAAAgAgEAABABAIAACACAQAAEJ9UCLRLxhhbxrUsq0Xt7KmvZbUBaB0CAdDOGEkhT75lz9iX+kVvWTIL31RIiD0nFwsnPGjLuEBnwCUDAABAIAAAAAQCAAAgAgEAABCBAAAAiEAAAABEIAAAACIQAAAAEQgAAIAIBAAAQAQCAAAgAgEAABCBAAAAiEAAAABEIAAAACIQAAAAEQgAAIAIBAAAQAQCAAAgAgEAABCBAAAAiEAAAABkYyAoLi7WlClTFBMTI8uytGnTJq/j99xzjyzL8tpSU1O92tTU1CgjI0Ph4eGKjIzU7NmzVV9fH8BZAADQMdgWCE6fPq2EhATl5eU12yY1NVXHjx/3bK+99prX8YyMDO3bt09bt27V5s2bVVxcrLlz5/q7dAAAOpxQuwZOS0tTWlra97ZxOBxyuVwXPbZ//35t2bJFu3fv1siRIyVJK1eu1OTJk7Vs2TLFxMS0ec0AAHRU7XoNQWFhoaKjozVo0CDdf//9+uqrrzzHSkpKFBkZ6QkDkpSSkqKQkBDt2rWr2T4bGhpUV1fntQEA0Nm120CQmpqq//iP/1BBQYGefvppFRUVKS0tTefOnZMkVVVVKTo62us9oaGhcjqdqqqqarbf3NxcRUREeLbY2Fi/zgMAgGBg2yWDS5kxY4bn38OGDdPw4cN17bXXqrCwUMnJya3uNycnR9nZ2Z7XdXV1hAK0K5Yks3Ba4AdetLFFzSzLknG7pcXT/VyQNyOpOKAjAp1Luz1D8F0//OEP1bt3bx08eFCS5HK5VF1d7dXm7NmzqqmpaXbdgfTtuoTw8HCvDQCAzi5oAsGxY8f01VdfqV+/fpKkpKQknTx5UmVlZZ4227Ztk9vt1ujRo+0qEwCAoGTbJYP6+nrPX/uSVFFRofLycjmdTjmdTi1evFjp6elyuVw6dOiQ/uVf/kUDBgzQpEmTJEnx8fFKTU3VnDlzlJ+fr6amJmVlZWnGjBncYQAAgI9sO0NQWlqqxMREJSYmSpKys7OVmJioBQsW6IorrtDevXs1depUDRw4ULNnz9aIESO0Y8cOORwOTx9r167V4MGDlZycrMmTJ2vs2LF66aWX7JoSAABBy7YzBOPGjZMxptnjf/rTny7Zh9Pp1Lp169qyLAAAOqWgWUMAAAD8h0AAAAAIBAAAgEAAAABEIAAAACIQAAAAEQgAAIAIBAAAQAQCAAAgAgEAABCBAAAAiEAAAABEIAAAACIQAAAAEQgAAIAIBAAAQAQCAAAgAgEAABCBAAAAiEAAAABEIAAAACIQAAAASaF2FwDgQsaYwA5oWbJ8fEvAa/S5QgC+IBAA7YyRFPLkW4Efd5EPbWVPjYUTHgz4mEBnwSUDAABAIAAAAAQCAAAgAgEAABCBAAAAiEAAAADUgtsOp0+f7nOn+fn5io6OblVBAAAg8C4ZCDZt2qQ777xT3bp1a1GH69atU319PYEAAIAg0qIPJlqxYkWLf8H//ve/v6yCAABA4F1yDcH27dvldDpb3OG7776rH/zgB5dVFAAACKxLniG4+eabfepw7NixrS4GAADYo1XPMqiurlZ1dbXcbrfX/uHDh7dJUQAAILB8CgRlZWXKzMzU/v37PU86syxLxhhZlqVz5875pUgAAOBfPgWCWbNmaeDAgVq1apX69u0ry+JxpAAAdAQ+BYL/+Z//0RtvvKEBAwb4qx4AAGADnz6pMDk5WX/5y1/8VQsAALCJT2cIXn75ZWVmZuqTTz7Rddddpy5dungdnzp1apsWBwAAAsOnQFBSUqI///nPevfddy84xqJCAACCl0+XDObPn6+f/exnOn78uNxut9dGGAAAIHj5FAi++uorPfTQQ+rbt6+/6gEAADbwKRBMnz5d27dv91ctAADAJj6tIRg4cKBycnL0wQcfaNiwYRcsKvzFL37RpsUBAIDA8OkMwcsvv6yePXuqqKhIzz33nJYvX+7Znn32WZ8GLi4u1pQpUxQTEyPLsrRp06Zm2953332yLOuCMWpqapSRkaHw8HBFRkZq9uzZqq+v96kOAADg4xmCioqKNhv49OnTSkhI0KxZszR9+vRm223cuFE7d+5UTEzMBccyMjJ0/Phxbd26VU1NTbr33ns1d+5crVu3rs3qBACgM2jVw43aQlpamtLS0r63zRdffKH58+frT3/6k2655RavY/v379eWLVu0e/dujRw5UpK0cuVKTZ48WcuWLbtogAAAABfn0yWD9PR0Pf300xfsX7p0qe644442K0qS3G63Zs6cqUceeURDhw694HhJSYkiIyM9YUCSUlJSFBISol27djXbb0NDg+rq6rw2AAA6O58CQXFxsSZPnnzB/rS0NBUXF7dZUZL09NNPKzQ0tNmFilVVVYqOjvbaFxoaKqfTqaqqqmb7zc3NVUREhGeLjY1t07oBAAhGPgWC+vp6hYWFXbC/S5cubfqXdllZmX77299qzZo1bf5ExZycHNXW1nq2o0ePtmn/AAAEI5/WEAwbNkyvv/66FixY4LV//fr1GjJkSJsVtWPHDlVXVysuLs6z79y5c3r44Yf17LPP6vDhw3K5XKqurvZ639mzZ1VTUyOXy9Vs3w6HQw6Ho81qBdqaJcksnBbYQRdt9Km5ZVkybre0uPkFwW3NSGrb85AA/jefAsETTzyh6dOn69ChQ5owYYIkqaCgQK+99po2bNjQZkXNnDlTKSkpXvsmTZqkmTNn6t5775UkJSUl6eTJkyorK9OIESMkSdu2bZPb7dbo0aPbrBYAADoDnwLBlClTtGnTJv3617/W73//e3Xr1k3Dhw/X+++/r5tvvtmngevr63Xw4EHP64qKCpWXl8vpdCouLk5RUVFe7bt06SKXy6VBgwZJkuLj45Wamqo5c+YoPz9fTU1NysrK0owZM7jDAAAAH/l82+Ett9xywS2ArVFaWqrx48d7XmdnZ0uSMjMztWbNmhb1sXbtWmVlZSk5OVkhISFKT0/XihUrLrs2AAA6G9s+h2DcuHEyxrS4/eHDhy/Y53Q6+RAiAADawCXvMnA6nfryyy9b3GFcXJw+//zzyyoKAAAE1iXPEJw8eVLvvvuuIiIiWtThV199pXPnzl12YQAAIHBadMkgMzPT33UAAAAbXTIQuN3uQNQBAABs5NMnFQIAgI6JQAAAAAgEAACAQAAAAEQgAAAA8jEQTJgwQYsXL75g/9///nfPw44AAEDw8emjiwsLC/Xxxx9rz549Wrt2rXr06CFJamxsVFFRkV8KBAAA/ufzJYP3339fVVVVuvHGGy/6fAEAABB8fA4E/fr1U1FRkYYNG6ZRo0apsLDQD2UBAIBA8ikQWJYlSXI4HFq3bp0eeOABpaam6vnnn/dLcQAAIDB8WkPw3ccV/+u//qvi4+N51gEAAEHOp0BQUVGhPn36eO1LT0/X4MGDVVpa2qaFAQCAwPEpEFx99dUX3T906FANHTq0TQoCAACBxwcTAQAAAgEAACAQAAAAEQgAAIAIBAAAQD7eZQAgML77mR/+dP4Dx1orcLVeXp0Avh+BAGhnjKSQJ98K3Hit/YVuWTIL31RISOBONBZOeDBgYwGdDZcMAAAAgQAAABAIAACACAQAAEAEAgAAIAIBAAAQgQAAAIhAAAAARCAAAAAiEAAAABEIAACACAQAAEAEAgAAIAIBAAAQgQAAAIhAAAAARCAAAAAiEAAAABEIAACACAQAAEAEAgAAIAIBAACQjYGguLhYU6ZMUUxMjCzL0qZNm7yOL1q0SIMHD1aPHj105ZVXKiUlRbt27fJqU1NTo4yMDIWHhysyMlKzZ89WfX19AGcBAEDHYFsgOH36tBISEpSXl3fR4wMHDtRzzz2njz/+WB988IGuueYaTZw4UX/72988bTIyMrRv3z5t3bpVmzdvVnFxsebOnRuoKQAA0GGE2jVwWlqa0tLSmj3+05/+1Ov1b37zG61atUp79+5VcnKy9u/fry1btmj37t0aOXKkJGnlypWaPHmyli1bppiYGL/WDwBARxIUawgaGxv10ksvKSIiQgkJCZKkkpISRUZGesKAJKWkpCgkJOSCSwv/W0NDg+rq6rw2AAA6u3YdCDZv3qyePXuqa9euWr58ubZu3arevXtLkqqqqhQdHe3VPjQ0VE6nU1VVVc32mZubq4iICM8WGxvr1zkAABAM2nUgGD9+vMrLy/Xhhx8qNTVVd955p6qrqy+rz5ycHNXW1nq2o0ePtlG1AAAEL9vWELREjx49NGDAAA0YMEA33nijfvSjH2nVqlXKycmRy+W6IBycPXtWNTU1crlczfbpcDjkcDj8XTrQapYks3BaYAZbtPGy3m5ZlozbLS2e3kYFNc9IKvb7KEDn1a7PEHyX2+1WQ0ODJCkpKUknT55UWVmZ5/i2bdvkdrs1evRou0oEACAo2XaGoL6+XgcPHvS8rqioUHl5uZxOp6KiovTUU09p6tSp6tevn7788kvl5eXpiy++0B133CFJio+PV2pqqubMmaP8/Hw1NTUpKytLM2bM4A4DAAB8ZFsgKC0t1fjx4z2vs7OzJUmZmZnKz8/Xp59+qldffVVffvmloqKiNGrUKO3YsUNDhw71vGft2rXKyspScnKyQkJClJ6erhUrVgR8LgAABDvbAsG4ceNkjGn2+JtvvnnJPpxOp9atW9eWZQEA0CkF1RoCAADgHwQCAABAIAAAAAQCAAAgAgEAABCBAAAAiEAAAABEIAAAACIQAAAAEQgAAIAIBAAAQAQCAAAgAgEAABCBAAAAiEAAAABEIAAAACIQAAAAEQgAAIAIBAAAQAQCAAAgAgEAABCBAAAASAq1uwAAFzLG+H8Qy5LaaphA1CsrAGMAnReBAGhnjKSQJ98KzGCL26qjwNRbOOHBgIwDdEZcMgAAAAQCAABAIAAAACIQAAAAEQgAAIAIBAAAQAQCAAAgAgEAABCBAAAAiEAAAABEIAAAACIQAAAAEQgAAIAIBAAAQAQCAAAgAgEAABCBAAAAiEAAAABEIAAAACIQAAAAEQgAAIAIBAAAQDYGguLiYk2ZMkUxMTGyLEubNm3yHGtqatKjjz6qYcOGqUePHoqJidHdd9+tyspKrz5qamqUkZGh8PBwRUZGavbs2aqvrw/wTAAACH62BYLTp08rISFBeXl5Fxz7+uuv9dFHH+mJJ57QRx99pDfffFMHDhzQ1KlTvdplZGRo37592rp1qzZv3qzi4mLNnTs3UFMAAKDDCLVr4LS0NKWlpV30WEREhLZu3eq177nnntMNN9ygI0eOKC4uTvv379eWLVu0e/dujRw5UpK0cuVKTZ48WcuWLVNMTIzf5wAAQEcRNGsIamtrZVmWIiMjJUklJSWKjIz0hAFJSklJUUhIiHbt2tVsPw0NDaqrq/PaAADo7IIiEJw5c0aPPvqofvKTnyg8PFySVFVVpejoaK92oaGhcjqdqqqqarav3NxcRUREeLbY2Fi/1g4AQDBo94GgqalJd955p4wxeuGFFy67v5ycHNXW1nq2o0ePtkGVAAAEN9vWELTE+TDw+eefa9u2bZ6zA5LkcrlUXV3t1f7s2bOqqamRy+Vqtk+HwyGHw+G3moHLZUkyC6f5dQxjpJAnN7ZRb5Ykt8zC6W3U38UZScV+HQHo3NrtGYLzYeCzzz7T+++/r6ioKK/jSUlJOnnypMrKyjz7tm3bJrfbrdGjRwe6XAAAgpptZwjq6+t18OBBz+uKigqVl5fL6XSqX79++vGPf6yPPvpImzdv1rlz5zzrApxOp8LCwhQfH6/U1FTNmTNH+fn5ampqUlZWlmbMmMEdBgAA+Mi2QFBaWqrx48d7XmdnZ0uSMjMztWjRIr399tuSpOuvv97rfdu3b9e4ceMkSWvXrlVWVpaSk5MVEhKi9PR0rVixIiD1AwDQkdgWCMaNGydjTLPHv+/YeU6nU+vWrWvLsgAA6JTa7RoCAAAQOAQCAABAIAAAAAQCAAAgAgEAABCBAAAAiEAAAABEIAAAACIQAAAAEQgAAIAIBAAAQAQCAAAgAgEAABCBAAAAiEAAAABEIAAAACIQAAAAEQgAAIAIBAAAQAQCAAAgAgEAABCBAAAAiEAAdE6W3QUAaG9C7S4AwHdYlrRoo3+HkGQWtXWP/q1ZxkjFxf4dA+jEOEMAAAAIBAAAgEsGQLtkjLG7BACdDIEAaIeKuVYOIMC4ZAAAADhDALQXlmXp5ptvtrsMAJ0UZwgAAACBAAAAEAgAAIAIBAAAQAQCAAAgAgEAABCBAAAAiEAAAABEIAAAACIQAAAAEQiAAPB+ciFPMgTQHhEIAD+yLGnBgMVe+5588kmbqunYjDHf+doaLfzR4mbbA/BGIAAAAAQCAABAIAAAACIQAAHCwkIA7ZttgaC4uFhTpkxRTEyMLMvSpk2bvI6/+eabmjhxoqKiomRZlsrLyy/o48yZM5o3b56ioqLUs2dPpaen68SJE4GZANBCLCz0PxYUApfPtkBw+vRpJSQkKC8vr9njY8eO1dNPP91sHw899JDeeecdbdiwQUVFRaqsrNT06dP9VTIAAB1WqF0Dp6WlKS0trdnjM2fOlCQdPnz4osdra2u1atUqrVu3ThMmTJAkrV69WvHx8dq5c6duvPHGNq8ZAICOKmjXEJSVlampqUkpKSmefYMHD1ZcXJxKSkqafV9DQ4Pq6uq8NgAAOrugDQRVVVUKCwtTZGSk1/6+ffuqqqqq2ffl5uYqIiLCs8XGxvq5UuA8FhICaL+CNhC0Vk5Ojmpraz3b0aNH7S4JncDFFhZyp4G/sKAQaI2gDQQul0uNjY06efKk1/4TJ07I5XI1+z6Hw6Hw8HCvDbADdxq0jQvvMADQGkEbCEaMGKEuXbqooKDAs+/AgQM6cuSIkpKSbKwMAIDgY9tdBvX19Tp48KDndUVFhcrLy+V0OhUXF6eamhodOXJElZWVkr79ZS99e2bA5XIpIiJCs2fPVnZ2tpxOp8LDwzV//nwlJSVxhwEAAD6y7QxBaWmpEhMTlZiYKEnKzs5WYmKiFixYIEl6++23lZiYqFtuuUWSNGPGDCUmJio/P9/Tx/Lly3XrrbcqPT1dN910k1wul958883ATwYAgCBn2xmCcePGfe+iqnvuuUf33HPP9/bRtWtX5eXlNfvhRkD7YyRZ//+VMbIsq/nmABAgQbuGAAg2fIRx2+Mji4G2QyAAAAAEAgAAQCAAAAAiEAA28F5MyycWAmgPCARAALGwsO2woBBoWwQCAABAIAAAAAQCAAAgAgFgExYSAmhfCARAgF1sYSF3GlwuFhQCl4tAALQD3GngmwvvMABwuQgEAACAQAAAAAgEgI1YNwCg/SAQADZgYWFbYkEh0BYIBEA7wSK5lmFBIeAfBAIAAEAgAAAABALAZqwbANA+EAgAm7CwsC2woBBoK6F2F2C38/8DrvvG5kLQKRkjnTlzxvP6l7/8pXJycmysqH0zxmjJkiVe++q+tqkYdHrnf290lCBvmY4yk1Y6duyYYmNj7S4DABCkjh49qquuusruMi5bpw8EbrdblZWV6tWrlyzL8vt4dXV1io2N1dGjRxUeHu738ezAHDuOzjBP5tgx2DFHY4xOnTqlmJgYhYQE/xX4Tn/JICQkxJZkFx4e3mF/MM9jjh1HZ5gnc+wYAj3HiIiIgI3lb8EfaQAAwGUjEAAAAAJBoDkcDi1cuFAOh8PuUvyGOXYcnWGezLFj6Axz9LdOv6gQAABwhgAAAIhAAAAARCAAAAAiEAAAABEIAmrq1KmKi4tT165d1a9fP82cOVOVlZVebfbu3at//Md/VNeuXRUbG6ulS5faVK3vDh8+rNmzZ6t///7q1q2brr32Wi1cuFCNjY1e7YJ5jpL01FNPacyYMerevbsiIyMv2ubIkSO65ZZb1L17d0VHR+uRRx7R2bNnA1voZcrLy9M111yjrl27avTo0fqv//ovu0tqteLiYk2ZMkUxMTGyLEubNm3yOm6M0YIFC9SvXz9169ZNKSkp+uyzz+wptpVyc3M1atQo9erVS9HR0Zo2bZoOHDjg1ebMmTOaN2+eoqKi1LNnT6Wnp+vEiRM2Vey7F154QcOHD/d8+FBSUpLeffddz/Fgn5/dCAQBNH78eP3nf/6nDhw4oDfeeEOHDh3Sj3/8Y8/xuro6TZw4UVdffbXKysr0zDPPaNGiRXrppZdsrLrlPv30U7ndbr344ovat2+fli9frvz8fP3yl7/0tAn2OUpSY2Oj7rjjDt1///0XPX7u3Dndcsstamxs1IcffqhXX31Va9as0YIFCwJcaeu9/vrrys7O1sKFC/XRRx8pISFBkyZNUnV1td2ltcrp06eVkJCgvLy8ix5funSpVqxYofz8fO3atUs9evTQpEmTvB481d4VFRVp3rx52rlzp7Zu3aqmpiZNnDhRp0+f9rR56KGH9M4772jDhg0qKipSZWWlpk+fbmPVvrnqqqu0ZMkSlZWVqbS0VBMmTNBtt92mffv2SQr++dnOwDZvvfWWsSzLNDY2GmOMef75582VV15pGhoaPG0effRRM2jQILtKvGxLly41/fv397zuSHNcvXq1iYiIuGD/H//4RxMSEmKqqqo8+1544QUTHh7uNe/27IYbbjDz5s3zvD537pyJiYkxubm5NlbVNiSZjRs3el673W7jcrnMM88849l38uRJ43A4zGuvvWZDhW2jurraSDJFRUXGmG/n1KVLF7NhwwZPm/379xtJpqSkxK4yL9uVV15pXn755Q47v0DiDIFNampqtHbtWo0ZM0ZdunSRJJWUlOimm25SWFiYp92kSZN04MAB/f3vf7er1MtSW1srp9Pped0R5/hdJSUlGjZsmPr27evZN2nSJNXV1Xn+kmnPGhsbVVZWppSUFM++kJAQpaSkqKSkxMbK/KOiokJVVVVe842IiNDo0aODer61tbWS5Pn5KysrU1NTk9c8Bw8erLi4uKCc57lz57R+/XqdPn1aSUlJHW5+diAQBNijjz6qHj16KCoqSkeOHNFbb73lOVZVVeX1S0SS53VVVVVA62wLBw8e1MqVK/Xzn//cs6+jzfFign2OX375pc6dO3fROQRD/b46P6eONF+3260HH3xQ//AP/6DrrrtO0rfzDAsLu2DdS7DN8+OPP1bPnj3lcDh03333aePGjRoyZEiHmZ+dCASX6bHHHpNlWd+7ffrpp572jzzyiPbs2aP33ntPV1xxhe6++26Zdv5hkb7OUZK++OILpaam6o477tCcOXNsqrzlWjNHoL2aN2+ePvnkE61fv97uUtrcoEGDVF5erl27dun+++9XZmam/vrXv9pdVofQ6R9/fLkefvhh3XPPPd/b5oc//KHn371791bv3r01cOBAxcfHKzY2Vjt37lRSUpJcLtcFK2LPv3a5XG1ee0v5OsfKykqNHz9eY8aMuWCxYEeZ4/dxuVwXrMhvD3Nsqd69e+uKK6646PcpGOr31fk5nThxQv369fPsP3HihK6//nqbqmq9rKwsbd68WcXFxV6Pdne5XGpsbNTJkye9/ooOtu9rWFiYBgwYIEkaMWKEdu/erd/+9re66667OsT87EQguEx9+vRRnz59WvVet9stSWpoaJAkJSUl6fHHH1dTU5NnXcHWrVs1aNAgXXnllW1TcCv4MscvvvhC48eP14gRI7R69WqFhHifhOoIc7yUpKQkPfXUU6qurlZ0dLSkb+cYHh6uIUOGtMkY/hQWFqYRI0aooKBA06ZNk/Ttf6sFBQXKysqytzg/6N+/v1wulwoKCjwBoK6uzvMXaLAwxmj+/PnauHGjCgsL1b9/f6/jI0aMUJcuXVRQUKD09HRJ0oEDB3TkyBElJSXZUXKbcLvdamho6LDzCyi7VzV2Fjt37jQrV640e/bsMYcPHzYFBQVmzJgx5tprrzVnzpwxxny7Crhv375m5syZ5pNPPjHr16833bt3Ny+++KLN1bfMsWPHzIABA0xycrI5duyYOX78uGc7L9jnaIwxn3/+udmzZ49ZvHix6dmzp9mzZ4/Zs2ePOXXqlDHGmLNnz5rrrrvOTJw40ZSXl5stW7aYPn36mJycHJsrb7n169cbh8Nh1qxZY/7617+auXPnmsjISK87J4LJqVOnPN8nSeY3v/mN2bNnj/n888+NMcYsWbLEREZGmrfeesvs3bvX3HbbbaZ///7mm2++sbnylrv//vtNRESEKSws9PrZ+/rrrz1t7rvvPhMXF2e2bdtmSktLTVJSkklKSrKxat889thjpqioyFRUVJi9e/eaxx57zFiWZd577z1jTPDPz24EggDZu3evGT9+vHE6ncbhcJhrrrnG3HfffebYsWNe7f7yl7+YsWPHGofDYX7wgx+YJUuW2FSx71avXm0kXXT734J5jsYYk5mZedE5bt++3dPm8OHDJi0tzXTr1s307t3bPPzww6apqcm+olth5cqVJi4uzoSFhZkbbrjB7Ny50+6SWm379u0X/Z5lZmYaY7699fCJJ54wffv2NQ6HwyQnJ5sDBw7YW7SPmvvZW716tafNN998Y/75n//ZXHnllaZ79+7m9ttv9wrs7d2sWbPM1VdfbcLCwkyfPn1McnKyJwwYE/zzsxuPPwYAANxlAAAACAQAAEAEAgAAIAIBAAAQgQAAAIhAAAAARCAAAAAiEAAAABEIgE7r8OHDnic5+vshPmvWrPGM9eCDD/p1LACtQyAAOrn3339fBQUFfh3jrrvu0vHjx3nIDNCO8bRDoJOLiopSVFSUX8fo1q2bunXrprCwML+OA6D1OEMAdAB/+9vf5HK59Otf/9qz78MPP1RYWFir/vp/5ZVXNHToUDkcDvXr18/rsceWZenFF1/Urbfequ7duys+Pl4lJSU6ePCgxo0bpx49emjMmDE6dOhQm8wNQGAQCIAOoE+fPnrllVe0aNEilZaW6tSpU5o5c6aysrKUnJzsU18vvPCC5s2bp7lz5+rjjz/W22+/rQEDBni1+dWvfqW7775b5eXlGjx4sH7605/q5z//uXJyclRaWipjjFeIAND+cckA6CAmT56sOXPmKCMjQyNHjlSPHj2Um5vrcz//9m//pocfflgPPPCAZ9+oUaO82tx777268847JUmPPvqokpKS9MQTT2jSpEmSpAceeED33nvvZcwGQKBxhgDoQJYtW6azZ89qw4YNWrt2rRwOh0/vr66uVmVl5SXPKgwfPtzz7759+0qShg0b5rXvzJkzqqur82l8APYhEAAdyKFDh1RZWSm3263Dhw/7/P5u3bq1qF2XLl08/7Ysq9l9brfb5xoA2INAAHQQjY2N+tnPfqa77rpLv/rVr/RP//RPqq6u9qmPXr166ZprrvH7bYgA2h/WEAAdxOOPP67a2lqtWLFCPXv21B//+EfNmjVLmzdv9qmfRYsW6b777lN0dLTS0tJ06tQp/fnPf9b8+fP9VDmA9oAzBEAHUFhYqGeffVa/+93vFB4erpCQEP3ud7/Tjh079MILL/jUV2Zmpp599lk9//zzGjp0qG699VZ99tlnfqocQHthGWOM3UUACLzDhw+rf//+2rNnj98/uvi8cePG6frrr9ezzz4bkPEAtBxnCIBObsyYMRozZoxfx1i7dq169uypHTt2+HUcAK3HGQKgkzp79qznTgSHw6HY2Fi/jXXq1CmdOHFCkhQZGanevXv7bSwArUMgAAAAXDIAAAAEAgAAIAIBAAAQgQAAAIhAAAAARCAAAAAiEAAAABEIAACACAQAAEAEAgAAIAIBAAAQgQAAAEj6v4Vfff4omC6lAAAAAElFTkSuQmCC' width=516.1290322580645/>\n",
       "            </div>\n",
       "        "
      ],
      "text/plain": [
       "Canvas(toolbar=Toolbar(toolitems=[('Home', 'Reset original view', 'home', 'home'), ('Back', 'Back to previous …"
      ]
     },
     "metadata": {},
     "output_type": "display_data"
    }
   ],
   "source": [
    "%matplotlib widget\n",
    "plot_args = {\n",
    "    \"origin\": (0, 0, 140),\n",
    "    \"width\": (70, 70),\n",
    "    \"color_by\": \"material\",\n",
    "    \"colors\": materials_colors,\n",
    "    \"basis\": \"xz\",\n",
    "    \"pixels\": (400, 400),\n",
    "}\n",
    "u9000.plot(**plot_args)\n",
    "plt.show()"
   ]
  },
  {
   "cell_type": "markdown",
   "metadata": {},
   "source": [
    "### Detalle diafragma de salida (chopper)"
   ]
  },
  {
   "cell_type": "code",
   "execution_count": 22,
   "metadata": {},
   "outputs": [
    {
     "data": {
      "application/vnd.jupyter.widget-view+json": {
       "model_id": "74f1d356b9854b47aa1e3e585b88eda4",
       "version_major": 2,
       "version_minor": 0
      },
      "image/png": "[encoded data removed]",
      "text/html": [
       "\n",
       "            <div style=\"display: inline-block;\">\n",
       "                <div class=\"jupyter-widgets widget-label\" style=\"text-align: center;\">\n",
       "                    Figure\n",
       "                </div>\n",
       "                <img src='data:image/png;base64,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' width=258.06451612903226/>\n",
       "            </div>\n",
       "        "
      ],
      "text/plain": [
       "Canvas(toolbar=Toolbar(toolitems=[('Home', 'Reset original view', 'home', 'home'), ('Back', 'Back to previous …"
      ]
     },
     "metadata": {},
     "output_type": "display_data"
    }
   ],
   "source": [
    "plot_args = {\n",
    "    \"origin\": (0, 0, 215),\n",
    "    \"width\": (80, 80),\n",
    "    \"color_by\": \"material\",\n",
    "    \"colors\": materials_colors,\n",
    "    \"basis\": \"yz\",\n",
    "    \"pixels\": (200, 200),\n",
    "}\n",
    "u9000.plot(**plot_args)\n",
    "plt.show()"
   ]
  },
  {
   "cell_type": "markdown",
   "metadata": {},
   "source": [
    "### Borra archivos anteriores y guarda Statepoints"
   ]
  },
  {
   "cell_type": "code",
   "execution_count": 23,
   "metadata": {},
   "outputs": [],
   "source": [
    "#!mv statepoint.*.h5 ../Statepoints/\n",
    "#!rm *.xml\n",
    "#!rm *.out"
   ]
  },
  {
   "cell_type": "code",
   "execution_count": 24,
   "metadata": {},
   "outputs": [],
   "source": [
    "openmc_exe = \"openmc\"\n",
    "# openmc_data=\"/home/vissffin/openmc/data/endfb-viii.0-hdf5/cross_sections.xml\"\n",
    "\n",
    "geome = openmc.Geometry(u9000)\n",
    "geome.export_to_xml()\n",
    "mats = openmc.Materials(geome.get_all_materials().values())\n",
    "# mats.cross_sections = openmc_data #Agregué una línea al .bashrc y ya no necesito definir las secciones eficaces en el Notebook\n",
    "mats.export_to_xml()"
   ]
  },
  {
   "cell_type": "markdown",
   "metadata": {},
   "source": [
    "### Esto genera un xml con la configuración para plotear mejor la geometría. Si desmuteo la ultima línea, plotea"
   ]
  },
  {
   "cell_type": "code",
   "execution_count": 25,
   "metadata": {},
   "outputs": [
    {
     "name": "stderr",
     "output_type": "stream",
     "text": [
      "/home/lucas/anaconda3/envs/proyecto_integrador/lib/python3.10/site-packages/openmc/mixin.py:70: IDWarning: Another PlotBase instance already exists with id=3.\n",
      "  warn(msg, IDWarning)\n",
      "/home/lucas/anaconda3/envs/proyecto_integrador/lib/python3.10/site-packages/openmc/mixin.py:70: IDWarning: Another PlotBase instance already exists with id=4.\n",
      "  warn(msg, IDWarning)\n"
     ]
    },
    {
     "name": "stdout",
     "output_type": "stream",
     "text": [
      " Reading materials XML file...\n",
      " Reading geometry XML file...\n",
      " Preparing distributed cell instances...\n",
      " Reading plot XML file...\n",
      " WARNING: Could not find material 1 specified in plot 3\n",
      " WARNING: Could not find material 3 specified in plot 3\n",
      " WARNING: Could not find material 4 specified in plot 3\n",
      " WARNING: Could not find material 5 specified in plot 3\n",
      " WARNING: Could not find material 6 specified in plot 3\n",
      " WARNING: Could not find material 7 specified in plot 3\n",
      " WARNING: Could not find material 8 specified in plot 3\n",
      " WARNING: Could not find material 9 specified in plot 3\n",
      " WARNING: Could not find material 1 specified in plot 4\n",
      " WARNING: Could not find material 3 specified in plot 4\n",
      " WARNING: Could not find material 4 specified in plot 4\n",
      " WARNING: Could not find material 5 specified in plot 4\n",
      " WARNING: Could not find material 6 specified in plot 4\n",
      " WARNING: Could not find material 7 specified in plot 4\n",
      " WARNING: Could not find material 8 specified in plot 4\n",
      " WARNING: Could not find material 9 specified in plot 4\n",
      "\n",
      " =======================>     PLOTTING SUMMARY     <========================\n",
      "\n",
      "Plot ID: 3\n",
      "Plot file: plot_3.png\n",
      "Universe depth: -1\n",
      "Plot Type: Slice\n",
      "Origin: 0 0 242.10000000000002\n",
      "Width:  260 504.20000000000005\n",
      "Coloring: Materials\n",
      "Basis: XZ\n",
      "Pixels: 3000 3000\n",
      "\n",
      "Plot ID: 4\n",
      "Plot file: plot_4.png\n",
      "Universe depth: -1\n",
      "Plot Type: Slice\n",
      "Origin: 0 0 242.10000000000002\n",
      "Width:  260 504.20000000000005\n",
      "Coloring: Materials\n",
      "Basis: YZ\n",
      "Pixels: 3000 3000\n",
      "\n",
      " Processing plot 3: plot_3.png...\n",
      " Processing plot 4: plot_4.png...\n"
     ]
    }
   ],
   "source": [
    "#!rm *.ppm\n",
    "plot_xz = openmc.Plot()\n",
    "plot_xz.id = 3\n",
    "plot_xz.basis = \"xz\"\n",
    "plot_xz.origin = (0.0, 0.0, (Louter + Linner) * 0.5)\n",
    "plot_xz.width = (130 * 2.0, Louter - Linner)\n",
    "plot_xz.pixels = (3000, 3000)\n",
    "plot_xz.color_by = \"material\"\n",
    "plot_xz.colors = materials_colors\n",
    "\n",
    "plot_yz = openmc.Plot()\n",
    "plot_yz.id = 4\n",
    "plot_yz.basis = \"yz\"\n",
    "plot_yz.origin = (0.0, 0.0, (Louter + Linner) * 0.5)\n",
    "plot_yz.width = (130 * 2.0, Louter - Linner)\n",
    "plot_yz.pixels = (3000, 3000)\n",
    "plot_yz.color_by = \"material\"\n",
    "plot_yz.colors = materials_colors\n",
    "\n",
    "plots = openmc.Plots([plot_xz, plot_yz])\n",
    "plots.export_to_xml()\n",
    "openmc.plot_geometry()"
   ]
  },
  {
   "cell_type": "markdown",
   "metadata": {},
   "source": [
    "## TALLIES"
   ]
  },
  {
   "cell_type": "code",
   "execution_count": 26,
   "metadata": {},
   "outputs": [
    {
     "name": "stderr",
     "output_type": "stream",
     "text": [
      "/home/lucas/anaconda3/envs/proyecto_integrador/lib/python3.10/site-packages/openmc/mixin.py:70: IDWarning: Another Filter instance already exists with id=9.\n",
      "  warn(msg, IDWarning)\n",
      "/home/lucas/anaconda3/envs/proyecto_integrador/lib/python3.10/site-packages/openmc/mixin.py:70: IDWarning: Another Filter instance already exists with id=5.\n",
      "  warn(msg, IDWarning)\n"
     ]
    }
   ],
   "source": [
    "tallies = openmc.Tallies()\n",
    "\n",
    "# Filtro de grilla\n",
    "mesh_xz = openmc.RegularMesh(mesh_id=1)\n",
    "mesh_xz.lower_left = [-130, -3.1 / 2, Linner]\n",
    "mesh_xz.upper_right = [130, 3.1 / 2, Louter]\n",
    "mesh_xz.dimension = [1000, 1, 1000]\n",
    "filter_mesh_xz = openmc.filter.MeshFilter(mesh_xz, filter_id=1)\n",
    "\n",
    "mesh_yz = openmc.RegularMesh(mesh_id=2)\n",
    "mesh_yz.lower_left = [-1.45 / 2, -130, Linner]\n",
    "mesh_yz.upper_right = [1.45 / 2, 130, Louter]\n",
    "mesh_yz.dimension = [1, 1000, 1000]\n",
    "filter_mesh_yz = openmc.filter.MeshFilter(mesh_yz, filter_id=2)\n",
    "\n",
    "mesh_xy = openmc.RegularMesh(mesh_id=3)\n",
    "mesh_xy.lower_left = [-15, -15, Louter - 290]\n",
    "mesh_xy.upper_right = [15, 15, Louter - 290 + 5]\n",
    "mesh_xy.dimension = [1000, 1000, 1]\n",
    "filter_mesh_xy = openmc.filter.MeshFilter(mesh_xy, filter_id=3)\n",
    "\n",
    "mesh_surf = openmc.RegularMesh(mesh_id=4)\n",
    "mesh_surf.lower_left = [-1.45 / 2, -3.1 / 2, L4int]\n",
    "mesh_surf.upper_right = [1.45 / 2, 3.1 / 2, L6ext]\n",
    "mesh_surf.dimension = [1, 1, 1]\n",
    "filter_mesh_surf = openmc.filter.MeshSurfaceFilter(mesh_surf, filter_id=4)\n",
    "\n",
    "# dummy del mesh del tally en el C5 que uso para \"spectra_neutron\"\n",
    "mesh_surf_d = openmc.RegularMesh(mesh_id=14)\n",
    "mesh_surf_d.lower_left = [-1.45 / 2, -3.1 / 2, L4int]\n",
    "mesh_surf_d.upper_right = [1.45 / 2, 3.1 / 2, L6ext]\n",
    "mesh_surf_d.dimension = [\n",
    "    5,\n",
    "    5,\n",
    "    5,\n",
    "]  # tuve que aumentar la dimensión del mesh para poder plotearlo con openmc_regular_mesh_plotter\n",
    "filter_mesh_surf_d = openmc.filter.MeshFilter(mesh_surf_d, filter_id=14)\n",
    "\n",
    "# Filtro de particulas\n",
    "neutron = openmc.ParticleFilter([\"neutron\"], filter_id=5)\n",
    "photon = openmc.ParticleFilter([\"photon\"], filter_id=6)\n",
    "\n",
    "# Filtro de dosis\n",
    "##En_ARN,h10n_ARN=np.loadtxt('../h10ARN_neutron',unpack=True)\n",
    "##Eg_ARN,h10g_ARN=np.loadtxt('../h10ARN_photon',unpack=True)\n",
    "\n",
    "##filter_dose_neutron=openmc.filter.EnergyFunctionFilter(En_ARN,h10n_ARN,filter_id=7)\n",
    "##filter_dose_photon=openmc.filter.EnergyFunctionFilter(Eg_ARN,h10g_ARN,filter_id=8)\n",
    "\n",
    "# Filtro de energías\n",
    "filter_energy_neutron = openmc.filter.EnergyFilter(\n",
    "    np.logspace(np.log10(1e-5), np.log10(2e7), 201), filter_id=9\n",
    ")\n",
    "filter_energy_photon = openmc.filter.EnergyFilter(np.linspace(0, 2e7, 201), filter_id=10)\n",
    "\n",
    "# Filtro de celdas\n",
    "filter_surf = openmc.filter.SurfaceFilter([sur5003], filter_id=11)\n",
    "filter_cell = openmc.filter.CellFilter([cell5001], filter_id=12)\n",
    "filter_detector = openmc.filter.CellFilter([cell8900], filter_id=13)\n",
    "\n",
    "# Tallies\n",
    "##dose_neutron_xy = openmc.Tally(name='dose_neutron_xy',tally_id=1)\n",
    "##dose_neutron_xy.scores = [\"flux\"]\n",
    "##dose_neutron_xy.filters = [filter_mesh_xy,filter_dose_neutron,neutron]\n",
    "##tallies.append(dose_neutron_xy)\n",
    "\n",
    "##dose_photon_xy = openmc.Tally(name='dose_photon_xy',tally_id=2)\n",
    "##dose_photon_xy.scores = [\"flux\"]\n",
    "##dose_photon_xy.filters = [filter_mesh_xy,filter_dose_photon,photon]\n",
    "##tallies.append(dose_photon_xy)\n",
    "\n",
    "flux_neutron_xy = openmc.Tally(name=\"flux_neutron_xy\", tally_id=3)\n",
    "flux_neutron_xy.scores = [\"flux\"]\n",
    "flux_neutron_xy.filters = [filter_mesh_xy, neutron]\n",
    "tallies.append(flux_neutron_xy)\n",
    "\n",
    "flux_photon_xy = openmc.Tally(name=\"flux_photon_xy\", tally_id=4)\n",
    "flux_photon_xy.scores = [\"flux\"]\n",
    "flux_photon_xy.filters = [filter_mesh_xy, photon]\n",
    "tallies.append(flux_photon_xy)\n",
    "\n",
    "##dose_neutron_xz = openmc.Tally(name='dose_neutron_xz',tally_id=5)\n",
    "##dose_neutron_xz.scores = [\"flux\"]\n",
    "##dose_neutron_xz.filters = [filter_mesh_xz,filter_dose_neutron,neutron]\n",
    "##tallies.append(dose_neutron_xz)\n",
    "\n",
    "##dose_photon_xz = openmc.Tally(name='dose_photon_xz',tally_id=6)\n",
    "##dose_photon_xz.scores = [\"flux\"]\n",
    "##dose_photon_xz.filters = [filter_mesh_xz,filter_dose_photon,photon]\n",
    "##tallies.append(dose_photon_xz)\n",
    "\n",
    "flux_neutron_xz = openmc.Tally(name=\"flux_neutron_xz\", tally_id=7)\n",
    "flux_neutron_xz.scores = [\"flux\"]\n",
    "flux_neutron_xz.filters = [filter_mesh_xz, neutron]\n",
    "tallies.append(flux_neutron_xz)\n",
    "\n",
    "flux_photon_xz = openmc.Tally(name=\"flux_photon_xz\", tally_id=8)\n",
    "flux_photon_xz.scores = [\"flux\"]\n",
    "flux_photon_xz.filters = [filter_mesh_xz, photon]\n",
    "tallies.append(flux_photon_xz)\n",
    "\n",
    "##dose_neutron_yz = openmc.Tally(name='dose_neutron_yz',tally_id=9)\n",
    "##dose_neutron_yz.scores = [\"flux\"]\n",
    "##dose_neutron_yz.filters = [filter_mesh_yz,filter_dose_neutron,neutron]\n",
    "##tallies.append(dose_neutron_yz)\n",
    "\n",
    "##dose_photon_yz = openmc.Tally(name='dose_photon_yz',tally_id=10)\n",
    "##dose_photon_yz.scores = [\"flux\"]\n",
    "##dose_photon_yz.filters = [filter_mesh_yz,filter_dose_photon,photon]\n",
    "##tallies.append(dose_photon_yz)\n",
    "\n",
    "flux_neutron_yz = openmc.Tally(name=\"flux_neutron_yz\", tally_id=11)\n",
    "flux_neutron_yz.scores = [\"flux\"]\n",
    "flux_neutron_yz.filters = [filter_mesh_yz, neutron]\n",
    "tallies.append(flux_neutron_yz)\n",
    "\n",
    "flux_photon_yz = openmc.Tally(name=\"flux_photon_yz\", tally_id=12)\n",
    "flux_photon_yz.scores = [\"flux\"]\n",
    "flux_photon_yz.filters = [filter_mesh_yz, photon]\n",
    "tallies.append(flux_photon_yz)\n",
    "\n",
    "spectra_neutron = openmc.Tally(name=\"spectra_neutron\", tally_id=13)\n",
    "spectra_neutron.scores = [\"current\"]\n",
    "spectra_neutron.filters = [filter_energy_neutron, filter_mesh_surf, neutron]\n",
    "tallies.append(spectra_neutron)\n",
    "\n",
    "# dummy del tally de spectra_neutron para plotearlo junto con la geometría usando openmc_regular_mesh_plotter\n",
    "spectra_neutron_d = openmc.Tally(name=\"spectra_neutron_d\", tally_id=24)\n",
    "spectra_neutron_d.scores = [\"flux\"]\n",
    "spectra_neutron_d.filters = [\n",
    "    filter_mesh_surf_d,\n",
    "    neutron,\n",
    "]  # remueve el energy filter porque no acepta más de 1 bin el openmc_regular_mesh_plotter\n",
    "tallies.append(spectra_neutron_d)\n",
    "\n",
    "spectra_photon = openmc.Tally(name=\"spectra_photon\", tally_id=14)\n",
    "spectra_photon.scores = [\"current\"]\n",
    "spectra_photon.filters = [filter_energy_photon, filter_mesh_surf, photon]\n",
    "tallies.append(spectra_photon)\n",
    "\n",
    "patron_neutron = openmc.Tally(name=\"patron_neutron\", tally_id=15)\n",
    "patron_neutron.scores = [\"flux\"]\n",
    "patron_neutron.filters = [filter_energy_neutron, filter_cell, neutron]\n",
    "tallies.append(patron_neutron)\n",
    "\n",
    "patron_photon = openmc.Tally(name=\"patron_photon\", tally_id=16)\n",
    "patron_photon.scores = [\"flux\"]\n",
    "patron_photon.filters = [filter_energy_photon, filter_cell, photon]\n",
    "tallies.append(patron_photon)\n",
    "\n",
    "# track_neutron=openmc.Tally(name='track_neutron',tally_id=19)\n",
    "# track_neutron.scores=['track-surface']#no reconoce track-surface como un argumento para scores\n",
    "# track_neutron.filters=[filter_surf,neutron]\n",
    "# tallies.append(track_neutron)\n",
    "\n",
    "# track_photon=openmc.Tally(name='track_photon',tally_id=20)\n",
    "# track_photon.scores=['track-surface']#no reconoce track-surface como un argumento para scores\n",
    "# track_photon.filters=[filter_surf,photon]\n",
    "# tallies.append(track_photon)\n",
    "\n",
    "\n",
    "detector_neutron = openmc.Tally(name=\"detector_neutron\", tally_id=21)\n",
    "# detector_neutron.scores=['flux']\n",
    "detector_neutron.scores = [\n",
    "    \"absorption\"\n",
    "]  # lo cambio a absorción porque cambié el material Air por He3\n",
    "detector_neutron.filters = [filter_energy_neutron, filter_detector, neutron]\n",
    "tallies.append(detector_neutron)\n",
    "\n",
    "detector_photon = openmc.Tally(name=\"detector_photon\", tally_id=22)\n",
    "detector_photon.scores = [\"flux\"]\n",
    "detector_photon.filters = [filter_energy_photon, filter_detector, photon]\n",
    "tallies.append(detector_photon)\n",
    "\n",
    "\n",
    "# pongo un detector en la ultima celda del colimador==>cell7039\n",
    "particle_filter = openmc.ParticleFilter([\"neutron\"])\n",
    "energy_detector_tally = openmc.Tally(name=\"energy_detector_tally\")\n",
    "energy_filter = openmc.filter.EnergyFilter(\n",
    "    np.logspace(np.log10(1e-5), np.log10(2e7), 201)\n",
    ")\n",
    "cell_filter = openmc.CellFilter(cell7039.id)\n",
    "energy_detector_tally.scores = [\"flux\"]\n",
    "energy_detector_tally.filters = [energy_filter, cell_filter, particle_filter]\n",
    "tallies.append(energy_detector_tally)\n",
    "\n",
    "\n",
    "tallies.export_to_xml()\n",
    "\n",
    "# (array(mesh_xz.upper_right)-array(mesh_xz.lower_left))/mesh_xz.dimension"
   ]
  },
  {
   "cell_type": "markdown",
   "metadata": {},
   "source": [
    "## FUENTES"
   ]
  },
  {
   "cell_type": "code",
   "execution_count": 27,
   "metadata": {},
   "outputs": [
    {
     "ename": "FileNotFoundError",
     "evalue": "../RA6-Nucleo/spectra not found.",
     "output_type": "error",
     "traceback": [
      "\u001b[0;31m---------------------------------------------------------------------------\u001b[0m",
      "\u001b[0;31mFileNotFoundError\u001b[0m                         Traceback (most recent call last)",
      "Cell \u001b[0;32mIn[27], line 1\u001b[0m\n\u001b[0;32m----> 1\u001b[0m energy, spectra_n, spectra_g \u001b[38;5;241m=\u001b[39m \u001b[43mnp\u001b[49m\u001b[38;5;241;43m.\u001b[39;49m\u001b[43mloadtxt\u001b[49m\u001b[43m(\u001b[49m\u001b[38;5;124;43m\"\u001b[39;49m\u001b[38;5;124;43m../RA6-Nucleo/spectra\u001b[39;49m\u001b[38;5;124;43m\"\u001b[39;49m\u001b[43m,\u001b[49m\u001b[43m \u001b[49m\u001b[43munpack\u001b[49m\u001b[38;5;241;43m=\u001b[39;49m\u001b[38;5;28;43;01mTrue\u001b[39;49;00m\u001b[43m)\u001b[49m\n\u001b[1;32m      3\u001b[0m source_neutron \u001b[38;5;241m=\u001b[39m openmc\u001b[38;5;241m.\u001b[39mSource()\n\u001b[1;32m      4\u001b[0m source_neutron\u001b[38;5;241m.\u001b[39mspace \u001b[38;5;241m=\u001b[39m openmc\u001b[38;5;241m.\u001b[39mstats\u001b[38;5;241m.\u001b[39mBox(\n\u001b[1;32m      5\u001b[0m     (\u001b[38;5;241m-\u001b[39m\u001b[38;5;241m50\u001b[39m \u001b[38;5;241m/\u001b[39m \u001b[38;5;241m2.0\u001b[39m, \u001b[38;5;241m0.0\u001b[39m, \u001b[38;5;241m-\u001b[39m\u001b[38;5;241m50\u001b[39m \u001b[38;5;241m/\u001b[39m \u001b[38;5;241m2\u001b[39m), (\u001b[38;5;241m50\u001b[39m \u001b[38;5;241m/\u001b[39m \u001b[38;5;241m2.0\u001b[39m, \u001b[38;5;241m0.0\u001b[39m, \u001b[38;5;241m50\u001b[39m \u001b[38;5;241m/\u001b[39m \u001b[38;5;241m2\u001b[39m)\n\u001b[1;32m      6\u001b[0m )\n",
      "File \u001b[0;32m~/anaconda3/envs/proyecto_integrador/lib/python3.10/site-packages/numpy/lib/_npyio_impl.py:1395\u001b[0m, in \u001b[0;36mloadtxt\u001b[0;34m(fname, dtype, comments, delimiter, converters, skiprows, usecols, unpack, ndmin, encoding, max_rows, quotechar, like)\u001b[0m\n\u001b[1;32m   1392\u001b[0m \u001b[38;5;28;01mif\u001b[39;00m \u001b[38;5;28misinstance\u001b[39m(delimiter, \u001b[38;5;28mbytes\u001b[39m):\n\u001b[1;32m   1393\u001b[0m     delimiter \u001b[38;5;241m=\u001b[39m delimiter\u001b[38;5;241m.\u001b[39mdecode(\u001b[38;5;124m'\u001b[39m\u001b[38;5;124mlatin1\u001b[39m\u001b[38;5;124m'\u001b[39m)\n\u001b[0;32m-> 1395\u001b[0m arr \u001b[38;5;241m=\u001b[39m \u001b[43m_read\u001b[49m\u001b[43m(\u001b[49m\u001b[43mfname\u001b[49m\u001b[43m,\u001b[49m\u001b[43m \u001b[49m\u001b[43mdtype\u001b[49m\u001b[38;5;241;43m=\u001b[39;49m\u001b[43mdtype\u001b[49m\u001b[43m,\u001b[49m\u001b[43m \u001b[49m\u001b[43mcomment\u001b[49m\u001b[38;5;241;43m=\u001b[39;49m\u001b[43mcomment\u001b[49m\u001b[43m,\u001b[49m\u001b[43m \u001b[49m\u001b[43mdelimiter\u001b[49m\u001b[38;5;241;43m=\u001b[39;49m\u001b[43mdelimiter\u001b[49m\u001b[43m,\u001b[49m\n\u001b[1;32m   1396\u001b[0m \u001b[43m            \u001b[49m\u001b[43mconverters\u001b[49m\u001b[38;5;241;43m=\u001b[39;49m\u001b[43mconverters\u001b[49m\u001b[43m,\u001b[49m\u001b[43m \u001b[49m\u001b[43mskiplines\u001b[49m\u001b[38;5;241;43m=\u001b[39;49m\u001b[43mskiprows\u001b[49m\u001b[43m,\u001b[49m\u001b[43m \u001b[49m\u001b[43musecols\u001b[49m\u001b[38;5;241;43m=\u001b[39;49m\u001b[43musecols\u001b[49m\u001b[43m,\u001b[49m\n\u001b[1;32m   1397\u001b[0m \u001b[43m            \u001b[49m\u001b[43munpack\u001b[49m\u001b[38;5;241;43m=\u001b[39;49m\u001b[43munpack\u001b[49m\u001b[43m,\u001b[49m\u001b[43m \u001b[49m\u001b[43mndmin\u001b[49m\u001b[38;5;241;43m=\u001b[39;49m\u001b[43mndmin\u001b[49m\u001b[43m,\u001b[49m\u001b[43m \u001b[49m\u001b[43mencoding\u001b[49m\u001b[38;5;241;43m=\u001b[39;49m\u001b[43mencoding\u001b[49m\u001b[43m,\u001b[49m\n\u001b[1;32m   1398\u001b[0m \u001b[43m            \u001b[49m\u001b[43mmax_rows\u001b[49m\u001b[38;5;241;43m=\u001b[39;49m\u001b[43mmax_rows\u001b[49m\u001b[43m,\u001b[49m\u001b[43m \u001b[49m\u001b[43mquote\u001b[49m\u001b[38;5;241;43m=\u001b[39;49m\u001b[43mquotechar\u001b[49m\u001b[43m)\u001b[49m\n\u001b[1;32m   1400\u001b[0m \u001b[38;5;28;01mreturn\u001b[39;00m arr\n",
      "File \u001b[0;32m~/anaconda3/envs/proyecto_integrador/lib/python3.10/site-packages/numpy/lib/_npyio_impl.py:1022\u001b[0m, in \u001b[0;36m_read\u001b[0;34m(fname, delimiter, comment, quote, imaginary_unit, usecols, skiplines, max_rows, converters, ndmin, unpack, dtype, encoding)\u001b[0m\n\u001b[1;32m   1020\u001b[0m     fname \u001b[38;5;241m=\u001b[39m os\u001b[38;5;241m.\u001b[39mfspath(fname)\n\u001b[1;32m   1021\u001b[0m \u001b[38;5;28;01mif\u001b[39;00m \u001b[38;5;28misinstance\u001b[39m(fname, \u001b[38;5;28mstr\u001b[39m):\n\u001b[0;32m-> 1022\u001b[0m     fh \u001b[38;5;241m=\u001b[39m \u001b[43mnp\u001b[49m\u001b[38;5;241;43m.\u001b[39;49m\u001b[43mlib\u001b[49m\u001b[38;5;241;43m.\u001b[39;49m\u001b[43m_datasource\u001b[49m\u001b[38;5;241;43m.\u001b[39;49m\u001b[43mopen\u001b[49m\u001b[43m(\u001b[49m\u001b[43mfname\u001b[49m\u001b[43m,\u001b[49m\u001b[43m \u001b[49m\u001b[38;5;124;43m'\u001b[39;49m\u001b[38;5;124;43mrt\u001b[39;49m\u001b[38;5;124;43m'\u001b[39;49m\u001b[43m,\u001b[49m\u001b[43m \u001b[49m\u001b[43mencoding\u001b[49m\u001b[38;5;241;43m=\u001b[39;49m\u001b[43mencoding\u001b[49m\u001b[43m)\u001b[49m\n\u001b[1;32m   1023\u001b[0m     \u001b[38;5;28;01mif\u001b[39;00m encoding \u001b[38;5;129;01mis\u001b[39;00m \u001b[38;5;28;01mNone\u001b[39;00m:\n\u001b[1;32m   1024\u001b[0m         encoding \u001b[38;5;241m=\u001b[39m \u001b[38;5;28mgetattr\u001b[39m(fh, \u001b[38;5;124m'\u001b[39m\u001b[38;5;124mencoding\u001b[39m\u001b[38;5;124m'\u001b[39m, \u001b[38;5;124m'\u001b[39m\u001b[38;5;124mlatin1\u001b[39m\u001b[38;5;124m'\u001b[39m)\n",
      "File \u001b[0;32m~/anaconda3/envs/proyecto_integrador/lib/python3.10/site-packages/numpy/lib/_datasource.py:192\u001b[0m, in \u001b[0;36mopen\u001b[0;34m(path, mode, destpath, encoding, newline)\u001b[0m\n\u001b[1;32m    155\u001b[0m \u001b[38;5;250m\u001b[39m\u001b[38;5;124;03m\"\"\"\u001b[39;00m\n\u001b[1;32m    156\u001b[0m \u001b[38;5;124;03mOpen `path` with `mode` and return the file object.\u001b[39;00m\n\u001b[1;32m    157\u001b[0m \n\u001b[0;32m   (...)\u001b[0m\n\u001b[1;32m    188\u001b[0m \n\u001b[1;32m    189\u001b[0m \u001b[38;5;124;03m\"\"\"\u001b[39;00m\n\u001b[1;32m    191\u001b[0m ds \u001b[38;5;241m=\u001b[39m DataSource(destpath)\n\u001b[0;32m--> 192\u001b[0m \u001b[38;5;28;01mreturn\u001b[39;00m \u001b[43mds\u001b[49m\u001b[38;5;241;43m.\u001b[39;49m\u001b[43mopen\u001b[49m\u001b[43m(\u001b[49m\u001b[43mpath\u001b[49m\u001b[43m,\u001b[49m\u001b[43m \u001b[49m\u001b[43mmode\u001b[49m\u001b[43m,\u001b[49m\u001b[43m \u001b[49m\u001b[43mencoding\u001b[49m\u001b[38;5;241;43m=\u001b[39;49m\u001b[43mencoding\u001b[49m\u001b[43m,\u001b[49m\u001b[43m \u001b[49m\u001b[43mnewline\u001b[49m\u001b[38;5;241;43m=\u001b[39;49m\u001b[43mnewline\u001b[49m\u001b[43m)\u001b[49m\n",
      "File \u001b[0;32m~/anaconda3/envs/proyecto_integrador/lib/python3.10/site-packages/numpy/lib/_datasource.py:529\u001b[0m, in \u001b[0;36mDataSource.open\u001b[0;34m(self, path, mode, encoding, newline)\u001b[0m\n\u001b[1;32m    526\u001b[0m     \u001b[38;5;28;01mreturn\u001b[39;00m _file_openers[ext](found, mode\u001b[38;5;241m=\u001b[39mmode,\n\u001b[1;32m    527\u001b[0m                               encoding\u001b[38;5;241m=\u001b[39mencoding, newline\u001b[38;5;241m=\u001b[39mnewline)\n\u001b[1;32m    528\u001b[0m \u001b[38;5;28;01melse\u001b[39;00m:\n\u001b[0;32m--> 529\u001b[0m     \u001b[38;5;28;01mraise\u001b[39;00m \u001b[38;5;167;01mFileNotFoundError\u001b[39;00m(\u001b[38;5;124mf\u001b[39m\u001b[38;5;124m\"\u001b[39m\u001b[38;5;132;01m{\u001b[39;00mpath\u001b[38;5;132;01m}\u001b[39;00m\u001b[38;5;124m not found.\u001b[39m\u001b[38;5;124m\"\u001b[39m)\n",
      "\u001b[0;31mFileNotFoundError\u001b[0m: ../RA6-Nucleo/spectra not found."
     ]
    }
   ],
   "source": [
    "energy, spectra_n, spectra_g = np.loadtxt(\"../RA6-Nucleo/spectra\", unpack=True)\n",
    "\n",
    "source_neutron = openmc.Source()\n",
    "source_neutron.space = openmc.stats.Box(\n",
    "    (-50 / 2.0, 0.0, -50 / 2), (50 / 2.0, 0.0, 50 / 2)\n",
    ")\n",
    "source_neutron.angle = openmc.stats.PolarAzimuthal(\n",
    "    # mu=openmc.stats.Uniform(1.0,cos(arctan(11.8/72.05))),\n",
    "    mu=openmc.stats.Uniform(0.0, 1.0),\n",
    "    phi=openmc.stats.Uniform(0.0, 2 * pi),\n",
    "    reference_uvw=[0, 1, 0],\n",
    ")\n",
    "source_neutron.energy = openmc.stats.Discrete(x=energy, p=spectra_n)\n",
    "\n",
    "source_photon = openmc.Source()\n",
    "source_photon.space = openmc.stats.Box(\n",
    "    (-50 / 2.0, 0.0, -50 / 2), (50 / 2.0, 0.0, 50 / 2)\n",
    ")\n",
    "source_photon.angle = openmc.stats.PolarAzimuthal(\n",
    "    mu=openmc.stats.Uniform(0.0, 1.0),\n",
    "    # mu=openmc.stats.Uniform(1.0,cos(arctan(11.8/72.05))),\n",
    "    phi=openmc.stats.Uniform(0.0, 2 * pi),\n",
    "    reference_uvw=[0, 1, 0],\n",
    ")\n",
    "source_photon.energy = openmc.stats.Discrete(x=energy, p=spectra_g)"
   ]
  },
  {
   "cell_type": "markdown",
   "metadata": {},
   "source": [
    "## KDSource CONVIERTO LA FUENTE DE MCPL EN H5"
   ]
  },
  {
   "cell_type": "code",
   "execution_count": null,
   "metadata": {},
   "outputs": [
    {
     "name": "stdout",
     "output_type": "stream",
     "text": [
      "Number of particles in file /mnt/c/Users/Mariano/Documents/Laboral/CNEA_NEUTRONES/OpenMC/DN-RA-6/Ci5-N16-Delayed/surftrack_5000.mcpl.gz: 47859\n",
      "7% n, 93% g, 0% e-, 0% e+, 0% p, \n",
      "Saving into OpenMC format (HDF5)\n",
      "Done, saved into /home/vissffin/RA-6/source_Ci5-N16-Del.h5 file\n"
     ]
    },
    {
     "name": "stderr",
     "output_type": "stream",
     "text": [
      "/home/vissffin/anaconda3/envs/openmc/lib/python3.12/site-packages/kdsource/surfsource.py:422: RuntimeWarning: divide by zero encountered in log10\n",
      "  df[\"log(t)\"] = np.log10(df[\"t\"].to_numpy())\n"
     ]
    }
   ],
   "source": [
    "# Esta línea la saqué de Verification.ipynb para convertir el archivo de MCPL en H5\n",
    "import os\n",
    "import numpy as np\n",
    "import kdsource as kds\n",
    "import mcpl\n",
    "\n",
    "# surftrack_9504.mcpl.gz es dentro de la pileta\n",
    "# surftrack_5000.mcpl.gz es el que corresponde cuando empieza el conducto\n",
    "# surftrack.mcpl.gz son los dos tracks\n",
    "ssf = kds.SurfaceSourceFile(\n",
    "    \"/mnt/c/Users/Mariano/Documents/Laboral/CNEA_NEUTRONES/OpenMC/DN-RA-6/Ci5-N16-Delayed/surftrack_5000.mcpl.gz\"\n",
    ")  # , translation = [15, -115, 0], rotation = [0, 0, 0])\n",
    "ssf.save_source_file(\"/home/vissffin/RA-6/source_Ci5-N16-Del.h5\")"
   ]
  },
  {
   "cell_type": "markdown",
   "metadata": {},
   "source": [
    "## KDSource IMPORTO EL ARCHIVO Y LO IMPRIMO "
   ]
  },
  {
   "cell_type": "code",
   "execution_count": null,
   "metadata": {},
   "outputs": [
    {
     "name": "stdout",
     "output_type": "stream",
     "text": [
      "[((-4.18289948,  1.66603994, 0.), ( 0.0226434 , -0.0937315 , 0.99533998), 6.75883030e-02, 0., 0.382902  , 0, 0, 0)\n",
      " ((-0.6875    , -1.42949998, 0.), (-0.26302895,  0.06257179, 0.96275674), 3.22761011e+06, 0., 0.91451502, 0, 0, 1)\n",
      " ((-1.45890045,  4.34052992, 0.), (-0.3370069 ,  0.05465088, 0.93991469), 5.54889011e+06, 0., 0.99021602, 0, 0, 1)\n",
      " ...\n",
      " (( 3.21459961, -1.47864997, 0.), (-0.35557994, -0.09206998, 0.93010001), 3.51855010e+05, 0., 0.930457  , 0, 0, 1)\n",
      " (( 4.32929993,  2.6454699 , 0.), (-0.119501  , -0.27000299, 0.95541504), 1.57885003e+06, 0., 0.95250398, 0, 0, 1)\n",
      " ((-1.08480072,  1.83334005, 0.), ( 0.800391  ,  0.0643639 , 0.59601303), 1.57063007e+05, 0., 0.98372602, 0, 0, 1)]\n"
     ]
    }
   ],
   "source": [
    "with h5py.File(\"/home/vissffin/RA-6/source_Ci5-N16-Del.h5\") as source_file:\n",
    "    particles = source_file[\"source_bank\"][()]\n",
    "    print(particles)"
   ]
  },
  {
   "cell_type": "markdown",
   "metadata": {},
   "source": [
    "### Idem anterior pero sin KDSource, el problema es que abre el archivo y después no se puede sobreescribir"
   ]
  },
  {
   "cell_type": "code",
   "execution_count": null,
   "metadata": {},
   "outputs": [],
   "source": [
    "# source_file = h5py.File('/home/vissffin/RA-6/source_Ci5-N16-Del.h5')\n",
    "# particles = source_file['source_bank'][()]\n",
    "# np.set_printoptions(threshold=np.inf)\n",
    "# print(particles)"
   ]
  },
  {
   "cell_type": "markdown",
   "metadata": {},
   "source": [
    "## PLOT FUENTE "
   ]
  },
  {
   "cell_type": "markdown",
   "metadata": {},
   "source": [
    "### Espectro gammas"
   ]
  },
  {
   "cell_type": "code",
   "execution_count": null,
   "metadata": {},
   "outputs": [
    {
     "data": {
      "image/png": "[encoded data removed]",
      "text/plain": [
       "<Figure size 1000x1000 with 1 Axes>"
      ]
     },
     "metadata": {},
     "output_type": "display_data"
    }
   ],
   "source": [
    "# filters es el rango de dominio, 2112 filtro PDG filtra neutrones, 22 filtra gamma[22,24]\n",
    "ssf.plot_distribution(\n",
    "    vars=[\"E\"],\n",
    "    bins=[100],\n",
    "    scales=[\"linear\", \"log\"],\n",
    "    norm_vars=[\"E\"],\n",
    "    filters={\"type\": [22, 24]},\n",
    ")\n",
    "plt.show()"
   ]
  },
  {
   "cell_type": "markdown",
   "metadata": {},
   "source": [
    "### Espectro neutrones"
   ]
  },
  {
   "cell_type": "code",
   "execution_count": null,
   "metadata": {},
   "outputs": [
    {
     "data": {
      "image/png": "[encoded data removed]",
      "text/plain": [
       "<Figure size 1000x1000 with 1 Axes>"
      ]
     },
     "metadata": {},
     "output_type": "display_data"
    }
   ],
   "source": [
    "# filters es el rango de dominio, 2112 filtro PDG filtra neutrones, 22 filtra gamma[22,24]\n",
    "ssf.plot_distribution(\n",
    "    vars=[\"E\"],\n",
    "    bins=[100],\n",
    "    scales=[\"log\", \"log\"],\n",
    "    norm_vars=[\"E\"],\n",
    "    filters={\"type\": [2112, None]},\n",
    ")\n",
    "# vars puede ser una lista de hasta 2 variables\n",
    "plt.show()"
   ]
  },
  {
   "cell_type": "markdown",
   "metadata": {},
   "source": [
    "### Perfil neutrones"
   ]
  },
  {
   "cell_type": "code",
   "execution_count": null,
   "metadata": {
    "scrolled": true
   },
   "outputs": [
    {
     "data": {
      "image/png": "[encoded data removed]",
      "text/plain": [
       "<Figure size 1000x1000 with 2 Axes>"
      ]
     },
     "metadata": {},
     "output_type": "display_data"
    }
   ],
   "source": [
    "# filters es el rango de dominio, 2112 filtro PDG filtra neutrones, 22 filtra gamma[22,24]\n",
    "ssf.plot_distribution(\n",
    "    vars=[\"x\", \"y\"],\n",
    "    bins=[50, 50],\n",
    "    scales=[\"linear\", \"linear\"],\n",
    "    norm_vars=[\"x\", \"y\"],\n",
    "    filters={\"type\": [2112, None]},\n",
    ")\n",
    "# xy es la superficie perpendicular a la dirección de propagación de los neutrones (z)"
   ]
  },
  {
   "cell_type": "markdown",
   "metadata": {},
   "source": [
    "## KDSource"
   ]
  },
  {
   "cell_type": "code",
   "execution_count": null,
   "metadata": {
    "scrolled": true
   },
   "outputs": [
    {
     "name": "stderr",
     "output_type": "stream",
     "text": [
      "/home/vissffin/anaconda3/envs/openmc/lib/python3.12/site-packages/kdsource/surfsource.py:422: RuntimeWarning: divide by zero encountered in log10\n",
      "  df[\"log(t)\"] = np.log10(df[\"t\"].to_numpy())\n"
     ]
    },
    {
     "data": {
      "text/html": [
       "<div>\n",
       "<style scoped>\n",
       "    .dataframe tbody tr th:only-of-type {\n",
       "        vertical-align: middle;\n",
       "    }\n",
       "\n",
       "    .dataframe tbody tr th {\n",
       "        vertical-align: top;\n",
       "    }\n",
       "\n",
       "    .dataframe thead th {\n",
       "        text-align: right;\n",
       "    }\n",
       "</style>\n",
       "<table border=\"1\" class=\"dataframe\">\n",
       "  <thead>\n",
       "    <tr style=\"text-align: right;\">\n",
       "      <th></th>\n",
       "      <th>id</th>\n",
       "      <th>type</th>\n",
       "      <th>E</th>\n",
       "      <th>x</th>\n",
       "      <th>y</th>\n",
       "      <th>z</th>\n",
       "      <th>u</th>\n",
       "      <th>v</th>\n",
       "      <th>w</th>\n",
       "      <th>t</th>\n",
       "      <th>...</th>\n",
       "      <th>pz</th>\n",
       "      <th>userflags</th>\n",
       "      <th>R</th>\n",
       "      <th>theta</th>\n",
       "      <th>mu</th>\n",
       "      <th>psi</th>\n",
       "      <th>phi</th>\n",
       "      <th>ln(E0/E)</th>\n",
       "      <th>log(t)</th>\n",
       "      <th>lambda</th>\n",
       "    </tr>\n",
       "  </thead>\n",
       "  <tbody>\n",
       "    <tr>\n",
       "      <th>0</th>\n",
       "      <td>0</td>\n",
       "      <td>2112.0</td>\n",
       "      <td>6.758830e-08</td>\n",
       "      <td>-4.182899</td>\n",
       "      <td>1.666040</td>\n",
       "      <td>0.0</td>\n",
       "      <td>0.022643</td>\n",
       "      <td>-0.093732</td>\n",
       "      <td>0.995340</td>\n",
       "      <td>0.0</td>\n",
       "      <td>...</td>\n",
       "      <td>0.0</td>\n",
       "      <td>5000.0</td>\n",
       "      <td>4.502481</td>\n",
       "      <td>2.762554</td>\n",
       "      <td>0.995340</td>\n",
       "      <td>0.096578</td>\n",
       "      <td>-1.333761</td>\n",
       "      <td>19.505563</td>\n",
       "      <td>-inf</td>\n",
       "      <td>1.100150</td>\n",
       "    </tr>\n",
       "    <tr>\n",
       "      <th>1</th>\n",
       "      <td>1</td>\n",
       "      <td>22.0</td>\n",
       "      <td>3.227610e+00</td>\n",
       "      <td>-0.687500</td>\n",
       "      <td>-1.429500</td>\n",
       "      <td>0.0</td>\n",
       "      <td>-0.263029</td>\n",
       "      <td>0.062572</td>\n",
       "      <td>0.962757</td>\n",
       "      <td>0.0</td>\n",
       "      <td>...</td>\n",
       "      <td>0.0</td>\n",
       "      <td>5000.0</td>\n",
       "      <td>1.586230</td>\n",
       "      <td>-2.019078</td>\n",
       "      <td>0.962757</td>\n",
       "      <td>0.273776</td>\n",
       "      <td>2.908044</td>\n",
       "      <td>1.823990</td>\n",
       "      <td>-inf</td>\n",
       "      <td>0.003841</td>\n",
       "    </tr>\n",
       "    <tr>\n",
       "      <th>2</th>\n",
       "      <td>2</td>\n",
       "      <td>22.0</td>\n",
       "      <td>5.548890e+00</td>\n",
       "      <td>-1.458900</td>\n",
       "      <td>4.340530</td>\n",
       "      <td>0.0</td>\n",
       "      <td>-0.337007</td>\n",
       "      <td>0.054651</td>\n",
       "      <td>0.939915</td>\n",
       "      <td>0.0</td>\n",
       "      <td>...</td>\n",
       "      <td>0.0</td>\n",
       "      <td>5000.0</td>\n",
       "      <td>4.579147</td>\n",
       "      <td>1.895045</td>\n",
       "      <td>0.939915</td>\n",
       "      <td>0.348416</td>\n",
       "      <td>2.980827</td>\n",
       "      <td>1.282134</td>\n",
       "      <td>-inf</td>\n",
       "      <td>0.002234</td>\n",
       "    </tr>\n",
       "    <tr>\n",
       "      <th>3</th>\n",
       "      <td>3</td>\n",
       "      <td>22.0</td>\n",
       "      <td>7.451990e+00</td>\n",
       "      <td>3.669700</td>\n",
       "      <td>0.812581</td>\n",
       "      <td>0.0</td>\n",
       "      <td>0.063654</td>\n",
       "      <td>0.230229</td>\n",
       "      <td>0.971052</td>\n",
       "      <td>0.0</td>\n",
       "      <td>...</td>\n",
       "      <td>0.0</td>\n",
       "      <td>5000.0</td>\n",
       "      <td>3.758588</td>\n",
       "      <td>0.217914</td>\n",
       "      <td>0.971052</td>\n",
       "      <td>0.241198</td>\n",
       "      <td>1.301055</td>\n",
       "      <td>0.987251</td>\n",
       "      <td>-inf</td>\n",
       "      <td>0.001664</td>\n",
       "    </tr>\n",
       "    <tr>\n",
       "      <th>4</th>\n",
       "      <td>4</td>\n",
       "      <td>22.0</td>\n",
       "      <td>1.195580e+00</td>\n",
       "      <td>3.009400</td>\n",
       "      <td>-2.562420</td>\n",
       "      <td>0.0</td>\n",
       "      <td>-0.037333</td>\n",
       "      <td>-0.083341</td>\n",
       "      <td>0.995822</td>\n",
       "      <td>0.0</td>\n",
       "      <td>...</td>\n",
       "      <td>0.0</td>\n",
       "      <td>5000.0</td>\n",
       "      <td>3.952529</td>\n",
       "      <td>-0.705348</td>\n",
       "      <td>0.995822</td>\n",
       "      <td>0.091448</td>\n",
       "      <td>-1.991946</td>\n",
       "      <td>2.817101</td>\n",
       "      <td>-inf</td>\n",
       "      <td>0.010370</td>\n",
       "    </tr>\n",
       "    <tr>\n",
       "      <th>...</th>\n",
       "      <td>...</td>\n",
       "      <td>...</td>\n",
       "      <td>...</td>\n",
       "      <td>...</td>\n",
       "      <td>...</td>\n",
       "      <td>...</td>\n",
       "      <td>...</td>\n",
       "      <td>...</td>\n",
       "      <td>...</td>\n",
       "      <td>...</td>\n",
       "      <td>...</td>\n",
       "      <td>...</td>\n",
       "      <td>...</td>\n",
       "      <td>...</td>\n",
       "      <td>...</td>\n",
       "      <td>...</td>\n",
       "      <td>...</td>\n",
       "      <td>...</td>\n",
       "      <td>...</td>\n",
       "      <td>...</td>\n",
       "      <td>...</td>\n",
       "    </tr>\n",
       "    <tr>\n",
       "      <th>47854</th>\n",
       "      <td>47854</td>\n",
       "      <td>22.0</td>\n",
       "      <td>2.871020e+00</td>\n",
       "      <td>1.022800</td>\n",
       "      <td>-1.622420</td>\n",
       "      <td>0.0</td>\n",
       "      <td>-0.257616</td>\n",
       "      <td>0.122533</td>\n",
       "      <td>0.958446</td>\n",
       "      <td>0.0</td>\n",
       "      <td>...</td>\n",
       "      <td>0.0</td>\n",
       "      <td>5000.0</td>\n",
       "      <td>1.917907</td>\n",
       "      <td>-1.008311</td>\n",
       "      <td>0.958446</td>\n",
       "      <td>0.289291</td>\n",
       "      <td>2.697621</td>\n",
       "      <td>1.941065</td>\n",
       "      <td>-inf</td>\n",
       "      <td>0.004318</td>\n",
       "    </tr>\n",
       "    <tr>\n",
       "      <th>47855</th>\n",
       "      <td>47855</td>\n",
       "      <td>22.0</td>\n",
       "      <td>8.910650e-01</td>\n",
       "      <td>-4.145399</td>\n",
       "      <td>-0.250450</td>\n",
       "      <td>0.0</td>\n",
       "      <td>-0.076385</td>\n",
       "      <td>0.188762</td>\n",
       "      <td>0.979048</td>\n",
       "      <td>0.0</td>\n",
       "      <td>...</td>\n",
       "      <td>0.0</td>\n",
       "      <td>5000.0</td>\n",
       "      <td>4.152958</td>\n",
       "      <td>-3.081250</td>\n",
       "      <td>0.979048</td>\n",
       "      <td>0.205065</td>\n",
       "      <td>1.955315</td>\n",
       "      <td>3.111070</td>\n",
       "      <td>-inf</td>\n",
       "      <td>0.013914</td>\n",
       "    </tr>\n",
       "    <tr>\n",
       "      <th>47856</th>\n",
       "      <td>47856</td>\n",
       "      <td>22.0</td>\n",
       "      <td>3.518550e-01</td>\n",
       "      <td>3.214600</td>\n",
       "      <td>-1.478650</td>\n",
       "      <td>0.0</td>\n",
       "      <td>-0.355580</td>\n",
       "      <td>-0.092070</td>\n",
       "      <td>0.930100</td>\n",
       "      <td>0.0</td>\n",
       "      <td>...</td>\n",
       "      <td>0.0</td>\n",
       "      <td>5000.0</td>\n",
       "      <td>3.538369</td>\n",
       "      <td>-0.431122</td>\n",
       "      <td>0.930100</td>\n",
       "      <td>0.376111</td>\n",
       "      <td>-2.888228</td>\n",
       "      <td>4.040268</td>\n",
       "      <td>-inf</td>\n",
       "      <td>0.035237</td>\n",
       "    </tr>\n",
       "    <tr>\n",
       "      <th>47857</th>\n",
       "      <td>47857</td>\n",
       "      <td>22.0</td>\n",
       "      <td>1.578850e+00</td>\n",
       "      <td>4.329300</td>\n",
       "      <td>2.645470</td>\n",
       "      <td>0.0</td>\n",
       "      <td>-0.119501</td>\n",
       "      <td>-0.270003</td>\n",
       "      <td>0.955415</td>\n",
       "      <td>0.0</td>\n",
       "      <td>...</td>\n",
       "      <td>0.0</td>\n",
       "      <td>5000.0</td>\n",
       "      <td>5.073593</td>\n",
       "      <td>0.548514</td>\n",
       "      <td>0.955415</td>\n",
       "      <td>0.299734</td>\n",
       "      <td>-1.987472</td>\n",
       "      <td>2.539036</td>\n",
       "      <td>-inf</td>\n",
       "      <td>0.007853</td>\n",
       "    </tr>\n",
       "    <tr>\n",
       "      <th>47858</th>\n",
       "      <td>47858</td>\n",
       "      <td>22.0</td>\n",
       "      <td>1.570630e-01</td>\n",
       "      <td>-1.084801</td>\n",
       "      <td>1.833340</td>\n",
       "      <td>0.0</td>\n",
       "      <td>0.800391</td>\n",
       "      <td>0.064364</td>\n",
       "      <td>0.596013</td>\n",
       "      <td>0.0</td>\n",
       "      <td>...</td>\n",
       "      <td>0.0</td>\n",
       "      <td>5000.0</td>\n",
       "      <td>2.130241</td>\n",
       "      <td>2.105096</td>\n",
       "      <td>0.596013</td>\n",
       "      <td>0.932270</td>\n",
       "      <td>0.080243</td>\n",
       "      <td>4.846841</td>\n",
       "      <td>-inf</td>\n",
       "      <td>0.078939</td>\n",
       "    </tr>\n",
       "  </tbody>\n",
       "</table>\n",
       "<p>47859 rows × 23 columns</p>\n",
       "</div>"
      ],
      "text/plain": [
       "          id    type             E         x         y    z         u  \\\n",
       "0          0  2112.0  6.758830e-08 -4.182899  1.666040  0.0  0.022643   \n",
       "1          1    22.0  3.227610e+00 -0.687500 -1.429500  0.0 -0.263029   \n",
       "2          2    22.0  5.548890e+00 -1.458900  4.340530  0.0 -0.337007   \n",
       "3          3    22.0  7.451990e+00  3.669700  0.812581  0.0  0.063654   \n",
       "4          4    22.0  1.195580e+00  3.009400 -2.562420  0.0 -0.037333   \n",
       "...      ...     ...           ...       ...       ...  ...       ...   \n",
       "47854  47854    22.0  2.871020e+00  1.022800 -1.622420  0.0 -0.257616   \n",
       "47855  47855    22.0  8.910650e-01 -4.145399 -0.250450  0.0 -0.076385   \n",
       "47856  47856    22.0  3.518550e-01  3.214600 -1.478650  0.0 -0.355580   \n",
       "47857  47857    22.0  1.578850e+00  4.329300  2.645470  0.0 -0.119501   \n",
       "47858  47858    22.0  1.570630e-01 -1.084801  1.833340  0.0  0.800391   \n",
       "\n",
       "              v         w    t  ...   pz  userflags         R     theta  \\\n",
       "0     -0.093732  0.995340  0.0  ...  0.0     5000.0  4.502481  2.762554   \n",
       "1      0.062572  0.962757  0.0  ...  0.0     5000.0  1.586230 -2.019078   \n",
       "2      0.054651  0.939915  0.0  ...  0.0     5000.0  4.579147  1.895045   \n",
       "3      0.230229  0.971052  0.0  ...  0.0     5000.0  3.758588  0.217914   \n",
       "4     -0.083341  0.995822  0.0  ...  0.0     5000.0  3.952529 -0.705348   \n",
       "...         ...       ...  ...  ...  ...        ...       ...       ...   \n",
       "47854  0.122533  0.958446  0.0  ...  0.0     5000.0  1.917907 -1.008311   \n",
       "47855  0.188762  0.979048  0.0  ...  0.0     5000.0  4.152958 -3.081250   \n",
       "47856 -0.092070  0.930100  0.0  ...  0.0     5000.0  3.538369 -0.431122   \n",
       "47857 -0.270003  0.955415  0.0  ...  0.0     5000.0  5.073593  0.548514   \n",
       "47858  0.064364  0.596013  0.0  ...  0.0     5000.0  2.130241  2.105096   \n",
       "\n",
       "             mu       psi       phi   ln(E0/E)  log(t)    lambda  \n",
       "0      0.995340  0.096578 -1.333761  19.505563    -inf  1.100150  \n",
       "1      0.962757  0.273776  2.908044   1.823990    -inf  0.003841  \n",
       "2      0.939915  0.348416  2.980827   1.282134    -inf  0.002234  \n",
       "3      0.971052  0.241198  1.301055   0.987251    -inf  0.001664  \n",
       "4      0.995822  0.091448 -1.991946   2.817101    -inf  0.010370  \n",
       "...         ...       ...       ...        ...     ...       ...  \n",
       "47854  0.958446  0.289291  2.697621   1.941065    -inf  0.004318  \n",
       "47855  0.979048  0.205065  1.955315   3.111070    -inf  0.013914  \n",
       "47856  0.930100  0.376111 -2.888228   4.040268    -inf  0.035237  \n",
       "47857  0.955415  0.299734 -1.987472   2.539036    -inf  0.007853  \n",
       "47858  0.596013  0.932270  0.080243   4.846841    -inf  0.078939  \n",
       "\n",
       "[47859 rows x 23 columns]"
      ]
     },
     "execution_count": 67,
     "metadata": {},
     "output_type": "execute_result"
    }
   ],
   "source": [
    "df = ssf.get_pandas_dataframe()\n",
    "df"
   ]
  },
  {
   "cell_type": "code",
   "execution_count": null,
   "metadata": {},
   "outputs": [
    {
     "name": "stdout",
     "output_type": "stream",
     "text": [
      "<openmc.geometry.Geometry object at 0x7f952c6c7860>\n"
     ]
    }
   ],
   "source": [
    "print(geome)"
   ]
  },
  {
   "cell_type": "markdown",
   "metadata": {},
   "source": [
    "### Create KDSource"
   ]
  },
  {
   "cell_type": "code",
   "execution_count": null,
   "metadata": {},
   "outputs": [
    {
     "name": "stdout",
     "output_type": "stream",
     "text": [
      "Using existing file /mnt/c/Users/Mariano/Documents/Laboral/CNEA_NEUTRONES/OpenMC/DN-RA-6/Ci5-N16-Delayed/surftrack_5000.mcpl.gz\n",
      "sum_weights = 1847.9401921629906\n",
      "p2 = 1204.4419963851958\n",
      "N = 3419\n",
      "N_eff = 2835.2406874388557\n"
     ]
    }
   ],
   "source": [
    "samples = \"/mnt/c/Users/Mariano/Documents/Laboral/CNEA_NEUTRONES/OpenMC/DN-RA-6/Ci5-N16-Delayed/surftrack_5000.mcpl.gz\"\n",
    "# PList: wrapper for MCPL file\n",
    "plist = kds.PList(samples)\n",
    "# Geometry: define metrics for variables\n",
    "E0 = 20\n",
    "# tuve que cambiar el nombre de la geometría de conducto 5 de OpenMC a \"geome\" porque si no hacía lío con este parámetro \"geom\" cuando quería correr OpenMC\n",
    "geom = kds.Geometry([kds.geom.Lethargy(E0), kds.geom.SurfXY(), kds.geom.Isotrop()])\n",
    "# Create KDSource\n",
    "s = kds.KDSource(plist, geom)"
   ]
  },
  {
   "cell_type": "code",
   "execution_count": null,
   "metadata": {},
   "outputs": [
    {
     "name": "stdout",
     "output_type": "stream",
     "text": [
      "<kdsource.geom.Geometry object at 0x7f93f4f5aff0>\n"
     ]
    }
   ],
   "source": [
    "print(geom)"
   ]
  },
  {
   "cell_type": "markdown",
   "metadata": {},
   "source": [
    "### Optimize bandwidth"
   ]
  },
  {
   "cell_type": "code",
   "execution_count": null,
   "metadata": {},
   "outputs": [],
   "source": [
    "# Give a little more importance to energy\n",
    "var_importance = [10,1,1,1,1,1]\n",
    "\n",
    "\n",
    "#con este parametro puedo mejorar el \"ajuste\", por ejemplo para quela gaussiana tenga el mismo FWHM\n",
    "\n",
    "parts,ws = s.plist.get(N=-1)\n",
    "scaling = s.geom.std(parts=parts)\n",
    "scaling /= var_importance"
   ]
  },
  {
   "cell_type": "code",
   "execution_count": null,
   "metadata": {},
   "outputs": [],
   "source": [
    "# Number of particles to use for optimization.\n",
    "# A large number (1E5 or more) gives better bandwidths, but takes longer to\n",
    "# compute.\n",
    "N = 1E5\n"
   ]
  },
  {
   "cell_type": "code",
   "execution_count": null,
   "metadata": {},
   "outputs": [
    {
     "name": "stdout",
     "output_type": "stream",
     "text": [
      "Using 3419 particles for fit.\n",
      "Calculating bw ... \n",
      "Using k = 10 neighbors per batch (batch_size = 10000)\n",
      "Correction factor: f_k = k_float / k = 1.0\n",
      "Effective total neighbors: K_eff = 3.419\n",
      "batch = 1 / 1\n",
      "Done\n",
      "Optimal bw (knn) = [[0.25915012 1.49327424 1.48126654 0.27360721 0.27360721 0.27360721]\n",
      " [1.1016832  6.34811646 6.29707006 1.16314228 1.16314228 1.16314228]\n",
      " [0.50285423 2.89754549 2.87424579 0.53090672 0.53090672 0.53090672]\n",
      " ...\n",
      " [1.00639313 5.79903623 5.75240509 1.06253631 1.06253631 1.06253631]\n",
      " [0.26042776 1.50063627 1.48856937 0.27495612 0.27495612 0.27495612]\n",
      " [0.62134934 3.5803378  3.55154763 0.65601227 0.65601227 0.65601227]]\n",
      "Using 710 particles for fit.\n",
      "Calculating bw ... \n"
     ]
    },
    {
     "name": "stderr",
     "output_type": "stream",
     "text": [
      "[Parallel(n_jobs=-1)]: Using backend LokyBackend with 16 concurrent workers.\n",
      "/home/vissffin/anaconda3/envs/openmc/lib/python3.12/site-packages/numpy/core/getlimits.py:542: UserWarning: Signature b'\\x00\\xd0\\xcc\\xcc\\xcc\\xcc\\xcc\\xcc\\xfb\\xbf\\x00\\x00\\x00\\x00\\x00\\x00' for <class 'numpy.longdouble'> does not match any known type: falling back to type probe function.\n",
      "This warnings indicates broken support for the dtype!\n",
      "  machar = _get_machar(dtype)\n",
      "[Parallel(n_jobs=-1)]: Done   1 out of   1 | elapsed:    2.5s finished\n",
      "/home/vissffin/anaconda3/envs/openmc/lib/python3.12/site-packages/numpy/core/getlimits.py:542: UserWarning: Signature b'\\x00\\xd0\\xcc\\xcc\\xcc\\xcc\\xcc\\xcc\\xfb\\xbf\\x00\\x00\\x00\\x00\\x00\\x00' for <class 'numpy.longdouble'> does not match any known type: falling back to type probe function.\n",
      "This warnings indicates broken support for the dtype!\n",
      "  machar = _get_machar(dtype)\n",
      "/home/vissffin/anaconda3/envs/openmc/lib/python3.12/site-packages/numpy/core/getlimits.py:542: UserWarning: Signature b'\\x00\\xd0\\xcc\\xcc\\xcc\\xcc\\xcc\\xcc\\xfb\\xbf\\x00\\x00\\x00\\x00\\x00\\x00' for <class 'numpy.longdouble'> does not match any known type: falling back to type probe function.\n",
      "This warnings indicates broken support for the dtype!\n",
      "  machar = _get_machar(dtype)\n",
      "/home/vissffin/anaconda3/envs/openmc/lib/python3.12/site-packages/numpy/core/getlimits.py:542: UserWarning: Signature b'\\x00\\xd0\\xcc\\xcc\\xcc\\xcc\\xcc\\xcc\\xfb\\xbf\\x00\\x00\\x00\\x00\\x00\\x00' for <class 'numpy.longdouble'> does not match any known type: falling back to type probe function.\n",
      "This warnings indicates broken support for the dtype!\n",
      "  machar = _get_machar(dtype)\n",
      "/home/vissffin/anaconda3/envs/openmc/lib/python3.12/site-packages/numpy/core/getlimits.py:542: UserWarning: Signature b'\\x00\\xd0\\xcc\\xcc\\xcc\\xcc\\xcc\\xcc\\xfb\\xbf\\x00\\x00\\x00\\x00\\x00\\x00' for <class 'numpy.longdouble'> does not match any known type: falling back to type probe function.\n",
      "This warnings indicates broken support for the dtype!\n",
      "  machar = _get_machar(dtype)\n",
      "/home/vissffin/anaconda3/envs/openmc/lib/python3.12/site-packages/numpy/core/getlimits.py:542: UserWarning: Signature b'\\x00\\xd0\\xcc\\xcc\\xcc\\xcc\\xcc\\xcc\\xfb\\xbf\\x00\\x00\\x00\\x00\\x00\\x00' for <class 'numpy.longdouble'> does not match any known type: falling back to type probe function.\n",
      "This warnings indicates broken support for the dtype!\n",
      "  machar = _get_machar(dtype)\n",
      "/home/vissffin/anaconda3/envs/openmc/lib/python3.12/site-packages/numpy/core/getlimits.py:542: UserWarning: Signature b'\\x00\\xd0\\xcc\\xcc\\xcc\\xcc\\xcc\\xcc\\xfb\\xbf\\x00\\x00\\x00\\x00\\x00\\x00' for <class 'numpy.longdouble'> does not match any known type: falling back to type probe function.\n",
      "This warnings indicates broken support for the dtype!\n",
      "  machar = _get_machar(dtype)\n",
      "/home/vissffin/anaconda3/envs/openmc/lib/python3.12/site-packages/numpy/core/getlimits.py:542: UserWarning: Signature b'\\x00\\xd0\\xcc\\xcc\\xcc\\xcc\\xcc\\xcc\\xfb\\xbf\\x00\\x00\\x00\\x00\\x00\\x00' for <class 'numpy.longdouble'> does not match any known type: falling back to type probe function.\n",
      "This warnings indicates broken support for the dtype!\n",
      "  machar = _get_machar(dtype)\n",
      "/home/vissffin/anaconda3/envs/openmc/lib/python3.12/site-packages/numpy/core/getlimits.py:542: UserWarning: Signature b'\\x00\\xd0\\xcc\\xcc\\xcc\\xcc\\xcc\\xcc\\xfb\\xbf\\x00\\x00\\x00\\x00\\x00\\x00' for <class 'numpy.longdouble'> does not match any known type: falling back to type probe function.\n",
      "This warnings indicates broken support for the dtype!\n",
      "  machar = _get_machar(dtype)\n",
      "/home/vissffin/anaconda3/envs/openmc/lib/python3.12/site-packages/numpy/core/getlimits.py:542: UserWarning: Signature b'\\x00\\xd0\\xcc\\xcc\\xcc\\xcc\\xcc\\xcc\\xfb\\xbf\\x00\\x00\\x00\\x00\\x00\\x00' for <class 'numpy.longdouble'> does not match any known type: falling back to type probe function.\n",
      "This warnings indicates broken support for the dtype!\n",
      "  machar = _get_machar(dtype)\n",
      "[Parallel(n_jobs=-1)]: Done   3 out of  10 | elapsed:    4.4s remaining:   10.3s\n",
      "[Parallel(n_jobs=-1)]: Done   5 out of  10 | elapsed:    4.5s remaining:    4.5s\n",
      "[Parallel(n_jobs=-1)]: Done   7 out of  10 | elapsed:    4.5s remaining:    1.9s\n",
      "[Parallel(n_jobs=-1)]: Done  10 out of  10 | elapsed:    4.5s finished\n"
     ]
    },
    {
     "data": {
      "image/png": "[encoded data removed]",
      "text/plain": [
       "<Figure size 1000x1000 with 1 Axes>"
      ]
     },
     "metadata": {},
     "output_type": "display_data"
    },
    {
     "name": "stdout",
     "output_type": "stream",
     "text": [
      "Done\n",
      "Optimal bw (mlcv) = [[0.10584309 0.60988884 0.60498461 0.11174771 0.11174771 0.11174771]\n",
      " [0.44995371 2.59272226 2.5718737  0.47505507 0.47505507 0.47505507]\n",
      " [0.20537767 1.18342673 1.17391057 0.21683497 0.21683497 0.21683497]\n",
      " ...\n",
      " [0.41103497 2.36846479 2.34941952 0.43396519 0.43396519 0.43396519]\n",
      " [0.10636491 0.61289566 0.60796725 0.11229864 0.11229864 0.11229864]\n",
      " [0.2537739  1.4622954  1.45053681 0.26793107 0.26793107 0.26793107]]\n",
      "Using 3419 particles for fit.\n"
     ]
    }
   ],
   "source": [
    "# Method 3: Adaptive Maximum Likelihood Cross-Validation:\n",
    "# Creates a grid of adaptive bandwidths and evaluates the\n",
    "# cross-validation scores on each one, which is an indicator of the\n",
    "# quality of the estimation. Selects the bandwidth that optimizes\n",
    "# CV score.\n",
    "# kNN is used to generate the seed adaptive bandwidth.\n",
    "\n",
    "# kNN bandwidth\n",
    "s.bw_method = \"knn\"\n",
    "batch_size = 10000 # Batch size for KNN search\n",
    "k = 10             # Numer of neighbors per batch\n",
    "s.fit(N, scaling=scaling, batch_size=batch_size, k=k)\n",
    "bw_knn = s.kde.bw\n",
    "\n",
    "# MLCV optimization of previously calculated kNN bandwidth\n",
    "s.bw_method = \"mlcv\"\n",
    "N_cv = int(1E4)   # Use a smaller N to reduce computation times\n",
    "seed = bw_knn[:N_cv] # Use kNN BW as seed (first N elements)\n",
    "grid = np.logspace(-0.5,-0.3,10)\n",
    "\n",
    "#si se queja, tengo que cambiar el grid del bandwith, el original era #np.logspace(-0.6,-0.4,10)\n",
    "\n",
    "\n",
    "\n",
    "s.fit(N_cv, scaling=scaling, seed=seed, grid=grid)\n",
    "bw_cv = s.kde.bw\n",
    "\n",
    "# Extend MLCV optimization to full KNN BW\n",
    "bw_knn_cv = bw_knn * bw_cv[0]/bw_knn[0] # Apply MLCV factor\n",
    "dim = s.geom.dim\n",
    "bw_knn_cv *= kds.kde.bw_silv(dim,len(bw_knn))/kds.kde.bw_silv(dim,len(bw_cv)) # Apply Silverman factor\n",
    "s = kds.KDSource(plist, geom, bw=bw_knn_cv) # Create new KDSource with full BW\n",
    "s.fit(N=N, scaling=scaling)"
   ]
  },
  {
   "cell_type": "markdown",
   "metadata": {},
   "source": [
    "### Resample"
   ]
  },
  {
   "cell_type": "code",
   "execution_count": null,
   "metadata": {},
   "outputs": [
    {
     "name": "stdout",
     "output_type": "stream",
     "text": [
      "Bandwidth file: /mnt/c/Users/Mariano/Documents/Laboral/CNEA_NEUTRONES/OpenMC/DN-RA-6/Ci5-N16-Delayed/surftrack_5000_bws\n",
      "Successfully saved parameters file source.xml\n",
      "Reading xmlfile source.xml...\n",
      "Done.\n",
      "Resampling...\n",
      "MCPL: Attempting to compress file resampled.mcpl with gzip\n",
      "MCPL: Succesfully compressed file into resampled.mcpl.gz\n",
      "Successfully sampled 1000000 particles.\n"
     ]
    }
   ],
   "source": [
    "xmlfile = \"source.xml\"\n",
    "s.save(xmlfile) # Save KDSource to XML file\n",
    "\n",
    "N_resampled = 1E6 # Number of particles to generate with virtual KDE source\n",
    "if os.name == 'posix':\n",
    "    !kdtool resample \"$xmlfile\" -o \"resampled\" -n $N_resampled\n",
    "if os.name == 'nt': # kdtool still not implemented in Windows\n",
    "    !kdtool-resample \"$xmlfile\" -o \"resampled\" -n $N_resampled\n",
    "resampled = \"resampled.mcpl.gz\""
   ]
  },
  {
   "cell_type": "markdown",
   "metadata": {},
   "source": [
    "### Importo el nuevo archivo resampleado y lo convierto a h5 para usarlo después con OpenMC"
   ]
  },
  {
   "cell_type": "code",
   "execution_count": null,
   "metadata": {},
   "outputs": [
    {
     "name": "stdout",
     "output_type": "stream",
     "text": [
      "Number of particles in file resampled.mcpl.gz: 1000000\n",
      "100% n, 0% g, 0% e-, 0% e+, 0% p, \n"
     ]
    },
    {
     "name": "stderr",
     "output_type": "stream",
     "text": [
      "/home/vissffin/anaconda3/envs/openmc/lib/python3.12/site-packages/kdsource/surfsource.py:422: RuntimeWarning: divide by zero encountered in log10\n",
      "  df[\"log(t)\"] = np.log10(df[\"t\"].to_numpy())\n"
     ]
    },
    {
     "name": "stdout",
     "output_type": "stream",
     "text": [
      "Saving into OpenMC format (HDF5)\n",
      "Done, saved into resampled.h5 file\n"
     ]
    }
   ],
   "source": [
    "ssf2 = kds.SurfaceSourceFile('resampled.mcpl.gz')\n",
    "ssf2.save_source_file('resampled.h5')"
   ]
  },
  {
   "cell_type": "markdown",
   "metadata": {},
   "source": [
    "### Defino dominio y filtros"
   ]
  },
  {
   "cell_type": "code",
   "execution_count": null,
   "metadata": {},
   "outputs": [
    {
     "name": "stdout",
     "output_type": "stream",
     "text": [
      "{'x': (-5.106300354003906, 5.106470108032227), 'y': (-5.10752010345459, 5.111400127410889), 'u': (-0.9976151182466406, 0.997911074336098), 'v': (-0.9966335677237229, 0.9996849128948365), 'w': (-0.9989784152687928, 0.9999999135391121), 'E': (1.1943499522715229e-09, 10.926400184631348), 'type': [2112, None]}\n"
     ]
    }
   ],
   "source": [
    "#ssf.get_domain(['x', 'y', 'z', 'u', 'v', 'w', 'E'])\n",
    "dom1=ssf.get_domain(['x', 'y', 'u', 'v', 'w', 'E'])\n",
    "dom1[\"type\"] = [2112, None]\n",
    "print(dom1)"
   ]
  },
  {
   "cell_type": "markdown",
   "metadata": {},
   "source": [
    "### Defino la constante de normalización"
   ]
  },
  {
   "cell_type": "code",
   "execution_count": null,
   "metadata": {},
   "outputs": [
    {
     "data": {
      "text/plain": [
       "array(0.00214679)"
      ]
     },
     "execution_count": 77,
     "metadata": {},
     "output_type": "execute_result"
    }
   ],
   "source": [
    "j1 = ssf.get_distribution(['E'], [10], total=True, filters=dom1)[0]\n",
    "j2 = ssf2.get_distribution(['E'], [10], total=True, filters=dom1)[0]\n",
    "from uncertainties import unumpy\n",
    "unumpy.nominal_values(j1/j2) #tomo sólo la magnitud sin su incerteza"
   ]
  },
  {
   "cell_type": "markdown",
   "metadata": {},
   "source": [
    "### Guardo un nuevo archivo con la fuente resampleada y limitada en energía para no tener problemas al correr OpenMC con las bibliotecas de secciones eficaces"
   ]
  },
  {
   "cell_type": "code",
   "execution_count": null,
   "metadata": {},
   "outputs": [
    {
     "name": "stdout",
     "output_type": "stream",
     "text": [
      "Number of particles in file resampled.mcpl.gz: 1000000\n",
      "100% n, 0% g, 0% e-, 0% e+, 0% p, \n"
     ]
    },
    {
     "name": "stderr",
     "output_type": "stream",
     "text": [
      "/home/vissffin/anaconda3/envs/openmc/lib/python3.12/site-packages/kdsource/surfsource.py:422: RuntimeWarning: divide by zero encountered in log10\n",
      "  df[\"log(t)\"] = np.log10(df[\"t\"].to_numpy())\n"
     ]
    },
    {
     "name": "stdout",
     "output_type": "stream",
     "text": [
      "Saving into OpenMC format (HDF5)\n",
      "Done, saved into resampled_domain.h5 file\n"
     ]
    }
   ],
   "source": [
    "ssf3 = kds.SurfaceSourceFile('resampled.mcpl.gz', domain={'E':[0, 20], 'type':[2112, 2113]})#esta es la línea que me pasó Norberto\n",
    "#ssf3 = kds.SurfaceSourceFile('resampled.mcpl.gz', domain={'E':[1.19E-9, 10.92], 'type':[2112, None]})#esta tendría que ser si usamos el domain que plotee\n",
    "ssf3.save_source_file('resampled_domain.h5')"
   ]
  },
  {
   "cell_type": "markdown",
   "metadata": {},
   "source": [
    "### Ploteo la versión original, la resampleada y la resampleada y normalizada"
   ]
  },
  {
   "cell_type": "code",
   "execution_count": null,
   "metadata": {},
   "outputs": [
    {
     "data": {
      "image/png": "[encoded data removed]",
      "text/plain": [
       "<Figure size 1000x1000 with 1 Axes>"
      ]
     },
     "metadata": {},
     "output_type": "display_data"
    }
   ],
   "source": [
    "ssf.plot_distribution(vars=[\"E\"], bins=[100], scales=[\"log\", \"log\"], norm_vars=[\"E\"], filters=dom1)#original\n",
    "ssf2.plot_distribution(vars=[\"E\"], bins=[100], scales=[\"log\", \"log\"], norm_vars=[\"E\"], filters={\"type\":[2112,None]},factor=1)#resampleada\n",
    "ssf2.plot_distribution(vars=[\"E\"], bins=[100], scales=[\"log\", \"log\"], norm_vars=[\"E\"], filters=dom1)#resampleada y recortada en energía, x, y, etc\n",
    "ssf2.plot_distribution(vars=[\"E\"], bins=[100], scales=[\"log\", \"log\"], norm_vars=[\"E\"], filters=dom1,factor=unumpy.nominal_values(j1/j2))#resampleada y recortada en energía, x, y y normalizada"
   ]
  },
  {
   "cell_type": "markdown",
   "metadata": {},
   "source": [
    "## RUN"
   ]
  },
  {
   "cell_type": "code",
   "execution_count": null,
   "metadata": {},
   "outputs": [
    {
     "name": "stdout",
     "output_type": "stream",
     "text": [
      "999977\n",
      "                                %%%%%%%%%%%%%%%\n",
      "                           %%%%%%%%%%%%%%%%%%%%%%%%\n",
      "                        %%%%%%%%%%%%%%%%%%%%%%%%%%%%%%\n",
      "                      %%%%%%%%%%%%%%%%%%%%%%%%%%%%%%%%%%\n",
      "                    %%%%%%%%%%%%%%%%%%%%%%%%%%%%%%%%%%%%%%\n",
      "                   %%%%%%%%%%%%%%%%%%%%%%%%%%%%%%%%%%%%%%%%\n",
      "                                    %%%%%%%%%%%%%%%%%%%%%%%%\n",
      "                                     %%%%%%%%%%%%%%%%%%%%%%%%\n",
      "                 ###############      %%%%%%%%%%%%%%%%%%%%%%%%\n",
      "                ##################     %%%%%%%%%%%%%%%%%%%%%%%\n",
      "                ###################     %%%%%%%%%%%%%%%%%%%%%%%\n",
      "                ####################     %%%%%%%%%%%%%%%%%%%%%%\n",
      "                #####################     %%%%%%%%%%%%%%%%%%%%%\n",
      "                ######################     %%%%%%%%%%%%%%%%%%%%\n",
      "                #######################     %%%%%%%%%%%%%%%%%%\n",
      "                 #######################     %%%%%%%%%%%%%%%%%\n",
      "                 ######################     %%%%%%%%%%%%%%%%%\n",
      "                  ####################     %%%%%%%%%%%%%%%%%\n",
      "                    #################     %%%%%%%%%%%%%%%%%\n",
      "                     ###############     %%%%%%%%%%%%%%%%\n",
      "                       ############     %%%%%%%%%%%%%%%\n",
      "                          ########     %%%%%%%%%%%%%%\n",
      "                                      %%%%%%%%%%%\n",
      "\n",
      "                 | The OpenMC Monte Carlo Code\n",
      "       Copyright | 2011-2023 MIT, UChicago Argonne LLC, and contributors\n",
      "         License | https://docs.openmc.org/en/latest/license.html\n",
      "         Version | 0.14.0\n",
      "        Git SHA1 | fa2330103de61a864c958d1a7250f11e5dd91468\n",
      "       Date/Time | 2024-11-05 17:51:48\n",
      "  OpenMP Threads | 16\n",
      "\n",
      " Reading model XML file './model.xml' ...\n",
      " Reading source file from resampled_domain.h5...\n",
      " WARNING: Other XML file input(s) are present. These files may be ignored in\n",
      "          favor of the ./model.xml file.\n",
      " Reading cross sections XML file...\n",
      " Reading Al27 from /home/vissffin/openmc/data/endfb-viii.0-hdf5/neutron/Al27.h5\n",
      " Reading Al from /home/vissffin/openmc/data/endfb-viii.0-hdf5/photon/Al.h5 \n",
      " Reading Cu63 from /home/vissffin/openmc/data/endfb-viii.0-hdf5/neutron/Cu63.h5\n",
      " Reading Cu from /home/vissffin/openmc/data/endfb-viii.0-hdf5/photon/Cu.h5 \n",
      " Reading Cu65 from /home/vissffin/openmc/data/endfb-viii.0-hdf5/neutron/Cu65.h5\n",
      " Reading Cr50 from /home/vissffin/openmc/data/endfb-viii.0-hdf5/neutron/Cr50.h5\n",
      " Reading Cr from /home/vissffin/openmc/data/endfb-viii.0-hdf5/photon/Cr.h5 \n",
      " Reading Cr52 from /home/vissffin/openmc/data/endfb-viii.0-hdf5/neutron/Cr52.h5\n",
      " Reading Cr53 from /home/vissffin/openmc/data/endfb-viii.0-hdf5/neutron/Cr53.h5\n",
      " Reading Cr54 from /home/vissffin/openmc/data/endfb-viii.0-hdf5/neutron/Cr54.h5\n",
      " Reading Mg24 from /home/vissffin/openmc/data/endfb-viii.0-hdf5/neutron/Mg24.h5\n",
      " Reading Mg from /home/vissffin/openmc/data/endfb-viii.0-hdf5/photon/Mg.h5 \n",
      " Reading Mg25 from /home/vissffin/openmc/data/endfb-viii.0-hdf5/neutron/Mg25.h5\n",
      " Reading Mg26 from /home/vissffin/openmc/data/endfb-viii.0-hdf5/neutron/Mg26.h5\n",
      " Reading Si28 from /home/vissffin/openmc/data/endfb-viii.0-hdf5/neutron/Si28.h5\n",
      " Reading Si from /home/vissffin/openmc/data/endfb-viii.0-hdf5/photon/Si.h5 \n",
      " Reading Si29 from /home/vissffin/openmc/data/endfb-viii.0-hdf5/neutron/Si29.h5\n",
      " Reading Si30 from /home/vissffin/openmc/data/endfb-viii.0-hdf5/neutron/Si30.h5\n",
      " Reading Fe54 from /home/vissffin/openmc/data/endfb-viii.0-hdf5/neutron/Fe54.h5\n",
      " Reading Fe from /home/vissffin/openmc/data/endfb-viii.0-hdf5/photon/Fe.h5 \n",
      " Reading Fe56 from /home/vissffin/openmc/data/endfb-viii.0-hdf5/neutron/Fe56.h5\n",
      " Reading Fe57 from /home/vissffin/openmc/data/endfb-viii.0-hdf5/neutron/Fe57.h5\n",
      " Reading Fe58 from /home/vissffin/openmc/data/endfb-viii.0-hdf5/neutron/Fe58.h5\n",
      " Reading Mn55 from /home/vissffin/openmc/data/endfb-viii.0-hdf5/neutron/Mn55.h5\n",
      " Reading Mn from /home/vissffin/openmc/data/endfb-viii.0-hdf5/photon/Mn.h5 \n",
      " Reading Ti46 from /home/vissffin/openmc/data/endfb-viii.0-hdf5/neutron/Ti46.h5\n",
      " Reading Ti from /home/vissffin/openmc/data/endfb-viii.0-hdf5/photon/Ti.h5 \n",
      " Reading Ti47 from /home/vissffin/openmc/data/endfb-viii.0-hdf5/neutron/Ti47.h5\n",
      " Reading Ti48 from /home/vissffin/openmc/data/endfb-viii.0-hdf5/neutron/Ti48.h5\n",
      " Reading Ti49 from /home/vissffin/openmc/data/endfb-viii.0-hdf5/neutron/Ti49.h5\n",
      " Reading Ti50 from /home/vissffin/openmc/data/endfb-viii.0-hdf5/neutron/Ti50.h5\n",
      " Reading B10 from /home/vissffin/openmc/data/endfb-viii.0-hdf5/neutron/B10.h5\n",
      " Reading B from /home/vissffin/openmc/data/endfb-viii.0-hdf5/photon/B.h5 \n",
      " Reading B11 from /home/vissffin/openmc/data/endfb-viii.0-hdf5/neutron/B11.h5\n",
      " Reading Cd106 from\n",
      " /home/vissffin/openmc/data/endfb-viii.0-hdf5/neutron/Cd106.h5\n",
      " WARNING: Negative value(s) found on probability table for nuclide Cd106 at 294K\n",
      " Reading Cd from /home/vissffin/openmc/data/endfb-viii.0-hdf5/photon/Cd.h5 \n",
      " Reading Cd108 from\n",
      " /home/vissffin/openmc/data/endfb-viii.0-hdf5/neutron/Cd108.h5\n",
      " Reading Cd110 from\n",
      " /home/vissffin/openmc/data/endfb-viii.0-hdf5/neutron/Cd110.h5\n",
      " Reading Cd111 from\n",
      " /home/vissffin/openmc/data/endfb-viii.0-hdf5/neutron/Cd111.h5\n",
      " Reading Cd112 from\n",
      " /home/vissffin/openmc/data/endfb-viii.0-hdf5/neutron/Cd112.h5\n",
      " Reading Cd113 from\n",
      " /home/vissffin/openmc/data/endfb-viii.0-hdf5/neutron/Cd113.h5\n",
      " Reading Cd114 from\n",
      " /home/vissffin/openmc/data/endfb-viii.0-hdf5/neutron/Cd114.h5\n",
      " Reading Cd116 from\n",
      " /home/vissffin/openmc/data/endfb-viii.0-hdf5/neutron/Cd116.h5\n",
      " Reading Co59 from /home/vissffin/openmc/data/endfb-viii.0-hdf5/neutron/Co59.h5\n",
      " Reading Co from /home/vissffin/openmc/data/endfb-viii.0-hdf5/photon/Co.h5 \n",
      " Reading Li6 from /home/vissffin/openmc/data/endfb-viii.0-hdf5/neutron/Li6.h5\n",
      " Reading Li from /home/vissffin/openmc/data/endfb-viii.0-hdf5/photon/Li.h5 \n",
      " Reading Li7 from /home/vissffin/openmc/data/endfb-viii.0-hdf5/neutron/Li7.h5\n",
      " Reading O16 from /home/vissffin/openmc/data/endfb-viii.0-hdf5/neutron/O16.h5\n",
      " Reading O from /home/vissffin/openmc/data/endfb-viii.0-hdf5/photon/O.h5 \n",
      " Reading N14 from /home/vissffin/openmc/data/endfb-viii.0-hdf5/neutron/N14.h5\n",
      " Reading N from /home/vissffin/openmc/data/endfb-viii.0-hdf5/photon/N.h5 \n",
      " Reading C12 from /home/vissffin/openmc/data/endfb-viii.0-hdf5/neutron/C12.h5\n",
      " Reading C from /home/vissffin/openmc/data/endfb-viii.0-hdf5/photon/C.h5 \n",
      " Reading P31 from /home/vissffin/openmc/data/endfb-viii.0-hdf5/neutron/P31.h5\n",
      " Reading P from /home/vissffin/openmc/data/endfb-viii.0-hdf5/photon/P.h5 \n",
      " Reading S32 from /home/vissffin/openmc/data/endfb-viii.0-hdf5/neutron/S32.h5\n",
      " Reading S from /home/vissffin/openmc/data/endfb-viii.0-hdf5/photon/S.h5 \n",
      " Reading S33 from /home/vissffin/openmc/data/endfb-viii.0-hdf5/neutron/S33.h5\n",
      " Reading S34 from /home/vissffin/openmc/data/endfb-viii.0-hdf5/neutron/S34.h5\n",
      " Reading S36 from /home/vissffin/openmc/data/endfb-viii.0-hdf5/neutron/S36.h5\n",
      " Reading Ni58 from /home/vissffin/openmc/data/endfb-viii.0-hdf5/neutron/Ni58.h5\n",
      " Reading Ni from /home/vissffin/openmc/data/endfb-viii.0-hdf5/photon/Ni.h5 \n",
      " Reading Ni60 from /home/vissffin/openmc/data/endfb-viii.0-hdf5/neutron/Ni60.h5\n",
      " Reading Ni61 from /home/vissffin/openmc/data/endfb-viii.0-hdf5/neutron/Ni61.h5\n",
      " Reading Ni62 from /home/vissffin/openmc/data/endfb-viii.0-hdf5/neutron/Ni62.h5\n",
      " Reading Ni64 from /home/vissffin/openmc/data/endfb-viii.0-hdf5/neutron/Ni64.h5\n",
      " Reading Mo92 from /home/vissffin/openmc/data/endfb-viii.0-hdf5/neutron/Mo92.h5\n",
      " Reading Mo from /home/vissffin/openmc/data/endfb-viii.0-hdf5/photon/Mo.h5 \n",
      " Reading Mo94 from /home/vissffin/openmc/data/endfb-viii.0-hdf5/neutron/Mo94.h5\n",
      " Reading Mo95 from /home/vissffin/openmc/data/endfb-viii.0-hdf5/neutron/Mo95.h5\n",
      " Reading Mo96 from /home/vissffin/openmc/data/endfb-viii.0-hdf5/neutron/Mo96.h5\n",
      " Reading Mo97 from /home/vissffin/openmc/data/endfb-viii.0-hdf5/neutron/Mo97.h5\n",
      " Reading Mo98 from /home/vissffin/openmc/data/endfb-viii.0-hdf5/neutron/Mo98.h5\n",
      " Reading Mo100 from\n",
      " /home/vissffin/openmc/data/endfb-viii.0-hdf5/neutron/Mo100.h5\n",
      " Reading H1 from /home/vissffin/openmc/data/endfb-viii.0-hdf5/neutron/H1.h5\n",
      " Reading H from /home/vissffin/openmc/data/endfb-viii.0-hdf5/photon/H.h5 \n",
      " Reading Ca40 from /home/vissffin/openmc/data/endfb-viii.0-hdf5/neutron/Ca40.h5\n",
      " Reading Ca from /home/vissffin/openmc/data/endfb-viii.0-hdf5/photon/Ca.h5 \n",
      " Reading Ca42 from /home/vissffin/openmc/data/endfb-viii.0-hdf5/neutron/Ca42.h5\n",
      " Reading Ca43 from /home/vissffin/openmc/data/endfb-viii.0-hdf5/neutron/Ca43.h5\n",
      " Reading Ca44 from /home/vissffin/openmc/data/endfb-viii.0-hdf5/neutron/Ca44.h5\n",
      " Reading Ca46 from /home/vissffin/openmc/data/endfb-viii.0-hdf5/neutron/Ca46.h5\n",
      " Reading Ca48 from /home/vissffin/openmc/data/endfb-viii.0-hdf5/neutron/Ca48.h5\n",
      " Reading V50 from /home/vissffin/openmc/data/endfb-viii.0-hdf5/neutron/V50.h5\n",
      " Reading V from /home/vissffin/openmc/data/endfb-viii.0-hdf5/photon/V.h5 \n",
      " Reading V51 from /home/vissffin/openmc/data/endfb-viii.0-hdf5/neutron/V51.h5\n",
      " Reading Pb204 from\n",
      " /home/vissffin/openmc/data/endfb-viii.0-hdf5/neutron/Pb204.h5\n",
      " Reading Pb from /home/vissffin/openmc/data/endfb-viii.0-hdf5/photon/Pb.h5 \n",
      " Reading Pb206 from\n",
      " /home/vissffin/openmc/data/endfb-viii.0-hdf5/neutron/Pb206.h5\n",
      " Reading Pb207 from\n",
      " /home/vissffin/openmc/data/endfb-viii.0-hdf5/neutron/Pb207.h5\n",
      " Reading Pb208 from\n",
      " /home/vissffin/openmc/data/endfb-viii.0-hdf5/neutron/Pb208.h5\n",
      " Reading He3 from /home/vissffin/openmc/data/endfb-viii.0-hdf5/neutron/He3.h5\n",
      " Reading He from /home/vissffin/openmc/data/endfb-viii.0-hdf5/photon/He.h5 \n",
      " Reading Bi209 from\n",
      " /home/vissffin/openmc/data/endfb-viii.0-hdf5/neutron/Bi209.h5\n",
      " Reading Bi from /home/vissffin/openmc/data/endfb-viii.0-hdf5/photon/Bi.h5 \n",
      " Minimum neutron data temperature: 294 K\n",
      " Maximum neutron data temperature: 294 K\n",
      " Preparing distributed cell instances...\n",
      " Reading plot XML file...\n",
      " WARNING: Could not find material 6 specified in plot 3\n",
      " WARNING: Could not find material 6 specified in plot 4\n",
      " Writing summary.h5 file...\n",
      " Maximum neutron transport energy: 20000000 eV for Mg24\n",
      "\n",
      " ===============>     FIXED SOURCE TRANSPORT SIMULATION     <===============\n",
      "\n",
      " Simulating batch 1\n",
      " Simulating batch 2\n",
      " Creating state point statepoint.2.h5...\n",
      "\n",
      " =======================>     TIMING STATISTICS     <=======================\n",
      "\n",
      " Total time for initialization     = 4.6069e+00 seconds\n",
      "   Reading cross sections          = 4.4127e+00 seconds\n",
      " Total time in simulation          = 1.1263e+02 seconds\n",
      "   Time in transport only          = 1.1251e+02 seconds\n",
      "   Time in active batches          = 1.1263e+02 seconds\n",
      "   Time accumulating tallies       = 3.4690e-02 seconds\n",
      "   Time writing statepoints        = 9.0488e-02 seconds\n",
      " Total time for finalization       = 5.6963e+00 seconds\n",
      " Total time elapsed                = 1.2304e+02 seconds\n",
      " Calculation Rate (active)         = 17756.8 particles/second\n",
      "\n",
      " ============================>     RESULTS     <============================\n",
      "\n",
      " Leakage Fraction            = 0.25400 +/- 0.00024\n",
      "\n"
     ]
    }
   ],
   "source": [
    "#import h5py\n",
    "settings = openmc.Settings()\n",
    "settings.run_mode='fixed source'\n",
    "# settings.trace = (1,1,5256)\n",
    "# settings.source = [source_neutron,source_photon]\n",
    "#settings.source=openmc.Source(filename='/home/vissffin/RA-6/source_Ci5-N16-Del.h5')# me tira una advertencia y un error, no reconocer el argumento \"filename\"\n",
    "#settings.source=openmc.IndependentSource(filename='/home/vissffin/RA-6/source_Ci5-N16-Del.h5')#en teoría este módulo es más nuevo que Source, igualmente tira el mismo error\n",
    "#settings.particles = len(h5py.File('/home/vissffin/RA-6/source_Ci5-N16-Del.h5','r')['source_bank'].value)\n",
    "\n",
    "#Fuente Original\n",
    "#settings.source=openmc.FileSource(path='/home/vissffin/RA-6/source_Ci5-N16-Del.h5')#esto parece según el manual la forma de usar una fuente externa\n",
    "#settings.particles = len(h5py.File('/home/vissffin/RA-6/source_Ci5-N16-Del.h5','r')['source_bank'])#le saqué el value para ver si funciona\n",
    "\n",
    "#Fuente resampleada con KDSource\n",
    "settings.source=openmc.FileSource('resampled_domain.h5')\n",
    "settings.particles = len(h5py.File('resampled_domain.h5','r')['source_bank'])#le saqué el value para ver si funciona\n",
    "print(len(h5py.File('resampled_domain.h5','r')['source_bank']))\n",
    "#settings.source=openmc.FileSource('resampled.h5', domains = {'energy_bounds': [1.0e-3, 1.0e6]})#esto parece según el manual la forma de usar una fuente externa y seleccionar un rango de energías, pero no funciona porque es para la version 0.15.0 de OpenMC y esta es la 0.14.0\n",
    "\n",
    "\n",
    "settings.batches = 2# no tiene sentido repetir el batch porque estamos usando siempre el mismo track y los neutrones que salen por el conducto no ven ningun material\n",
    "#ergo van a ser iguales y los unicos que cambian van a ser los que chocan contra las paredes, eso va a hacer que haya mucho ruido estadistico, pero los neutrones que salen son todos los mismos\n",
    "settings.inactive = 0\n",
    "settings.survival_biasing=True\n",
    "settings.photon_transport=True\n",
    "#settings.statepoint={'batches':np.linspace(200,2000,10,dtype=int)}#*int(206700/2000)}\n",
    "settings.output={'tallies':True,'summary':True}\n",
    "settings.sourcepoint={'write':True}\n",
    "#settings.statepoint = {'batches': range(10, 100, 10)}\n",
    "settings.export_to_xml()\n",
    "\n",
    "#!openmc -g\n",
    "#openmc.run()#lo puedo correr descomentando esto pero después no sé como leer el output\n",
    "#!/home/norberto/openmc/build-debug/bin/openmc\n",
    "#!/home/norberto/openmc-surftrack/build-openmc-Desktop-Default/bin/openmc -g\n",
    "model = openmc.Model(geome, mats, settings, tallies)\n",
    "sp_filename = model.run()"
   ]
  },
  {
   "cell_type": "markdown",
   "metadata": {},
   "source": [
    "### Ploteo el tally dentro del colimador"
   ]
  },
  {
   "cell_type": "code",
   "execution_count": null,
   "metadata": {},
   "outputs": [
    {
     "data": {
      "image/png": "[encoded data removed]",
      "text/plain": [
       "<Figure size 1000x1000 with 1 Axes>"
      ]
     },
     "metadata": {},
     "output_type": "display_data"
    }
   ],
   "source": [
    "#with openmc.StatePoint('statepoint.100.h5') as sp:\n",
    "with openmc.StatePoint(sp_filename) as sp:\n",
    "    energy_data = sp.get_tally(name=\"spectra_neutron\")\n",
    " \n",
    "df = energy_data.get_pandas_dataframe(nuclides=False)\n",
    "#print(df)\n",
    "df.columns=['Emin','Emax','x','y','z','surf','particle','score','mean','stdv']\n",
    "#df.columns=['Emin','Emax','x','y','z','surf','particle','score','mean'] \n",
    "\n",
    "#print(df)\n",
    "#df.to_csv('OpenMC_RA-6_C5_N16_espectro_neutrones.csv')\n",
    "#display(df.to_string())\n",
    "\n",
    "#df=df[df['surf']=='x-max in']#no entiendo que superficie es esta, pareciera una pared lateral del tally dentor del colimador\n",
    "df=df[df['surf']=='z-max out']#esta debería ser la cara exterior de ese mismo tally\n",
    "#print(df)\n",
    "df.to_csv('OpenMC_RA-6_C5_N16_Con_Bi_espectro_neutrones.csv', sep=',', columns = [\"Emin\",\"Emax\",\"mean\",\"stdv\"], index=False, encoding='utf-8')#exporta un CSV con el espectro a la salida del conducto pasante N5, antes del shutter de plomo\n",
    "df.plot(x=\"Emin\", y=\"mean\",style='r.-',logx=True, logy=False, label= 'z surface')#, ylim=[1E-10,10e0]\n",
    "plt.legend()\n",
    "plt.title('Tally inside collimator z face')\n",
    "plt.xlabel('E (eV)')\n",
    "plt.ylabel('I (ua)')\n",
    "plt.axvline(x = 0.05, color = 'black')\n",
    "plt.xlim(1e-3, 2e7)\n",
    "plt.show()"
   ]
  },
  {
   "cell_type": "markdown",
   "metadata": {},
   "source": [
    "### Ploteo el tally que puse a la salida del colimador, en la última celda"
   ]
  },
  {
   "cell_type": "code",
   "execution_count": null,
   "metadata": {},
   "outputs": [
    {
     "data": {
      "image/png": "[encoded data removed]",
      "text/plain": [
       "<Figure size 1000x1000 with 1 Axes>"
      ]
     },
     "metadata": {},
     "output_type": "display_data"
    }
   ],
   "source": [
    "with openmc.StatePoint(sp_filename) as sp:\n",
    "    energy_data = sp.get_tally(name=\"energy_detector_tally\")\n",
    "  \n",
    "df = energy_data.get_pandas_dataframe(nuclides=False)\n",
    "#print(df)\n",
    "#df.to_csv('E_det_'+ config +'.csv', sep=',', index=False, encoding='utf-8') \n",
    "df.columns=['Emin','Emax','cell','particle','score','mean','stdv']\n",
    "#df.plot(x=\"Emin\", y=\"mean\",style='r.-',logx=True, logy=False, ylim=[1E-10,1e-1])\n",
    "df.plot(x=\"Emin\", y=\"mean\",style='r.-',logx=True, logy=False, label= 'Flux cell7039')\n",
    "plt.legend()\n",
    "plt.title('Flux collimator exit')\n",
    "plt.xlabel('E (eV)')\n",
    "plt.ylabel('I (ua)')\n",
    "plt.xlim(1e-3, 2e7)\n",
    "plt.show()"
   ]
  },
  {
   "cell_type": "markdown",
   "metadata": {},
   "source": [
    "### Ploteo el detector de 3He"
   ]
  },
  {
   "cell_type": "code",
   "execution_count": null,
   "metadata": {},
   "outputs": [
    {
     "data": {
      "image/png": "[encoded data removed]",
      "text/plain": [
       "<Figure size 1000x1000 with 1 Axes>"
      ]
     },
     "metadata": {},
     "output_type": "display_data"
    }
   ],
   "source": [
    " \n",
    " \n",
    "#with openmc.StatePoint('statepoint.100.h5') as sp:\n",
    "with openmc.StatePoint(sp_filename) as sp:\n",
    "    energy_data = sp.get_tally(name=\"detector_neutron\")\n",
    " \n",
    "df = energy_data.get_pandas_dataframe(nuclides=False)\n",
    "#print(df)\n",
    "\n",
    "#df.columns=['Emin','Emax','x','y','z','surf','particle','score','mean','stdv']\n",
    "df.columns=['Emin','Emax','cell','particle','score','mean','stdv'] \n",
    "#print(df)\n",
    "#display(df.to_string())\n",
    "\n",
    "#df=df[df['surf']=='x-max in']\n",
    "#df.to_csv('E_source.csv', sep=',', index=False, encoding='utf-8') \n",
    "df.plot(x=\"Emin\", y=\"mean\",style='r.-',logx=True, logy=False, label= 'Absorption cell8900')#, ylim=[1E-10,10e0]\n",
    "plt.legend()\n",
    "plt.title('Absorption 3He detector')\n",
    "plt.xlabel('E (eV)')\n",
    "plt.ylabel('I (ua)')\n",
    "plt.show()"
   ]
  }
 ],
 "metadata": {
  "celltoolbar": "Raw Cell Format",
  "kernelspec": {
   "display_name": "proyecto_integrador",
   "language": "python",
   "name": "python3"
  },
  "language_info": {
   "codemirror_mode": {
    "name": "ipython",
    "version": 3
   },
   "file_extension": ".py",
   "mimetype": "text/x-python",
   "name": "python",
   "nbconvert_exporter": "python",
   "pygments_lexer": "ipython3",
   "version": "3.10.16"
  }
 },
 "nbformat": 4,
 "nbformat_minor": 4
}
