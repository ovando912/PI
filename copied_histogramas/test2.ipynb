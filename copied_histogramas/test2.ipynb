{
 "cells": [
  {
   "cell_type": "markdown",
   "metadata": {},
   "source": [
    "## Data generation"
   ]
  },
  {
   "cell_type": "code",
   "execution_count": null,
   "metadata": {},
   "outputs": [],
   "source": [
    "# Create a DataFrame with columns \"X\" and \"Y\"\n",
    "df = pd.DataFrame()\n",
    "N = 1000000\n",
    "df[\"X\"] = np.random.normal(0, 3, N)  # Gaussian data centered at 0 with scale 3\n",
    "\n",
    "df[\"Y\"] = df[\"X\"].apply(\n",
    "    set_Y_values\n",
    ")  # Apply the function to the \"X\" column to generate the \"Y\" column\n",
    "\n",
    "# Define the limits for the data\n",
    "x_min = -10\n",
    "x_max = 10\n",
    "y_min = -10\n",
    "y_max = 10\n",
    "\n",
    "# Delete data outside the limits\n",
    "delete_data(df, x_min, x_max, y_min, y_max)\n",
    "\n",
    "# Sort the data based on the x and y columns\n",
    "# df.sort_values([\"X\", \"Y\"], inplace=True)\n",
    "# df.reset_index(drop=True, inplace=True)\n",
    "\n",
    "# Extract the data from the DataFrame\n",
    "x = df[\"X\"]\n",
    "y = df[\"Y\"]\n",
    "# Esto no es del todo necesario"
   ]
  },
  {
   "cell_type": "markdown",
   "metadata": {},
   "source": [
    "## Data plotting"
   ]
  },
  {
   "cell_type": "code",
   "execution_count": null,
   "metadata": {},
   "outputs": [],
   "source": [
    "# Define the bin edges for the x and y axes\n",
    "x_bin_edges = np.linspace(-10, 10, 150)  # Example bin edges for x-axis\n",
    "y_bin_edges = np.linspace(-10, 10, 150)  # Example bin edges for y-axis\n",
    "\n",
    "# Plot the 2D histogram\n",
    "plot_hist2d(x, y, x_bin_edges, y_bin_edges, title=\"2D Histogram of X and Y\")\n",
    "plt.show()"
   ]
  },
  {
   "cell_type": "markdown",
   "metadata": {},
   "source": [
    "## Data preparation"
   ]
  },
  {
   "cell_type": "code",
   "execution_count": null,
   "metadata": {},
   "outputs": [],
   "source": [
    "histo_x = histograms(data=df[\"X\"], bins=150)\n",
    "histo_x.calculate_histogram()\n",
    "histo_x.plot_histogram(density=True, alpha=0.5)\n",
    "plt.show()"
   ]
  },
  {
   "cell_type": "code",
   "execution_count": null,
   "metadata": {},
   "outputs": [],
   "source": [
    "histo_x.calculate_histogram_cumulative()\n",
    "histo_x.plot_cumulative_histogram()\n",
    "plt.show()"
   ]
  },
  {
   "cell_type": "code",
   "execution_count": null,
   "metadata": {},
   "outputs": [],
   "source": [
    "histo_x.calculate_histogram_equal_area(17)\n",
    "histo_x.plot_histogram_equal_area(alpha=0.5)\n",
    "plt.show()"
   ]
  },
  {
   "cell_type": "code",
   "execution_count": null,
   "metadata": {},
   "outputs": [],
   "source": [
    "histo_x.calculate_histogram_new(75)\n",
    "histo_x.plot_histogram_new(alpha=0.5)\n",
    "plt.show()"
   ]
  },
  {
   "cell_type": "markdown",
   "metadata": {},
   "source": [
    "## Sampleo"
   ]
  },
  {
   "cell_type": "code",
   "execution_count": null,
   "metadata": {},
   "outputs": [],
   "source": [
    "plt.figure()\n",
    "cumulatives_y, bin_edges_y = get_cumulatives(histo_x, df, plot=True)\n",
    "plt.show()"
   ]
  },
  {
   "cell_type": "markdown",
   "metadata": {},
   "source": [
    "### Sampleo generation"
   ]
  },
  {
   "cell_type": "code",
   "execution_count": null,
   "metadata": {},
   "outputs": [],
   "source": [
    "histo_x.calculate_histogram_cumulative()\n",
    "N = 10000000\n",
    "sampled_values_x, sampled_values_y = sample(\n",
    "    histo_x.cumulative,\n",
    "    histo_x.bin_edges,\n",
    "    histo_x.bin_edges_new,\n",
    "    cumulatives_y,\n",
    "    bin_edges_y,\n",
    "    N,\n",
    ")  # A sample le podria pasar el histograma"
   ]
  },
  {
   "cell_type": "markdown",
   "metadata": {},
   "source": [
    "### Sampleo plotting"
   ]
  },
  {
   "cell_type": "code",
   "execution_count": null,
   "metadata": {},
   "outputs": [],
   "source": [
    "plot_hist2d(\n",
    "    pd.Series(sampled_values_x),\n",
    "    pd.Series(sampled_values_y),\n",
    "    x_bin_edges,\n",
    "    y_bin_edges,\n",
    "    title=\"SAMPLED 2D Histogram of X and Y\",\n",
    ")\n",
    "plt.show()"
   ]
  }
 ],
 "metadata": {
  "language_info": {
   "name": "python"
  }
 },
 "nbformat": 4,
 "nbformat_minor": 2
}
