{
 "cells": [
  {
   "cell_type": "code",
   "execution_count": 1,
   "metadata": {},
   "outputs": [],
   "source": [
    "%load_ext autoreload\n",
    "%autoreload 2\n",
    "import sys\n",
    "sys.path.append('../')\n",
    "from functions import *\n",
    "%matplotlib widget"
   ]
  },
  {
   "cell_type": "markdown",
   "metadata": {},
   "source": [
    "# Datos"
   ]
  },
  {
   "cell_type": "code",
   "execution_count": 2,
   "metadata": {},
   "outputs": [
    {
     "name": "stdout",
     "output_type": "stream",
     "text": [
      "Cantidad de particulas por bin (en promedio):  2.13\n",
      "N:  [    1000    10000   100000  1000000 10000000]\n",
      "Tiempo estimado total:  65.21 min\n"
     ]
    }
   ],
   "source": [
    "# Data to test\n",
    "columns_order = [\"x\", \"y\", \"ln(E0/E)\", \"mu\", \"phi\"]\n",
    "# columns_order = [\"ln(E0/E)\", \"x\", \"y\", \"mu\", \"phi\"]\n",
    "micro_bins = [150] * len(columns_order)\n",
    "macro_bins = [15, 10, 8, 6, 5]\n",
    "cant_part = 2.3e6\n",
    "print(\"Cantidad de particulas por bin (en promedio): \",round(cant_part / np.prod(macro_bins[:-1])/150,2))\n",
    "\n",
    "N = np.logspace(3, 7, 5, dtype=int)\n",
    "# N = np.logspace(7, 7, 1, dtype=int)\n",
    "print(\"N: \", N)\n",
    "batches = 10\n",
    "\n",
    "type = \"equal_bins\"\n",
    "\n",
    "velocidad_estimada = 2.4e6 * 0.71  # samples/min\n",
    "print(\"Tiempo estimado total: \", round(sum(N) * batches / velocidad_estimada, 2), \"min\")"
   ]
  },
  {
   "cell_type": "code",
   "execution_count": 3,
   "metadata": {},
   "outputs": [
    {
     "name": "stdout",
     "output_type": "stream",
     "text": [
      "Number of particles in file ../surface_source.mcpl: 3514158\n",
      "100% n, 0% g, 0% e-, 0% e+, 0% p, \n",
      "Number of samples:  1000\n",
      "Batch:  1\n",
      "Batch:  2\n",
      "Batch:  3\n",
      "Batch:  4\n",
      "Batch:  5\n",
      "Batch:  6\n",
      "Batch:  7\n",
      "Batch:  8\n",
      "Batch:  9\n",
      "Batch:  10\n",
      "Number of samples:  10000\n",
      "Batch:  1\n",
      "Batch:  2\n",
      "Batch:  3\n",
      "Batch:  4\n",
      "Batch:  5\n",
      "Batch:  6\n",
      "Batch:  7\n",
      "Batch:  8\n",
      "Batch:  9\n",
      "Batch:  10\n",
      "Number of samples:  100000\n",
      "Batch:  1\n",
      "Batch:  2\n",
      "Batch:  3\n",
      "Batch:  4\n",
      "Batch:  5\n",
      "Batch:  6\n",
      "Batch:  7\n",
      "Batch:  8\n",
      "Batch:  9\n",
      "Batch:  10\n",
      "Number of samples:  1000000\n",
      "Batch:  1\n",
      "Batch:  2\n",
      "Batch:  3\n",
      "Batch:  4\n",
      "Batch:  5\n",
      "Batch:  6\n",
      "Batch:  7\n",
      "Batch:  8\n",
      "Batch:  9\n",
      "Batch:  10\n",
      "Number of samples:  10000000\n",
      "Batch:  1\n",
      "Batch:  2\n",
      "Batch:  3\n",
      "Batch:  4\n",
      "Batch:  5\n",
      "Batch:  6\n",
      "Batch:  7\n",
      "Batch:  8\n",
      "Batch:  9\n",
      "Batch:  10\n"
     ]
    }
   ],
   "source": [
    "time_histo, time_sample, kl_divergence_1d, kl_divergence_2d = barrido(\n",
    "    columns_order, micro_bins, macro_bins, N, batches, type, \"../surface_source.mcpl\", save=True\n",
    ")\n",
    "\n",
    "plot_results_barrido(N, batches, time_histo, time_sample, kl_divergence_1d, kl_divergence_2d, columns_order, micro_bins, macro_bins, type)"
   ]
  }
 ],
 "metadata": {
  "kernelspec": {
   "display_name": "openmc_develop",
   "language": "python",
   "name": "python3"
  },
  "language_info": {
   "codemirror_mode": {
    "name": "ipython",
    "version": 3
   },
   "file_extension": ".py",
   "mimetype": "text/x-python",
   "name": "python",
   "nbconvert_exporter": "python",
   "pygments_lexer": "ipython3",
   "version": "3.10.14"
  }
 },
 "nbformat": 4,
 "nbformat_minor": 2
}
