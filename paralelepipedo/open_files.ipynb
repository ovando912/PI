{
 "cells": [
  {
   "cell_type": "code",
   "execution_count": 4,
   "metadata": {},
   "outputs": [
    {
     "name": "stdout",
     "output_type": "stream",
     "text": [
      "The autoreload extension is already loaded. To reload it, use:\n",
      "  %reload_ext autoreload\n"
     ]
    }
   ],
   "source": [
    "%load_ext autoreload\n",
    "%autoreload 2\n",
    "import sys\n",
    "\n",
    "sys.path.append(\"/home/lucas/Documents/Proyecto_Integrador/PI/copied_proyecto_integrador\")\n",
    "from functions import *\n",
    "\n",
    "%matplotlib widget"
   ]
  },
  {
   "cell_type": "code",
   "execution_count": 7,
   "metadata": {},
   "outputs": [
    {
     "name": "stdout",
     "output_type": "stream",
     "text": [
      "Number of particles in file /home/lucas/Documents/Proyecto_Integrador/PI/copied_proyecto_integrador/creado.h5: 3147511\n",
      "100% n, 0% g, 0% e-, 0% e+, 0% p, \n"
     ]
    },
    {
     "name": "stderr",
     "output_type": "stream",
     "text": [
      "/home/lucas/anaconda3/envs/openmc_develop/lib/python3.10/site-packages/kdsource/surfsource.py:422: RuntimeWarning: divide by zero encountered in log10\n",
      "  df[\"log(t)\"] = np.log10(df[\"t\"].to_numpy())\n",
      "/home/lucas/anaconda3/envs/openmc_develop/lib/python3.10/site-packages/kdsource/surfsource.py:422: RuntimeWarning: divide by zero encountered in log10\n",
      "  df[\"log(t)\"] = np.log10(df[\"t\"].to_numpy())\n"
     ]
    }
   ],
   "source": [
    "SurfaceSourceFile = kds.SurfaceSourceFile(\n",
    "    \"surface_source.h5\",\n",
    "    domain={\"w\": [0, 2]},\n",
    ")\n",
    "df = SurfaceSourceFile.get_pandas_dataframe()\n",
    "# df = df[[\"x\", \"y\", \"ln(E0/E)\", \"mu\", \"phi\", \"wgt\"]]"
   ]
  }
 ],
 "metadata": {
  "kernelspec": {
   "display_name": "openmc_develop",
   "language": "python",
   "name": "python3"
  },
  "language_info": {
   "codemirror_mode": {
    "name": "ipython",
    "version": 3
   },
   "file_extension": ".py",
   "mimetype": "text/x-python",
   "name": "python",
   "nbconvert_exporter": "python",
   "pygments_lexer": "ipython3",
   "version": "3.10.14"
  }
 },
 "nbformat": 4,
 "nbformat_minor": 2
}
