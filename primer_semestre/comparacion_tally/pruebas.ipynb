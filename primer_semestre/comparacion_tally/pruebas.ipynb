{
 "cells": [
  {
   "cell_type": "code",
   "execution_count": 9,
   "metadata": {},
   "outputs": [],
   "source": [
    "import numpy as np\n",
    "import matplotlib.pyplot as plt\n",
    "import math\n",
    "import pandas as pd\n",
    "columns_order = [\"ln(E0/E)\", \"x\", \"y\", \"mu\", \"phi\"]\n",
    "\n",
    "bins = 100\n",
    "resultados = []\n",
    "for i in range(len(columns_order)):\n",
    "    resultados.append([])\n",
    "    for _ in columns_order:\n",
    "        resultados[i].append([])\n",
    "\n",
    "\n",
    "for i in range(len(columns_order)):\n",
    "    for j in range(i+1):\n",
    "        if i == j:\n",
    "            resultados[i][j] = np.zeros(bins)\n",
    "        else:\n",
    "            resultados[i][j] = np.zeros((bins, bins))\n",
    "\n",
    "\n",
    "            \n",
    "\n",
    "\n"
   ]
  }
 ],
 "metadata": {
  "kernelspec": {
   "display_name": "openmc_develop",
   "language": "python",
   "name": "python3"
  },
  "language_info": {
   "codemirror_mode": {
    "name": "ipython",
    "version": 3
   },
   "file_extension": ".py",
   "mimetype": "text/x-python",
   "name": "python",
   "nbconvert_exporter": "python",
   "pygments_lexer": "ipython3",
   "version": "3.10.14"
  }
 },
 "nbformat": 4,
 "nbformat_minor": 2
}
