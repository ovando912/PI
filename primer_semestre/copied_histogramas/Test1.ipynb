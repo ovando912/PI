{
 "cells": [
  {
   "cell_type": "code",
   "execution_count": null,
   "metadata": {},
   "outputs": [],
   "source": [
    "# histo = histograms()\n",
    "# scale = round(1e6)\n",
    "# # histo.data_gaussian(0, 2, scale)\n",
    "# # histo.data_gaussian(-6, 3, scale)\n",
    "# # histo.data_gaussian(-10, 1, scale)\n",
    "# # histo.data_gaussian(10, 1, scale)\n",
    "# histo.data_gaussian(5, 1, scale, 100)\n",
    "# histo.calculate_histogram()\n",
    "# # histo.trim_left(0.005)\n",
    "# # histo.trim_right(0.005)\n",
    "# histo.plot_histogram(density=True)\n",
    "\n",
    "# # histo.calculate_histogram_cumulative()\n",
    "# # histo.plot_cumulative_histogram()\n",
    "\n",
    "# histo.calculate_histogram_equal_area(5)\n",
    "# histo.plot_histogram_equal_area(density=True, figure=False)\n",
    "\n",
    "# plt.show()"
   ]
  }
 ],
 "metadata": {
  "language_info": {
   "name": "python"
  }
 },
 "nbformat": 4,
 "nbformat_minor": 2
}
