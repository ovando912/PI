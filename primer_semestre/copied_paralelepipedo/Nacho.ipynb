{
  "cells": [
    {
      "cell_type": "markdown",
      "metadata": {
        "id": "dy4oKx7TPG0m"
      },
      "source": [
        "# Definición de parámetros de simulación (settings)"
      ]
    },
    {
      "cell_type": "markdown",
      "metadata": {
        "id": "c8t73FYXPG0r"
      },
      "source": [
        "Comenzamos importando el módulo `openmc`, contiene el API (applicationg programming interface) para generar el input de OpenMC."
      ]
    },
    {
      "cell_type": "code",
      "execution_count": 1,
      "metadata": {
        "id": "AoPeObmpPG0t"
      },
      "outputs": [],
      "source": [
        "import openmc\n",
        "openmc.config['cross_sections'] = '/home/lucas/Proyecto_Integrador/cross_sections1/endfb80/endfb-viii.0-hdf5/cross_sections.xml'"
      ]
    },
    {
      "cell_type": "markdown",
      "metadata": {
        "id": "rrq4QRomPG1C"
      },
      "source": [
        "Una vez que se definieron los materiales y la geometría de nuestra simulación es necesario indicar a OpenMC los parámetros de la simulación. Esto se realiza mediante la función `Settings()`, que genera el archivo `setting.xml` que, con `materials.xml` y `geometry.xml` conforma el conjunto mínimo de archivos de input necesarios para ejecutar OpenMC."
      ]
    },
    {
      "cell_type": "code",
      "execution_count": 2,
      "metadata": {
        "id": "pnDjl07WPG1E"
      },
      "outputs": [],
      "source": [
        "parametros = openmc.Settings()"
      ]
    },
    {
      "cell_type": "markdown",
      "metadata": {
        "id": "iTo2ZYYfPG1K"
      },
      "source": [
        "El tipo de simulación a realizar se establece dandole un valor al parámetro `.run_mode`. Los valores posibles son strings con los siguientes valores:\n",
        "\n",
        "* `\"eigenvalue\"`: realiza un cálculo del factor de multiplicación mediante la simulación del reactor crítico asociado.\n",
        "* `\"fixed source\"`: realiza un cálculo de fuente fija.\n",
        "* `\"volume\"`: realiza un cálculo Monte Carlo del volumen de las celdas de la simulación.\n",
        "* `\"plot\"`: genera gráficos 2D y 3D de la geometría.\n",
        "* `\"particle restart\"`: permite continuar una simulación."
      ]
    },
    {
      "cell_type": "code",
      "execution_count": 3,
      "metadata": {
        "id": "KNbsNtNwQJDL"
      },
      "outputs": [],
      "source": [
        "parametros.run_mode = \"eigenvalue\""
      ]
    },
    {
      "cell_type": "markdown",
      "metadata": {
        "id": "2rfJ1Q2UPG1M"
      },
      "source": [
        "En los modos `eigenvalue` y `fixed source` debe indicarse el número de partículas a simular subdivididas en grupos denominados *batches*. Esto se especifica con los atributos `.particles` (número de partículas por batch) y `.batches`. Por ejemplo:"
      ]
    },
    {
      "cell_type": "code",
      "execution_count": 4,
      "metadata": {
        "id": "0NU6t3kHPG1O"
      },
      "outputs": [],
      "source": [
        "parametros.batches = 10\n",
        "parametros.particles = 1000"
      ]
    },
    {
      "cell_type": "markdown",
      "metadata": {
        "id": "MtXSmsjXPG1R"
      },
      "source": [
        "realiza una simulación de 10000 partículas, y la simulación se divide en 10 batches de 1000 partículas."
      ]
    },
    {
      "cell_type": "markdown",
      "metadata": {
        "id": "_Ks5Ny7IPG1S"
      },
      "source": [
        "## Simulación de reactor crítico asociado (factor de multiplicación)"
      ]
    },
    {
      "cell_type": "markdown",
      "metadata": {
        "id": "4Bhy_hvpPG1T"
      },
      "source": [
        "Las simulaciones para calcular el factor de multiplicación de un sistema con material físil se realizan en el modo `eigenvalue`. Este modo de ejecución implementa el *método de generaciones sucesivas*. En este método la simulación se subdivide en generaciones (por default, una generación por batch) y en cada generación las partículas son simuladas desde su nacimiento port fisión hasta su desaparición por absorción o fuga. Las partículas secundarias generadas por fisión no son seguidas en forma explícita sino que sus características (posición, energía, dirección) son almacenadas en un banco que sirve como fuente para la próxima generación. La simulación se inicia con una fuente provista por el usuario mediante el atributo `.source`. Durante las primeras generaciones la distribución de fuente va a estar muy alejada de la distribución de equilibrio (la autofunción del sistema), por lo que un número de generaciones inciales debe ser descartado. Esto se indica con el atributo `.inactive_batches`."
      ]
    },
    {
      "cell_type": "markdown",
      "metadata": {
        "id": "7ZTpRRpRPG1U"
      },
      "source": [
        "### Ejemplo: benchmark Godiva."
      ]
    },
    {
      "cell_type": "markdown",
      "metadata": {
        "id": "sDM-e2nUPG1V"
      },
      "source": [
        "Realizaremos la simulación del reactor [Godiva](https://en.wikipedia.org/wiki/Godiva_device). Los detalles de este reactor pueden encontrarse en el benchmark HEU-MET-FAST-001 de [ICSBEP](https://www.oecd-nea.org/science/wpncs/icsbep/) y también en el informe \"S. Frankle. A Suite of Criticality Benchmarks for Validating Nuclear Data. LA-13594 (1999)\", [disponible en la base de datos INIS de IAEA](https://inis.iaea.org/search/search.aspx?orig_q=RN:32027510).\n",
        "\n",
        " <p align=\"center\">\n",
        "<img src=\"https://upload.wikimedia.org/wikipedia/commons/2/2a/Godiva-before-scrammed.jpg\">\n",
        "</p>\n",
        "\n",
        "\n",
        "Godiva es una esfera de $8.7407$ cm de radio de uranio metálico de densidad $18.74$ gm/cm$^3$, $94.73$ % en peso de $^{235}$U, $5.27$ % en peso de $^{238}$U, y $1.02$ % en peso de $^{234}$U."
      ]
    },
    {
      "cell_type": "code",
      "execution_count": 5,
      "metadata": {
        "id": "x0pWcw42PG1X"
      },
      "outputs": [],
      "source": [
        "umet = openmc.Material()\n",
        "umet.add_nuclide(\"U235\", 0.9473, 'wo')\n",
        "umet.add_nuclide(\"U238\", 0.0527, 'wo')\n",
        "umet.add_nuclide(\"U234\", 0.0102, 'wo')\n",
        "umet.set_density(\"g/cm3\", 18.74)\n",
        "\n",
        "mats = openmc.Materials([umet])\n",
        "mats.export_to_xml()\n",
        "\n",
        "esfera = openmc.Sphere(r=8.74, boundary_type=\"vacuum\")\n",
        "godiva = openmc.Cell(region = -esfera, fill=umet)\n",
        "simulacion = openmc.Universe(cells=[godiva])\n",
        "\n",
        "geom = openmc.Geometry(simulacion)\n",
        "geom.export_to_xml()\n",
        "\n",
        "run = openmc.Settings()\n",
        "run.run_mode = \"eigenvalue\"\n",
        "run.particles = 1000\n",
        "run.batches = 110\n",
        "run.inactive = 10\n",
        "run.export_to_xml()"
      ]
    },
    {
      "cell_type": "markdown",
      "metadata": {
        "id": "a3UDwk2kPG1a"
      },
      "source": [
        "La ejecución del código se realiza con la función `run()` desde el notebook o invocando el comando `openmc` en una terminal abierta en el directorio donde guardamos los archivos xml:"
      ]
    },
    {
      "cell_type": "code",
      "execution_count": 6,
      "metadata": {
        "id": "BTPA0P3lPG1b"
      },
      "outputs": [
        {
          "name": "stdout",
          "output_type": "stream",
          "text": [
            "<?xml version='1.0' encoding='utf-8'?>\n",
            "<materials>\n",
            "  <material depletable=\"true\" id=\"1\">\n",
            "    <density units=\"g/cm3\" value=\"18.74\"/>\n",
            "    <nuclide name=\"U235\" wo=\"0.9473\"/>\n",
            "    <nuclide name=\"U238\" wo=\"0.0527\"/>\n",
            "    <nuclide name=\"U234\" wo=\"0.0102\"/>\n",
            "  </material>\n",
            "</materials>\n"
          ]
        }
      ],
      "source": [
        "!cat materials.xml"
      ]
    },
    {
      "cell_type": "code",
      "execution_count": 7,
      "metadata": {
        "id": "_8V3jiQ3PG1e"
      },
      "outputs": [
        {
          "name": "stdout",
          "output_type": "stream",
          "text": [
            "<?xml version='1.0' encoding='UTF-8'?>\n",
            "<geometry>\n",
            "  <cell id=\"1\" material=\"1\" region=\"-1\" universe=\"1\"/>\n",
            "  <surface boundary=\"vacuum\" coeffs=\"0.0 0.0 0.0 8.74\" id=\"1\" type=\"sphere\"/>\n",
            "</geometry>\n"
          ]
        }
      ],
      "source": [
        "!cat geometry.xml"
      ]
    },
    {
      "cell_type": "code",
      "execution_count": 8,
      "metadata": {
        "id": "OzXNT1z8PG1h"
      },
      "outputs": [
        {
          "name": "stdout",
          "output_type": "stream",
          "text": [
            "<?xml version='1.0' encoding='UTF-8'?>\n",
            "<settings>\n",
            "  <run_mode>eigenvalue</run_mode>\n",
            "  <particles>1000</particles>\n",
            "  <batches>110</batches>\n",
            "  <inactive>10</inactive>\n",
            "</settings>\n"
          ]
        }
      ],
      "source": [
        "!cat settings.xml"
      ]
    },
    {
      "cell_type": "code",
      "execution_count": 9,
      "metadata": {
        "id": "XQTqAtQvPG1m"
      },
      "outputs": [
        {
          "name": "stdout",
          "output_type": "stream",
          "text": [
            "rm: cannot remove 'summary.h5': No such file or directory\n",
            "rm: cannot remove 'statepoint.*.h5': No such file or directory\n",
            "                                %%%%%%%%%%%%%%%\n",
            "                           %%%%%%%%%%%%%%%%%%%%%%%%\n",
            "                        %%%%%%%%%%%%%%%%%%%%%%%%%%%%%%\n",
            "                      %%%%%%%%%%%%%%%%%%%%%%%%%%%%%%%%%%\n",
            "                    %%%%%%%%%%%%%%%%%%%%%%%%%%%%%%%%%%%%%%\n",
            "                   %%%%%%%%%%%%%%%%%%%%%%%%%%%%%%%%%%%%%%%%\n",
            "                                    %%%%%%%%%%%%%%%%%%%%%%%%\n",
            "                                     %%%%%%%%%%%%%%%%%%%%%%%%\n",
            "                 ###############      %%%%%%%%%%%%%%%%%%%%%%%%\n",
            "                ##################     %%%%%%%%%%%%%%%%%%%%%%%\n",
            "                ###################     %%%%%%%%%%%%%%%%%%%%%%%\n",
            "                ####################     %%%%%%%%%%%%%%%%%%%%%%\n",
            "                #####################     %%%%%%%%%%%%%%%%%%%%%\n",
            "                ######################     %%%%%%%%%%%%%%%%%%%%\n",
            "                #######################     %%%%%%%%%%%%%%%%%%\n",
            "                 #######################     %%%%%%%%%%%%%%%%%\n",
            "                 ######################     %%%%%%%%%%%%%%%%%\n",
            "                  ####################     %%%%%%%%%%%%%%%%%\n",
            "                    #################     %%%%%%%%%%%%%%%%%\n",
            "                     ###############     %%%%%%%%%%%%%%%%\n",
            "                       ############     %%%%%%%%%%%%%%%\n",
            "                          ########     %%%%%%%%%%%%%%\n",
            "                                      %%%%%%%%%%%\n",
            "\n",
            "                 | The OpenMC Monte Carlo Code\n",
            "       Copyright | 2011-2024 MIT, UChicago Argonne LLC, and contributors\n",
            "         License | https://docs.openmc.org/en/latest/license.html\n",
            "         Version | 0.15.1-dev\n",
            "        Git SHA1 | 9d9b2daceba82354f4720315ee2491b11d1d6e23\n",
            "       Date/Time | 2024-08-14 11:03:53\n",
            "  OpenMP Threads | 12\n",
            "\n",
            " Reading settings XML file...\n",
            " Reading cross sections XML file...\n",
            " Reading materials XML file...\n",
            " Reading geometry XML file...\n",
            " Reading U235 from\n",
            " /home/lucas/Proyecto_Integrador/cross_sections1/endfb80/endfb-viii.0-hdf5/neutro\n",
            " n/U235.h5\n",
            " Reading U238 from\n",
            " /home/lucas/Proyecto_Integrador/cross_sections1/endfb80/endfb-viii.0-hdf5/neutro\n",
            " n/U238.h5\n",
            " Reading U234 from\n",
            " /home/lucas/Proyecto_Integrador/cross_sections1/endfb80/endfb-viii.0-hdf5/neutro\n",
            " n/U234.h5\n",
            " Minimum neutron data temperature: 294 K\n",
            " Maximum neutron data temperature: 294 K\n",
            " Preparing distributed cell instances...\n",
            " Reading plot XML file...\n",
            " Writing summary.h5 file...\n",
            " Maximum neutron transport energy: 30000000 eV for U235\n",
            " Initializing source particles...\n",
            "\n",
            " ====================>     K EIGENVALUE SIMULATION     <====================\n",
            "\n",
            "  Bat./Gen.      k            Average k\n",
            "  =========   ========   ====================\n",
            "        1/1    1.40435\n",
            "        2/1    1.12342\n",
            "        3/1    1.03980\n",
            "        4/1    1.01816\n",
            "        5/1    0.97058\n",
            "        6/1    0.98140\n",
            "        7/1    1.00461\n",
            "        8/1    1.06425\n",
            "        9/1    0.97477\n",
            "       10/1    1.03186\n",
            "       11/1    0.97709\n",
            "       12/1    1.02811    1.00260 +/- 0.02551\n",
            "       13/1    1.02030    1.00850 +/- 0.01586\n",
            "       14/1    1.02204    1.01188 +/- 0.01172\n",
            "       15/1    0.99488    1.00848 +/- 0.00969\n",
            "       16/1    1.03479    1.01287 +/- 0.00905\n",
            "       17/1    0.99177    1.00985 +/- 0.00822\n",
            "       18/1    0.99511    1.00801 +/- 0.00735\n",
            "       19/1    1.01077    1.00832 +/- 0.00649\n",
            "       20/1    1.00553    1.00804 +/- 0.00581\n",
            "       21/1    0.97919    1.00542 +/- 0.00588\n",
            "       22/1    0.99015    1.00414 +/- 0.00551\n",
            "       23/1    1.01551    1.00502 +/- 0.00515\n",
            "       24/1    1.04539    1.00790 +/- 0.00557\n",
            "       25/1    0.95986    1.00470 +/- 0.00609\n",
            "       26/1    0.94089    1.00071 +/- 0.00696\n",
            "       27/1    1.01906    1.00179 +/- 0.00662\n",
            "       28/1    0.98903    1.00108 +/- 0.00628\n",
            "       29/1    0.97935    0.99994 +/- 0.00605\n",
            "       30/1    1.01551    1.00072 +/- 0.00580\n",
            "       31/1    0.99326    1.00036 +/- 0.00552\n",
            "       32/1    1.00213    1.00044 +/- 0.00527\n",
            "       33/1    0.98372    0.99972 +/- 0.00509\n",
            "       34/1    0.99547    0.99954 +/- 0.00487\n",
            "       35/1    1.00291    0.99967 +/- 0.00468\n",
            "       36/1    1.00535    0.99989 +/- 0.00450\n",
            "       37/1    1.03229    1.00109 +/- 0.00449\n",
            "       38/1    0.96190    0.99969 +/- 0.00455\n",
            "       39/1    0.98445    0.99917 +/- 0.00442\n",
            "       40/1    1.01359    0.99965 +/- 0.00430\n",
            "       41/1    1.04395    1.00108 +/- 0.00439\n",
            "       42/1    0.98664    1.00062 +/- 0.00428\n",
            "       43/1    0.99936    1.00059 +/- 0.00415\n",
            "       44/1    1.05992    1.00233 +/- 0.00439\n",
            "       45/1    1.00932    1.00253 +/- 0.00426\n",
            "       46/1    0.99460    1.00231 +/- 0.00415\n",
            "       47/1    0.98123    1.00174 +/- 0.00408\n",
            "       48/1    0.97418    1.00102 +/- 0.00403\n",
            "       49/1    1.00488    1.00111 +/- 0.00393\n",
            "       50/1    0.98559    1.00073 +/- 0.00385\n",
            "       51/1    0.94052    0.99926 +/- 0.00403\n",
            "       52/1    0.99710    0.99921 +/- 0.00393\n",
            "       53/1    1.00587    0.99936 +/- 0.00384\n",
            "       54/1    1.01750    0.99977 +/- 0.00378\n",
            "       55/1    1.01061    1.00001 +/- 0.00370\n",
            "       56/1    1.02262    1.00051 +/- 0.00365\n",
            "       57/1    0.98404    1.00016 +/- 0.00359\n",
            "       58/1    1.01618    1.00049 +/- 0.00353\n",
            "       59/1    0.99500    1.00038 +/- 0.00346\n",
            "       60/1    1.04198    1.00121 +/- 0.00349\n",
            "       61/1    1.01901    1.00156 +/- 0.00344\n",
            "       62/1    0.98048    1.00115 +/- 0.00340\n",
            "       63/1    1.03182    1.00173 +/- 0.00338\n",
            "       64/1    0.98701    1.00146 +/- 0.00333\n",
            "       65/1    0.98769    1.00121 +/- 0.00328\n",
            "       66/1    0.98944    1.00100 +/- 0.00323\n",
            "       67/1    1.01231    1.00120 +/- 0.00318\n",
            "       68/1    0.96428    1.00056 +/- 0.00319\n",
            "       69/1    1.02243    1.00093 +/- 0.00315\n",
            "       70/1    0.97664    1.00053 +/- 0.00313\n",
            "       71/1    0.96106    0.99988 +/- 0.00314\n",
            "       72/1    0.99029    0.99972 +/- 0.00309\n",
            "       73/1    0.99268    0.99961 +/- 0.00305\n",
            "       74/1    0.97698    0.99926 +/- 0.00302\n",
            "       75/1    0.96877    0.99879 +/- 0.00301\n",
            "       76/1    1.01721    0.99907 +/- 0.00298\n",
            "       77/1    0.99956    0.99908 +/- 0.00293\n",
            "       78/1    1.03103    0.99955 +/- 0.00293\n",
            "       79/1    1.01270    0.99974 +/- 0.00289\n",
            "       80/1    1.02314    1.00007 +/- 0.00287\n",
            "       81/1    0.96773    0.99962 +/- 0.00286\n",
            "       82/1    0.98097    0.99936 +/- 0.00284\n",
            "       83/1    0.99784    0.99934 +/- 0.00280\n",
            "       84/1    0.97479    0.99900 +/- 0.00278\n",
            "       85/1    1.02568    0.99936 +/- 0.00276\n",
            "       86/1    0.97647    0.99906 +/- 0.00274\n",
            "       87/1    1.04489    0.99965 +/- 0.00277\n",
            "       88/1    0.99603    0.99961 +/- 0.00274\n",
            "       89/1    1.02075    0.99988 +/- 0.00272\n",
            "       90/1    1.03240    1.00028 +/- 0.00271\n",
            "       91/1    0.96242    0.99981 +/- 0.00272\n",
            "       92/1    1.00490    0.99988 +/- 0.00269\n",
            "       93/1    1.00028    0.99988 +/- 0.00265\n",
            "       94/1    1.07313    1.00075 +/- 0.00276\n",
            "       95/1    0.99387    1.00067 +/- 0.00273\n",
            "       96/1    1.01831    1.00088 +/- 0.00271\n",
            "       97/1    0.99968    1.00086 +/- 0.00268\n",
            "       98/1    0.95235    1.00031 +/- 0.00270\n",
            "       99/1    1.04602    1.00083 +/- 0.00272\n",
            "      100/1    0.96486    1.00043 +/- 0.00272\n",
            "      101/1    1.04663    1.00093 +/- 0.00274\n",
            "      102/1    1.03172    1.00127 +/- 0.00273\n",
            "      103/1    1.02624    1.00154 +/- 0.00271\n",
            "      104/1    1.02504    1.00179 +/- 0.00269\n",
            "      105/1    0.97836    1.00154 +/- 0.00268\n",
            "      106/1    0.98636    1.00138 +/- 0.00265\n",
            "      107/1    1.07513    1.00214 +/- 0.00273\n",
            "      108/1    0.97574    1.00187 +/- 0.00272\n",
            "      109/1    1.04595    1.00232 +/- 0.00273\n",
            "      110/1    1.02652    1.00256 +/- 0.00271\n",
            " Creating state point statepoint.110.h5...\n",
            "\n",
            " =======================>     TIMING STATISTICS     <=======================\n",
            "\n",
            " Total time for initialization     = 5.4937e-01 seconds\n",
            "   Reading cross sections          = 5.3052e-01 seconds\n",
            " Total time in simulation          = 9.2706e-02 seconds\n",
            "   Time in transport only          = 7.7711e-02 seconds\n",
            "   Time in inactive batches        = 7.0824e-03 seconds\n",
            "   Time in active batches          = 8.5624e-02 seconds\n",
            "   Time synchronizing fission bank = 5.6824e-03 seconds\n",
            "     Sampling source sites         = 5.1078e-03 seconds\n",
            "     SEND/RECV source sites        = 5.4782e-04 seconds\n",
            "   Time accumulating tallies       = 1.4947e-05 seconds\n",
            "   Time writing statepoints        = 5.3107e-03 seconds\n",
            " Total time for finalization       = 1.5370e-06 seconds\n",
            " Total time elapsed                = 6.4567e-01 seconds\n",
            " Calculation Rate (inactive)       = 1.41194e+06 particles/second\n",
            " Calculation Rate (active)         = 1.1679e+06 particles/second\n",
            "\n",
            " ============================>     RESULTS     <============================\n",
            "\n",
            " k-effective (Collision)     = 1.00433 +/- 0.00321\n",
            " k-effective (Track-length)  = 1.00256 +/- 0.00271\n",
            " k-effective (Absorption)    = 1.00122 +/- 0.00378\n",
            " Combined k-effective        = 1.00176 +/- 0.00205\n",
            " Leakage Fraction            = 0.57215 +/- 0.00160\n",
            "\n"
          ]
        }
      ],
      "source": [
        "!rm summary.h5\n",
        "!rm statepoint.*.h5\n",
        "openmc.run()"
      ]
    },
    {
      "cell_type": "markdown",
      "metadata": {
        "id": "sxayZpXIPG1q"
      },
      "source": [
        "Durante la simulación se lista el valor de $k_\\text{eff}$ estimado para cada generación. Las primeras 10 generaciones se descartan, por lo que no aportan al cálculo final del factor de multiplicación final, que se lista en la columna de la derecha. Como se observa la estimación de $k$ comienza con valores muy altos, que se van reduciendo con las generaciones. Esto se debe a que al no espeficar una fuente con el atributo `.source` el default es una fuente isotrópica en el orígen con un espectro de fisión de Watt con parámetros $a= 0.988$ MeV y $b = 2.249$ MeV $^{-1}$. Esto hace que las partículas sean muestreadas en una región del reactor de alta importancia (el centro), lo que genera una sobrestimación incial del factor de multiplicación. Como el reactor es pequeño la fuente converge rápidamente."
      ]
    },
    {
      "cell_type": "markdown",
      "metadata": {
        "id": "zhKgGvv2PG1q"
      },
      "source": [
        "Esto lo podemos observar abriendo el archivo `statepoint.110.h5` que (entre otras cosas) contiene el factor de multiplicación para cada generación. Esto puede hacerse con un programa que maneje archivos en formato HDF5 (por ejemplo, `h5dump` del paquete `h5utils`) o utilizando el API en Python de OpenMC. La función `.Statepoint()` abre el archivo y genera un objeto de clase `Statepoint`. La estimación del factor de multiplicación para cada generación puede encontrarse en el atributo `.k_generation`:"
      ]
    },
    {
      "cell_type": "code",
      "execution_count": 10,
      "metadata": {
        "id": "1BSmcJAvPG1r"
      },
      "outputs": [
        {
          "name": "stdout",
          "output_type": "stream",
          "text": [
            "[1.4043469  1.12342422 1.03980122 1.01815919 0.97057889 0.98140098\n",
            " 1.00460561 1.06425089 0.97477443 1.0318642  0.97709165 1.02810536\n",
            " 1.02029819 1.02204093 0.9948815  1.03478568 0.99176716 0.99511476\n",
            " 1.01076882 1.00553388 0.9791945  0.9901473  1.01551298 1.04539127\n",
            " 0.95985967 0.94088923 1.01905712 0.98903093 0.97935465 1.01551005\n",
            " 0.99326321 1.00212711 0.98372335 0.99546617 1.00291157 1.00534817\n",
            " 1.03228877 0.96189719 0.98444979 1.01358969 1.04395419 0.98663736\n",
            " 0.99935733 1.05991651 1.00932152 0.99459632 0.98122642 0.97418213\n",
            " 1.00488255 0.9855936  0.940523   0.99709769 1.00586552 1.0174985\n",
            " 1.01060725 1.0226227  0.98403609 1.01617791 0.99500175 1.04197574\n",
            " 1.01900896 0.98048311 1.03182168 0.98701291 0.98768875 0.98943607\n",
            " 1.01231057 0.96428445 1.02243343 0.97664159 0.96106334 0.99028942\n",
            " 0.99267614 0.97698259 0.96877007 1.01721274 0.99955826 1.0310255\n",
            " 1.01269664 1.0231381  0.96772815 0.98097017 0.99784465 0.97478847\n",
            " 1.02567766 0.97647061 1.04488913 0.99603114 1.0207518  1.03240106\n",
            " 0.96242096 1.004904   1.00028327 1.07313182 0.99387236 1.01830536\n",
            " 0.99968009 0.95234974 1.04601695 0.96485734 1.04663134 1.03171548\n",
            " 1.0262425  1.02503732 0.97835963 0.98636064 1.07512784 0.97573595\n",
            " 1.04595266 1.02652092]\n"
          ]
        }
      ],
      "source": [
        "estado = openmc.StatePoint(\"statepoint.110.h5\")\n",
        "keff = estado.k_generation\n",
        "print(keff)"
      ]
    },
    {
      "cell_type": "code",
      "execution_count": 13,
      "metadata": {
        "id": "3d8jOVL3PG1u"
      },
      "outputs": [
        {
          "name": "stdout",
          "output_type": "stream",
          "text": [
            "%pylab is deprecated, use %matplotlib inline and import the required libraries.\n",
            "Populating the interactive namespace from numpy and matplotlib\n"
          ]
        },
        {
          "data": {
            "text/plain": [
              "[<matplotlib.lines.Line2D at 0x75fdbcb839a0>]"
            ]
          },
          "execution_count": 13,
          "metadata": {},
          "output_type": "execute_result"
        }
      ],
      "source": [
        "%pylab inline\n",
        "plot(keff)"
      ]
    },
    {
      "cell_type": "code",
      "execution_count": 14,
      "metadata": {
        "id": "ASViq4EpPG1y"
      },
      "outputs": [],
      "source": [
        "a = hist(keff[11:],bins=10)"
      ]
    },
    {
      "cell_type": "markdown",
      "metadata": {
        "id": "kvPx8mCsPG11"
      },
      "source": [
        "La incerteza en el factor de multiplicación es de $200$ pcm ($200\\times10^{-5}$). Para reducir la incerteza es necesario aumentar la cantidad de partículas simuladas. Por ejemplo:"
      ]
    },
    {
      "cell_type": "code",
      "execution_count": 15,
      "metadata": {
        "id": "T16__6WRPG11"
      },
      "outputs": [],
      "source": [
        "run = openmc.Settings()\n",
        "run.run_mode = \"eigenvalue\"\n",
        "run.particles = 10000\n",
        "run.batches = 110\n",
        "run.inactive = 10\n",
        "run.export_to_xml()"
      ]
    },
    {
      "cell_type": "code",
      "execution_count": 16,
      "metadata": {
        "id": "_5tIiY1HPG14"
      },
      "outputs": [
        {
          "name": "stdout",
          "output_type": "stream",
          "text": [
            "                                %%%%%%%%%%%%%%%\n",
            "                           %%%%%%%%%%%%%%%%%%%%%%%%\n",
            "                        %%%%%%%%%%%%%%%%%%%%%%%%%%%%%%\n",
            "                      %%%%%%%%%%%%%%%%%%%%%%%%%%%%%%%%%%\n",
            "                    %%%%%%%%%%%%%%%%%%%%%%%%%%%%%%%%%%%%%%\n",
            "                   %%%%%%%%%%%%%%%%%%%%%%%%%%%%%%%%%%%%%%%%\n",
            "                                    %%%%%%%%%%%%%%%%%%%%%%%%\n",
            "                                     %%%%%%%%%%%%%%%%%%%%%%%%\n",
            "                 ###############      %%%%%%%%%%%%%%%%%%%%%%%%\n",
            "                ##################     %%%%%%%%%%%%%%%%%%%%%%%\n",
            "                ###################     %%%%%%%%%%%%%%%%%%%%%%%\n",
            "                ####################     %%%%%%%%%%%%%%%%%%%%%%\n",
            "                #####################     %%%%%%%%%%%%%%%%%%%%%\n",
            "                ######################     %%%%%%%%%%%%%%%%%%%%\n",
            "                #######################     %%%%%%%%%%%%%%%%%%\n",
            "                 #######################     %%%%%%%%%%%%%%%%%\n",
            "                 ######################     %%%%%%%%%%%%%%%%%\n",
            "                  ####################     %%%%%%%%%%%%%%%%%\n",
            "                    #################     %%%%%%%%%%%%%%%%%\n",
            "                     ###############     %%%%%%%%%%%%%%%%\n",
            "                       ############     %%%%%%%%%%%%%%%\n",
            "                          ########     %%%%%%%%%%%%%%\n",
            "                                      %%%%%%%%%%%\n",
            "\n",
            "                 | The OpenMC Monte Carlo Code\n",
            "       Copyright | 2011-2024 MIT, UChicago Argonne LLC, and contributors\n",
            "         License | https://docs.openmc.org/en/latest/license.html\n",
            "         Version | 0.15.1-dev\n",
            "        Git SHA1 | 9d9b2daceba82354f4720315ee2491b11d1d6e23\n",
            "       Date/Time | 2024-08-14 11:12:31\n",
            "  OpenMP Threads | 12\n",
            "\n",
            " Reading settings XML file...\n",
            " Reading cross sections XML file...\n",
            " Reading materials XML file...\n",
            " Reading geometry XML file...\n",
            " Reading U235 from\n",
            " /home/lucas/Proyecto_Integrador/cross_sections1/endfb80/endfb-viii.0-hdf5/neutro\n",
            " n/U235.h5\n",
            " Reading U238 from\n",
            " /home/lucas/Proyecto_Integrador/cross_sections1/endfb80/endfb-viii.0-hdf5/neutro\n",
            " n/U238.h5\n",
            " Reading U234 from\n",
            " /home/lucas/Proyecto_Integrador/cross_sections1/endfb80/endfb-viii.0-hdf5/neutro\n",
            " n/U234.h5\n",
            " Minimum neutron data temperature: 294 K\n",
            " Maximum neutron data temperature: 294 K\n",
            " Preparing distributed cell instances...\n",
            " Reading plot XML file...\n",
            " Writing summary.h5 file...\n",
            " Maximum neutron transport energy: 30000000 eV for U235\n",
            " Initializing source particles...\n",
            "\n",
            " ====================>     K EIGENVALUE SIMULATION     <====================\n",
            "\n",
            "  Bat./Gen.      k            Average k\n",
            "  =========   ========   ====================\n",
            "        1/1    1.35088\n",
            "        2/1    1.16093\n",
            "        3/1    1.06432\n",
            "        4/1    1.04214\n",
            "        5/1    1.02321\n",
            "        6/1    0.98432\n",
            "        7/1    0.99165\n",
            "        8/1    1.00195\n",
            "        9/1    0.98397\n",
            "       10/1    0.99826\n",
            "       11/1    0.98672\n",
            "       12/1    0.99657    0.99164 +/- 0.00493\n",
            "       13/1    0.99117    0.99148 +/- 0.00285\n",
            "       14/1    1.00947    0.99598 +/- 0.00493\n",
            "       15/1    1.00486    0.99776 +/- 0.00421\n",
            "       16/1    1.01599    1.00080 +/- 0.00459\n",
            "       17/1    1.00391    1.00124 +/- 0.00390\n",
            "       18/1    1.01922    1.00349 +/- 0.00406\n",
            "       19/1    1.00996    1.00421 +/- 0.00365\n",
            "       20/1    1.00275    1.00406 +/- 0.00327\n",
            "       21/1    0.99946    1.00364 +/- 0.00299\n",
            "       22/1    1.00345    1.00363 +/- 0.00273\n",
            "       23/1    0.98611    1.00228 +/- 0.00285\n",
            "       24/1    1.00178    1.00224 +/- 0.00264\n",
            "       25/1    0.99157    1.00153 +/- 0.00256\n",
            "       26/1    0.98997    1.00081 +/- 0.00250\n",
            "       27/1    0.99784    1.00064 +/- 0.00235\n",
            "       28/1    0.99740    1.00046 +/- 0.00222\n",
            "       29/1    0.99856    1.00036 +/- 0.00211\n",
            "       30/1    0.98852    0.99976 +/- 0.00208\n",
            "       31/1    0.99393    0.99949 +/- 0.00200\n",
            "       32/1    0.99089    0.99910 +/- 0.00195\n",
            "       33/1    1.00404    0.99931 +/- 0.00187\n",
            "       34/1    0.99387    0.99908 +/- 0.00181\n",
            "       35/1    1.01269    0.99963 +/- 0.00182\n",
            "       36/1    0.98488    0.99906 +/- 0.00184\n",
            "       37/1    0.99929    0.99907 +/- 0.00177\n",
            "       38/1    1.00253    0.99919 +/- 0.00171\n",
            "       39/1    1.00094    0.99925 +/- 0.00165\n",
            "       40/1    1.01587    0.99981 +/- 0.00169\n",
            "       41/1    0.99817    0.99975 +/- 0.00163\n",
            "       42/1    1.00942    1.00006 +/- 0.00161\n",
            "       43/1    1.00854    1.00031 +/- 0.00158\n",
            "       44/1    1.00855    1.00056 +/- 0.00155\n",
            "       45/1    0.99616    1.00043 +/- 0.00151\n",
            "       46/1    0.99752    1.00035 +/- 0.00147\n",
            "       47/1    0.99333    1.00016 +/- 0.00144\n",
            "       48/1    1.00486    1.00028 +/- 0.00141\n",
            "       49/1    1.00154    1.00032 +/- 0.00137\n",
            "       50/1    0.98156    0.99985 +/- 0.00142\n",
            "       51/1    0.99985    0.99985 +/- 0.00138\n",
            "       52/1    0.99802    0.99980 +/- 0.00135\n",
            "       53/1    1.00700    0.99997 +/- 0.00133\n",
            "       54/1    0.99409    0.99984 +/- 0.00131\n",
            "       55/1    1.00732    1.00000 +/- 0.00129\n",
            "       56/1    0.99149    0.99982 +/- 0.00127\n",
            "       57/1    0.99977    0.99982 +/- 0.00125\n",
            "       58/1    1.00011    0.99982 +/- 0.00122\n",
            "       59/1    1.00129    0.99985 +/- 0.00120\n",
            "       60/1    0.99928    0.99984 +/- 0.00117\n",
            "       61/1    0.99150    0.99968 +/- 0.00116\n",
            "       62/1    0.99748    0.99964 +/- 0.00114\n",
            "       63/1    0.99696    0.99959 +/- 0.00112\n",
            "       64/1    0.99977    0.99959 +/- 0.00110\n",
            "       65/1    0.99385    0.99948 +/- 0.00108\n",
            "       66/1    0.99278    0.99936 +/- 0.00107\n",
            "       67/1    0.99941    0.99937 +/- 0.00105\n",
            "       68/1    0.99025    0.99921 +/- 0.00104\n",
            "       69/1    0.99862    0.99920 +/- 0.00103\n",
            "       70/1    1.00342    0.99927 +/- 0.00101\n",
            "       71/1    0.98084    0.99897 +/- 0.00104\n",
            "       72/1    0.98165    0.99869 +/- 0.00106\n",
            "       73/1    1.00207    0.99874 +/- 0.00104\n",
            "       74/1    1.00653    0.99886 +/- 0.00103\n",
            "       75/1    1.00262    0.99892 +/- 0.00102\n",
            "       76/1    0.99419    0.99885 +/- 0.00101\n",
            "       77/1    0.98965    0.99871 +/- 0.00100\n",
            "       78/1    0.99790    0.99870 +/- 0.00099\n",
            "       79/1    1.00586    0.99880 +/- 0.00098\n",
            "       80/1    1.00238    0.99885 +/- 0.00097\n",
            "       81/1    0.99953    0.99886 +/- 0.00095\n",
            "       82/1    1.00620    0.99897 +/- 0.00094\n",
            "       83/1    0.99630    0.99893 +/- 0.00093\n",
            "       84/1    1.00222    0.99897 +/- 0.00092\n",
            "       85/1    0.98873    0.99884 +/- 0.00092\n",
            "       86/1    1.00232    0.99888 +/- 0.00091\n",
            "       87/1    1.01407    0.99908 +/- 0.00092\n",
            "       88/1    0.99937    0.99908 +/- 0.00090\n",
            "       89/1    1.00338    0.99914 +/- 0.00089\n",
            "       90/1    1.01031    0.99928 +/- 0.00089\n",
            "       91/1    0.99987    0.99929 +/- 0.00088\n",
            "       92/1    1.02658    0.99962 +/- 0.00093\n",
            "       93/1    1.00035    0.99963 +/- 0.00092\n",
            "       94/1    1.00278    0.99966 +/- 0.00091\n",
            "       95/1    1.00274    0.99970 +/- 0.00090\n",
            "       96/1    0.99450    0.99964 +/- 0.00089\n",
            "       97/1    1.01415    0.99981 +/- 0.00090\n",
            "       98/1    0.99094    0.99971 +/- 0.00089\n",
            "       99/1    1.01160    0.99984 +/- 0.00089\n",
            "      100/1    1.00247    0.99987 +/- 0.00088\n",
            "      101/1    1.00488    0.99992 +/- 0.00088\n",
            "      102/1    1.01044    1.00004 +/- 0.00087\n",
            "      103/1    0.99261    0.99996 +/- 0.00087\n",
            "      104/1    1.00344    1.00000 +/- 0.00086\n",
            "      105/1    1.00351    1.00003 +/- 0.00085\n",
            "      106/1    0.99299    0.99996 +/- 0.00085\n",
            "      107/1    0.99491    0.99991 +/- 0.00084\n",
            "      108/1    1.00658    0.99998 +/- 0.00083\n",
            "      109/1    1.01467    1.00012 +/- 0.00084\n",
            "      110/1    1.00968    1.00022 +/- 0.00084\n",
            " Creating state point statepoint.110.h5...\n",
            "\n",
            " =======================>     TIMING STATISTICS     <=======================\n",
            "\n",
            " Total time for initialization     = 6.1590e-01 seconds\n",
            "   Reading cross sections          = 6.0457e-01 seconds\n",
            " Total time in simulation          = 1.3443e+00 seconds\n",
            "   Time in transport only          = 1.1896e+00 seconds\n",
            "   Time in inactive batches        = 2.0350e-01 seconds\n",
            "   Time in active batches          = 1.1408e+00 seconds\n",
            "   Time synchronizing fission bank = 9.5739e-02 seconds\n",
            "     Sampling source sites         = 8.8937e-02 seconds\n",
            "     SEND/RECV source sites        = 6.7324e-03 seconds\n",
            "   Time accumulating tallies       = 4.6871e-05 seconds\n",
            "   Time writing statepoints        = 9.9464e-03 seconds\n",
            " Total time for finalization       = 1.9900e-06 seconds\n",
            " Total time elapsed                = 1.9704e+00 seconds\n",
            " Calculation Rate (inactive)       = 491401 particles/second\n",
            " Calculation Rate (active)         = 876570 particles/second\n",
            "\n",
            " ============================>     RESULTS     <============================\n",
            "\n",
            " k-effective (Collision)     = 1.00051 +/- 0.00094\n",
            " k-effective (Track-length)  = 1.00022 +/- 0.00084\n",
            " k-effective (Absorption)    = 0.99930 +/- 0.00133\n",
            " Combined k-effective        = 0.99988 +/- 0.00065\n",
            " Leakage Fraction            = 0.57325 +/- 0.00056\n",
            "\n"
          ]
        }
      ],
      "source": [
        "!rm summary.h5\n",
        "!rm statepoint.*.h5\n",
        "openmc.run()"
      ]
    },
    {
      "cell_type": "code",
      "execution_count": 17,
      "metadata": {
        "id": "PXm5GItVPG1-"
      },
      "outputs": [],
      "source": [
        "estado2 = openmc.StatePoint(\"statepoint.110.h5\")\n",
        "keff2 = estado2.k_generation"
      ]
    },
    {
      "cell_type": "code",
      "execution_count": 18,
      "metadata": {
        "id": "LJ5H-bFxPG2C"
      },
      "outputs": [
        {
          "data": {
            "text/plain": [
              "[<matplotlib.lines.Line2D at 0x75fdbcbc52a0>]"
            ]
          },
          "execution_count": 18,
          "metadata": {},
          "output_type": "execute_result"
        }
      ],
      "source": [
        "plot(keff)\n",
        "plot(keff2)"
      ]
    },
    {
      "cell_type": "code",
      "execution_count": 19,
      "metadata": {
        "id": "FXA_4difPG2H"
      },
      "outputs": [],
      "source": [
        "run = openmc.Settings()\n",
        "run.run_mode = \"eigenvalue\"\n",
        "run.particles = 100000\n",
        "run.batches = 110\n",
        "run.inactive = 10\n",
        "run.export_to_xml()"
      ]
    },
    {
      "cell_type": "code",
      "execution_count": 20,
      "metadata": {
        "id": "H7oFLoV3PG2K"
      },
      "outputs": [
        {
          "name": "stdout",
          "output_type": "stream",
          "text": [
            "                                %%%%%%%%%%%%%%%\n",
            "                           %%%%%%%%%%%%%%%%%%%%%%%%\n",
            "                        %%%%%%%%%%%%%%%%%%%%%%%%%%%%%%\n",
            "                      %%%%%%%%%%%%%%%%%%%%%%%%%%%%%%%%%%\n",
            "                    %%%%%%%%%%%%%%%%%%%%%%%%%%%%%%%%%%%%%%\n",
            "                   %%%%%%%%%%%%%%%%%%%%%%%%%%%%%%%%%%%%%%%%\n",
            "                                    %%%%%%%%%%%%%%%%%%%%%%%%\n",
            "                                     %%%%%%%%%%%%%%%%%%%%%%%%\n",
            "                 ###############      %%%%%%%%%%%%%%%%%%%%%%%%\n",
            "                ##################     %%%%%%%%%%%%%%%%%%%%%%%\n",
            "                ###################     %%%%%%%%%%%%%%%%%%%%%%%\n",
            "                ####################     %%%%%%%%%%%%%%%%%%%%%%\n",
            "                #####################     %%%%%%%%%%%%%%%%%%%%%\n",
            "                ######################     %%%%%%%%%%%%%%%%%%%%\n",
            "                #######################     %%%%%%%%%%%%%%%%%%\n",
            "                 #######################     %%%%%%%%%%%%%%%%%\n",
            "                 ######################     %%%%%%%%%%%%%%%%%\n",
            "                  ####################     %%%%%%%%%%%%%%%%%\n",
            "                    #################     %%%%%%%%%%%%%%%%%\n",
            "                     ###############     %%%%%%%%%%%%%%%%\n",
            "                       ############     %%%%%%%%%%%%%%%\n",
            "                          ########     %%%%%%%%%%%%%%\n",
            "                                      %%%%%%%%%%%\n",
            "\n",
            "                 | The OpenMC Monte Carlo Code\n",
            "       Copyright | 2011-2024 MIT, UChicago Argonne LLC, and contributors\n",
            "         License | https://docs.openmc.org/en/latest/license.html\n",
            "         Version | 0.15.1-dev\n",
            "        Git SHA1 | 9d9b2daceba82354f4720315ee2491b11d1d6e23\n",
            "       Date/Time | 2024-08-14 11:12:50\n",
            "  OpenMP Threads | 12\n",
            "\n",
            " Reading settings XML file...\n",
            " Reading cross sections XML file...\n",
            " Reading materials XML file...\n",
            " Reading geometry XML file...\n",
            " Reading U235 from\n",
            " /home/lucas/Proyecto_Integrador/cross_sections1/endfb80/endfb-viii.0-hdf5/neutro\n",
            " n/U235.h5\n",
            " Reading U238 from\n",
            " /home/lucas/Proyecto_Integrador/cross_sections1/endfb80/endfb-viii.0-hdf5/neutro\n",
            " n/U238.h5\n",
            " Reading U234 from\n",
            " /home/lucas/Proyecto_Integrador/cross_sections1/endfb80/endfb-viii.0-hdf5/neutro\n",
            " n/U234.h5\n",
            " Minimum neutron data temperature: 294 K\n",
            " Maximum neutron data temperature: 294 K\n",
            " Preparing distributed cell instances...\n",
            " Reading plot XML file...\n",
            " Writing summary.h5 file...\n",
            " Maximum neutron transport energy: 30000000 eV for U235\n",
            " Initializing source particles...\n",
            "\n",
            " ====================>     K EIGENVALUE SIMULATION     <====================\n",
            "\n",
            "  Bat./Gen.      k            Average k\n",
            "  =========   ========   ====================\n",
            "        1/1    1.34889\n",
            "        2/1    1.14511\n",
            "        3/1    1.07343\n",
            "        4/1    1.03052\n",
            "        5/1    1.01041\n",
            "        6/1    1.00266\n",
            "        7/1    0.99881\n",
            "        8/1    1.00112\n",
            "        9/1    0.99869\n",
            "       10/1    1.00053\n",
            "       11/1    1.00076\n",
            "       12/1    0.99982    1.00029 +/- 0.00047\n",
            "       13/1    1.00196    1.00085 +/- 0.00062\n",
            "       14/1    0.99878    1.00033 +/- 0.00068\n",
            "       15/1    1.00308    1.00088 +/- 0.00076\n",
            "       16/1    1.00086    1.00088 +/- 0.00062\n",
            "       17/1    1.00329    1.00122 +/- 0.00063\n",
            "       18/1    1.00519    1.00172 +/- 0.00074\n",
            "       19/1    1.00428    1.00200 +/- 0.00071\n",
            "       20/1    1.00102    1.00191 +/- 0.00064\n",
            "       21/1    0.99880    1.00162 +/- 0.00065\n",
            "       22/1    1.00202    1.00166 +/- 0.00059\n",
            "       23/1    0.99836    1.00140 +/- 0.00060\n",
            "       24/1    1.00061    1.00135 +/- 0.00056\n",
            "       25/1    1.00053    1.00129 +/- 0.00052\n",
            "       26/1    1.00167    1.00131 +/- 0.00049\n",
            "       27/1    0.99947    1.00121 +/- 0.00047\n",
            "       28/1    1.00223    1.00126 +/- 0.00045\n",
            "       29/1    1.00499    1.00146 +/- 0.00047\n",
            "       30/1    1.00245    1.00151 +/- 0.00045\n",
            "       31/1    0.99928    1.00140 +/- 0.00044\n",
            "       32/1    0.99914    1.00130 +/- 0.00043\n",
            "       33/1    0.99788    1.00115 +/- 0.00044\n",
            "       34/1    0.99980    1.00110 +/- 0.00042\n",
            "       35/1    0.99893    1.00101 +/- 0.00041\n",
            "       36/1    0.99625    1.00083 +/- 0.00044\n",
            "       37/1    0.99953    1.00078 +/- 0.00042\n",
            "       38/1    1.00326    1.00087 +/- 0.00042\n",
            "       39/1    0.99941    1.00082 +/- 0.00041\n",
            "       40/1    1.00604    1.00099 +/- 0.00043\n",
            "       41/1    1.00340    1.00107 +/- 0.00042\n",
            "       42/1    1.00488    1.00119 +/- 0.00043\n",
            "       43/1    1.00147    1.00120 +/- 0.00041\n",
            "       44/1    1.00139    1.00120 +/- 0.00040\n",
            "       45/1    1.00095    1.00119 +/- 0.00039\n",
            "       46/1    1.00145    1.00120 +/- 0.00038\n",
            "       47/1    1.00282    1.00125 +/- 0.00037\n",
            "       48/1    1.00263    1.00128 +/- 0.00036\n",
            "       49/1    0.99796    1.00120 +/- 0.00036\n",
            "       50/1    0.99792    1.00111 +/- 0.00036\n",
            "       51/1    0.99906    1.00106 +/- 0.00036\n",
            "       52/1    1.00177    1.00108 +/- 0.00035\n",
            "       53/1    0.99726    1.00099 +/- 0.00035\n",
            "       54/1    1.00036    1.00098 +/- 0.00034\n",
            "       55/1    1.00587    1.00109 +/- 0.00035\n",
            "       56/1    0.99857    1.00103 +/- 0.00035\n",
            "       57/1    0.99809    1.00097 +/- 0.00035\n",
            "       58/1    1.00321    1.00102 +/- 0.00034\n",
            "       59/1    1.00140    1.00102 +/- 0.00034\n",
            "       60/1    0.99890    1.00098 +/- 0.00033\n",
            "       61/1    1.00042    1.00097 +/- 0.00033\n",
            "       62/1    1.00014    1.00095 +/- 0.00032\n",
            "       63/1    1.00021    1.00094 +/- 0.00032\n",
            "       64/1    1.00063    1.00093 +/- 0.00031\n",
            "       65/1    0.99583    1.00084 +/- 0.00032\n",
            "       66/1    1.00022    1.00083 +/- 0.00031\n",
            "       67/1    0.99757    1.00077 +/- 0.00031\n",
            "       68/1    1.00924    1.00092 +/- 0.00034\n",
            "       69/1    0.99992    1.00090 +/- 0.00033\n",
            "       70/1    0.99662    1.00083 +/- 0.00034\n",
            "       71/1    0.99929    1.00081 +/- 0.00033\n",
            "       72/1    1.00166    1.00082 +/- 0.00033\n",
            "       73/1    0.99395    1.00071 +/- 0.00034\n",
            "       74/1    1.00138    1.00072 +/- 0.00033\n",
            "       75/1    1.00064    1.00072 +/- 0.00033\n",
            "       76/1    1.00197    1.00074 +/- 0.00032\n",
            "       77/1    0.99985    1.00073 +/- 0.00032\n",
            "       78/1    0.99847    1.00069 +/- 0.00032\n",
            "       79/1    1.00127    1.00070 +/- 0.00031\n",
            "       80/1    0.99645    1.00064 +/- 0.00031\n",
            "       81/1    1.00299    1.00067 +/- 0.00031\n",
            "       82/1    0.99720    1.00063 +/- 0.00031\n",
            "       83/1    1.00176    1.00064 +/- 0.00031\n",
            "       84/1    0.99832    1.00061 +/- 0.00030\n",
            "       85/1    0.99537    1.00054 +/- 0.00031\n",
            "       86/1    1.00193    1.00056 +/- 0.00030\n",
            "       87/1    0.99776    1.00052 +/- 0.00030\n",
            "       88/1    1.00229    1.00054 +/- 0.00030\n",
            "       89/1    1.00297    1.00057 +/- 0.00030\n",
            "       90/1    1.00305    1.00061 +/- 0.00030\n",
            "       91/1    1.00036    1.00060 +/- 0.00029\n",
            "       92/1    1.00272    1.00063 +/- 0.00029\n",
            "       93/1    1.00245    1.00065 +/- 0.00029\n",
            "       94/1    1.00479    1.00070 +/- 0.00029\n",
            "       95/1    1.00014    1.00069 +/- 0.00028\n",
            "       96/1    0.99915    1.00068 +/- 0.00028\n",
            "       97/1    0.99811    1.00065 +/- 0.00028\n",
            "       98/1    1.00679    1.00072 +/- 0.00029\n",
            "       99/1    1.00006    1.00071 +/- 0.00028\n",
            "      100/1    1.00152    1.00072 +/- 0.00028\n",
            "      101/1    1.00006    1.00071 +/- 0.00028\n",
            "      102/1    1.00284    1.00073 +/- 0.00027\n",
            "      103/1    1.00090    1.00073 +/- 0.00027\n",
            "      104/1    1.00136    1.00074 +/- 0.00027\n",
            "      105/1    0.99902    1.00072 +/- 0.00027\n",
            "      106/1    1.00344    1.00075 +/- 0.00026\n",
            "      107/1    0.99566    1.00070 +/- 0.00027\n",
            "      108/1    0.99504    1.00064 +/- 0.00027\n",
            "      109/1    1.00291    1.00066 +/- 0.00027\n",
            "      110/1    1.00397    1.00070 +/- 0.00027\n",
            " Creating state point statepoint.110.h5...\n",
            "\n",
            " =======================>     TIMING STATISTICS     <=======================\n",
            "\n",
            " Total time for initialization     = 6.0368e-01 seconds\n",
            "   Reading cross sections          = 5.7913e-01 seconds\n",
            " Total time in simulation          = 9.8289e+00 seconds\n",
            "   Time in transport only          = 8.2454e+00 seconds\n",
            "   Time in inactive batches        = 9.4679e-01 seconds\n",
            "   Time in active batches          = 8.8821e+00 seconds\n",
            "   Time synchronizing fission bank = 1.0836e+00 seconds\n",
            "     Sampling source sites         = 9.3632e-01 seconds\n",
            "     SEND/RECV source sites        = 1.4703e-01 seconds\n",
            "   Time accumulating tallies       = 5.7864e-05 seconds\n",
            "   Time writing statepoints        = 7.3785e-03 seconds\n",
            " Total time for finalization       = 2.3580e-06 seconds\n",
            " Total time elapsed                = 1.0463e+01 seconds\n",
            " Calculation Rate (inactive)       = 1.0562e+06 particles/second\n",
            " Calculation Rate (active)         = 1.12586e+06 particles/second\n",
            "\n",
            " ============================>     RESULTS     <============================\n",
            "\n",
            " k-effective (Collision)     = 1.00058 +/- 0.00034\n",
            " k-effective (Track-length)  = 1.00070 +/- 0.00027\n",
            " k-effective (Absorption)    = 1.00072 +/- 0.00042\n",
            " Combined k-effective        = 1.00075 +/- 0.00022\n",
            " Leakage Fraction            = 0.57282 +/- 0.00017\n",
            "\n"
          ]
        }
      ],
      "source": [
        "!rm statepoint.110.h5\n",
        "!rm summary.h5\n",
        "openmc.run()"
      ]
    },
    {
      "cell_type": "code",
      "execution_count": 21,
      "metadata": {
        "id": "9G_5mkvTPG2N"
      },
      "outputs": [],
      "source": [
        "estado3 = openmc.StatePoint(\"statepoint.110.h5\")\n",
        "keff3 = estado3.k_generation"
      ]
    },
    {
      "cell_type": "code",
      "execution_count": 22,
      "metadata": {
        "id": "mdDAoiVzPG2Q"
      },
      "outputs": [
        {
          "data": {
            "text/plain": [
              "[<matplotlib.lines.Line2D at 0x75fdbcbc5f90>]"
            ]
          },
          "execution_count": 22,
          "metadata": {},
          "output_type": "execute_result"
        }
      ],
      "source": [
        "plot(keff)\n",
        "plot(keff2)\n",
        "plot(keff3)"
      ]
    },
    {
      "cell_type": "code",
      "execution_count": 23,
      "metadata": {
        "id": "utzkr0MvPG2T"
      },
      "outputs": [
        {
          "name": "stdout",
          "output_type": "stream",
          "text": [
            "1.0018+/-0.0020\n",
            "0.9999+/-0.0007\n",
            "1.00075+/-0.00022\n"
          ]
        },
        {
          "name": "stderr",
          "output_type": "stream",
          "text": [
            "/home/lucas/anaconda3/envs/openmc_develop/lib/python3.10/site-packages/openmc/statepoint.py:277: FutureWarning: The 'k_combined' property has been renamed to 'keff' and will be removed in a future version of OpenMC.\n",
            "  warnings.warn(\n"
          ]
        },
        {
          "data": {
            "text/plain": [
              "[<matplotlib.lines.Line2D at 0x75fdbcbc4e80>]"
            ]
          },
          "execution_count": 23,
          "metadata": {},
          "output_type": "execute_result"
        }
      ],
      "source": [
        "kfinal = estado.k_combined\n",
        "kfinal2 = estado2.k_combined\n",
        "kfinal3 = estado3.k_combined\n",
        "print(kfinal)\n",
        "print(kfinal2)\n",
        "print(kfinal3)\n",
        "loglog([100000,1000000,10000000], [kfinal.nominal_value,kfinal2.nominal_value,kfinal3.nominal_value],'.')"
      ]
    },
    {
      "cell_type": "markdown",
      "metadata": {
        "id": "v73e7OzAPG2W"
      },
      "source": [
        "El resultado neto es que la incerteza en el factor de multiplicación se reduce en un factor de $1/\\sqrt{N}$."
      ]
    },
    {
      "cell_type": "markdown",
      "metadata": {
        "id": "fM_uQgcpPG2X"
      },
      "source": [
        "## Simulación de fuente fija"
      ]
    },
    {
      "cell_type": "markdown",
      "metadata": {
        "id": "wFgBcifQPG2Y"
      },
      "source": [
        "Para realizar un cálculo en modo de fuente externa es necesario definir una fuente. La fuente se especifica en el parámetro `.source` del objeto de clase `Settings`. La fuente es un objeto generado con la función `.IndependentSource()`, que posee como atributos las distribuciones espaciales, angulares y energéticas de la fuente. Por ejemplo, para definir una fuente isotrópica de $1$ MeV en el origen hacemos:"
      ]
    },
    {
      "cell_type": "code",
      "execution_count": 24,
      "metadata": {
        "id": "tj5JoZhPPG2Y"
      },
      "outputs": [],
      "source": [
        "dist_espacial = openmc.stats.Point(xyz=(0.0, 0.0, 0.0))\n",
        "dist_angular = openmc.stats.Isotropic()\n",
        "dist_energetica = openmc.stats.Discrete([1.0e6], [1.0])\n",
        "\n",
        "fuente = openmc.IndependentSource()\n",
        "fuente.space = dist_espacial\n",
        "fuente.angle = dist_angular\n",
        "fuente.energy = dist_energetica\n",
        "\n",
        "parametros = openmc.Settings()\n",
        "parametros.source = fuente"
      ]
    },
    {
      "cell_type": "markdown",
      "metadata": {
        "id": "JxStdWIZPG2c"
      },
      "source": [
        "Las distribuciones se generan en base al módulo `openmc.stats`. Este módulo posee distintos tipos de distribuciones para las variables energía, posición y dirección, y distribuciones de probabilidad genéricas:"
      ]
    },
    {
      "cell_type": "markdown",
      "metadata": {
        "id": "pbLscb49PG2c"
      },
      "source": [
        "Distribuciones espaciales:\n",
        "\n",
        "* `openmc.stats.Point()`: distribución delta en un punto del espacio, $\\delta(\\vec{r}-\\vec{r}_0)$.\n",
        "* `openmc.stats.Box()`: distribución uniformemente distribuida entre un punto (esquina inferior izquierda) y otro (esquina superior derecha).\n",
        "* `openmc.stats.CartesianIndependent()`: distribución factorizada en distribuciones univariadas para $x$, $y$, $z$."
      ]
    },
    {
      "cell_type": "markdown",
      "metadata": {
        "id": "JU-JRWuHPG2d"
      },
      "source": [
        "Distribuciones angulares:\n",
        "* `openmc.stats.Isotropic()`: distribución isotrópica en la esfera unitaria.\n",
        "* `openmc.stats.Monodirectional()`: distribución delta en una dirección angular, $\\delta(\\hat{\\Omega}-\\hat{\\Omega}_0)$.\n",
        "* `openmc.stats.PolarAzimuthal()`: distribución factorizada en distribuciones univariadas para $\\mu = \\cos(\\theta)$ y $\\phi$, respecto a una dirección dada (por defecto, $+z$)."
      ]
    },
    {
      "cell_type": "markdown",
      "metadata": {
        "id": "8OIeH5NQPG2e"
      },
      "source": [
        "Distribuciones univariadas (que pueden utilizarse también para energía):\n",
        "* `openmc.stats.Discrete()`: distribución caracterizada por valores discretos con probabilidad asociada.\n",
        "* `openmc.stats.Uniform()`: distribución con probabilidad constante en un intervalo $[a,b]$.\n",
        "* `openmc.stats.Tabular()`: distribución continua por trozos con una ley de interpolación (histograma, lin-lin, lin-log, log-lin o log-log`).\n",
        "* `openmc.stats.Watt()`: distribución de Watt (espectro de fisión: $\\chi(E) = C e^{-E/a} \\sinh{\\sqrt{b E}}$).\n",
        "* `openmc.stats.Maxwell()`: distribución de Maxwell (distribución térmica: $M(E) = C E e^{-E/kT}$)\n",
        "* `openmc.stats.Legendre()`: distribución de probabilidad dada por una expansión en polinomios de Legendre.\n",
        "* `openmc.stats.Mixture()`: distribución discreta en la que los valores son otras distribuciones (similar a `FCEL` en MCNP)."
      ]
    },
    {
      "cell_type": "markdown",
      "metadata": {
        "id": "hBp5FU1tPG2f"
      },
      "source": [
        "Por ejemplo, la fuga de neutrones de una esfera de agua de radio $5$ cm con una fuente monoenergética :"
      ]
    },
    {
      "cell_type": "code",
      "execution_count": 25,
      "metadata": {
        "id": "M9LC73QwPG2g"
      },
      "outputs": [],
      "source": [
        "h2o = openmc.Material()\n",
        "h2o.add_nuclide(\"H1\", 2.0, \"ao\")\n",
        "h2o.add_nuclide(\"O16\", 1.0, \"ao\")\n",
        "h2o.set_density(\"g/cm3\", 1)\n",
        "h2o.add_s_alpha_beta(\"c_H_in_H2O\")\n",
        "\n",
        "mats = openmc.Materials([h2o])\n",
        "mats.export_to_xml()\n",
        "\n",
        "esfera = openmc.Sphere(r=5, boundary_type=\"vacuum\")\n",
        "celda = openmc.Cell(region=-esfera, fill=h2o)\n",
        "universo = openmc.Universe(cells=[celda])\n",
        "\n",
        "geom = openmc.Geometry(universo)\n",
        "geom.export_to_xml()\n",
        "\n",
        "dist_espacial = openmc.stats.Point(xyz=(0.0, 0.0, 0.0))\n",
        "dist_angular = openmc.stats.Isotropic()\n",
        "dist_energetica = openmc.stats.Discrete([1.0e6], [1.0])\n",
        "\n",
        "fuente = openmc.IndependentSource()\n",
        "fuente.space = dist_espacial\n",
        "fuente.angle = dist_angular\n",
        "fuente.energy = dist_energetica\n",
        "\n",
        "parametros = openmc.Settings()\n",
        "parametros.source = fuente\n",
        "parametros.run_mode = \"fixed source\"\n",
        "parametros.batches = 100\n",
        "parametros.particles = 1000\n",
        "parametros.export_to_xml()"
      ]
    },
    {
      "cell_type": "code",
      "execution_count": 26,
      "metadata": {
        "id": "rIFeSrR_PG2i"
      },
      "outputs": [
        {
          "name": "stdout",
          "output_type": "stream",
          "text": [
            "                                %%%%%%%%%%%%%%%\n",
            "                           %%%%%%%%%%%%%%%%%%%%%%%%\n",
            "                        %%%%%%%%%%%%%%%%%%%%%%%%%%%%%%\n",
            "                      %%%%%%%%%%%%%%%%%%%%%%%%%%%%%%%%%%\n",
            "                    %%%%%%%%%%%%%%%%%%%%%%%%%%%%%%%%%%%%%%\n",
            "                   %%%%%%%%%%%%%%%%%%%%%%%%%%%%%%%%%%%%%%%%\n",
            "                                    %%%%%%%%%%%%%%%%%%%%%%%%\n",
            "                                     %%%%%%%%%%%%%%%%%%%%%%%%\n",
            "                 ###############      %%%%%%%%%%%%%%%%%%%%%%%%\n",
            "                ##################     %%%%%%%%%%%%%%%%%%%%%%%\n",
            "                ###################     %%%%%%%%%%%%%%%%%%%%%%%\n",
            "                ####################     %%%%%%%%%%%%%%%%%%%%%%\n",
            "                #####################     %%%%%%%%%%%%%%%%%%%%%\n",
            "                ######################     %%%%%%%%%%%%%%%%%%%%\n",
            "                #######################     %%%%%%%%%%%%%%%%%%\n",
            "                 #######################     %%%%%%%%%%%%%%%%%\n",
            "                 ######################     %%%%%%%%%%%%%%%%%\n",
            "                  ####################     %%%%%%%%%%%%%%%%%\n",
            "                    #################     %%%%%%%%%%%%%%%%%\n",
            "                     ###############     %%%%%%%%%%%%%%%%\n",
            "                       ############     %%%%%%%%%%%%%%%\n",
            "                          ########     %%%%%%%%%%%%%%\n",
            "                                      %%%%%%%%%%%\n",
            "\n",
            "                 | The OpenMC Monte Carlo Code\n",
            "       Copyright | 2011-2024 MIT, UChicago Argonne LLC, and contributors\n",
            "         License | https://docs.openmc.org/en/latest/license.html\n",
            "         Version | 0.15.1-dev\n",
            "        Git SHA1 | 9d9b2daceba82354f4720315ee2491b11d1d6e23\n",
            "       Date/Time | 2024-08-14 11:13:54\n",
            "  OpenMP Threads | 12\n",
            "\n",
            " Reading settings XML file...\n",
            " Reading cross sections XML file...\n",
            " Reading materials XML file...\n",
            " Reading geometry XML file...\n",
            " Reading H1 from\n",
            " /home/lucas/Proyecto_Integrador/cross_sections1/endfb80/endfb-viii.0-hdf5/neutro\n",
            " n/H1.h5\n",
            " Reading O16 from\n",
            " /home/lucas/Proyecto_Integrador/cross_sections1/endfb80/endfb-viii.0-hdf5/neutro\n",
            " n/O16.h5\n",
            " Reading c_H_in_H2O from\n",
            " /home/lucas/Proyecto_Integrador/cross_sections1/endfb80/endfb-viii.0-hdf5/neutro\n",
            " n/c_H_in_H2O.h5\n",
            " Minimum neutron data temperature: 294 K\n",
            " Maximum neutron data temperature: 294 K\n",
            " Preparing distributed cell instances...\n",
            " Reading plot XML file...\n",
            " Writing summary.h5 file...\n",
            " Maximum neutron transport energy: 20000000 eV for H1\n",
            "\n",
            " ===============>     FIXED SOURCE TRANSPORT SIMULATION     <===============\n",
            "\n",
            " Simulating batch 1\n",
            " Simulating batch 2\n",
            " Simulating batch 3\n",
            " Simulating batch 4\n",
            " Simulating batch 5\n",
            " Simulating batch 6\n",
            " Simulating batch 7\n",
            " Simulating batch 8\n",
            " Simulating batch 9\n",
            " Simulating batch 10\n",
            " Simulating batch 11\n",
            " Simulating batch 12\n",
            " Simulating batch 13\n",
            " Simulating batch 14\n",
            " Simulating batch 15\n",
            " Simulating batch 16\n",
            " Simulating batch 17\n",
            " Simulating batch 18\n",
            " Simulating batch 19\n",
            " Simulating batch 20\n",
            " Simulating batch 21\n",
            " Simulating batch 22\n",
            " Simulating batch 23\n",
            " Simulating batch 24\n",
            " Simulating batch 25\n",
            " Simulating batch 26\n",
            " Simulating batch 27\n",
            " Simulating batch 28\n",
            " Simulating batch 29\n",
            " Simulating batch 30\n",
            " Simulating batch 31\n",
            " Simulating batch 32\n",
            " Simulating batch 33\n",
            " Simulating batch 34\n",
            " Simulating batch 35\n",
            " Simulating batch 36\n",
            " Simulating batch 37\n",
            " Simulating batch 38\n",
            " Simulating batch 39\n",
            " Simulating batch 40\n",
            " Simulating batch 41\n",
            " Simulating batch 42\n",
            " Simulating batch 43\n",
            " Simulating batch 44\n",
            " Simulating batch 45\n",
            " Simulating batch 46\n",
            " Simulating batch 47\n",
            " Simulating batch 48\n",
            " Simulating batch 49\n",
            " Simulating batch 50\n",
            " Simulating batch 51\n",
            " Simulating batch 52\n",
            " Simulating batch 53\n",
            " Simulating batch 54\n",
            " Simulating batch 55\n",
            " Simulating batch 56\n",
            " Simulating batch 57\n",
            " Simulating batch 58\n",
            " Simulating batch 59\n",
            " Simulating batch 60\n",
            " Simulating batch 61\n",
            " Simulating batch 62\n",
            " Simulating batch 63\n",
            " Simulating batch 64\n",
            " Simulating batch 65\n",
            " Simulating batch 66\n",
            " Simulating batch 67\n",
            " Simulating batch 68\n",
            " Simulating batch 69\n",
            " Simulating batch 70\n",
            " Simulating batch 71\n",
            " Simulating batch 72\n",
            " Simulating batch 73\n",
            " Simulating batch 74\n",
            " Simulating batch 75\n",
            " Simulating batch 76\n",
            " Simulating batch 77\n",
            " Simulating batch 78\n",
            " Simulating batch 79\n",
            " Simulating batch 80\n",
            " Simulating batch 81\n",
            " Simulating batch 82\n",
            " Simulating batch 83\n",
            " Simulating batch 84\n",
            " Simulating batch 85\n",
            " Simulating batch 86\n",
            " Simulating batch 87\n",
            " Simulating batch 88\n",
            " Simulating batch 89\n",
            " Simulating batch 90\n",
            " Simulating batch 91\n",
            " Simulating batch 92\n",
            " Simulating batch 93\n",
            " Simulating batch 94\n",
            " Simulating batch 95\n",
            " Simulating batch 96\n",
            " Simulating batch 97\n",
            " Simulating batch 98\n",
            " Simulating batch 99\n",
            " Simulating batch 100\n",
            " Creating state point statepoint.100.h5...\n",
            "\n",
            " =======================>     TIMING STATISTICS     <=======================\n",
            "\n",
            " Total time for initialization     = 1.6431e-01 seconds\n",
            "   Reading cross sections          = 1.5079e-01 seconds\n",
            " Total time in simulation          = 3.3492e-01 seconds\n",
            "   Time in transport only          = 3.2588e-01 seconds\n",
            "   Time in active batches          = 3.3492e-01 seconds\n",
            "   Time accumulating tallies       = 2.2851e-05 seconds\n",
            "   Time writing statepoints        = 3.7934e-03 seconds\n",
            " Total time for finalization       = 1.4570e-06 seconds\n",
            " Total time elapsed                = 4.9958e-01 seconds\n",
            " Calculation Rate (active)         = 298580 particles/second\n",
            "\n",
            " ============================>     RESULTS     <============================\n",
            "\n",
            " Leakage Fraction            = 0.96172 +/- 0.00051\n",
            "\n"
          ]
        }
      ],
      "source": [
        "!rm statepoint.*.h5\n",
        "!rm summary.h5\n",
        "openmc.run()"
      ]
    },
    {
      "cell_type": "markdown",
      "metadata": {
        "id": "9fmFRYwRa-Hw"
      },
      "source": [
        "## Fuentes distribuidas en cálculos de criticidad"
      ]
    },
    {
      "cell_type": "markdown",
      "metadata": {
        "id": "c_fQUazNPG2m"
      },
      "source": [
        "Ahora que sabemos definir fuentes podemos volver a la simulación de Godiva. Como vimos, el estimador del factor de multiplicación estaba sobreestimado en las primeras generaciones porque la fuente inicial estaba concentrada en la región de máxima importancia (el centro de la esfera). Si, por el contrario, ponemos una fuente inicial distribuida en todo el núcleo la aproximación será por abajo:"
      ]
    },
    {
      "cell_type": "code",
      "execution_count": 27,
      "metadata": {
        "id": "oLAjJjIOPG2n"
      },
      "outputs": [],
      "source": [
        "umet = openmc.Material()\n",
        "umet.add_nuclide(\"U235\", 0.9473, 'wo')\n",
        "umet.add_nuclide(\"U238\", 0.0527, 'wo')\n",
        "umet.add_nuclide(\"U234\", 0.0102, 'wo')\n",
        "umet.set_density(\"g/cm3\", 18.74)\n",
        "\n",
        "mats = openmc.Materials([umet])\n",
        "mats.export_to_xml()\n",
        "\n",
        "esfera = openmc.Sphere(r=8.74, boundary_type=\"vacuum\")\n",
        "godiva = openmc.Cell(region = -esfera, fill=umet)\n",
        "simulacion = openmc.Universe(cells=[godiva])\n",
        "\n",
        "geom = openmc.Geometry(simulacion)\n",
        "geom.export_to_xml()\n",
        "\n",
        "run = openmc.Settings()\n",
        "run.run_mode = \"eigenvalue\"\n",
        "run.particles = 1000\n",
        "run.batches = 110\n",
        "run.inactive = 10\n",
        "\n",
        "fuente = openmc.IndependentSource(constraints={'fissionable': True})\n",
        "dist_espacial = openmc.stats.Box((-9.0, -9.0, -9.0), (+9.0, +9.0, +9.0))\n",
        "dist_angular = openmc.stats.Isotropic()\n",
        "fuente.space = dist_espacial\n",
        "fuente.angle = dist_angular\n",
        "\n",
        "run.source = fuente\n",
        "\n",
        "run.export_to_xml()"
      ]
    },
    {
      "cell_type": "code",
      "execution_count": 28,
      "metadata": {
        "id": "eh3bJl5CPG2p"
      },
      "outputs": [
        {
          "name": "stdout",
          "output_type": "stream",
          "text": [
            "rm: cannot remove 'statepoint.110.h5': No such file or directory\n",
            "                                %%%%%%%%%%%%%%%\n",
            "                           %%%%%%%%%%%%%%%%%%%%%%%%\n",
            "                        %%%%%%%%%%%%%%%%%%%%%%%%%%%%%%\n",
            "                      %%%%%%%%%%%%%%%%%%%%%%%%%%%%%%%%%%\n",
            "                    %%%%%%%%%%%%%%%%%%%%%%%%%%%%%%%%%%%%%%\n",
            "                   %%%%%%%%%%%%%%%%%%%%%%%%%%%%%%%%%%%%%%%%\n",
            "                                    %%%%%%%%%%%%%%%%%%%%%%%%\n",
            "                                     %%%%%%%%%%%%%%%%%%%%%%%%\n",
            "                 ###############      %%%%%%%%%%%%%%%%%%%%%%%%\n",
            "                ##################     %%%%%%%%%%%%%%%%%%%%%%%\n",
            "                ###################     %%%%%%%%%%%%%%%%%%%%%%%\n",
            "                ####################     %%%%%%%%%%%%%%%%%%%%%%\n",
            "                #####################     %%%%%%%%%%%%%%%%%%%%%\n",
            "                ######################     %%%%%%%%%%%%%%%%%%%%\n",
            "                #######################     %%%%%%%%%%%%%%%%%%\n",
            "                 #######################     %%%%%%%%%%%%%%%%%\n",
            "                 ######################     %%%%%%%%%%%%%%%%%\n",
            "                  ####################     %%%%%%%%%%%%%%%%%\n",
            "                    #################     %%%%%%%%%%%%%%%%%\n",
            "                     ###############     %%%%%%%%%%%%%%%%\n",
            "                       ############     %%%%%%%%%%%%%%%\n",
            "                          ########     %%%%%%%%%%%%%%\n",
            "                                      %%%%%%%%%%%\n",
            "\n",
            "                 | The OpenMC Monte Carlo Code\n",
            "       Copyright | 2011-2024 MIT, UChicago Argonne LLC, and contributors\n",
            "         License | https://docs.openmc.org/en/latest/license.html\n",
            "         Version | 0.15.1-dev\n",
            "        Git SHA1 | 9d9b2daceba82354f4720315ee2491b11d1d6e23\n",
            "       Date/Time | 2024-08-14 11:14:04\n",
            "  OpenMP Threads | 12\n",
            "\n",
            " Reading settings XML file...\n",
            " Reading cross sections XML file...\n",
            " Reading materials XML file...\n",
            " Reading geometry XML file...\n",
            " Reading U235 from\n",
            " /home/lucas/Proyecto_Integrador/cross_sections1/endfb80/endfb-viii.0-hdf5/neutro\n",
            " n/U235.h5\n",
            " Reading U238 from\n",
            " /home/lucas/Proyecto_Integrador/cross_sections1/endfb80/endfb-viii.0-hdf5/neutro\n",
            " n/U238.h5\n",
            " Reading U234 from\n",
            " /home/lucas/Proyecto_Integrador/cross_sections1/endfb80/endfb-viii.0-hdf5/neutro\n",
            " n/U234.h5\n",
            " Minimum neutron data temperature: 294 K\n",
            " Maximum neutron data temperature: 294 K\n",
            " Preparing distributed cell instances...\n",
            " Reading plot XML file...\n",
            " Writing summary.h5 file...\n",
            " Maximum neutron transport energy: 30000000 eV for U235\n",
            " Initializing source particles...\n",
            "\n",
            " ====================>     K EIGENVALUE SIMULATION     <====================\n",
            "\n",
            "  Bat./Gen.      k            Average k\n",
            "  =========   ========   ====================\n",
            "        1/1    0.92842\n",
            "        2/1    0.96439\n",
            "        3/1    0.95626\n",
            "        4/1    0.95169\n",
            "        5/1    0.93647\n",
            "        6/1    1.01444\n",
            "        7/1    1.00105\n",
            "        8/1    1.07111\n",
            "        9/1    1.01787\n",
            "       10/1    1.02242\n",
            "       11/1    0.94582\n",
            "       12/1    1.05569    1.00075 +/- 0.05494\n",
            "       13/1    0.98726    0.99626 +/- 0.03204\n",
            "       14/1    0.98832    0.99427 +/- 0.02274\n",
            "       15/1    1.02155    0.99973 +/- 0.01844\n",
            "       16/1    1.03469    1.00555 +/- 0.01614\n",
            "       17/1    0.98417    1.00250 +/- 0.01398\n",
            "       18/1    1.00645    1.00299 +/- 0.01212\n",
            "       19/1    1.04755    1.00794 +/- 0.01178\n",
            "       20/1    1.02476    1.00962 +/- 0.01067\n",
            "       21/1    1.00383    1.00910 +/- 0.00966\n",
            "       22/1    0.99348    1.00780 +/- 0.00892\n",
            "       23/1    0.99329    1.00668 +/- 0.00828\n",
            "       24/1    0.93938    1.00187 +/- 0.00905\n",
            "       25/1    1.03757    1.00425 +/- 0.00875\n",
            "       26/1    0.99490    1.00367 +/- 0.00821\n",
            "       27/1    1.01797    1.00451 +/- 0.00776\n",
            "       28/1    1.02333    1.00556 +/- 0.00739\n",
            "       29/1    1.05296    1.00805 +/- 0.00742\n",
            "       30/1    0.98809    1.00705 +/- 0.00711\n",
            "       31/1    0.96778    1.00518 +/- 0.00702\n",
            "       32/1    1.02267    1.00598 +/- 0.00674\n",
            "       33/1    0.97903    1.00481 +/- 0.00654\n",
            "       34/1    0.98831    1.00412 +/- 0.00630\n",
            "       35/1    0.98231    1.00325 +/- 0.00611\n",
            "       36/1    1.00550    1.00333 +/- 0.00587\n",
            "       37/1    0.98225    1.00255 +/- 0.00570\n",
            "       38/1    0.98337    1.00187 +/- 0.00554\n",
            "       39/1    1.01745    1.00240 +/- 0.00537\n",
            "       40/1    1.05998    1.00432 +/- 0.00553\n",
            "       41/1    1.06782    1.00637 +/- 0.00573\n",
            "       42/1    0.98913    1.00583 +/- 0.00557\n",
            "       43/1    0.98730    1.00527 +/- 0.00543\n",
            "       44/1    0.98598    1.00470 +/- 0.00530\n",
            "       45/1    0.95029    1.00315 +/- 0.00537\n",
            "       46/1    1.00610    1.00323 +/- 0.00522\n",
            "       47/1    0.97395    1.00244 +/- 0.00514\n",
            "       48/1    0.98297    1.00193 +/- 0.00503\n",
            "       49/1    0.97299    1.00119 +/- 0.00496\n",
            "       50/1    0.98193    1.00070 +/- 0.00485\n",
            "       51/1    0.99042    1.00045 +/- 0.00474\n",
            "       52/1    1.00980    1.00068 +/- 0.00463\n",
            "       53/1    0.97841    1.00016 +/- 0.00455\n",
            "       54/1    1.04506    1.00118 +/- 0.00456\n",
            "       55/1    0.95208    1.00009 +/- 0.00459\n",
            "       56/1    1.02864    1.00071 +/- 0.00453\n",
            "       57/1    1.07333    1.00225 +/- 0.00470\n",
            "       58/1    0.98515    1.00190 +/- 0.00461\n",
            "       59/1    1.01981    1.00226 +/- 0.00453\n",
            "       60/1    0.99824    1.00218 +/- 0.00444\n",
            "       61/1    0.97544    1.00166 +/- 0.00438\n",
            "       62/1    0.98531    1.00134 +/- 0.00431\n",
            "       63/1    0.98152    1.00097 +/- 0.00425\n",
            "       64/1    0.97808    1.00055 +/- 0.00419\n",
            "       65/1    0.98498    1.00026 +/- 0.00412\n",
            "       66/1    0.97148    0.99975 +/- 0.00408\n",
            "       67/1    0.94248    0.99874 +/- 0.00413\n",
            "       68/1    1.01320    0.99899 +/- 0.00407\n",
            "       69/1    0.97191    0.99853 +/- 0.00402\n",
            "       70/1    0.99328    0.99845 +/- 0.00396\n",
            "       71/1    1.02956    0.99896 +/- 0.00392\n",
            "       72/1    1.00408    0.99904 +/- 0.00386\n",
            "       73/1    1.00249    0.99909 +/- 0.00380\n",
            "       74/1    0.95321    0.99838 +/- 0.00381\n",
            "       75/1    1.04650    0.99912 +/- 0.00382\n",
            "       76/1    0.97326    0.99873 +/- 0.00378\n",
            "       77/1    1.00162    0.99877 +/- 0.00373\n",
            "       78/1    0.98348    0.99854 +/- 0.00368\n",
            "       79/1    0.99325    0.99847 +/- 0.00363\n",
            "       80/1    1.04955    0.99920 +/- 0.00365\n",
            "       81/1    1.00246    0.99924 +/- 0.00360\n",
            "       82/1    0.99604    0.99920 +/- 0.00355\n",
            "       83/1    1.03746    0.99972 +/- 0.00354\n",
            "       84/1    1.02487    1.00006 +/- 0.00350\n",
            "       85/1    1.01764    1.00030 +/- 0.00347\n",
            "       86/1    0.98969    1.00016 +/- 0.00342\n",
            "       87/1    1.02748    1.00051 +/- 0.00340\n",
            "       88/1    1.04537    1.00109 +/- 0.00340\n",
            "       89/1    0.99276    1.00098 +/- 0.00336\n",
            "       90/1    0.98983    1.00084 +/- 0.00332\n",
            "       91/1    0.96078    1.00035 +/- 0.00332\n",
            "       92/1    1.00638    1.00042 +/- 0.00328\n",
            "       93/1    1.04830    1.00100 +/- 0.00329\n",
            "       94/1    1.10167    1.00220 +/- 0.00346\n",
            "       95/1    0.97723    1.00190 +/- 0.00343\n",
            "       96/1    1.04550    1.00241 +/- 0.00343\n",
            "       97/1    0.99521    1.00233 +/- 0.00339\n",
            "       98/1    0.96852    1.00194 +/- 0.00338\n",
            "       99/1    1.02465    1.00220 +/- 0.00335\n",
            "      100/1    0.95966    1.00173 +/- 0.00334\n",
            "      101/1    1.01954    1.00192 +/- 0.00331\n",
            "      102/1    0.99484    1.00184 +/- 0.00328\n",
            "      103/1    1.03739    1.00223 +/- 0.00326\n",
            "      104/1    0.98435    1.00204 +/- 0.00323\n",
            "      105/1    0.98284    1.00183 +/- 0.00321\n",
            "      106/1    0.97541    1.00156 +/- 0.00319\n",
            "      107/1    1.00333    1.00158 +/- 0.00315\n",
            "      108/1    0.94277    1.00098 +/- 0.00318\n",
            "      109/1    1.05953    1.00157 +/- 0.00320\n",
            "      110/1    0.98469    1.00140 +/- 0.00317\n",
            " Creating state point statepoint.110.h5...\n",
            "\n",
            " =======================>     TIMING STATISTICS     <=======================\n",
            "\n",
            " Total time for initialization     = 6.0345e-01 seconds\n",
            "   Reading cross sections          = 5.9011e-01 seconds\n",
            " Total time in simulation          = 2.5573e-01 seconds\n",
            "   Time in transport only          = 2.3689e-01 seconds\n",
            "   Time in inactive batches        = 3.3210e-02 seconds\n",
            "   Time in active batches          = 2.2252e-01 seconds\n",
            "   Time synchronizing fission bank = 6.2620e-03 seconds\n",
            "     Sampling source sites         = 5.6922e-03 seconds\n",
            "     SEND/RECV source sites        = 5.3715e-04 seconds\n",
            "   Time accumulating tallies       = 2.2638e-05 seconds\n",
            "   Time writing statepoints        = 6.3823e-03 seconds\n",
            " Total time for finalization       = 2.8270e-06 seconds\n",
            " Total time elapsed                = 8.6293e-01 seconds\n",
            " Calculation Rate (inactive)       = 301115 particles/second\n",
            " Calculation Rate (active)         = 449399 particles/second\n",
            "\n",
            " ============================>     RESULTS     <============================\n",
            "\n",
            " k-effective (Collision)     = 1.00209 +/- 0.00385\n",
            " k-effective (Track-length)  = 1.00140 +/- 0.00317\n",
            " k-effective (Absorption)    = 1.00061 +/- 0.00419\n",
            " Combined k-effective        = 1.00077 +/- 0.00238\n",
            " Leakage Fraction            = 0.57314 +/- 0.00174\n",
            "\n"
          ]
        }
      ],
      "source": [
        "!rm statepoint.110.h5\n",
        "!rm summary.h5\n",
        "openmc.run()"
      ]
    },
    {
      "cell_type": "code",
      "execution_count": 29,
      "metadata": {
        "id": "YS89dFVcPG2t"
      },
      "outputs": [
        {
          "data": {
            "text/plain": [
              "<matplotlib.legend.Legend at 0x75fdbc8d3550>"
            ]
          },
          "execution_count": 29,
          "metadata": {},
          "output_type": "execute_result"
        }
      ],
      "source": [
        "estado4 = openmc.StatePoint(\"statepoint.110.h5\")\n",
        "keff4 = estado4.k_generation\n",
        "plot(keff, label=\"fuente puntual\")\n",
        "plot(keff4, label=\"fuente distribuida\")\n",
        "legend()"
      ]
    },
    {
      "cell_type": "code",
      "execution_count": null,
      "metadata": {
        "id": "crvruQHNfEXO"
      },
      "outputs": [],
      "source": []
    }
  ],
  "metadata": {
    "colab": {
      "provenance": []
    },
    "kernelspec": {
      "display_name": "Python 3",
      "language": "python",
      "name": "python3"
    },
    "language_info": {
      "codemirror_mode": {
        "name": "ipython",
        "version": 3
      },
      "file_extension": ".py",
      "mimetype": "text/x-python",
      "name": "python",
      "nbconvert_exporter": "python",
      "pygments_lexer": "ipython3",
      "version": "3.10.14"
    }
  },
  "nbformat": 4,
  "nbformat_minor": 0
}
