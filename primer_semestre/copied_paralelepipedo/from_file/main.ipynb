{
 "cells": [
  {
   "cell_type": "code",
   "execution_count": 1,
   "metadata": {},
   "outputs": [],
   "source": [
    "import openmc\n",
    "import numpy as np\n",
    "import matplotlib.pyplot as plt\n",
    "import matplotlib as mpl\n",
    "import pandas as pd\n",
    "\n",
    "openmc.config[\"cross_sections\"] = (\n",
    "    \"/home/lucas/Proyecto_Integrador/endfb-viii.0-hdf5/cross_sections.xml\"\n",
    ")"
   ]
  },
  {
   "cell_type": "markdown",
   "metadata": {},
   "source": [
    "Atributos"
   ]
  },
  {
   "cell_type": "code",
   "execution_count": 2,
   "metadata": {},
   "outputs": [],
   "source": [
    "vacio = False\n",
    "# source_file = \"/home/lucas/Proyecto_Integrador/Proyecto_Integrador/creado.h5\"\n",
    "source_file = '../surface_source.h5'\n",
    "\n",
    "L_x = 30  # cm dx del paralelepipedo\n",
    "L_y = 30  # cm dy del paralelepipedo\n",
    "L_z = 15  # cm\n",
    "\n",
    "L_x_vacio = 8  # cm dx del vacio\n",
    "L_y_vacio = 8  # cm dy del vacio\n",
    "\n",
    "z_min = 5 - 1e-6  # cm"
   ]
  },
  {
   "cell_type": "markdown",
   "metadata": {},
   "source": [
    "Defino materiales"
   ]
  },
  {
   "cell_type": "code",
   "execution_count": 3,
   "metadata": {},
   "outputs": [],
   "source": [
    "mat_agua = openmc.Material()\n",
    "mat_agua.add_nuclide(\"H1\", 2.0, \"ao\")\n",
    "mat_agua.add_nuclide(\"O16\", 1.0, \"ao\")\n",
    "mat_agua.add_s_alpha_beta(\"c_H_in_H2O\")\n",
    "mat_agua.set_density(\"g/cm3\", 1)\n",
    "\n",
    "mats = openmc.Materials([mat_agua])\n",
    "mats.export_to_xml()"
   ]
  },
  {
   "cell_type": "markdown",
   "metadata": {},
   "source": [
    "Defino la geometria"
   ]
  },
  {
   "cell_type": "code",
   "execution_count": 4,
   "metadata": {},
   "outputs": [
    {
     "data": {
      "image/png": "[encoded data removed]",
      "text/plain": [
       "<Figure size 363.871x183.117 with 1 Axes>"
      ]
     },
     "metadata": {},
     "output_type": "display_data"
    },
    {
     "data": {
      "image/png": "[encoded data removed]",
      "text/plain": [
       "<Figure size 258.065x259.74 with 1 Axes>"
      ]
     },
     "metadata": {},
     "output_type": "display_data"
    }
   ],
   "source": [
    "prll = openmc.model.RectangularParallelepiped(\n",
    "    -L_x / 2, L_x / 2, -L_y / 2, L_y / 2, z_min, L_z, boundary_type=\"vacuum\"\n",
    ")\n",
    "\n",
    "prll_vacio = openmc.model.RectangularParallelepiped(\n",
    "    -L_x_vacio / 2,\n",
    "    L_x_vacio / 2,\n",
    "    -L_y_vacio / 2,\n",
    "    L_y_vacio / 2,\n",
    "    z_min,\n",
    "    L_z,\n",
    "    boundary_type=\"transmission\",\n",
    ")\n",
    "\n",
    "if vacio:\n",
    "    cell_h2o = openmc.Cell(region=-prll & +prll_vacio, fill=mat_agua)\n",
    "    cell_vacio = openmc.Cell(region=-prll_vacio, fill=None)\n",
    "\n",
    "    univ = openmc.Universe(cells=[cell_h2o, cell_vacio])\n",
    "\n",
    "    univ.plot(\n",
    "        width=(1.5 * L_x, 1.5 * L_z),\n",
    "        basis=\"xz\",\n",
    "        colors=(\n",
    "            {\n",
    "                cell_h2o: \"blue\",\n",
    "                cell_vacio: \"yellow\",\n",
    "            }\n",
    "        ),\n",
    "    )\n",
    "    univ.plot(\n",
    "        width=(1.5 * L_x, 1.5 * L_x),\n",
    "        basis=\"xy\",\n",
    "        colors=(\n",
    "            {\n",
    "                cell_h2o: \"blue\",\n",
    "                cell_vacio: \"yellow\",\n",
    "            }\n",
    "        ),\n",
    "    )\n",
    "else:\n",
    "    cell_h2o = openmc.Cell(region=-prll, fill=mat_agua)\n",
    "\n",
    "    univ = openmc.Universe(cells=[cell_h2o])\n",
    "\n",
    "    univ.plot(\n",
    "        width=(1.5 * L_x, 1.5 * L_z),\n",
    "        basis=\"xz\",\n",
    "        colors=({cell_h2o: \"blue\"}),\n",
    "    )\n",
    "    univ.plot(\n",
    "        width=(1.5 * L_x, 1.5 * L_x),\n",
    "        basis=\"xy\",\n",
    "        colors=({cell_h2o: \"blue\"}),\n",
    "    )\n",
    "\n",
    "geom = openmc.Geometry(univ)\n",
    "geom.export_to_xml()"
   ]
  },
  {
   "cell_type": "markdown",
   "metadata": {},
   "source": [
    "Defino la fuente superficial y los parametros de la simulacion"
   ]
  },
  {
   "cell_type": "code",
   "execution_count": 5,
   "metadata": {},
   "outputs": [],
   "source": [
    "settings = openmc.Settings()\n",
    "settings.run_mode = \"fixed source\"\n",
    "settings.particles = int(5100162/40)\n",
    "settings.batches = 40\n",
    "settings.source = openmc.FileSource(source_file)\n",
    "settings.export_to_xml()"
   ]
  },
  {
   "cell_type": "markdown",
   "metadata": {},
   "source": [
    "Defino tallies"
   ]
  },
  {
   "cell_type": "code",
   "execution_count": 6,
   "metadata": {},
   "outputs": [
    {
     "name": "stdout",
     "output_type": "stream",
     "text": [
      "[Tally\n",
      "\tID             =\t1\n",
      "\tName           =\tcurrent\n",
      "\tFilters        =\tMeshSurfaceFilter\n",
      "\tNuclides       =\t\n",
      "\tScores         =\t['current']\n",
      "\tEstimator      =\tNone\n",
      "\tMultiply dens. =\tTrue, Tally\n",
      "\tID             =\t2\n",
      "\tName           =\tflux\n",
      "\tFilters        =\tMeshFilter\n",
      "\tNuclides       =\t\n",
      "\tScores         =\t['flux']\n",
      "\tEstimator      =\tNone\n",
      "\tMultiply dens. =\tTrue, Tally\n",
      "\tID             =\t3\n",
      "\tName           =\tflux2\n",
      "\tFilters        =\tMeshFilter\n",
      "\tNuclides       =\t\n",
      "\tScores         =\t['flux']\n",
      "\tEstimator      =\tNone\n",
      "\tMultiply dens. =\tTrue]\n"
     ]
    }
   ],
   "source": [
    "# Initialize an empty tallies object\n",
    "tallies = openmc.Tallies()\n",
    "\n",
    "# Create a mesh of the parallelepiped to tally current\n",
    "mesh_current = openmc.RectilinearMesh()\n",
    "mesh_current.x_grid = np.linspace(-L_x / 2, L_x / 2, L_x * 4 + 1)\n",
    "mesh_current.y_grid = np.linspace(-L_y / 2, L_y / 2, L_y * 4 + 1)\n",
    "mesh_current.z_grid = np.linspace(0, L_z, L_z * 4 + 1)\n",
    "\n",
    "# Create mesh filter to tally current\n",
    "mesh_surface_filter = openmc.MeshSurfaceFilter(mesh_current)\n",
    "mesh_surface_tally = openmc.Tally(name=\"current\")\n",
    "mesh_surface_tally.filters = [mesh_surface_filter]\n",
    "mesh_surface_tally.scores = [\"current\"]\n",
    "tallies.append(mesh_surface_tally)\n",
    "\n",
    "# Create a mesh of the parallelepiped to tally flux\n",
    "mesh_flux = openmc.RectilinearMesh()\n",
    "mesh_flux.x_grid = np.linspace(-L_x / 2, L_x / 2, L_x * 4 + 1)\n",
    "mesh_flux.y_grid = np.linspace(-0.1, 0.1, 2)\n",
    "mesh_flux.z_grid = np.linspace(0, L_z, L_z * 4 + 1)\n",
    "\n",
    "# Create mesh filter to tally flux\n",
    "mesh_flux_filter = openmc.MeshFilter(mesh_flux)\n",
    "mesh_flux_tally = openmc.Tally(name=\"flux\")\n",
    "mesh_flux_tally.filters = [mesh_flux_filter]\n",
    "mesh_flux_tally.scores = [\"flux\"]\n",
    "tallies.append(mesh_flux_tally)\n",
    "\n",
    "# Create a mesh of the parallelepiped to tally flux\n",
    "mesh_flux = openmc.RectilinearMesh()\n",
    "mesh_flux.x_grid = np.linspace(-L_x / 2, L_x / 2, 2)\n",
    "mesh_flux.y_grid = np.linspace(-L_y/2, L_y/2, 2)\n",
    "mesh_flux.z_grid = np.linspace(0, L_z, L_z * 4 + 1)\n",
    "\n",
    "# Create mesh filter to tally flux\n",
    "mesh_flux_filter = openmc.MeshFilter(mesh_flux)\n",
    "mesh_flux_tally = openmc.Tally(name=\"flux2\")\n",
    "mesh_flux_tally.filters = [mesh_flux_filter]\n",
    "mesh_flux_tally.scores = [\"flux\"]\n",
    "tallies.append(mesh_flux_tally)\n",
    "\n",
    "# Print tallies\n",
    "print(tallies)\n",
    "\n",
    "# Export to \"tallies.xml\"\n",
    "tallies.export_to_xml()"
   ]
  },
  {
   "cell_type": "markdown",
   "metadata": {},
   "source": [
    "Corro la simulacion"
   ]
  },
  {
   "cell_type": "code",
   "execution_count": 7,
   "metadata": {},
   "outputs": [
    {
     "name": "stdout",
     "output_type": "stream",
     "text": [
      "                                %%%%%%%%%%%%%%%\n",
      "                           %%%%%%%%%%%%%%%%%%%%%%%%\n",
      "                        %%%%%%%%%%%%%%%%%%%%%%%%%%%%%%\n",
      "                      %%%%%%%%%%%%%%%%%%%%%%%%%%%%%%%%%%\n",
      "                    %%%%%%%%%%%%%%%%%%%%%%%%%%%%%%%%%%%%%%\n",
      "                   %%%%%%%%%%%%%%%%%%%%%%%%%%%%%%%%%%%%%%%%\n",
      "                                    %%%%%%%%%%%%%%%%%%%%%%%%\n",
      "                                     %%%%%%%%%%%%%%%%%%%%%%%%\n",
      "                 ###############      %%%%%%%%%%%%%%%%%%%%%%%%\n",
      "                ##################     %%%%%%%%%%%%%%%%%%%%%%%\n",
      "                ###################     %%%%%%%%%%%%%%%%%%%%%%%\n",
      "                ####################     %%%%%%%%%%%%%%%%%%%%%%\n",
      "                #####################     %%%%%%%%%%%%%%%%%%%%%\n",
      "                ######################     %%%%%%%%%%%%%%%%%%%%\n",
      "                #######################     %%%%%%%%%%%%%%%%%%\n",
      "                 #######################     %%%%%%%%%%%%%%%%%\n",
      "                 ######################     %%%%%%%%%%%%%%%%%\n",
      "                  ####################     %%%%%%%%%%%%%%%%%\n",
      "                    #################     %%%%%%%%%%%%%%%%%\n",
      "                     ###############     %%%%%%%%%%%%%%%%\n",
      "                       ############     %%%%%%%%%%%%%%%\n",
      "                          ########     %%%%%%%%%%%%%%\n",
      "                                      %%%%%%%%%%%\n",
      "\n",
      "                 | The OpenMC Monte Carlo Code\n",
      "       Copyright | 2011-2024 MIT, UChicago Argonne LLC, and contributors\n",
      "         License | https://docs.openmc.org/en/latest/license.html\n",
      "         Version | 0.15.1-dev\n",
      "        Git SHA1 | 339d78c5fae8ba3a815ae10097238d0099a142c4\n",
      "       Date/Time | 2024-11-13 17:32:30\n",
      "  OpenMP Threads | 12\n",
      "\n",
      " Reading settings XML file...\n",
      " Reading source file from\n",
      " /home/lucas/Proyecto_Integrador/Paralelepipedo/surface_source.h5...\n",
      " Reading cross sections XML file...\n",
      " Reading materials XML file...\n",
      " Reading geometry XML file...\n",
      " Reading H1 from /home/lucas/Proyecto_Integrador/endfb-viii.0-hdf5/neutron/H1.h5\n",
      " Reading O16 from\n",
      " /home/lucas/Proyecto_Integrador/endfb-viii.0-hdf5/neutron/O16.h5\n",
      " Reading c_H_in_H2O from\n",
      " /home/lucas/Proyecto_Integrador/endfb-viii.0-hdf5/neutron/c_H_in_H2O.h5\n",
      " Minimum neutron data temperature: 294 K\n",
      " Maximum neutron data temperature: 294 K\n",
      " Reading tallies XML file...\n",
      " Preparing distributed cell instances...\n",
      " Reading plot XML file...\n",
      " Writing summary.h5 file...\n",
      " Maximum neutron transport energy: 20000000 eV for H1\n",
      "\n",
      " ===============>     FIXED SOURCE TRANSPORT SIMULATION     <===============\n",
      "\n",
      " Simulating batch 1\n",
      " Simulating batch 2\n",
      " Simulating batch 3\n",
      " Simulating batch 4\n",
      " Simulating batch 5\n",
      " Simulating batch 6\n",
      " Simulating batch 7\n",
      " Simulating batch 8\n",
      " Simulating batch 9\n",
      " Simulating batch 10\n",
      " Simulating batch 11\n",
      " Simulating batch 12\n",
      " Simulating batch 13\n",
      " Simulating batch 14\n",
      " Simulating batch 15\n",
      " Simulating batch 16\n",
      " Simulating batch 17\n",
      " Simulating batch 18\n",
      " Simulating batch 19\n",
      " Simulating batch 20\n",
      " Simulating batch 21\n",
      " Simulating batch 22\n",
      " Simulating batch 23\n",
      " Simulating batch 24\n",
      " Simulating batch 25\n",
      " Simulating batch 26\n",
      " Simulating batch 27\n",
      " Simulating batch 28\n",
      " Simulating batch 29\n",
      " Simulating batch 30\n",
      " Simulating batch 31\n",
      " Simulating batch 32\n",
      " Simulating batch 33\n",
      " Simulating batch 34\n",
      " Simulating batch 35\n",
      " Simulating batch 36\n",
      " Simulating batch 37\n",
      " Simulating batch 38\n",
      " Simulating batch 39\n",
      " Simulating batch 40\n",
      " Creating state point statepoint.40.h5...\n",
      "\n",
      " =======================>     TIMING STATISTICS     <=======================\n",
      "\n",
      " Total time for initialization     = 4.2418e-01 seconds\n",
      "   Reading cross sections          = 1.4614e-01 seconds\n",
      " Total time in simulation          = 4.6615e+01 seconds\n",
      "   Time in transport only          = 4.5146e+01 seconds\n",
      "   Time in active batches          = 4.6615e+01 seconds\n",
      "   Time accumulating tallies       = 1.2919e+00 seconds\n",
      "   Time writing statepoints        = 1.6870e-01 seconds\n",
      " Total time for finalization       = 1.2894e+01 seconds\n",
      " Total time elapsed                = 6.0021e+01 seconds\n",
      " Calculation Rate (active)         = 109411 particles/second\n",
      "\n",
      " ============================>     RESULTS     <============================\n",
      "\n",
      " Leakage Fraction            = 0.88231 +/- 0.00015\n",
      "\n"
     ]
    }
   ],
   "source": [
    "!rm statepoint.*.h5\n",
    "!rm summary.h5\n",
    "openmc.run()"
   ]
  }
 ],
 "metadata": {
  "kernelspec": {
   "display_name": "openmc_develop",
   "language": "python",
   "name": "python3"
  },
  "language_info": {
   "codemirror_mode": {
    "name": "ipython",
    "version": 3
   },
   "file_extension": ".py",
   "mimetype": "text/x-python",
   "name": "python",
   "nbconvert_exporter": "python",
   "pygments_lexer": "ipython3",
   "version": "3.10.14"
  }
 },
 "nbformat": 4,
 "nbformat_minor": 2
}
