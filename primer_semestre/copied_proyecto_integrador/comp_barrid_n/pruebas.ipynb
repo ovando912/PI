{
 "cells": [
  {
   "cell_type": "code",
   "execution_count": 1,
   "metadata": {},
   "outputs": [],
   "source": [
    "%load_ext autoreload\n",
    "%autoreload 2\n",
    "import sys\n",
    "\n",
    "sys.path.append(\"../\")\n",
    "from functions import *\n",
    "\n",
    "%matplotlib widget"
   ]
  },
  {
   "cell_type": "code",
   "execution_count": 16,
   "metadata": {},
   "outputs": [
    {
     "name": "stdout",
     "output_type": "stream",
     "text": [
      "[1, 4, 7, 10]\n"
     ]
    }
   ],
   "source": [
    "def get_min_max(\n",
    "    index_max: int,\n",
    "    kl_1d_2d_lenght: list,  # Tiene que ver con la cantidad de dimensiones. Tal vez podria separar en diferentes dataframes para no tener que hacer esto.\n",
    ") -> pd.DataFrame:\n",
    "\n",
    "    original_path = os.getcwd()\n",
    "\n",
    "    for i in range(1, index_max + 1):\n",
    "        os.chdir(f\"{original_path}/{i}\")\n",
    "        data = pd.read_csv(f\"results.csv\")\n",
    "        kl_1d = data.iloc[:, 3 : 3 + kl_1d_2d_lenght[0]]\n",
    "        kl_2d = data.iloc[:, 3 + kl_1d_2d_lenght[0] :]\n",
    "        df_min_max = pd.DataFrame(columns=[\"N\", \"min_1d\", \"max_1d\", \"min_2d\", \"max_2d\"])\n",
    "\n",
    "        for j in range(len(kl_1d)):\n",
    "            df_min_max.loc[len(df_min_max)] = [\n",
    "                data.iloc[j, 0],\n",
    "                kl_1d.iloc[j].min(),\n",
    "                kl_1d.iloc[j].max(),\n",
    "                kl_2d.iloc[j].min(),\n",
    "                kl_2d.iloc[j].max(),\n",
    "            ]\n",
    "\n",
    "        df_min_max.to_csv(\"min_max.csv\", index=False)\n",
    "\n",
    "        os.chdir(original_path)\n",
    "\n",
    "\n",
    "# get_min_max(90, [5, 10])\n",
    "\n",
    "print([i for i in range(1,10+1)][0::3])"
   ]
  },
  {
   "cell_type": "code",
   "execution_count": 3,
   "metadata": {},
   "outputs": [],
   "source": [
    "comparacion_barrido(90)"
   ]
  },
  {
   "cell_type": "code",
   "execution_count": 52,
   "metadata": {},
   "outputs": [
    {
     "name": "stdout",
     "output_type": "stream",
     "text": [
      "1\n",
      "2\n",
      "BIG\n",
      "4\n",
      "5\n",
      "6\n",
      "7\n",
      "8\n",
      "BIG\n",
      "BIG\n"
     ]
    }
   ],
   "source": [
    "\n",
    "a = np.array([1,2,30,4,5,6,7,8,9,10])\n",
    "\n",
    "def get_max_indexes(a: np.array, n: int) -> np.array:\n",
    "    return a.argsort()[-n:][::-1]\n",
    "\n",
    "# print(get_max_indexes(a, 3))\n",
    "max = get_max_indexes(a, 3)\n",
    "\n",
    "# print the values of a one per one but if they are one the 3 biggeest print BIG\n",
    "for i,a in enumerate(a):\n",
    "    if i in max:\n",
    "        print(\"BIG\")\n",
    "    else:\n",
    "        print(a)"
   ]
  }
 ],
 "metadata": {
  "kernelspec": {
   "display_name": "openmc_develop",
   "language": "python",
   "name": "python3"
  },
  "language_info": {
   "codemirror_mode": {
    "name": "ipython",
    "version": 3
   },
   "file_extension": ".py",
   "mimetype": "text/x-python",
   "name": "python",
   "nbconvert_exporter": "python",
   "pygments_lexer": "ipython3",
   "version": "3.10.14"
  }
 },
 "nbformat": 4,
 "nbformat_minor": 2
}
