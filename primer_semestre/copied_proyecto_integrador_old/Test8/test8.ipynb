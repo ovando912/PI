{
 "cells": [
  {
   "cell_type": "code",
   "execution_count": 4,
   "metadata": {},
   "outputs": [
    {
     "name": "stdout",
     "output_type": "stream",
     "text": [
      "The autoreload extension is already loaded. To reload it, use:\n",
      "  %reload_ext autoreload\n"
     ]
    }
   ],
   "source": [
    "%load_ext autoreload\n",
    "%autoreload 2\n",
    "import sys\n",
    "sys.path.append('../')\n",
    "from functions import *\n",
    "%matplotlib widget"
   ]
  },
  {
   "cell_type": "markdown",
   "metadata": {},
   "source": [
    "# Datos"
   ]
  },
  {
   "cell_type": "code",
   "execution_count": 10,
   "metadata": {},
   "outputs": [
    {
     "name": "stdout",
     "output_type": "stream",
     "text": [
      "N:  [316227]\n",
      "Tiempo estimado total:  0.19 min\n"
     ]
    }
   ],
   "source": [
    "# Data to test\n",
    "columns_order = [\"x\", \"y\", \"ln(E0/E)\", \"mu\", \"phi\"]\n",
    "# columns_order = [\"ln(E0/E)\", \"x\", \"y\", \"mu\", \"phi\"]\n",
    "micro_bins = [150] * len(columns_order)\n",
    "macro_bins = [15, 10, 8, 6, 5]\n",
    "# N = np.logspace(3, 7, 5, dtype=int)\n",
    "N = np.logspace(5.5, 5.5, 1, dtype=int)\n",
    "print(\"N: \", N)\n",
    "batches = 1\n",
    "type = \"equal_area\"\n",
    "\n",
    "velocidad_estimada = 2.4e6 * 0.71  # samples/min\n",
    "print(\"Tiempo estimado total: \", round(sum(N) * batches / velocidad_estimada, 2), \"min\")"
   ]
  },
  {
   "cell_type": "code",
   "execution_count": 11,
   "metadata": {},
   "outputs": [
    {
     "name": "stdout",
     "output_type": "stream",
     "text": [
      "Number of particles in file ../surface_source.mcpl: 3514158\n",
      "100% n, 0% g, 0% e-, 0% e+, 0% p, \n",
      "Number of samples:  316227\n",
      "Batch:  1\n"
     ]
    }
   ],
   "source": [
    "time_histo, time_sample, kl_divergence_1d, kl_divergence_2d = barrido(\n",
    "    columns_order, micro_bins, macro_bins, N, batches, type, \"../surface_source.mcpl\", save=True\n",
    ")\n",
    "\n",
    "plot_results_barrido(N, batches, time_histo, time_sample, kl_divergence_1d, kl_divergence_2d, columns_order, micro_bins, macro_bins, type)"
   ]
  }
 ],
 "metadata": {
  "kernelspec": {
   "display_name": "openmc_develop",
   "language": "python",
   "name": "python3"
  },
  "language_info": {
   "codemirror_mode": {
    "name": "ipython",
    "version": 3
   },
   "file_extension": ".py",
   "mimetype": "text/x-python",
   "name": "python",
   "nbconvert_exporter": "python",
   "pygments_lexer": "ipython3",
   "version": "3.10.14"
  }
 },
 "nbformat": 4,
 "nbformat_minor": 2
}
