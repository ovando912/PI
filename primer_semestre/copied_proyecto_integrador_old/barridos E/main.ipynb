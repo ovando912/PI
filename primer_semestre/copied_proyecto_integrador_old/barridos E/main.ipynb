{
 "cells": [
  {
   "cell_type": "code",
   "execution_count": 1,
   "metadata": {},
   "outputs": [],
   "source": [
    "%load_ext autoreload\n",
    "%autoreload 2\n",
    "import sys\n",
    "sys.path.append('../')\n",
    "from functions import *\n",
    "%matplotlib widget"
   ]
  },
  {
   "cell_type": "markdown",
   "metadata": {},
   "source": [
    "# Datos"
   ]
  },
  {
   "cell_type": "code",
   "execution_count": 2,
   "metadata": {},
   "outputs": [
    {
     "name": "stdout",
     "output_type": "stream",
     "text": [
      "[100000000, 100000000, 100000000, 100000000]\n"
     ]
    }
   ],
   "source": [
    "# Data to test\n",
    "\n",
    "columns_order = [\n",
    "    [\"ln(E0/E)\", \"x\", \"y\", \"mu\", \"phi\"],\n",
    "]\n",
    "micro_bins = [[150] * len(columns_order[0])]\n",
    "macro_bins = [[15, 10, 8, 6, 5], [12, 12, 10, 6, 5]]\n",
    "N_max = [1e8]\n",
    "type = [\"equal_area\", \"equal_bins\"]\n",
    "\n",
    "columns_order, micro_bins, macro_bins, N, type = barrido_combinations(\n",
    "    columns_order, micro_bins, macro_bins, N_max, type\n",
    ")\n",
    "\n",
    "N_max = [n.sum() for n in N]\n",
    "print(N_max)\n",
    "\n",
    "save_information(type, N_max, columns_order, micro_bins, macro_bins)"
   ]
  },
  {
   "cell_type": "code",
   "execution_count": 3,
   "metadata": {},
   "outputs": [
    {
     "name": "stdout",
     "output_type": "stream",
     "text": [
      "Number of particles in file ../surface_source.mcpl: 3514158\n",
      "100% n, 0% g, 0% e-, 0% e+, 0% p, \n",
      "Number of samples:  1000\n",
      "Number of samples:  3162\n",
      "Number of samples:  10000\n",
      "Number of samples:  31622\n",
      "Number of samples:  100000\n",
      "Number of samples:  316227\n",
      "Number of samples:  1000000\n",
      "Number of samples:  3162277\n",
      "Number of samples:  10000000\n",
      "Number of samples:  20000000\n",
      "Number of samples:  30000000\n",
      "Number of samples:  40000000\n",
      "Number of samples:  50000000\n",
      "Number of samples:  60000000\n",
      "Number of samples:  70000000\n",
      "Number of samples:  80000000\n",
      "Number of samples:  90000000\n",
      "Number of samples:  100000000\n",
      " \n",
      "Number of particles in file ../surface_source.mcpl: 3514158\n",
      "100% n, 0% g, 0% e-, 0% e+, 0% p, \n",
      "Number of samples:  1000\n",
      "Number of samples:  3162\n",
      "Number of samples:  10000\n",
      "Number of samples:  31622\n",
      "Number of samples:  100000\n",
      "Number of samples:  316227\n",
      "Number of samples:  1000000\n",
      "Number of samples:  3162277\n",
      "Number of samples:  10000000\n",
      "Number of samples:  20000000\n",
      "Number of samples:  30000000\n",
      "Number of samples:  40000000\n",
      "Number of samples:  50000000\n",
      "Number of samples:  60000000\n",
      "Number of samples:  70000000\n",
      "Number of samples:  80000000\n",
      "Number of samples:  90000000\n",
      "Number of samples:  100000000\n",
      " \n",
      "Number of particles in file ../surface_source.mcpl: 3514158\n",
      "100% n, 0% g, 0% e-, 0% e+, 0% p, \n",
      "Number of samples:  1000\n",
      "Number of samples:  3162\n",
      "Number of samples:  10000\n",
      "Number of samples:  31622\n",
      "Number of samples:  100000\n",
      "Number of samples:  316227\n",
      "Number of samples:  1000000\n",
      "Number of samples:  3162277\n",
      "Number of samples:  10000000\n",
      "Number of samples:  20000000\n",
      "Number of samples:  30000000\n",
      "Number of samples:  40000000\n",
      "Number of samples:  50000000\n",
      "Number of samples:  60000000\n",
      "Number of samples:  70000000\n",
      "Number of samples:  80000000\n",
      "Number of samples:  90000000\n",
      "Number of samples:  100000000\n",
      " \n",
      "Number of particles in file ../surface_source.mcpl: 3514158\n",
      "100% n, 0% g, 0% e-, 0% e+, 0% p, \n",
      "Number of samples:  1000\n",
      "Number of samples:  3162\n",
      "Number of samples:  10000\n",
      "Number of samples:  31622\n",
      "Number of samples:  100000\n",
      "Number of samples:  316227\n",
      "Number of samples:  1000000\n",
      "Number of samples:  3162277\n",
      "Number of samples:  10000000\n",
      "Number of samples:  20000000\n",
      "Number of samples:  30000000\n",
      "Number of samples:  40000000\n",
      "Number of samples:  50000000\n",
      "Number of samples:  60000000\n",
      "Number of samples:  70000000\n",
      "Number of samples:  80000000\n",
      "Number of samples:  90000000\n",
      "Number of samples:  100000000\n",
      " \n"
     ]
    }
   ],
   "source": [
    "barrido(\n",
    "    columns_order,\n",
    "    micro_bins,\n",
    "    macro_bins,\n",
    "    N,\n",
    "    type,\n",
    "    \"../surface_source.mcpl\",\n",
    "    save=True,\n",
    ")"
   ]
  },
  {
   "cell_type": "code",
   "execution_count": null,
   "metadata": {},
   "outputs": [],
   "source": [
    "a = [1,2,7,10]\n",
    "\n",
    "b = [sum(a[:i+1]) for i,_ in enumerate(a)]\n",
    "\n",
    "print(b)"
   ]
  }
 ],
 "metadata": {
  "kernelspec": {
   "display_name": "openmc_develop",
   "language": "python",
   "name": "python3"
  },
  "language_info": {
   "codemirror_mode": {
    "name": "ipython",
    "version": 3
   },
   "file_extension": ".py",
   "mimetype": "text/x-python",
   "name": "python",
   "nbconvert_exporter": "python",
   "pygments_lexer": "ipython3",
   "version": "3.10.14"
  }
 },
 "nbformat": 4,
 "nbformat_minor": 2
}
