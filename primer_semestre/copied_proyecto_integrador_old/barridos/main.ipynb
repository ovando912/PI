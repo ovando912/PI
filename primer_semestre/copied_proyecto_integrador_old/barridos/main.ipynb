{
 "cells": [
  {
   "cell_type": "code",
   "execution_count": 1,
   "metadata": {},
   "outputs": [],
   "source": [
    "%load_ext autoreload\n",
    "%autoreload 2\n",
    "import sys\n",
    "sys.path.append('../')\n",
    "from functions import *\n",
    "%matplotlib widget"
   ]
  },
  {
   "cell_type": "code",
   "execution_count": 2,
   "metadata": {},
   "outputs": [],
   "source": [
    "def barrido_combinations(columns_order:list, micro_bins:list, macro_bins:list, N_max:list, type:list):\n",
    "    columns_order_aux = []\n",
    "    micro_bins_aux = []\n",
    "    macro_bins_aux = []\n",
    "    N_max_aux = []\n",
    "    type_aux = []\n",
    "    \n",
    "\n",
    "    for columns_order_ in columns_order:\n",
    "        for micro_bins_ in micro_bins:\n",
    "            for macro_bins_ in macro_bins:\n",
    "                for N_max_ in N_max:\n",
    "                    for type_ in type:\n",
    "                        columns_order_aux.append(columns_order_)\n",
    "                        micro_bins_aux.append(micro_bins_)\n",
    "                        macro_bins_aux.append(macro_bins_)\n",
    "                        N_max_aux.append(manage_n_samples(N_max_))\n",
    "                        type_aux.append(type_)\n",
    "    return columns_order_aux, micro_bins_aux, macro_bins_aux, N_max_aux, type_aux"
   ]
  },
  {
   "cell_type": "markdown",
   "metadata": {},
   "source": [
    "# Datos"
   ]
  },
  {
   "cell_type": "code",
   "execution_count": 6,
   "metadata": {},
   "outputs": [
    {
     "name": "stdout",
     "output_type": "stream",
     "text": [
      "N:  [200000.0]\n",
      "[200000, 200000]\n"
     ]
    }
   ],
   "source": [
    "# Data to test\n",
    "# columns_order = [\"x\", \"y\", \"ln(E0/E)\", \"mu\", \"phi\"]\n",
    "columns_order = [\n",
    "    [\"ln(E0/E)\", \"x\", \"y\", \"mu\", \"phi\"],\n",
    "    [\"x\", \"y\", \"ln(E0/E)\", \"mu\", \"phi\"],\n",
    "]\n",
    "micro_bins = [[150] * len(columns_order[0])]\n",
    "macro_bins = [[15, 10, 8, 6, 5], [12, 12, 10, 6, 5]]\n",
    "\n",
    "columns_order = [\n",
    "    [\"ln(E0/E)\", \"x\", \"y\", \"mu\", \"phi\"],\n",
    "]\n",
    "micro_bins = [[150] * len(columns_order[0])]\n",
    "# macro_bins = [[15, 10, 8, 6, 5]]\n",
    "# cant_part = 2.3e6\n",
    "# print(\"Cantidad de particulas por bin (en promedio): \",round(cant_part / np.prod(macro_bins[:-1])/150,2))\n",
    "\n",
    "N_max = [2e5]\n",
    "# N = np.logspace(7, 7, 1, dtype=int)\n",
    "print(\"N: \", N_max)\n",
    "# batches = 10\n",
    "\n",
    "type = [\"equal_area\", \"equal_bins\"]\n",
    "type = [\"equal_area\"]\n",
    "\n",
    "columns_order, micro_bins, macro_bins, N, type = barrido_combinations(\n",
    "    columns_order, micro_bins, macro_bins, N_max, type\n",
    ")\n",
    "# print(N)\n",
    "N_max = [n.sum() for n in N]\n",
    "print(N_max)\n",
    "save_information(type, N_max, columns_order, micro_bins, macro_bins)\n",
    "\n",
    "# velocidad_estimada = 2.4e6 * 0.71  # samples/min\n",
    "# print(\"Tiempo estimado total: \", round(sum(N) * batches / velocidad_estimada, 2), \"min\")"
   ]
  },
  {
   "cell_type": "code",
   "execution_count": 7,
   "metadata": {},
   "outputs": [
    {
     "name": "stdout",
     "output_type": "stream",
     "text": [
      "Number of particles in file ../surface_source.mcpl: 3514158\n",
      "100% n, 0% g, 0% e-, 0% e+, 0% p, \n",
      "Number of samples:  1000\n",
      "Number of samples:  3162\n",
      "Number of samples:  10000\n",
      "Number of samples:  31622\n",
      "Number of samples:  100000\n",
      "Number of samples:  200000\n",
      " \n",
      "Number of particles in file ../surface_source.mcpl: 3514158\n",
      "100% n, 0% g, 0% e-, 0% e+, 0% p, \n",
      "1[{\"variableName\": \"ID_TO_MEANING\", \"type\": \"dictionary\", \"supportedEngines\": [\"pandas\"], \"isLocalVariable\": true}]\n",
      "\n",
      "1[{\"variableName\": \"ID_TO_MEANING\", \"type\": \"dictionary\", \"supportedEngines\": [\"pandas\"], \"isLocalVariable\": true}]\n",
      "\n",
      "Number of samples:  1000\n",
      "Number of samples:  3162\n",
      "Number of samples:  10000\n",
      "Number of samples:  31622\n",
      "Number of samples:  100000\n",
      "Number of samples:  200000\n",
      " \n"
     ]
    }
   ],
   "source": [
    "barrido(\n",
    "    columns_order,\n",
    "    micro_bins,\n",
    "    macro_bins,\n",
    "    N,\n",
    "    type,\n",
    "    \"../surface_source.mcpl\",\n",
    "    save=True,\n",
    ")"
   ]
  },
  {
   "cell_type": "code",
   "execution_count": null,
   "metadata": {},
   "outputs": [],
   "source": [
    "a = [1,2,7,10]\n",
    "\n",
    "b = [sum(a[:i+1]) for i,_ in enumerate(a)]\n",
    "\n",
    "print(b)"
   ]
  }
 ],
 "metadata": {
  "kernelspec": {
   "display_name": "openmc_develop",
   "language": "python",
   "name": "python3"
  },
  "language_info": {
   "codemirror_mode": {
    "name": "ipython",
    "version": 3
   },
   "file_extension": ".py",
   "mimetype": "text/x-python",
   "name": "python",
   "nbconvert_exporter": "python",
   "pygments_lexer": "ipython3",
   "version": "3.10.14"
  }
 },
 "nbformat": 4,
 "nbformat_minor": 2
}
