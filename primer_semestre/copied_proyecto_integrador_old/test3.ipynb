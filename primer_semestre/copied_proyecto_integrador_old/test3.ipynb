{
 "cells": [
  {
   "cell_type": "markdown",
   "metadata": {},
   "source": [
    "# Test 3: Dataframe from track list"
   ]
  },
  {
   "cell_type": "markdown",
   "metadata": {},
   "source": [
    "## Read from file"
   ]
  },
  {
   "cell_type": "code",
   "execution_count": null,
   "metadata": {},
   "outputs": [],
   "source": [
    "SurfaceSourceFile = kds.SurfaceSourceFile(\"surface_source.mcpl\", domain={\"w\": [0, 1]})\n",
    "df = SurfaceSourceFile.get_pandas_dataframe()\n",
    "del SurfaceSourceFile"
   ]
  },
  {
   "cell_type": "markdown",
   "metadata": {},
   "source": [
    "## Plot histograms"
   ]
  },
  {
   "cell_type": "code",
   "execution_count": null,
   "metadata": {},
   "outputs": [],
   "source": [
    "columns_to_plot = [\"x\", \"y\", \"ln(E0/E)\"]\n",
    "# columns_to_plot = [\"x\", \"y\", \"ln(E0/E)\", \"mu\", \"phi\", \"wgt\"]\n",
    "bin_size = 150\n",
    "bins = [bin_size] * len(columns_to_plot)\n",
    "\n",
    "plot_variables(df, columns_to_plot, nrows=2, ncols=3, bins=bins)"
   ]
  },
  {
   "cell_type": "code",
   "execution_count": null,
   "metadata": {},
   "outputs": [],
   "source": [
    "plot_correlated_variables(df, columns_to_plot, save=True, density=True)"
   ]
  },
  {
   "cell_type": "markdown",
   "metadata": {},
   "source": [
    "## Data preparation\n",
    "\n",
    "Voy a tomar X, Y y letargia (en ese orden)"
   ]
  },
  {
   "cell_type": "markdown",
   "metadata": {},
   "source": [
    "### df splitting"
   ]
  },
  {
   "cell_type": "code",
   "execution_count": null,
   "metadata": {},
   "outputs": [],
   "source": [
    "columns_order = [\"x\", \"y\", \"ln(E0/E)\"]\n",
    "micro_bins = [150, 150, 150]\n",
    "macro_bins = [25, 25, 25]\n",
    "\n",
    "df = df[columns_order]\n",
    "\n",
    "# cumul_1, micro_1, macro_1 = [], [], []\n",
    "# cumul_2, micro_2, macro_2 = [], [], []\n",
    "# cumul_3, micro_3, macro_3 = [], [], []"
   ]
  },
  {
   "cell_type": "markdown",
   "metadata": {},
   "source": [
    "### X"
   ]
  },
  {
   "cell_type": "code",
   "execution_count": null,
   "metadata": {},
   "outputs": [],
   "source": [
    "cumul_1, micro_1, macro_1 = get_cumulatives_1(\n",
    "    df[columns_order[0]], micro_bins[0], macro_bins[0]\n",
    ")"
   ]
  },
  {
   "cell_type": "code",
   "execution_count": null,
   "metadata": {},
   "outputs": [],
   "source": [
    "histo_1 = histograms(data=df[columns_order[0]], bins=micro_bins[0])\n",
    "histo_1.calculate_histogram()\n",
    "# histo.plot_histogram(density=True)\n",
    "# plt.show()\n",
    "\n",
    "histo_1.calculate_histogram_cumulative()\n",
    "# histo.plot_cumulative_histogram()\n",
    "# plt.show()\n",
    "\n",
    "histo_1.calculate_histogram_new(macro_bins[0])\n",
    "# histo_1.plot_histogram_new()\n",
    "# plt.show()"
   ]
  },
  {
   "cell_type": "markdown",
   "metadata": {},
   "source": [
    "### Y"
   ]
  },
  {
   "cell_type": "code",
   "execution_count": null,
   "metadata": {},
   "outputs": [],
   "source": [
    "cumul_2, micro_2, macro_2 = get_cumulatives_2(\n",
    "    df, columns_order[0], columns_order[1], macro_1, micro_bins[1], macro_bins[1]\n",
    ")"
   ]
  },
  {
   "cell_type": "code",
   "execution_count": null,
   "metadata": {},
   "outputs": [],
   "source": [
    "plt.figure()\n",
    "cumulatives_2, bin_edges_2 = get_cumulatives(\n",
    "    histo_1, df, column1=columns_order[0], column2=columns_order[1], plot=True\n",
    ")\n",
    "plt.show()"
   ]
  },
  {
   "cell_type": "markdown",
   "metadata": {},
   "source": [
    "### ln(E0/E)"
   ]
  },
  {
   "cell_type": "code",
   "execution_count": null,
   "metadata": {},
   "outputs": [],
   "source": [
    "cumul_3, micro_3, macro_3 = get_cumulatives_3(\n",
    "    df, columns_order[0], columns_order[1], columns_order[2], macro_1, macro_2, micro_bins[2], macro_bins[2]\n",
    ")\n"
   ]
  },
  {
   "cell_type": "code",
   "execution_count": null,
   "metadata": {},
   "outputs": [],
   "source": [
    "macro_edges_2 = []\n",
    "cumulatives_3 = []\n",
    "edges_3 = []\n",
    "\n",
    "for i in range(len(histo_1.counts_new)):\n",
    "    df_filtered = df[\n",
    "        (df[columns_order[0]] >= histo_1.bin_edges_new[i])\n",
    "        & (df[columns_order[0]] <= histo_1.bin_edges_new[i + 1])\n",
    "    ][columns_order[1]]\n",
    "\n",
    "    # # Sort the data based on the y column\n",
    "    # df_filtered.sort_values(\"y\", inplace=True)\n",
    "    # df_filtered.reset_index(drop=True, inplace=True)\n",
    "\n",
    "    histo_2 = histograms(data=df_filtered, bins=micro_bins[1])\n",
    "    histo_2.calculate_histogram()\n",
    "    histo_2.calculate_histogram_cumulative()\n",
    "    histo_2.calculate_histogram_new(macro_bins[1])\n",
    "    macro_edges_2.append(histo_2.bin_edges_new)\n",
    "    cum, bin_edges = get_cumulatives(\n",
    "        histo_2, df, column1=columns_order[1], column2=columns_order[2], plot=False\n",
    "    )\n",
    "\n",
    "    cumulatives_3.append(cum)\n",
    "    edges_3.append(bin_edges)"
   ]
  },
  {
   "cell_type": "markdown",
   "metadata": {},
   "source": [
    "## Sampleo XY"
   ]
  },
  {
   "cell_type": "code",
   "execution_count": null,
   "metadata": {},
   "outputs": [],
   "source": [
    "N = 10_000_000\n",
    "sampled_values_x, sampled_values_y = sample(\n",
    "    histo_x.cumulative,\n",
    "    histo_x.bin_edges,\n",
    "    histo_x.bin_edges_new,\n",
    "    cumulatives_y,\n",
    "    bin_edges_y,\n",
    "    N,\n",
    ")"
   ]
  },
  {
   "cell_type": "markdown",
   "metadata": {},
   "source": [
    "### Plot XY to compare"
   ]
  },
  {
   "cell_type": "code",
   "execution_count": null,
   "metadata": {},
   "outputs": [],
   "source": [
    "x_bin_edges = np.linspace(-12, 12, 150)\n",
    "y_bin_edges = np.linspace(-12, 12, 150)\n",
    "\n",
    "plot_hist2d(\n",
    "    pd.Series(sampled_values_x),\n",
    "    pd.Series(sampled_values_y),\n",
    "    x_bin_edges,\n",
    "    y_bin_edges,\n",
    "    title=\"SAMPLED 2D Histogram of X and Y\",\n",
    ")\n",
    "plt.show()"
   ]
  },
  {
   "cell_type": "markdown",
   "metadata": {},
   "source": [
    "## Sample X, Y and u"
   ]
  },
  {
   "cell_type": "code",
   "execution_count": null,
   "metadata": {},
   "outputs": [],
   "source": [
    "N = 10_000_000\n",
    "print(N)\n",
    "sampled_values_x, sampled_values_y, sampled_values_u = sample_3d(\n",
    "    histo_1.cumulative,\n",
    "    histo_1.bin_edges,\n",
    "    histo_1.bin_edges_new,\n",
    "    cumulatives_2,\n",
    "    bin_edges_2,\n",
    "    macro_edges_2,\n",
    "    cumulatives_3,\n",
    "    edges_3,\n",
    "    N,\n",
    ")\n",
    "\n",
    "# sampled_values_x, sampled_values_y, sampled_values_u = sample_3d(\n",
    "#     cumul_1, micro_1, macro_1, cumul_2, micro_2, macro_2, cumul_3, micro_3, N\n",
    "# )"
   ]
  },
  {
   "cell_type": "code",
   "execution_count": null,
   "metadata": {},
   "outputs": [],
   "source": [
    "# make dataframe with sampled values\n",
    "df_sampled = pd.DataFrame(\n",
    "    {\n",
    "        columns_order[0]: sampled_values_x,\n",
    "        columns_order[1]: sampled_values_y,\n",
    "        columns_order[2]: sampled_values_u,\n",
    "    }\n",
    ")\n",
    "\n",
    "# bin_size = 150\n",
    "# bins = [bin_size] * len(columns_to_plot)\n",
    "\n",
    "plot_correlated_variables(\n",
    "    df_sampled,\n",
    "    columns_order,\n",
    "    save=True,\n",
    "    density=True,\n",
    "    filename=\"correlated_histograms_sampled.png\",\n",
    ")"
   ]
  }
 ],
 "metadata": {
  "language_info": {
   "name": "python"
  }
 },
 "nbformat": 4,
 "nbformat_minor": 2
}
