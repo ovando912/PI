{
 "cells": [
  {
   "cell_type": "code",
   "execution_count": 2,
   "metadata": {},
   "outputs": [],
   "source": [
    "import numpy as np\n",
    "import xml.etree.ElementTree as ET\n",
    "\n",
    "# Definición de la clase Nodo\n",
    "class Node:\n",
    "    def __init__(self, vector, children=None):\n",
    "        self.vector = vector\n",
    "        self.children = children if children is not None else []\n",
    "\n",
    "# Función recursiva para crear el XML a partir de un nodo\n",
    "def create_xml(node):\n",
    "    elem = ET.Element(\"Node\")\n",
    "    # Suponemos que el vector tiene tres componentes\n",
    "    array1 = ET.SubElement(elem, \"Array1\")\n",
    "    array1.text = str(node.vector[0])\n",
    "    array2 = ET.SubElement(elem, \"Array2\")\n",
    "    array2.text = str(node.vector[1])\n",
    "    array3 = ET.SubElement(elem, \"Array3\")\n",
    "    array3.text = str(node.vector[2])\n",
    "    \n",
    "    # Si el nodo tiene hijos, se crea el tag <Children>\n",
    "    if node.children:\n",
    "        children_elem = ET.SubElement(elem, \"Children\")\n",
    "        for child in node.children:\n",
    "            child_elem = create_xml(child)\n",
    "            children_elem.append(child_elem)\n",
    "    return elem\n",
    "\n",
    "# Datos de prueba (como arrays de numpy)\n",
    "micro_1    = np.array([0, 0, 0])\n",
    "micro_1_1  = np.array([0, 0, 0])\n",
    "micro_1_2  = np.array([1, 0, 0])\n",
    "micro_1_3  = np.array([0, 1, 0])\n",
    "micro_1_1_1 = np.array([0, 0, 0])\n",
    "micro_1_1_2 = np.array([1, 0, 0])\n",
    "micro_1_2_1 = np.array([0, 0, 0])\n",
    "micro_1_2_2 = np.array([1, 0, 0])\n",
    "micro_1_2_3 = np.array([0, 1, 0])\n",
    "micro_1_3_1 = np.array([0, 0, 0])\n",
    "micro_1_3_2 = np.array([1, 0, 0])\n",
    "\n",
    "# Construcción del árbol:\n",
    "node_micro_1_1 = Node(micro_1_1, [Node(micro_1_1_1), Node(micro_1_1_2)])\n",
    "node_micro_1_2 = Node(micro_1_2, [Node(micro_1_2_1), Node(micro_1_2_2), Node(micro_1_2_3)])\n",
    "node_micro_1_3 = Node(micro_1_3, [Node(micro_1_3_1), Node(micro_1_3_2)])\n",
    "root = Node(micro_1, [node_micro_1_1, node_micro_1_2, node_micro_1_3])\n",
    "\n",
    "# Generamos el árbol XML a partir de la raíz\n",
    "xml_root = create_xml(root)\n",
    "tree = ET.ElementTree(xml_root)\n",
    "tree.write(\"tree_data.xml\", encoding=\"utf-8\", xml_declaration=True)\n"
   ]
  },
  {
   "cell_type": "code",
   "execution_count": 3,
   "metadata": {},
   "outputs": [
    {
     "name": "stdout",
     "output_type": "stream",
     "text": [
      "[None, [None], [[None]], [[[None]]], [[[[None]]]]]\n"
     ]
    }
   ],
   "source": [
    "\n",
    "auxiliar = []\n",
    "for i in range(5):\n",
    "    elemento = None\n",
    "    for _ in range(i):\n",
    "        elemento = [elemento]\n",
    "    auxiliar.append(elemento)\n",
    "print(auxiliar)"
   ]
  },
  {
   "cell_type": "code",
   "execution_count": null,
   "metadata": {},
   "outputs": [],
   "source": [
    "import numpy as np\n",
    "import xml.etree.ElementTree as ET\n",
    "from xml.dom import minidom\n",
    "\n",
    "# Definimos una clase para representar el nodo de nuestro árbol\n",
    "class TreeNode:\n",
    "    def __init__(self, vector1, vector2, vector3, children=None):\n",
    "        self.vector1 = vector1  # vector de numpy (ej: 500 elementos)\n",
    "        self.vector2 = vector2  # vector de numpy (ej: 500 elementos)\n",
    "        self.vector3 = vector3  # vector pequeño de numpy\n",
    "        self.children = children if children is not None else []\n",
    "\n",
    "# Función para construir recursivamente el XML a partir del árbol\n",
    "def build_xml(node):\n",
    "    # Creamos el elemento para el nodo actual. Puedes agregar atributos si lo necesitas.\n",
    "    elem = ET.Element(\"Nodo\")\n",
    "    \n",
    "    # Convertimos cada vector a una cadena de texto, separando los elementos por comas.\n",
    "    vec1 = ET.SubElement(elem, \"Vector1\")\n",
    "    vec1.text = \",\".join(map(str, node.vector1.tolist()))\n",
    "    \n",
    "    vec2 = ET.SubElement(elem, \"Vector2\")\n",
    "    vec2.text = \",\".join(map(str, node.vector2.tolist()))\n",
    "    \n",
    "    vec3 = ET.SubElement(elem, \"Vector3\")\n",
    "    vec3.text = \",\".join(map(str, node.vector3.tolist()))\n",
    "    \n",
    "    # Procesamos los nodos hijos de manera recursiva\n",
    "    for child in node.children:\n",
    "        child_elem = build_xml(child)\n",
    "        elem.append(child_elem)\n",
    "    \n",
    "    return elem\n",
    "\n",
    "# Función para darle un formato bonito (bien indentado) al XML\n",
    "def prettify(elem):\n",
    "    rough_string = ET.tostring(elem, 'utf-8')\n",
    "    reparsed = minidom.parseString(rough_string)\n",
    "    return reparsed.toprettyxml(indent=\"  \")\n",
    "\n",
    "# Ejemplo de uso:\n",
    "\n",
    "# Creamos una estructura de árbol de ejemplo con datos aleatorios\n",
    "root = TreeNode(np.random.rand(500), np.random.rand(500), np.array([1, 2, 3]), children=[\n",
    "    TreeNode(np.random.rand(500), np.random.rand(500), np.array([4, 5]), children=[\n",
    "        TreeNode(np.random.rand(500), np.random.rand(500), np.array([6])),\n",
    "        TreeNode(np.random.rand(500), np.random.rand(500), np.array([7, 8])),\n",
    "    ]),\n",
    "    TreeNode(np.random.rand(500), np.random.rand(500), np.array([9, 10])),\n",
    "])\n",
    "\n",
    "# Construimos el XML y lo formateamos con indentación\n",
    "xml_root = build_xml(root)\n",
    "xml_string = prettify(xml_root)\n",
    "\n",
    "# Guardamos el XML en un archivo en disco\n",
    "with open(\"output.xml\", \"w\") as f:\n",
    "    f.write(xml_string)\n"
   ]
  },
  {
   "cell_type": "code",
   "execution_count": null,
   "metadata": {},
   "outputs": [
    {
     "name": "stdout",
     "output_type": "stream",
     "text": [
      "Árbol guardado en tree.xml\n"
     ]
    }
   ],
   "source": [
    "\n",
    "import numpy as np\n",
    "\n",
    "\n",
    "\n",
    "# Crear un árbol de ejemplo\n",
    "root = TreeNode(1)\n",
    "child1 = TreeNode(2)\n",
    "child2 = TreeNode(3)\n",
    "child3 = TreeNode(4)\n",
    "\n",
    "root.add_child(child1)\n",
    "root.add_child(child2)\n",
    "child1.add_child(child3)\n",
    "\n",
    "# Guardar en XML\n",
    "save_tree_to_xml(root)\n",
    "print(\"Árbol guardado en tree.xml\")\n",
    "\n",
    "\n",
    "\n",
    "\n",
    "\n"
   ]
  },
  {
   "cell_type": "code",
   "execution_count": null,
   "metadata": {},
   "outputs": [],
   "source": [
    "import numpy as np\n",
    "import pandas as pd\n",
    "import math\n",
    "\n",
    "\n"
   ]
  },
  {
   "cell_type": "code",
   "execution_count": null,
   "metadata": {},
   "outputs": [],
   "source": []
  }
 ],
 "metadata": {
  "kernelspec": {
   "display_name": "openmc_develop",
   "language": "python",
   "name": "python3"
  },
  "language_info": {
   "codemirror_mode": {
    "name": "ipython",
    "version": 3
   },
   "file_extension": ".py",
   "mimetype": "text/x-python",
   "name": "python",
   "nbconvert_exporter": "python",
   "pygments_lexer": "ipython3",
   "version": "3.10.14"
  }
 },
 "nbformat": 4,
 "nbformat_minor": 2
}
